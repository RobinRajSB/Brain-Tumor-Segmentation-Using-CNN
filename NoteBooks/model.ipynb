{
 "cells": [
  {
   "cell_type": "code",
   "execution_count": 1,
   "metadata": {
    "colab": {
     "base_uri": "https://localhost:8080/",
     "height": 237
    },
    "colab_type": "code",
    "executionInfo": {
     "elapsed": 114855,
     "status": "ok",
     "timestamp": 1560023965781,
     "user": {
      "displayName": "robinraj EY",
      "photoUrl": "",
      "userId": "17540945510930744551"
     },
     "user_tz": -330
    },
    "id": "PZdkPJRoMzFF",
    "outputId": "1b6cbf6c-ee47-495d-ae2c-77b350aa9bae"
   },
   "outputs": [
    {
     "name": "stdout",
     "output_type": "stream",
     "text": [
      "E: Package 'python-software-properties' has no installation candidate\n",
      "Selecting previously unselected package google-drive-ocamlfuse.\n",
      "(Reading database ... 130912 files and directories currently installed.)\n",
      "Preparing to unpack .../google-drive-ocamlfuse_0.7.3-0ubuntu3~ubuntu18.04.1_amd64.deb ...\n",
      "Unpacking google-drive-ocamlfuse (0.7.3-0ubuntu3~ubuntu18.04.1) ...\n",
      "Setting up google-drive-ocamlfuse (0.7.3-0ubuntu3~ubuntu18.04.1) ...\n",
      "Processing triggers for man-db (2.8.3-2ubuntu0.1) ...\n",
      "Please, open the following URL in a web browser: https://accounts.google.com/o/oauth2/auth?client_id=32555940559.apps.googleusercontent.com&redirect_uri=urn%3Aietf%3Awg%3Aoauth%3A2.0%3Aoob&scope=https%3A%2F%2Fwww.googleapis.com%2Fauth%2Fdrive&response_type=code&access_type=offline&approval_prompt=force\n",
      "··········\n",
      "Please, open the following URL in a web browser: https://accounts.google.com/o/oauth2/auth?client_id=32555940559.apps.googleusercontent.com&redirect_uri=urn%3Aietf%3Awg%3Aoauth%3A2.0%3Aoob&scope=https%3A%2F%2Fwww.googleapis.com%2Fauth%2Fdrive&response_type=code&access_type=offline&approval_prompt=force\n",
      "Please enter the verification code: Access token retrieved correctly.\n"
     ]
    }
   ],
   "source": [
    "!apt-get install -y -qq software-properties-common python-software-properties module-init-tools\n",
    "!add-apt-repository -y ppa:alessandro-strada/ppa 2>&1 > /dev/null\n",
    "!apt-get update -qq 2>&1 > /dev/null\n",
    "!apt-get -y install -qq google-drive-ocamlfuse fuse\n",
    "from google.colab import auth\n",
    "auth.authenticate_user()\n",
    "from oauth2client.client import GoogleCredentials\n",
    "creds = GoogleCredentials.get_application_default()\n",
    "import getpass\n",
    "!google-drive-ocamlfuse -headless -id={creds.client_id} -secret={creds.client_secret} < /dev/null 2>&1 | grep URL\n",
    "vcode = getpass.getpass()\n",
    "!echo {vcode} | google-drive-ocamlfuse -headless -id={creds.client_id} -secret={creds.client_secret}"
   ]
  },
  {
   "cell_type": "code",
   "execution_count": 2,
   "metadata": {
    "colab": {
     "base_uri": "https://localhost:8080/",
     "height": 35
    },
    "colab_type": "code",
    "executionInfo": {
     "elapsed": 3102,
     "status": "ok",
     "timestamp": 1560023975270,
     "user": {
      "displayName": "robinraj EY",
      "photoUrl": "",
      "userId": "17540945510930744551"
     },
     "user_tz": -330
    },
    "id": "rAlBhIu-aqBM",
    "outputId": "9092cc83-b6f6-4f66-c8cb-16b26f51d741"
   },
   "outputs": [
    {
     "name": "stdout",
     "output_type": "stream",
     "text": [
      "adc.json  sample_data\n"
     ]
    }
   ],
   "source": [
    " !ls"
   ]
  },
  {
   "cell_type": "code",
   "execution_count": 0,
   "metadata": {
    "colab": {},
    "colab_type": "code",
    "id": "ON9rqJZrM_xm"
   },
   "outputs": [],
   "source": [
    "!mkdir -p drive\n",
    "!google-drive-ocamlfuse drive"
   ]
  },
  {
   "cell_type": "code",
   "execution_count": 4,
   "metadata": {
    "colab": {
     "base_uri": "https://localhost:8080/",
     "height": 35
    },
    "colab_type": "code",
    "executionInfo": {
     "elapsed": 1983,
     "status": "ok",
     "timestamp": 1560023992026,
     "user": {
      "displayName": "robinraj EY",
      "photoUrl": "",
      "userId": "17540945510930744551"
     },
     "user_tz": -330
    },
    "id": "aQ-g8NZANC8w",
    "outputId": "4eb1bd48-05f6-41c4-fc4b-4c84c83837d4"
   },
   "outputs": [
    {
     "name": "stderr",
     "output_type": "stream",
     "text": [
      "Using TensorFlow backend.\n"
     ]
    }
   ],
   "source": [
    "from keras import layers\n",
    "from keras.layers import Input, Dense, Activation, ZeroPadding2D, BatchNormalization, Flatten, Conv2D, Lambda,Concatenate\n",
    "from keras.layers import AveragePooling2D, MaxPooling2D, Dropout, GlobalMaxPooling2D, GlobalAveragePooling2D, Add\n",
    "from keras.models import Model\n",
    "from keras import regularizers\n",
    "from keras.preprocessing import image\n",
    "from keras.utils import layer_utils\n",
    "from keras.utils.data_utils import get_file\n",
    "from keras.applications.imagenet_utils import preprocess_input\n",
    "from keras.initializers import glorot_normal\n",
    "#import pydot\n",
    "from IPython.display import SVG\n",
    "from keras.utils.vis_utils import model_to_dot\n",
    "from keras.utils import plot_model"
   ]
  },
  {
   "cell_type": "code",
   "execution_count": 0,
   "metadata": {
    "colab": {},
    "colab_type": "code",
    "id": "yFXklS3nbMFp"
   },
   "outputs": [],
   "source": [
    "import tensorflow as tf"
   ]
  },
  {
   "cell_type": "code",
   "execution_count": 0,
   "metadata": {
    "colab": {},
    "colab_type": "code",
    "id": "FTWUi_3BN58K"
   },
   "outputs": [],
   "source": [
    "def two_path(X_input):\n",
    "  \n",
    "  X = Conv2D(64,(7,7),strides=(1,1),padding='valid')(X_input)\n",
    "  X = BatchNormalization()(X)\n",
    "  X1 = Conv2D(64,(7,7),strides=(1,1),padding='valid')(X_input)\n",
    "  X1 = BatchNormalization()(X1)\n",
    "  X = layers.Maximum()([X,X1])\n",
    "  X = Conv2D(64,(4,4),strides=(1,1),padding='valid',activation='relu')(X)\n",
    "  \n",
    "  X2 = Conv2D(160,(13,13),strides=(1,1),padding='valid')(X_input)\n",
    "  X2 = BatchNormalization()(X2)\n",
    "  X21 = Conv2D(160,(13,13),strides=(1,1),padding='valid')(X_input)\n",
    "  X21 = BatchNormalization()(X21)\n",
    "  X2 = layers.Maximum()([X2,X21])\n",
    "  \n",
    "  X3 = Conv2D(64,(3,3),strides=(1,1),padding='valid')(X)\n",
    "  X3 = BatchNormalization()(X3)\n",
    "  X31 =  Conv2D(64,(3,3),strides=(1,1),padding='valid')(X)\n",
    "  X31 = BatchNormalization()(X31)\n",
    "  X = layers.Maximum()([X3,X31])\n",
    "  X = Conv2D(64,(2,2),strides=(1,1),padding='valid',activation='relu')(X)\n",
    "  \n",
    "  X = Concatenate()([X2,X])\n",
    "  #X = Conv2D(5,(21,21),strides=(1,1))(X)\n",
    "  #X = Activation('softmax')(X)\n",
    "  \n",
    "  #model = Model(inputs = X_input, outputs = X)\n",
    "  return X"
   ]
  },
  {
   "cell_type": "code",
   "execution_count": 0,
   "metadata": {
    "colab": {},
    "colab_type": "code",
    "id": "6O3jE_k6cEIl"
   },
   "outputs": [],
   "source": [
    "def input_cascade(input_shape1,input_shape2):\n",
    "  \n",
    "  X1_input = Input(input_shape1)\n",
    "  X1 = two_path(X1_input)\n",
    "  X1 = Conv2D(5,(21,21),strides=(1,1),padding='valid',activation='relu')(X1)\n",
    "  X1 = BatchNormalization()(X1)\n",
    "  \n",
    "  X2_input = Input(input_shape2)\n",
    "  X2_input1 = Concatenate()([X1,X2_input])\n",
    "  #X2_input1 = Input(tensor = X2_input1)\n",
    "  X2 = two_path(X2_input1)\n",
    "  X2 = Conv2D(5,(21,21),strides=(1,1),padding='valid')(X2)\n",
    "  X2 = BatchNormalization()(X2)\n",
    "  X2 = Activation('softmax')(X2)\n",
    "  \n",
    "  model = Model(inputs=[X1_input,X2_input],outputs=X2)\n",
    "  return model\n",
    "  "
   ]
  },
  {
   "cell_type": "code",
   "execution_count": 0,
   "metadata": {
    "colab": {},
    "colab_type": "code",
    "id": "QPq0SXTivPZ1"
   },
   "outputs": [],
   "source": [
    "def MFCcascade(input_shape1,input_shape2):\n",
    "  \n",
    "  X1_input = Input(input_shape1)\n",
    "  X1 = two_path(X1_input)\n",
    "  X1 = Conv2D(5,(21,21),strides=(1,1),padding='valid',activation='relu')(X1)\n",
    "  X1 = BatchNormalization()(X1)\n",
    "  #X1 = MaxPooling2D((2,2))(X1)\n",
    "  \n",
    "  X2_input = Input(input_shape2)\n",
    "  X2 = two_path(X2_input)\n",
    "  \n",
    "  X2 = Concatenate()([X1,X2])\n",
    "  X2 = Conv2D(5,(21,21),strides=(1,1),padding='valid',activation='relu')(X2)\n",
    "  X2 = BatchNormalization()(X2)\n",
    "  X2 = Activation('softmax')(X2)\n",
    "  \n",
    "  model = Model(inputs=[X1_input,X2_input],outputs=X2)\n",
    "  return model\n",
    "  "
   ]
  },
  {
   "cell_type": "code",
   "execution_count": 9,
   "metadata": {
    "colab": {
     "base_uri": "https://localhost:8080/",
     "height": 1983
    },
    "colab_type": "code",
    "executionInfo": {
     "elapsed": 5193,
     "status": "ok",
     "timestamp": 1560024039930,
     "user": {
      "displayName": "robinraj EY",
      "photoUrl": "",
      "userId": "17540945510930744551"
     },
     "user_tz": -330
    },
    "id": "sAqw5R8vweug",
    "outputId": "7dced8c8-931d-4ec3-b855-f56006cab4f7"
   },
   "outputs": [
    {
     "name": "stdout",
     "output_type": "stream",
     "text": [
      "WARNING:tensorflow:From /usr/local/lib/python3.6/dist-packages/tensorflow/python/framework/op_def_library.py:263: colocate_with (from tensorflow.python.framework.ops) is deprecated and will be removed in a future version.\n",
      "Instructions for updating:\n",
      "Colocations handled automatically by placer.\n",
      "__________________________________________________________________________________________________\n",
      "Layer (type)                    Output Shape         Param #     Connected to                     \n",
      "==================================================================================================\n",
      "input_1 (InputLayer)            (None, 53, 53, 4)    0                                            \n",
      "__________________________________________________________________________________________________\n",
      "conv2d_1 (Conv2D)               (None, 47, 47, 64)   12608       input_1[0][0]                    \n",
      "__________________________________________________________________________________________________\n",
      "conv2d_2 (Conv2D)               (None, 47, 47, 64)   12608       input_1[0][0]                    \n",
      "__________________________________________________________________________________________________\n",
      "batch_normalization_1 (BatchNor (None, 47, 47, 64)   256         conv2d_1[0][0]                   \n",
      "__________________________________________________________________________________________________\n",
      "batch_normalization_2 (BatchNor (None, 47, 47, 64)   256         conv2d_2[0][0]                   \n",
      "__________________________________________________________________________________________________\n",
      "input_2 (InputLayer)            (None, 33, 33, 4)    0                                            \n",
      "__________________________________________________________________________________________________\n",
      "maximum_1 (Maximum)             (None, 47, 47, 64)   0           batch_normalization_1[0][0]      \n",
      "                                                                 batch_normalization_2[0][0]      \n",
      "__________________________________________________________________________________________________\n",
      "conv2d_10 (Conv2D)              (None, 27, 27, 64)   12608       input_2[0][0]                    \n",
      "__________________________________________________________________________________________________\n",
      "conv2d_11 (Conv2D)              (None, 27, 27, 64)   12608       input_2[0][0]                    \n",
      "__________________________________________________________________________________________________\n",
      "conv2d_3 (Conv2D)               (None, 44, 44, 64)   65600       maximum_1[0][0]                  \n",
      "__________________________________________________________________________________________________\n",
      "batch_normalization_8 (BatchNor (None, 27, 27, 64)   256         conv2d_10[0][0]                  \n",
      "__________________________________________________________________________________________________\n",
      "batch_normalization_9 (BatchNor (None, 27, 27, 64)   256         conv2d_11[0][0]                  \n",
      "__________________________________________________________________________________________________\n",
      "conv2d_6 (Conv2D)               (None, 42, 42, 64)   36928       conv2d_3[0][0]                   \n",
      "__________________________________________________________________________________________________\n",
      "conv2d_7 (Conv2D)               (None, 42, 42, 64)   36928       conv2d_3[0][0]                   \n",
      "__________________________________________________________________________________________________\n",
      "maximum_4 (Maximum)             (None, 27, 27, 64)   0           batch_normalization_8[0][0]      \n",
      "                                                                 batch_normalization_9[0][0]      \n",
      "__________________________________________________________________________________________________\n",
      "conv2d_4 (Conv2D)               (None, 41, 41, 160)  108320      input_1[0][0]                    \n",
      "__________________________________________________________________________________________________\n",
      "conv2d_5 (Conv2D)               (None, 41, 41, 160)  108320      input_1[0][0]                    \n",
      "__________________________________________________________________________________________________\n",
      "batch_normalization_5 (BatchNor (None, 42, 42, 64)   256         conv2d_6[0][0]                   \n",
      "__________________________________________________________________________________________________\n",
      "batch_normalization_6 (BatchNor (None, 42, 42, 64)   256         conv2d_7[0][0]                   \n",
      "__________________________________________________________________________________________________\n",
      "conv2d_12 (Conv2D)              (None, 24, 24, 64)   65600       maximum_4[0][0]                  \n",
      "__________________________________________________________________________________________________\n",
      "batch_normalization_3 (BatchNor (None, 41, 41, 160)  640         conv2d_4[0][0]                   \n",
      "__________________________________________________________________________________________________\n",
      "batch_normalization_4 (BatchNor (None, 41, 41, 160)  640         conv2d_5[0][0]                   \n",
      "__________________________________________________________________________________________________\n",
      "maximum_3 (Maximum)             (None, 42, 42, 64)   0           batch_normalization_5[0][0]      \n",
      "                                                                 batch_normalization_6[0][0]      \n",
      "__________________________________________________________________________________________________\n",
      "conv2d_15 (Conv2D)              (None, 22, 22, 64)   36928       conv2d_12[0][0]                  \n",
      "__________________________________________________________________________________________________\n",
      "conv2d_16 (Conv2D)              (None, 22, 22, 64)   36928       conv2d_12[0][0]                  \n",
      "__________________________________________________________________________________________________\n",
      "maximum_2 (Maximum)             (None, 41, 41, 160)  0           batch_normalization_3[0][0]      \n",
      "                                                                 batch_normalization_4[0][0]      \n",
      "__________________________________________________________________________________________________\n",
      "conv2d_8 (Conv2D)               (None, 41, 41, 64)   16448       maximum_3[0][0]                  \n",
      "__________________________________________________________________________________________________\n",
      "conv2d_13 (Conv2D)              (None, 21, 21, 160)  108320      input_2[0][0]                    \n",
      "__________________________________________________________________________________________________\n",
      "conv2d_14 (Conv2D)              (None, 21, 21, 160)  108320      input_2[0][0]                    \n",
      "__________________________________________________________________________________________________\n",
      "batch_normalization_12 (BatchNo (None, 22, 22, 64)   256         conv2d_15[0][0]                  \n",
      "__________________________________________________________________________________________________\n",
      "batch_normalization_13 (BatchNo (None, 22, 22, 64)   256         conv2d_16[0][0]                  \n",
      "__________________________________________________________________________________________________\n",
      "concatenate_1 (Concatenate)     (None, 41, 41, 224)  0           maximum_2[0][0]                  \n",
      "                                                                 conv2d_8[0][0]                   \n",
      "__________________________________________________________________________________________________\n",
      "batch_normalization_10 (BatchNo (None, 21, 21, 160)  640         conv2d_13[0][0]                  \n",
      "__________________________________________________________________________________________________\n",
      "batch_normalization_11 (BatchNo (None, 21, 21, 160)  640         conv2d_14[0][0]                  \n",
      "__________________________________________________________________________________________________\n",
      "maximum_6 (Maximum)             (None, 22, 22, 64)   0           batch_normalization_12[0][0]     \n",
      "                                                                 batch_normalization_13[0][0]     \n",
      "__________________________________________________________________________________________________\n",
      "conv2d_9 (Conv2D)               (None, 21, 21, 5)    493925      concatenate_1[0][0]              \n",
      "__________________________________________________________________________________________________\n",
      "maximum_5 (Maximum)             (None, 21, 21, 160)  0           batch_normalization_10[0][0]     \n",
      "                                                                 batch_normalization_11[0][0]     \n",
      "__________________________________________________________________________________________________\n",
      "conv2d_17 (Conv2D)              (None, 21, 21, 64)   16448       maximum_6[0][0]                  \n",
      "__________________________________________________________________________________________________\n",
      "batch_normalization_7 (BatchNor (None, 21, 21, 5)    20          conv2d_9[0][0]                   \n",
      "__________________________________________________________________________________________________\n",
      "concatenate_2 (Concatenate)     (None, 21, 21, 224)  0           maximum_5[0][0]                  \n",
      "                                                                 conv2d_17[0][0]                  \n",
      "__________________________________________________________________________________________________\n",
      "concatenate_3 (Concatenate)     (None, 21, 21, 229)  0           batch_normalization_7[0][0]      \n",
      "                                                                 concatenate_2[0][0]              \n",
      "__________________________________________________________________________________________________\n",
      "conv2d_18 (Conv2D)              (None, 1, 1, 5)      504950      concatenate_3[0][0]              \n",
      "__________________________________________________________________________________________________\n",
      "batch_normalization_14 (BatchNo (None, 1, 1, 5)      20          conv2d_18[0][0]                  \n",
      "__________________________________________________________________________________________________\n",
      "activation_1 (Activation)       (None, 1, 1, 5)      0           batch_normalization_14[0][0]     \n",
      "==================================================================================================\n",
      "Total params: 1,799,043\n",
      "Trainable params: 1,796,719\n",
      "Non-trainable params: 2,324\n",
      "__________________________________________________________________________________________________\n"
     ]
    }
   ],
   "source": [
    "m = MFCcascade((53,53,4),(33,33,4))\n",
    "m.summary()"
   ]
  },
  {
   "cell_type": "code",
   "execution_count": 0,
   "metadata": {
    "colab": {},
    "colab_type": "code",
    "id": "I3l16YuGsuYu"
   },
   "outputs": [],
   "source": [
    "m.compile(optimizer='adam',loss='categorical_crossentropy',metrics=['accuracy'])"
   ]
  },
  {
   "cell_type": "code",
   "execution_count": 0,
   "metadata": {
    "colab": {},
    "colab_type": "code",
    "id": "nnHOtrWqsdVw"
   },
   "outputs": [],
   "source": [
    "m.save('trial_0001_MFCcascade_acc.h5')"
   ]
  },
  {
   "cell_type": "code",
   "execution_count": 12,
   "metadata": {
    "colab": {
     "base_uri": "https://localhost:8080/",
     "height": 1908
    },
    "colab_type": "code",
    "executionInfo": {
     "elapsed": 2640,
     "status": "ok",
     "timestamp": 1560024055560,
     "user": {
      "displayName": "robinraj EY",
      "photoUrl": "",
      "userId": "17540945510930744551"
     },
     "user_tz": -330
    },
    "id": "irkvZbGfzSP6",
    "outputId": "a2464c34-1bed-4328-d72d-ffd1df404768"
   },
   "outputs": [
    {
     "name": "stdout",
     "output_type": "stream",
     "text": [
      "__________________________________________________________________________________________________\n",
      "Layer (type)                    Output Shape         Param #     Connected to                     \n",
      "==================================================================================================\n",
      "input_3 (InputLayer)            (None, 65, 65, 4)    0                                            \n",
      "__________________________________________________________________________________________________\n",
      "conv2d_19 (Conv2D)              (None, 59, 59, 64)   12608       input_3[0][0]                    \n",
      "__________________________________________________________________________________________________\n",
      "conv2d_20 (Conv2D)              (None, 59, 59, 64)   12608       input_3[0][0]                    \n",
      "__________________________________________________________________________________________________\n",
      "batch_normalization_15 (BatchNo (None, 59, 59, 64)   256         conv2d_19[0][0]                  \n",
      "__________________________________________________________________________________________________\n",
      "batch_normalization_16 (BatchNo (None, 59, 59, 64)   256         conv2d_20[0][0]                  \n",
      "__________________________________________________________________________________________________\n",
      "maximum_7 (Maximum)             (None, 59, 59, 64)   0           batch_normalization_15[0][0]     \n",
      "                                                                 batch_normalization_16[0][0]     \n",
      "__________________________________________________________________________________________________\n",
      "conv2d_21 (Conv2D)              (None, 56, 56, 64)   65600       maximum_7[0][0]                  \n",
      "__________________________________________________________________________________________________\n",
      "conv2d_24 (Conv2D)              (None, 54, 54, 64)   36928       conv2d_21[0][0]                  \n",
      "__________________________________________________________________________________________________\n",
      "conv2d_25 (Conv2D)              (None, 54, 54, 64)   36928       conv2d_21[0][0]                  \n",
      "__________________________________________________________________________________________________\n",
      "conv2d_22 (Conv2D)              (None, 53, 53, 160)  108320      input_3[0][0]                    \n",
      "__________________________________________________________________________________________________\n",
      "conv2d_23 (Conv2D)              (None, 53, 53, 160)  108320      input_3[0][0]                    \n",
      "__________________________________________________________________________________________________\n",
      "batch_normalization_19 (BatchNo (None, 54, 54, 64)   256         conv2d_24[0][0]                  \n",
      "__________________________________________________________________________________________________\n",
      "batch_normalization_20 (BatchNo (None, 54, 54, 64)   256         conv2d_25[0][0]                  \n",
      "__________________________________________________________________________________________________\n",
      "batch_normalization_17 (BatchNo (None, 53, 53, 160)  640         conv2d_22[0][0]                  \n",
      "__________________________________________________________________________________________________\n",
      "batch_normalization_18 (BatchNo (None, 53, 53, 160)  640         conv2d_23[0][0]                  \n",
      "__________________________________________________________________________________________________\n",
      "maximum_9 (Maximum)             (None, 54, 54, 64)   0           batch_normalization_19[0][0]     \n",
      "                                                                 batch_normalization_20[0][0]     \n",
      "__________________________________________________________________________________________________\n",
      "maximum_8 (Maximum)             (None, 53, 53, 160)  0           batch_normalization_17[0][0]     \n",
      "                                                                 batch_normalization_18[0][0]     \n",
      "__________________________________________________________________________________________________\n",
      "conv2d_26 (Conv2D)              (None, 53, 53, 64)   16448       maximum_9[0][0]                  \n",
      "__________________________________________________________________________________________________\n",
      "concatenate_4 (Concatenate)     (None, 53, 53, 224)  0           maximum_8[0][0]                  \n",
      "                                                                 conv2d_26[0][0]                  \n",
      "__________________________________________________________________________________________________\n",
      "conv2d_27 (Conv2D)              (None, 33, 33, 5)    493925      concatenate_4[0][0]              \n",
      "__________________________________________________________________________________________________\n",
      "batch_normalization_21 (BatchNo (None, 33, 33, 5)    20          conv2d_27[0][0]                  \n",
      "__________________________________________________________________________________________________\n",
      "input_4 (InputLayer)            (None, 33, 33, 4)    0                                            \n",
      "__________________________________________________________________________________________________\n",
      "concatenate_5 (Concatenate)     (None, 33, 33, 9)    0           batch_normalization_21[0][0]     \n",
      "                                                                 input_4[0][0]                    \n",
      "__________________________________________________________________________________________________\n",
      "conv2d_28 (Conv2D)              (None, 27, 27, 64)   28288       concatenate_5[0][0]              \n",
      "__________________________________________________________________________________________________\n",
      "conv2d_29 (Conv2D)              (None, 27, 27, 64)   28288       concatenate_5[0][0]              \n",
      "__________________________________________________________________________________________________\n",
      "batch_normalization_22 (BatchNo (None, 27, 27, 64)   256         conv2d_28[0][0]                  \n",
      "__________________________________________________________________________________________________\n",
      "batch_normalization_23 (BatchNo (None, 27, 27, 64)   256         conv2d_29[0][0]                  \n",
      "__________________________________________________________________________________________________\n",
      "maximum_10 (Maximum)            (None, 27, 27, 64)   0           batch_normalization_22[0][0]     \n",
      "                                                                 batch_normalization_23[0][0]     \n",
      "__________________________________________________________________________________________________\n",
      "conv2d_30 (Conv2D)              (None, 24, 24, 64)   65600       maximum_10[0][0]                 \n",
      "__________________________________________________________________________________________________\n",
      "conv2d_33 (Conv2D)              (None, 22, 22, 64)   36928       conv2d_30[0][0]                  \n",
      "__________________________________________________________________________________________________\n",
      "conv2d_34 (Conv2D)              (None, 22, 22, 64)   36928       conv2d_30[0][0]                  \n",
      "__________________________________________________________________________________________________\n",
      "conv2d_31 (Conv2D)              (None, 21, 21, 160)  243520      concatenate_5[0][0]              \n",
      "__________________________________________________________________________________________________\n",
      "conv2d_32 (Conv2D)              (None, 21, 21, 160)  243520      concatenate_5[0][0]              \n",
      "__________________________________________________________________________________________________\n",
      "batch_normalization_26 (BatchNo (None, 22, 22, 64)   256         conv2d_33[0][0]                  \n",
      "__________________________________________________________________________________________________\n",
      "batch_normalization_27 (BatchNo (None, 22, 22, 64)   256         conv2d_34[0][0]                  \n",
      "__________________________________________________________________________________________________\n",
      "batch_normalization_24 (BatchNo (None, 21, 21, 160)  640         conv2d_31[0][0]                  \n",
      "__________________________________________________________________________________________________\n",
      "batch_normalization_25 (BatchNo (None, 21, 21, 160)  640         conv2d_32[0][0]                  \n",
      "__________________________________________________________________________________________________\n",
      "maximum_12 (Maximum)            (None, 22, 22, 64)   0           batch_normalization_26[0][0]     \n",
      "                                                                 batch_normalization_27[0][0]     \n",
      "__________________________________________________________________________________________________\n",
      "maximum_11 (Maximum)            (None, 21, 21, 160)  0           batch_normalization_24[0][0]     \n",
      "                                                                 batch_normalization_25[0][0]     \n",
      "__________________________________________________________________________________________________\n",
      "conv2d_35 (Conv2D)              (None, 21, 21, 64)   16448       maximum_12[0][0]                 \n",
      "__________________________________________________________________________________________________\n",
      "concatenate_6 (Concatenate)     (None, 21, 21, 224)  0           maximum_11[0][0]                 \n",
      "                                                                 conv2d_35[0][0]                  \n",
      "__________________________________________________________________________________________________\n",
      "conv2d_36 (Conv2D)              (None, 1, 1, 5)      493925      concatenate_6[0][0]              \n",
      "__________________________________________________________________________________________________\n",
      "batch_normalization_28 (BatchNo (None, 1, 1, 5)      20          conv2d_36[0][0]                  \n",
      "__________________________________________________________________________________________________\n",
      "activation_2 (Activation)       (None, 1, 1, 5)      0           batch_normalization_28[0][0]     \n",
      "==================================================================================================\n",
      "Total params: 2,089,778\n",
      "Trainable params: 2,087,454\n",
      "Non-trainable params: 2,324\n",
      "__________________________________________________________________________________________________\n"
     ]
    }
   ],
   "source": [
    "m1 = input_cascade((65,65,4),(33,33,4))\n",
    "m1.summary()"
   ]
  },
  {
   "cell_type": "code",
   "execution_count": 0,
   "metadata": {
    "colab": {},
    "colab_type": "code",
    "id": "jPr6MX-zgAC0"
   },
   "outputs": [],
   "source": [
    "import os\n",
    "os.chdir('drive/Brain-Tumor-Segmentation-using-Deep-Neural-networks-master')"
   ]
  },
  {
   "cell_type": "code",
   "execution_count": 0,
   "metadata": {
    "colab": {},
    "colab_type": "code",
    "id": "b9DjejaYSVcU"
   },
   "outputs": [],
   "source": [
    "def model_gen(input_dim,x,y,slice_no):\n",
    "  X1 = []\n",
    "  X2 = []\n",
    "  Y = []\n",
    "  print(int((input_dim)/2))\n",
    "  for i in range(int((input_dim)/2),175-int((input_dim)/2)):\n",
    "    for j in range(int((input_dim)/2),195-int((input_dim)/2)):\n",
    "      X2.append(x[i-16:i+17,j-16:j+17,:])\n",
    "      X1.append(x[i-int((input_dim)/2):i+int((input_dim)/2)+1,j-int((input_dim)/2):j+int((input_dim)/2)+1,:])\n",
    "      Y.append(y[i,slice_no,j])\n",
    "      \n",
    "  X1 = np.asarray(X1)\n",
    "  X2 = np.asarray(X2)\n",
    "  Y = np.asarray(Y)\n",
    "  d = [X1,X2,Y]\n",
    "  return d"
   ]
  },
  {
   "cell_type": "code",
   "execution_count": 0,
   "metadata": {
    "colab": {},
    "colab_type": "code",
    "id": "fyc_LhG_SVx2"
   },
   "outputs": [],
   "source": [
    "def data_gen(path,slice_no,model_no):\n",
    "  p = os.listdir(path)\n",
    "  p.sort(key=str.lower)\n",
    "  arr = []\n",
    "  for i in range(len(p)):\n",
    "    if(i != 4):\n",
    "      p1 = os.listdir(path+'/'+p[i])\n",
    "      p1.sort()\n",
    "      img = sitk.ReadImage(path+'/'+p[i]+'/'+p1[-1])\n",
    "      arr.append(sitk.GetArrayFromImage(img))\n",
    "    else:\n",
    "      p1 = os.listdir(path+'/'+p[i])\n",
    "      img = sitk.ReadImage(path+'/'+p[i]+'/'+p1[0])\n",
    "      y = sitk.GetArrayFromImage(img)    \n",
    "  data = np.zeros((196,176,216,4))\n",
    "  for i in range(196):\n",
    "    data[i,:,:,0] = arr[0][:,i,:]\n",
    "    data[i,:,:,1] = arr[1][:,i,:]\n",
    "    data[i,:,:,2] = arr[2][:,i,:]\n",
    "    data[i,:,:,3] = arr[3][:,i,:]\n",
    "  x = data[slice_no]\n",
    "  \n",
    "  if(model_no == 0):\n",
    "    X1 = []\n",
    "    for i in range(16,159):\n",
    "      for j in range(16,199):\n",
    "        X1.append(x[i-16:i+17,j-16:j+17,:])\n",
    "    Y1 = []\n",
    "    for i in range(16,159):\n",
    "      for j in range(16,199):\n",
    "        Y1.append(y[i,slice_no,j]) \n",
    "    X1 = np.asarray(X1)\n",
    "    Y1 = np.asarray(Y1)\n",
    "    d = [X1,Y1]\n",
    "  elif(model_no == 1):\n",
    "    d = model_gen(65,x,y,slice_no)\n",
    "  elif(model_no == 2):\n",
    "    d = model_gen(56,x,y,slice_no)\n",
    "  elif(model_no == 3):\n",
    "    d = model_gen(53,x,y,slice_no)  \n",
    "    \n",
    "  return d   "
   ]
  },
  {
   "cell_type": "code",
   "execution_count": 23,
   "metadata": {
    "colab": {
     "base_uri": "https://localhost:8080/",
     "height": 35
    },
    "colab_type": "code",
    "executionInfo": {
     "elapsed": 7676,
     "status": "ok",
     "timestamp": 1560024227642,
     "user": {
      "displayName": "robinraj EY",
      "photoUrl": "",
      "userId": "17540945510930744551"
     },
     "user_tz": -330
    },
    "id": "l13G56crSV1W",
    "outputId": "c28efa5b-beba-4d7a-cdf7-6de80f57dc3c"
   },
   "outputs": [
    {
     "name": "stdout",
     "output_type": "stream",
     "text": [
      "26\n"
     ]
    }
   ],
   "source": [
    "d = data_gen('LG/0001',100,3)"
   ]
  },
  {
   "cell_type": "code",
   "execution_count": 24,
   "metadata": {
    "colab": {
     "base_uri": "https://localhost:8080/",
     "height": 35
    },
    "colab_type": "code",
    "executionInfo": {
     "elapsed": 951,
     "status": "ok",
     "timestamp": 1560024234235,
     "user": {
      "displayName": "robinraj EY",
      "photoUrl": "",
      "userId": "17540945510930744551"
     },
     "user_tz": -330
    },
    "id": "VNcrwh0_eLhA",
    "outputId": "300f771d-b7d0-4460-914e-84011f83c5aa"
   },
   "outputs": [
    {
     "data": {
      "text/plain": [
       "False"
      ]
     },
     "execution_count": 24,
     "metadata": {
      "tags": []
     },
     "output_type": "execute_result"
    }
   ],
   "source": [
    "d[2].all == 0"
   ]
  },
  {
   "cell_type": "code",
   "execution_count": 25,
   "metadata": {
    "colab": {
     "base_uri": "https://localhost:8080/",
     "height": 35
    },
    "colab_type": "code",
    "executionInfo": {
     "elapsed": 1742,
     "status": "ok",
     "timestamp": 1560024238507,
     "user": {
      "displayName": "robinraj EY",
      "photoUrl": "",
      "userId": "17540945510930744551"
     },
     "user_tz": -330
    },
    "id": "2AQ4FnZ4S9aa",
    "outputId": "5eb2e3c0-4638-49fe-8711-04d8c51eac6e"
   },
   "outputs": [
    {
     "data": {
      "text/plain": [
       "17589"
      ]
     },
     "execution_count": 25,
     "metadata": {
      "tags": []
     },
     "output_type": "execute_result"
    }
   ],
   "source": [
    "len(d[0])"
   ]
  },
  {
   "cell_type": "code",
   "execution_count": 21,
   "metadata": {
    "colab": {
     "base_uri": "https://localhost:8080/",
     "height": 128
    },
    "colab_type": "code",
    "executionInfo": {
     "elapsed": 11210,
     "status": "ok",
     "timestamp": 1560024212964,
     "user": {
      "displayName": "robinraj EY",
      "photoUrl": "",
      "userId": "17540945510930744551"
     },
     "user_tz": -330
    },
    "id": "nm-VUWyASV4U",
    "outputId": "c8ecd644-8e05-4cf4-f0c6-aaf079eb08c9"
   },
   "outputs": [
    {
     "name": "stdout",
     "output_type": "stream",
     "text": [
      "Collecting SimpleITK\n",
      "\u001b[?25l  Downloading https://files.pythonhosted.org/packages/45/ee/8ddd251cf447e1fc131622e925d538c2542780195ae75e26c122587630d1/SimpleITK-1.2.0-cp36-cp36m-manylinux1_x86_64.whl (42.5MB)\n",
      "\u001b[K     |████████████████████████████████| 42.5MB 1.4MB/s \n",
      "\u001b[?25hInstalling collected packages: SimpleITK\n",
      "Successfully installed SimpleITK-1.2.0\n"
     ]
    }
   ],
   "source": [
    "!pip3 install SimpleITK"
   ]
  },
  {
   "cell_type": "code",
   "execution_count": 0,
   "metadata": {
    "colab": {},
    "colab_type": "code",
    "id": "ApcCWE_kSWJR"
   },
   "outputs": [],
   "source": [
    "import SimpleITK as sitk\n",
    "import numpy as np"
   ]
  },
  {
   "cell_type": "code",
   "execution_count": 0,
   "metadata": {
    "colab": {},
    "colab_type": "code",
    "id": "z6kFD2BoSWNF"
   },
   "outputs": [],
   "source": [
    "y = np.zeros((17589,1,1,5))"
   ]
  },
  {
   "cell_type": "code",
   "execution_count": 0,
   "metadata": {
    "colab": {},
    "colab_type": "code",
    "id": "3ykXWR6aSVv7"
   },
   "outputs": [],
   "source": [
    "for i in range(y.shape[0]):\n",
    "  y[i,:,:,d[2][i]] = 1"
   ]
  },
  {
   "cell_type": "code",
   "execution_count": 28,
   "metadata": {
    "colab": {
     "base_uri": "https://localhost:8080/",
     "height": 108
    },
    "colab_type": "code",
    "executionInfo": {
     "elapsed": 919,
     "status": "ok",
     "timestamp": 1560024253961,
     "user": {
      "displayName": "robinraj EY",
      "photoUrl": "",
      "userId": "17540945510930744551"
     },
     "user_tz": -330
    },
    "id": "a8MbsET_lITK",
    "outputId": "cabd16d7-31cb-4c15-ca64-6f502fa33823"
   },
   "outputs": [
    {
     "name": "stdout",
     "output_type": "stream",
     "text": [
      "[[9.62476548e-01]\n",
      " [2.06378987e-02]\n",
      " [4.20717494e-03]\n",
      " [1.21098414e-02]\n",
      " [5.68537154e-04]]\n"
     ]
    }
   ],
   "source": [
    "sample = np.zeros((5,1))\n",
    "for i in range(5):\n",
    "  sample[i] = np.sum(y[:,:,:,i])\n",
    "print(sample/np.sum(sample))  "
   ]
  },
  {
   "cell_type": "code",
   "execution_count": 0,
   "metadata": {
    "colab": {},
    "colab_type": "code",
    "id": "-jDfh_KSTGYh"
   },
   "outputs": [],
   "source": [
    "X1 = np.asarray(d[0])"
   ]
  },
  {
   "cell_type": "code",
   "execution_count": 30,
   "metadata": {
    "colab": {
     "base_uri": "https://localhost:8080/",
     "height": 35
    },
    "colab_type": "code",
    "executionInfo": {
     "elapsed": 1024,
     "status": "ok",
     "timestamp": 1560024262080,
     "user": {
      "displayName": "robinraj EY",
      "photoUrl": "",
      "userId": "17540945510930744551"
     },
     "user_tz": -330
    },
    "id": "hvIGmdh9U7yH",
    "outputId": "d66b1844-8acb-4750-adf5-663c49bd14db"
   },
   "outputs": [
    {
     "data": {
      "text/plain": [
       "(17589, 53, 53, 4)"
      ]
     },
     "execution_count": 30,
     "metadata": {
      "tags": []
     },
     "output_type": "execute_result"
    }
   ],
   "source": [
    "X1.shape"
   ]
  },
  {
   "cell_type": "code",
   "execution_count": 0,
   "metadata": {
    "colab": {},
    "colab_type": "code",
    "id": "0Dr_yMLaTGWA"
   },
   "outputs": [],
   "source": [
    "X2 = np.asarray(d[1])"
   ]
  },
  {
   "cell_type": "code",
   "execution_count": 34,
   "metadata": {
    "colab": {
     "base_uri": "https://localhost:8080/",
     "height": 35
    },
    "colab_type": "code",
    "executionInfo": {
     "elapsed": 1150,
     "status": "ok",
     "timestamp": 1560024276767,
     "user": {
      "displayName": "robinraj EY",
      "photoUrl": "",
      "userId": "17540945510930744551"
     },
     "user_tz": -330
    },
    "id": "wOSoBQZ7U9cf",
    "outputId": "d97e27f0-60c2-4f6e-ae12-db559d0272b4"
   },
   "outputs": [
    {
     "data": {
      "text/plain": [
       "(17589, 33, 33, 4)"
      ]
     },
     "execution_count": 34,
     "metadata": {
      "tags": []
     },
     "output_type": "execute_result"
    }
   ],
   "source": [
    "X2.shape"
   ]
  },
  {
   "cell_type": "code",
   "execution_count": 35,
   "metadata": {
    "colab": {
     "base_uri": "https://localhost:8080/",
     "height": 54
    },
    "colab_type": "code",
    "executionInfo": {
     "elapsed": 1052,
     "status": "ok",
     "timestamp": 1560024278859,
     "user": {
      "displayName": "robinraj EY",
      "photoUrl": "",
      "userId": "17540945510930744551"
     },
     "user_tz": -330
    },
    "id": "vEI0767dVR46",
    "outputId": "787dac60-47c1-4db5-8340-657f655e5b6e"
   },
   "outputs": [
    {
     "data": {
      "text/plain": [
       "[<tf.Tensor 'input_3:0' shape=(?, 65, 65, 4) dtype=float32>,\n",
       " <tf.Tensor 'input_4:0' shape=(?, 33, 33, 4) dtype=float32>]"
      ]
     },
     "execution_count": 35,
     "metadata": {
      "tags": []
     },
     "output_type": "execute_result"
    }
   ],
   "source": [
    "m1.inputs"
   ]
  },
  {
   "cell_type": "code",
   "execution_count": 0,
   "metadata": {
    "colab": {},
    "colab_type": "code",
    "id": "LujuHlelTGUK"
   },
   "outputs": [],
   "source": [
    "m.compile(optimizer='adam',loss='categorical_crossentropy',metrics=[f1_score])"
   ]
  },
  {
   "cell_type": "code",
   "execution_count": 39,
   "metadata": {
    "colab": {
     "base_uri": "https://localhost:8080/",
     "height": 874
    },
    "colab_type": "code",
    "executionInfo": {
     "elapsed": 824031,
     "status": "ok",
     "timestamp": 1560025232149,
     "user": {
      "displayName": "robinraj EY",
      "photoUrl": "",
      "userId": "17540945510930744551"
     },
     "user_tz": -330
    },
    "id": "BDUjM2drTGQ1",
    "outputId": "0232a218-11a9-4f41-d10c-afafc0d1f27d"
   },
   "outputs": [
    {
     "name": "stdout",
     "output_type": "stream",
     "text": [
      "WARNING:tensorflow:From /usr/local/lib/python3.6/dist-packages/tensorflow/python/ops/math_ops.py:3066: to_int32 (from tensorflow.python.ops.math_ops) is deprecated and will be removed in a future version.\n",
      "Instructions for updating:\n",
      "Use tf.cast instead.\n",
      "WARNING:tensorflow:From /usr/local/lib/python3.6/dist-packages/tensorflow/python/ops/math_grad.py:102: div (from tensorflow.python.ops.math_ops) is deprecated and will be removed in a future version.\n",
      "Instructions for updating:\n",
      "Deprecated in favor of operator or tf.math.divide.\n",
      "Epoch 1/20\n",
      "17589/17589 [==============================] - 58s 3ms/step - loss: 1.4447 - f1_score: nan\n",
      "Epoch 2/20\n",
      "17589/17589 [==============================] - 40s 2ms/step - loss: 1.3025 - f1_score: nan\n",
      "Epoch 3/20\n",
      "17589/17589 [==============================] - 40s 2ms/step - loss: 1.2001 - f1_score: nan\n",
      "Epoch 4/20\n",
      "17589/17589 [==============================] - 40s 2ms/step - loss: 1.1006 - f1_score: nan\n",
      "Epoch 5/20\n",
      "17589/17589 [==============================] - 40s 2ms/step - loss: 1.0117 - f1_score: 0.0549\n",
      "Epoch 6/20\n",
      "17589/17589 [==============================] - 40s 2ms/step - loss: 0.9306 - f1_score: 0.0552\n",
      "Epoch 7/20\n",
      "17589/17589 [==============================] - 40s 2ms/step - loss: 0.8566 - f1_score: 0.0571\n",
      "Epoch 8/20\n",
      "17589/17589 [==============================] - 40s 2ms/step - loss: 0.7855 - f1_score: 0.0591\n",
      "Epoch 9/20\n",
      "17589/17589 [==============================] - 40s 2ms/step - loss: 0.7215 - f1_score: 0.1374\n",
      "Epoch 10/20\n",
      "17589/17589 [==============================] - 40s 2ms/step - loss: 0.6639 - f1_score: 0.8651\n",
      "Epoch 11/20\n",
      "17589/17589 [==============================] - 40s 2ms/step - loss: 0.6129 - f1_score: 0.9900\n",
      "Epoch 12/20\n",
      "17589/17589 [==============================] - 40s 2ms/step - loss: 0.5615 - f1_score: 0.9925\n",
      "Epoch 13/20\n",
      "17589/17589 [==============================] - 40s 2ms/step - loss: 0.5200 - f1_score: 0.9919\n",
      "Epoch 14/20\n",
      "17589/17589 [==============================] - 40s 2ms/step - loss: 0.4778 - f1_score: 0.9937\n",
      "Epoch 15/20\n",
      "17589/17589 [==============================] - 40s 2ms/step - loss: 0.4435 - f1_score: 0.9930\n",
      "Epoch 16/20\n",
      "17589/17589 [==============================] - 40s 2ms/step - loss: 0.4087 - f1_score: 0.9949\n",
      "Epoch 17/20\n",
      "17589/17589 [==============================] - 40s 2ms/step - loss: 0.3800 - f1_score: 0.9940\n",
      "Epoch 18/20\n",
      "17589/17589 [==============================] - 40s 2ms/step - loss: 0.3523 - f1_score: 0.9946\n",
      "Epoch 19/20\n",
      "17589/17589 [==============================] - 40s 2ms/step - loss: 0.3312 - f1_score: 0.9945\n",
      "Epoch 20/20\n",
      "17589/17589 [==============================] - 40s 2ms/step - loss: 0.3054 - f1_score: 0.9945\n"
     ]
    }
   ],
   "source": [
    "m_info = m.fit([X1,X2],y,epochs=20,batch_size=256)"
   ]
  },
  {
   "cell_type": "code",
   "execution_count": 0,
   "metadata": {
    "colab": {},
    "colab_type": "code",
    "id": "PnhDVGN8TGOS"
   },
   "outputs": [],
   "source": [
    "m.compile(optimizer='adam',loss='categorical_crossentropy',metrics=['accuracy'])"
   ]
  },
  {
   "cell_type": "markdown",
   "metadata": {
    "colab_type": "text",
    "id": "r3Vzzfj-F4bb"
   },
   "source": [
    "Slice 136 patient 0002"
   ]
  },
  {
   "cell_type": "code",
   "execution_count": 0,
   "metadata": {
    "colab": {},
    "colab_type": "code",
    "id": "L9unxNJ0GBjv"
   },
   "outputs": [],
   "source": [
    "from sklearn.utils import class_weight\n",
    "class_weights = class_weight.compute_class_weight('balanced',\n",
    "                                                 np.unique(d[2]),\n",
    "                                                 d[2])"
   ]
  },
  {
   "cell_type": "code",
   "execution_count": 43,
   "metadata": {
    "colab": {
     "base_uri": "https://localhost:8080/",
     "height": 54
    },
    "colab_type": "code",
    "executionInfo": {
     "elapsed": 981,
     "status": "ok",
     "timestamp": 1560025284119,
     "user": {
      "displayName": "robinraj EY",
      "photoUrl": "",
      "userId": "17540945510930744551"
     },
     "user_tz": -330
    },
    "id": "vNUs_MEpGBoY",
    "outputId": "1a9580ff-8da0-459b-86c8-ac323eabe335"
   },
   "outputs": [
    {
     "data": {
      "text/plain": [
       "array([2.07797271e-01, 9.69090909e+00, 4.75378378e+01, 1.65154930e+01,\n",
       "       3.51780000e+02])"
      ]
     },
     "execution_count": 43,
     "metadata": {
      "tags": []
     },
     "output_type": "execute_result"
    }
   ],
   "source": [
    "class_weights"
   ]
  },
  {
   "cell_type": "code",
   "execution_count": 54,
   "metadata": {
    "colab": {
     "base_uri": "https://localhost:8080/",
     "height": 469
    },
    "colab_type": "code",
    "executionInfo": {
     "elapsed": 890,
     "status": "error",
     "timestamp": 1560026388855,
     "user": {
      "displayName": "robinraj EY",
      "photoUrl": "",
      "userId": "17540945510930744551"
     },
     "user_tz": -330
    },
    "id": "hTD1_MwBGBuC",
    "outputId": "e37b0414-5b7d-4107-e0e8-a5d8c6f594e1"
   },
   "outputs": [
    {
     "ename": "OSError",
     "evalue": "ignored",
     "output_type": "error",
     "traceback": [
      "\u001b[0;31m---------------------------------------------------------------------------\u001b[0m",
      "\u001b[0;31mOSError\u001b[0m                                   Traceback (most recent call last)",
      "\u001b[0;32m<ipython-input-54-ec3aac4cfea6>\u001b[0m in \u001b[0;36m<module>\u001b[0;34m()\u001b[0m\n\u001b[1;32m      1\u001b[0m \u001b[0;32mimport\u001b[0m \u001b[0mkeras\u001b[0m\u001b[0;34m\u001b[0m\u001b[0;34m\u001b[0m\u001b[0m\n\u001b[0;32m----> 2\u001b[0;31m \u001b[0mmodel\u001b[0m \u001b[0;34m=\u001b[0m \u001b[0mkeras\u001b[0m\u001b[0;34m.\u001b[0m\u001b[0mmodels\u001b[0m\u001b[0;34m.\u001b[0m\u001b[0mload_model\u001b[0m\u001b[0;34m(\u001b[0m\u001b[0;34m'trial_0001_MFCcas_dim2_128_acc.h5'\u001b[0m\u001b[0;34m)\u001b[0m\u001b[0;34m\u001b[0m\u001b[0;34m\u001b[0m\u001b[0m\n\u001b[0m",
      "\u001b[0;32m/usr/local/lib/python3.6/dist-packages/keras/engine/saving.py\u001b[0m in \u001b[0;36mload_model\u001b[0;34m(filepath, custom_objects, compile)\u001b[0m\n\u001b[1;32m    415\u001b[0m     \u001b[0mmodel\u001b[0m \u001b[0;34m=\u001b[0m \u001b[0;32mNone\u001b[0m\u001b[0;34m\u001b[0m\u001b[0;34m\u001b[0m\u001b[0m\n\u001b[1;32m    416\u001b[0m     \u001b[0mopened_new_file\u001b[0m \u001b[0;34m=\u001b[0m \u001b[0;32mnot\u001b[0m \u001b[0misinstance\u001b[0m\u001b[0;34m(\u001b[0m\u001b[0mfilepath\u001b[0m\u001b[0;34m,\u001b[0m \u001b[0mh5py\u001b[0m\u001b[0;34m.\u001b[0m\u001b[0mGroup\u001b[0m\u001b[0;34m)\u001b[0m\u001b[0;34m\u001b[0m\u001b[0;34m\u001b[0m\u001b[0m\n\u001b[0;32m--> 417\u001b[0;31m     \u001b[0mf\u001b[0m \u001b[0;34m=\u001b[0m \u001b[0mh5dict\u001b[0m\u001b[0;34m(\u001b[0m\u001b[0mfilepath\u001b[0m\u001b[0;34m,\u001b[0m \u001b[0;34m'r'\u001b[0m\u001b[0;34m)\u001b[0m\u001b[0;34m\u001b[0m\u001b[0;34m\u001b[0m\u001b[0m\n\u001b[0m\u001b[1;32m    418\u001b[0m     \u001b[0;32mtry\u001b[0m\u001b[0;34m:\u001b[0m\u001b[0;34m\u001b[0m\u001b[0;34m\u001b[0m\u001b[0m\n\u001b[1;32m    419\u001b[0m         \u001b[0mmodel\u001b[0m \u001b[0;34m=\u001b[0m \u001b[0m_deserialize_model\u001b[0m\u001b[0;34m(\u001b[0m\u001b[0mf\u001b[0m\u001b[0;34m,\u001b[0m \u001b[0mcustom_objects\u001b[0m\u001b[0;34m,\u001b[0m \u001b[0mcompile\u001b[0m\u001b[0;34m)\u001b[0m\u001b[0;34m\u001b[0m\u001b[0;34m\u001b[0m\u001b[0m\n",
      "\u001b[0;32m/usr/local/lib/python3.6/dist-packages/keras/utils/io_utils.py\u001b[0m in \u001b[0;36m__init__\u001b[0;34m(self, path, mode)\u001b[0m\n\u001b[1;32m    184\u001b[0m             \u001b[0mself\u001b[0m\u001b[0;34m.\u001b[0m\u001b[0m_is_file\u001b[0m \u001b[0;34m=\u001b[0m \u001b[0;32mFalse\u001b[0m\u001b[0;34m\u001b[0m\u001b[0;34m\u001b[0m\u001b[0m\n\u001b[1;32m    185\u001b[0m         \u001b[0;32melif\u001b[0m \u001b[0misinstance\u001b[0m\u001b[0;34m(\u001b[0m\u001b[0mpath\u001b[0m\u001b[0;34m,\u001b[0m \u001b[0mstr\u001b[0m\u001b[0;34m)\u001b[0m\u001b[0;34m:\u001b[0m\u001b[0;34m\u001b[0m\u001b[0;34m\u001b[0m\u001b[0m\n\u001b[0;32m--> 186\u001b[0;31m             \u001b[0mself\u001b[0m\u001b[0;34m.\u001b[0m\u001b[0mdata\u001b[0m \u001b[0;34m=\u001b[0m \u001b[0mh5py\u001b[0m\u001b[0;34m.\u001b[0m\u001b[0mFile\u001b[0m\u001b[0;34m(\u001b[0m\u001b[0mpath\u001b[0m\u001b[0;34m,\u001b[0m \u001b[0mmode\u001b[0m\u001b[0;34m=\u001b[0m\u001b[0mmode\u001b[0m\u001b[0;34m)\u001b[0m\u001b[0;34m\u001b[0m\u001b[0;34m\u001b[0m\u001b[0m\n\u001b[0m\u001b[1;32m    187\u001b[0m             \u001b[0mself\u001b[0m\u001b[0;34m.\u001b[0m\u001b[0m_is_file\u001b[0m \u001b[0;34m=\u001b[0m \u001b[0;32mTrue\u001b[0m\u001b[0;34m\u001b[0m\u001b[0;34m\u001b[0m\u001b[0m\n\u001b[1;32m    188\u001b[0m         \u001b[0;32melif\u001b[0m \u001b[0misinstance\u001b[0m\u001b[0;34m(\u001b[0m\u001b[0mpath\u001b[0m\u001b[0;34m,\u001b[0m \u001b[0mdict\u001b[0m\u001b[0;34m)\u001b[0m\u001b[0;34m:\u001b[0m\u001b[0;34m\u001b[0m\u001b[0;34m\u001b[0m\u001b[0m\n",
      "\u001b[0;32m/usr/local/lib/python3.6/dist-packages/h5py/_hl/files.py\u001b[0m in \u001b[0;36m__init__\u001b[0;34m(self, name, mode, driver, libver, userblock_size, swmr, **kwds)\u001b[0m\n\u001b[1;32m    310\u001b[0m             \u001b[0;32mwith\u001b[0m \u001b[0mphil\u001b[0m\u001b[0;34m:\u001b[0m\u001b[0;34m\u001b[0m\u001b[0;34m\u001b[0m\u001b[0m\n\u001b[1;32m    311\u001b[0m                 \u001b[0mfapl\u001b[0m \u001b[0;34m=\u001b[0m \u001b[0mmake_fapl\u001b[0m\u001b[0;34m(\u001b[0m\u001b[0mdriver\u001b[0m\u001b[0;34m,\u001b[0m \u001b[0mlibver\u001b[0m\u001b[0;34m,\u001b[0m \u001b[0;34m**\u001b[0m\u001b[0mkwds\u001b[0m\u001b[0;34m)\u001b[0m\u001b[0;34m\u001b[0m\u001b[0;34m\u001b[0m\u001b[0m\n\u001b[0;32m--> 312\u001b[0;31m                 \u001b[0mfid\u001b[0m \u001b[0;34m=\u001b[0m \u001b[0mmake_fid\u001b[0m\u001b[0;34m(\u001b[0m\u001b[0mname\u001b[0m\u001b[0;34m,\u001b[0m \u001b[0mmode\u001b[0m\u001b[0;34m,\u001b[0m \u001b[0muserblock_size\u001b[0m\u001b[0;34m,\u001b[0m \u001b[0mfapl\u001b[0m\u001b[0;34m,\u001b[0m \u001b[0mswmr\u001b[0m\u001b[0;34m=\u001b[0m\u001b[0mswmr\u001b[0m\u001b[0;34m)\u001b[0m\u001b[0;34m\u001b[0m\u001b[0;34m\u001b[0m\u001b[0m\n\u001b[0m\u001b[1;32m    313\u001b[0m \u001b[0;34m\u001b[0m\u001b[0m\n\u001b[1;32m    314\u001b[0m                 \u001b[0;32mif\u001b[0m \u001b[0mswmr_support\u001b[0m\u001b[0;34m:\u001b[0m\u001b[0;34m\u001b[0m\u001b[0;34m\u001b[0m\u001b[0m\n",
      "\u001b[0;32m/usr/local/lib/python3.6/dist-packages/h5py/_hl/files.py\u001b[0m in \u001b[0;36mmake_fid\u001b[0;34m(name, mode, userblock_size, fapl, fcpl, swmr)\u001b[0m\n\u001b[1;32m    140\u001b[0m         \u001b[0;32mif\u001b[0m \u001b[0mswmr\u001b[0m \u001b[0;32mand\u001b[0m \u001b[0mswmr_support\u001b[0m\u001b[0;34m:\u001b[0m\u001b[0;34m\u001b[0m\u001b[0;34m\u001b[0m\u001b[0m\n\u001b[1;32m    141\u001b[0m             \u001b[0mflags\u001b[0m \u001b[0;34m|=\u001b[0m \u001b[0mh5f\u001b[0m\u001b[0;34m.\u001b[0m\u001b[0mACC_SWMR_READ\u001b[0m\u001b[0;34m\u001b[0m\u001b[0;34m\u001b[0m\u001b[0m\n\u001b[0;32m--> 142\u001b[0;31m         \u001b[0mfid\u001b[0m \u001b[0;34m=\u001b[0m \u001b[0mh5f\u001b[0m\u001b[0;34m.\u001b[0m\u001b[0mopen\u001b[0m\u001b[0;34m(\u001b[0m\u001b[0mname\u001b[0m\u001b[0;34m,\u001b[0m \u001b[0mflags\u001b[0m\u001b[0;34m,\u001b[0m \u001b[0mfapl\u001b[0m\u001b[0;34m=\u001b[0m\u001b[0mfapl\u001b[0m\u001b[0;34m)\u001b[0m\u001b[0;34m\u001b[0m\u001b[0;34m\u001b[0m\u001b[0m\n\u001b[0m\u001b[1;32m    143\u001b[0m     \u001b[0;32melif\u001b[0m \u001b[0mmode\u001b[0m \u001b[0;34m==\u001b[0m \u001b[0;34m'r+'\u001b[0m\u001b[0;34m:\u001b[0m\u001b[0;34m\u001b[0m\u001b[0;34m\u001b[0m\u001b[0m\n\u001b[1;32m    144\u001b[0m         \u001b[0mfid\u001b[0m \u001b[0;34m=\u001b[0m \u001b[0mh5f\u001b[0m\u001b[0;34m.\u001b[0m\u001b[0mopen\u001b[0m\u001b[0;34m(\u001b[0m\u001b[0mname\u001b[0m\u001b[0;34m,\u001b[0m \u001b[0mh5f\u001b[0m\u001b[0;34m.\u001b[0m\u001b[0mACC_RDWR\u001b[0m\u001b[0;34m,\u001b[0m \u001b[0mfapl\u001b[0m\u001b[0;34m=\u001b[0m\u001b[0mfapl\u001b[0m\u001b[0;34m)\u001b[0m\u001b[0;34m\u001b[0m\u001b[0;34m\u001b[0m\u001b[0m\n",
      "\u001b[0;32mh5py/_objects.pyx\u001b[0m in \u001b[0;36mh5py._objects.with_phil.wrapper\u001b[0;34m()\u001b[0m\n",
      "\u001b[0;32mh5py/_objects.pyx\u001b[0m in \u001b[0;36mh5py._objects.with_phil.wrapper\u001b[0;34m()\u001b[0m\n",
      "\u001b[0;32mh5py/h5f.pyx\u001b[0m in \u001b[0;36mh5py.h5f.open\u001b[0;34m()\u001b[0m\n",
      "\u001b[0;31mOSError\u001b[0m: Unable to open file (unable to open file: name = 'trial_0001_MFCcas_dim2_128_acc.h5', errno = 2, error message = 'No such file or directory', flags = 0, o_flags = 0)"
     ]
    }
   ],
   "source": [
    "import keras\n",
    "model = keras.models.load_model('trial_0001_MFCcas_dim2_128_acc.h5')"
   ]
  },
  {
   "cell_type": "code",
   "execution_count": 45,
   "metadata": {
    "colab": {
     "base_uri": "https://localhost:8080/",
     "height": 745
    },
    "colab_type": "code",
    "executionInfo": {
     "elapsed": 808592,
     "status": "ok",
     "timestamp": 1560026106349,
     "user": {
      "displayName": "robinraj EY",
      "photoUrl": "",
      "userId": "17540945510930744551"
     },
     "user_tz": -330
    },
    "id": "3M-UhTnDGB_q",
    "outputId": "7844d341-6ac4-45e1-8806-08f955322571"
   },
   "outputs": [
    {
     "name": "stdout",
     "output_type": "stream",
     "text": [
      "Epoch 1/20\n",
      "17589/17589 [==============================] - 43s 2ms/step - loss: 0.2841 - acc: 0.9932\n",
      "Epoch 2/20\n",
      "17589/17589 [==============================] - 40s 2ms/step - loss: 0.2519 - acc: 0.9940\n",
      "Epoch 3/20\n",
      "17589/17589 [==============================] - 40s 2ms/step - loss: 0.2220 - acc: 0.9953\n",
      "Epoch 4/20\n",
      "17589/17589 [==============================] - 40s 2ms/step - loss: 0.2005 - acc: 0.9957\n",
      "Epoch 5/20\n",
      "17589/17589 [==============================] - 40s 2ms/step - loss: 0.1818 - acc: 0.9952\n",
      "Epoch 6/20\n",
      "17589/17589 [==============================] - 40s 2ms/step - loss: 0.1627 - acc: 0.9961\n",
      "Epoch 7/20\n",
      "17589/17589 [==============================] - 40s 2ms/step - loss: 0.1500 - acc: 0.9957\n",
      "Epoch 8/20\n",
      "17589/17589 [==============================] - 40s 2ms/step - loss: 0.1366 - acc: 0.9960\n",
      "Epoch 9/20\n",
      "17589/17589 [==============================] - 40s 2ms/step - loss: 0.1261 - acc: 0.9955\n",
      "Epoch 10/20\n",
      "17589/17589 [==============================] - 40s 2ms/step - loss: 0.1138 - acc: 0.9968\n",
      "Epoch 11/20\n",
      "17589/17589 [==============================] - 40s 2ms/step - loss: 0.1068 - acc: 0.9961\n",
      "Epoch 12/20\n",
      "17589/17589 [==============================] - 40s 2ms/step - loss: 0.0980 - acc: 0.9965\n",
      "Epoch 13/20\n",
      "17589/17589 [==============================] - 40s 2ms/step - loss: 0.0907 - acc: 0.9966\n",
      "Epoch 14/20\n",
      "17589/17589 [==============================] - 40s 2ms/step - loss: 0.0849 - acc: 0.9965\n",
      "Epoch 15/20\n",
      "17589/17589 [==============================] - 40s 2ms/step - loss: 0.0784 - acc: 0.9969\n",
      "Epoch 16/20\n",
      "17589/17589 [==============================] - 40s 2ms/step - loss: 0.0747 - acc: 0.9966\n",
      "Epoch 17/20\n",
      "17589/17589 [==============================] - 40s 2ms/step - loss: 0.0685 - acc: 0.9972\n",
      "Epoch 18/20\n",
      "17589/17589 [==============================] - 40s 2ms/step - loss: 0.0638 - acc: 0.9974\n",
      "Epoch 19/20\n",
      "17589/17589 [==============================] - 40s 2ms/step - loss: 0.0623 - acc: 0.9973\n",
      "Epoch 20/20\n",
      "17589/17589 [==============================] - 40s 2ms/step - loss: 0.0562 - acc: 0.9980\n"
     ]
    }
   ],
   "source": [
    "m_info = m.fit([X1,X2],y,epochs= 20,batch_size = 256,class_weight = class_weights)"
   ]
  },
  {
   "cell_type": "code",
   "execution_count": 46,
   "metadata": {
    "colab": {
     "base_uri": "https://localhost:8080/",
     "height": 295
    },
    "colab_type": "code",
    "executionInfo": {
     "elapsed": 1116,
     "status": "ok",
     "timestamp": 1560026122661,
     "user": {
      "displayName": "robinraj EY",
      "photoUrl": "",
      "userId": "17540945510930744551"
     },
     "user_tz": -330
    },
    "id": "ZLKHRdib01PP",
    "outputId": "03c1e4dc-2ac7-46b2-d79c-592a36bbc092"
   },
   "outputs": [
    {
     "data": {
      "image/png": "[encoded data removed]",
      "text/plain": [
       "<Figure size 432x288 with 1 Axes>"
      ]
     },
     "metadata": {
      "tags": []
     },
     "output_type": "display_data"
    }
   ],
   "source": [
    "import matplotlib.pyplot as plt\n",
    "plt.plot(m_info.history['acc'])\n",
    "#plt.plot(m_info.history['val_acc'])\n",
    "plt.title('model accuracy')\n",
    "plt.ylabel('accuracy')\n",
    "plt.xlabel('epoch')\n",
    "plt.legend(['train', 'test'], loc='upper left')\n",
    "plt.show()"
   ]
  },
  {
   "cell_type": "code",
   "execution_count": 0,
   "metadata": {
    "colab": {},
    "colab_type": "code",
    "id": "1RMqW8zQ0H6e"
   },
   "outputs": [],
   "source": [
    "m.save('trial_MFCcascade_acc.h5')"
   ]
  },
  {
   "cell_type": "markdown",
   "metadata": {
    "colab_type": "text",
    "id": "gwNr5z5DTFPm"
   },
   "source": [
    "eval on 128th slice 0002"
   ]
  },
  {
   "cell_type": "code",
   "execution_count": 53,
   "metadata": {
    "colab": {
     "base_uri": "https://localhost:8080/",
     "height": 171
    },
    "colab_type": "code",
    "executionInfo": {
     "elapsed": 850,
     "status": "error",
     "timestamp": 1560026373994,
     "user": {
      "displayName": "robinraj EY",
      "photoUrl": "",
      "userId": "17540945510930744551"
     },
     "user_tz": -330
    },
    "id": "tBL5kEi7TFgh",
    "outputId": "648d687f-4a8a-4dc0-a5a5-e9280e8f34bc"
   },
   "outputs": [
    {
     "ename": "NameError",
     "evalue": "ignored",
     "output_type": "error",
     "traceback": [
      "\u001b[0;31m---------------------------------------------------------------------------\u001b[0m",
      "\u001b[0;31mNameError\u001b[0m                                 Traceback (most recent call last)",
      "\u001b[0;32m<ipython-input-53-74a70c7f4d63>\u001b[0m in \u001b[0;36m<module>\u001b[0;34m()\u001b[0m\n\u001b[0;32m----> 1\u001b[0;31m \u001b[0mmodel\u001b[0m\u001b[0;34m.\u001b[0m\u001b[0mevaluate\u001b[0m\u001b[0;34m(\u001b[0m\u001b[0;34m[\u001b[0m\u001b[0mX1\u001b[0m\u001b[0;34m,\u001b[0m\u001b[0mX2\u001b[0m\u001b[0;34m]\u001b[0m\u001b[0;34m,\u001b[0m\u001b[0my\u001b[0m\u001b[0;34m,\u001b[0m\u001b[0mbatch_size\u001b[0m \u001b[0;34m=\u001b[0m \u001b[0;36m1024\u001b[0m\u001b[0;34m)\u001b[0m\u001b[0;34m\u001b[0m\u001b[0;34m\u001b[0m\u001b[0m\n\u001b[0m",
      "\u001b[0;31mNameError\u001b[0m: name 'model' is not defined"
     ]
    }
   ],
   "source": [
    "model.evaluate([X1,X2],y,batch_size = 1024)"
   ]
  },
  {
   "cell_type": "code",
   "execution_count": 0,
   "metadata": {
    "colab": {
     "base_uri": "https://localhost:8080/",
     "height": 1057
    },
    "colab_type": "code",
    "executionInfo": {
     "elapsed": 2483158,
     "status": "ok",
     "timestamp": 1528962749588,
     "user": {
      "displayName": "JADE SANJAY",
      "photoUrl": "https://lh3.googleusercontent.com/a/default-user=s128",
      "userId": "113026688115779524991"
     },
     "user_tz": -330
    },
    "id": "mbH9DMlNG9VZ",
    "outputId": "ed058653-4859-4eb4-b24b-7961ffb23330"
   },
   "outputs": [
    {
     "name": "stdout",
     "output_type": "stream",
     "text": [
      "Epoch 1/30\n",
      "17589/17589 [==============================] - 96s 5ms/step - loss: 0.1438 - acc: 0.9482\n",
      "Epoch 2/30\n",
      "17589/17589 [==============================] - 82s 5ms/step - loss: 0.0838 - acc: 0.9741\n",
      "Epoch 3/30\n",
      "17589/17589 [==============================] - 82s 5ms/step - loss: 0.0770 - acc: 0.9762\n",
      "Epoch 4/30\n",
      "17589/17589 [==============================] - 82s 5ms/step - loss: 0.0738 - acc: 0.9766\n",
      "Epoch 5/30\n",
      "16128/17589 [==========================>...] - ETA: 6s - loss: 0.0668 - acc: 0.979117589/17589 [==============================] - 82s 5ms/step - loss: 0.0669 - acc: 0.9794\n",
      "Epoch 6/30\n",
      "17589/17589 [==============================] - 82s 5ms/step - loss: 0.0646 - acc: 0.9800\n",
      "Epoch 7/30\n",
      "17589/17589 [==============================] - 82s 5ms/step - loss: 0.0625 - acc: 0.9810\n",
      "Epoch 8/30\n",
      "17589/17589 [==============================] - 82s 5ms/step - loss: 0.0599 - acc: 0.9817\n",
      "Epoch 9/30\n",
      "17589/17589 [==============================] - 82s 5ms/step - loss: 0.0548 - acc: 0.9837\n",
      "Epoch 10/30\n",
      " 2304/17589 [==>...........................] - ETA: 1:11 - loss: 0.0525 - acc: 0.985217589/17589 [==============================] - 82s 5ms/step - loss: 0.0551 - acc: 0.9828\n",
      "Epoch 11/30\n",
      "17589/17589 [==============================] - 82s 5ms/step - loss: 0.0521 - acc: 0.9830\n",
      "Epoch 12/30\n",
      "17589/17589 [==============================] - 82s 5ms/step - loss: 0.0512 - acc: 0.9833\n",
      "Epoch 13/30\n",
      "17589/17589 [==============================] - 82s 5ms/step - loss: 0.0475 - acc: 0.9846\n",
      "Epoch 14/30\n",
      "17589/17589 [==============================] - 82s 5ms/step - loss: 0.0474 - acc: 0.9849\n",
      "Epoch 15/30\n",
      "17589/17589 [==============================] - 82s 5ms/step - loss: 0.0452 - acc: 0.9848\n",
      "Epoch 16/30\n",
      "17589/17589 [==============================] - 82s 5ms/step - loss: 0.0434 - acc: 0.9858\n",
      "Epoch 17/30\n",
      "17589/17589 [==============================] - 82s 5ms/step - loss: 0.0419 - acc: 0.9869\n",
      "Epoch 18/30\n",
      "17589/17589 [==============================] - 82s 5ms/step - loss: 0.0397 - acc: 0.9866\n",
      "Epoch 19/30\n",
      "17589/17589 [==============================] - 82s 5ms/step - loss: 0.0381 - acc: 0.9879\n",
      "Epoch 20/30\n",
      "17589/17589 [==============================] - 82s 5ms/step - loss: 0.0376 - acc: 0.9875\n",
      "Epoch 21/30\n",
      "17589/17589 [==============================] - 82s 5ms/step - loss: 0.0357 - acc: 0.9890\n",
      "Epoch 22/30\n",
      "17589/17589 [==============================] - 82s 5ms/step - loss: 0.0329 - acc: 0.9903\n",
      "Epoch 23/30\n",
      "17589/17589 [==============================] - 82s 5ms/step - loss: 0.0302 - acc: 0.9920\n",
      "Epoch 24/30\n",
      "15616/17589 [=========================>....] - ETA: 9s - loss: 0.0271 - acc: 0.9938 17589/17589 [==============================] - 82s 5ms/step - loss: 0.0272 - acc: 0.9938\n",
      "Epoch 25/30\n",
      "17589/17589 [==============================] - 82s 5ms/step - loss: 0.0262 - acc: 0.9935\n",
      "Epoch 26/30\n",
      "17589/17589 [==============================] - 82s 5ms/step - loss: 0.0246 - acc: 0.9948\n",
      "Epoch 27/30\n",
      "17589/17589 [==============================] - 82s 5ms/step - loss: 0.0220 - acc: 0.9955\n",
      "Epoch 28/30\n",
      "17589/17589 [==============================] - 82s 5ms/step - loss: 0.0213 - acc: 0.9954\n",
      "Epoch 29/30\n",
      " 2048/17589 [==>...........................] - ETA: 1:12 - loss: 0.0199 - acc: 0.997117589/17589 [==============================] - 82s 5ms/step - loss: 0.0205 - acc: 0.9962\n",
      "Epoch 30/30\n",
      "17589/17589 [==============================] - 82s 5ms/step - loss: 0.0169 - acc: 0.9972\n"
     ]
    }
   ],
   "source": [
    "model_info = model.fit([X1,X2],y,epochs=30,batch_size=256,class_weight= class_weights)"
   ]
  },
  {
   "cell_type": "code",
   "execution_count": 0,
   "metadata": {
    "colab": {
     "base_uri": "https://localhost:8080/",
     "height": 376
    },
    "colab_type": "code",
    "executionInfo": {
     "elapsed": 1727,
     "status": "ok",
     "timestamp": 1528962987615,
     "user": {
      "displayName": "JADE SANJAY",
      "photoUrl": "https://lh3.googleusercontent.com/a/default-user=s128",
      "userId": "113026688115779524991"
     },
     "user_tz": -330
    },
    "id": "_U33DPJVJU4Y",
    "outputId": "4d438f95-28f3-4118-b4ff-49751da0c48d"
   },
   "outputs": [
    {
     "data": {
      "image/png": "[encoded data removed]",
      "text/plain": [
       "<matplotlib.figure.Figure at 0x7f4c943bd940>"
      ]
     },
     "metadata": {
      "tags": []
     },
     "output_type": "display_data"
    }
   ],
   "source": [
    "import matplotlib.pyplot as plt\n",
    "plt.plot(model_info.history['acc'])\n",
    "#plt.plot(m_info.history['val_acc'])\n",
    "plt.title('model accuracy')\n",
    "plt.ylabel('accuracy')\n",
    "plt.xlabel('epoch')\n",
    "plt.legend(['train', 'test'], loc='upper left')\n",
    "plt.show()"
   ]
  },
  {
   "cell_type": "code",
   "execution_count": 52,
   "metadata": {
    "colab": {
     "base_uri": "https://localhost:8080/",
     "height": 171
    },
    "colab_type": "code",
    "executionInfo": {
     "elapsed": 2266,
     "status": "error",
     "timestamp": 1560026361021,
     "user": {
      "displayName": "robinraj EY",
      "photoUrl": "",
      "userId": "17540945510930744551"
     },
     "user_tz": -330
    },
    "id": "3lziDgWfJWj-",
    "outputId": "4fac87c4-7e20-4e32-a60c-cc27fd9c7a10"
   },
   "outputs": [
    {
     "ename": "NameError",
     "evalue": "ignored",
     "output_type": "error",
     "traceback": [
      "\u001b[0;31m---------------------------------------------------------------------------\u001b[0m",
      "\u001b[0;31mNameError\u001b[0m                                 Traceback (most recent call last)",
      "\u001b[0;32m<ipython-input-52-4b2361a76202>\u001b[0m in \u001b[0;36m<module>\u001b[0;34m()\u001b[0m\n\u001b[0;32m----> 1\u001b[0;31m \u001b[0mmodel\u001b[0m\u001b[0;34m.\u001b[0m\u001b[0msave\u001b[0m\u001b[0;34m(\u001b[0m\u001b[0;34m'trial_0001_MFCcas_dim2_128_acc.h5'\u001b[0m\u001b[0;34m)\u001b[0m\u001b[0;34m\u001b[0m\u001b[0;34m\u001b[0m\u001b[0m\n\u001b[0m",
      "\u001b[0;31mNameError\u001b[0m: name 'model' is not defined"
     ]
    }
   ],
   "source": [
    "model.save('trial_0001_MFCcas_dim2_128_acc.h5')"
   ]
  },
  {
   "cell_type": "markdown",
   "metadata": {
    "colab_type": "text",
    "id": "mQSajo4FftOE"
   },
   "source": [
    "eval on 100th slice 0001"
   ]
  },
  {
   "cell_type": "code",
   "execution_count": 0,
   "metadata": {
    "colab": {
     "base_uri": "https://localhost:8080/",
     "height": 51
    },
    "colab_type": "code",
    "executionInfo": {
     "elapsed": 77139,
     "status": "ok",
     "timestamp": 1528966446248,
     "user": {
      "displayName": "JADE SANJAY",
      "photoUrl": "https://lh3.googleusercontent.com/a/default-user=s128",
      "userId": "113026688115779524991"
     },
     "user_tz": -330
    },
    "id": "nzrrhhMsfxpu",
    "outputId": "a10c5a25-19d3-4ee3-fe45-ec6c39370fb8"
   },
   "outputs": [
    {
     "name": "stdout",
     "output_type": "stream",
     "text": [
      "17589/17589 [==============================] - 76s 4ms/step\n"
     ]
    },
    {
     "data": {
      "text/plain": [
       "[0.7340614805444402, 0.7623514699498087]"
      ]
     },
     "execution_count": 100,
     "metadata": {
      "tags": []
     },
     "output_type": "execute_result"
    }
   ],
   "source": [
    "model.evaluate([X1,X2],y,batch_size = 1024)"
   ]
  },
  {
   "cell_type": "code",
   "execution_count": 0,
   "metadata": {
    "colab": {},
    "colab_type": "code",
    "id": "T9YzEZDuJfOu"
   },
   "outputs": [],
   "source": [
    "pred = model.predict([X1,X2],batch_size = 1024)\n",
    "pred = np.around(pred)\n",
    "pred1 = np.dot(pred.reshape(17589,5),np.array([0,1,2,3,4]))\n",
    "y1 = np.dot(y.reshape(17589,5),np.array([0,1,2,3,4]))"
   ]
  },
  {
   "cell_type": "code",
   "execution_count": 0,
   "metadata": {
    "colab": {
     "base_uri": "https://localhost:8080/",
     "height": 34
    },
    "colab_type": "code",
    "executionInfo": {
     "elapsed": 1125,
     "status": "ok",
     "timestamp": 1528966769710,
     "user": {
      "displayName": "JADE SANJAY",
      "photoUrl": "https://lh3.googleusercontent.com/a/default-user=s128",
      "userId": "113026688115779524991"
     },
     "user_tz": -330
    },
    "id": "ih34JtbkhL0K",
    "outputId": "97bb0c1e-94aa-41aa-a0d5-90792f57fe92"
   },
   "outputs": [
    {
     "data": {
      "text/plain": [
       "True"
      ]
     },
     "execution_count": 110,
     "metadata": {
      "tags": []
     },
     "output_type": "execute_result"
    }
   ],
   "source": [
    "y2 = np.argmax(y.reshape(17589,5),axis = 1)\n",
    "y2.all() == 0"
   ]
  },
  {
   "cell_type": "code",
   "execution_count": 0,
   "metadata": {
    "colab": {
     "base_uri": "https://localhost:8080/",
     "height": 34
    },
    "colab_type": "code",
    "executionInfo": {
     "elapsed": 1162,
     "status": "ok",
     "timestamp": 1528966610330,
     "user": {
      "displayName": "JADE SANJAY",
      "photoUrl": "https://lh3.googleusercontent.com/a/default-user=s128",
      "userId": "113026688115779524991"
     },
     "user_tz": -330
    },
    "id": "nzqkK_CqaNck",
    "outputId": "99b0c7c6-7097-4912-d9c3-f20fa12edeaf"
   },
   "outputs": [
    {
     "data": {
      "text/plain": [
       "True"
      ]
     },
     "execution_count": 109,
     "metadata": {
      "tags": []
     },
     "output_type": "execute_result"
    }
   ],
   "source": [
    "y1.all()==0"
   ]
  },
  {
   "cell_type": "code",
   "execution_count": 0,
   "metadata": {
    "colab": {},
    "colab_type": "code",
    "id": "0gyXYBgmJgqE"
   },
   "outputs": [],
   "source": [
    "from sklearn import metrics"
   ]
  },
  {
   "cell_type": "code",
   "execution_count": 0,
   "metadata": {
    "colab": {
     "base_uri": "https://localhost:8080/",
     "height": 34
    },
    "colab_type": "code",
    "executionInfo": {
     "elapsed": 829,
     "status": "ok",
     "timestamp": 1528966558053,
     "user": {
      "displayName": "JADE SANJAY",
      "photoUrl": "https://lh3.googleusercontent.com/a/default-user=s128",
      "userId": "113026688115779524991"
     },
     "user_tz": -330
    },
    "id": "oVuRmb5IZdfE",
    "outputId": "96187b51-ac7c-4221-cbf1-5a7017eaa555"
   },
   "outputs": [
    {
     "data": {
      "text/plain": [
       "0.7857183466939565"
      ]
     },
     "execution_count": 102,
     "metadata": {
      "tags": []
     },
     "output_type": "execute_result"
    }
   ],
   "source": [
    "f1 = metrics.f1_score(y1,pred1,average='micro')\n",
    "f1"
   ]
  },
  {
   "cell_type": "code",
   "execution_count": 0,
   "metadata": {
    "colab": {
     "base_uri": "https://localhost:8080/",
     "height": 34
    },
    "colab_type": "code",
    "executionInfo": {
     "elapsed": 832,
     "status": "ok",
     "timestamp": 1528966559188,
     "user": {
      "displayName": "JADE SANJAY",
      "photoUrl": "https://lh3.googleusercontent.com/a/default-user=s128",
      "userId": "113026688115779524991"
     },
     "user_tz": -330
    },
    "id": "hSCNIVMObhqR",
    "outputId": "4e20f78f-59ba-48c1-a217-e1c44d3a216f"
   },
   "outputs": [
    {
     "data": {
      "text/plain": [
       "0.7857183466939565"
      ]
     },
     "execution_count": 103,
     "metadata": {
      "tags": []
     },
     "output_type": "execute_result"
    }
   ],
   "source": [
    "p1 = metrics.precision_score(y1,pred1,average='micro')\n",
    "p1"
   ]
  },
  {
   "cell_type": "code",
   "execution_count": 0,
   "metadata": {
    "colab": {
     "base_uri": "https://localhost:8080/",
     "height": 34
    },
    "colab_type": "code",
    "executionInfo": {
     "elapsed": 1434,
     "status": "ok",
     "timestamp": 1528966560990,
     "user": {
      "displayName": "JADE SANJAY",
      "photoUrl": "https://lh3.googleusercontent.com/a/default-user=s128",
      "userId": "113026688115779524991"
     },
     "user_tz": -330
    },
    "id": "juoUfTgPbxtu",
    "outputId": "876d8094-0df4-455c-d93e-7015aa313db3"
   },
   "outputs": [
    {
     "data": {
      "text/plain": [
       "0.7857183466939565"
      ]
     },
     "execution_count": 104,
     "metadata": {
      "tags": []
     },
     "output_type": "execute_result"
    }
   ],
   "source": [
    "r1 = metrics.recall_score(y1,pred1,average='micro')\n",
    "r1"
   ]
  },
  {
   "cell_type": "code",
   "execution_count": 0,
   "metadata": {
    "colab": {
     "base_uri": "https://localhost:8080/",
     "height": 34
    },
    "colab_type": "code",
    "executionInfo": {
     "elapsed": 965,
     "status": "ok",
     "timestamp": 1528966587102,
     "user": {
      "displayName": "JADE SANJAY",
      "photoUrl": "https://lh3.googleusercontent.com/a/default-user=s128",
      "userId": "113026688115779524991"
     },
     "user_tz": -330
    },
    "id": "BLKVwEU6b6yf",
    "outputId": "704dd773-803c-46db-93ed-a5baa5f767a5"
   },
   "outputs": [
    {
     "data": {
      "text/plain": [
       "0.9624765478424016"
      ]
     },
     "execution_count": 108,
     "metadata": {
      "tags": []
     },
     "output_type": "execute_result"
    }
   ],
   "source": [
    "p2 = metrics.precision_score(y1,pred2,average='micro')\n",
    "p2"
   ]
  },
  {
   "cell_type": "code",
   "execution_count": 0,
   "metadata": {
    "colab": {
     "base_uri": "https://localhost:8080/",
     "height": 34
    },
    "colab_type": "code",
    "executionInfo": {
     "elapsed": 1459,
     "status": "ok",
     "timestamp": 1528966582191,
     "user": {
      "displayName": "JADE SANJAY",
      "photoUrl": "https://lh3.googleusercontent.com/a/default-user=s128",
      "userId": "113026688115779524991"
     },
     "user_tz": -330
    },
    "id": "K5K8wS3ZZgGd",
    "outputId": "0a36790f-0fbe-4848-ca11-6fb1fecbbbe4"
   },
   "outputs": [
    {
     "data": {
      "text/plain": [
       "0.9624765478424016"
      ]
     },
     "execution_count": 107,
     "metadata": {
      "tags": []
     },
     "output_type": "execute_result"
    }
   ],
   "source": [
    "pred2 = np.zeros((17589))\n",
    "f2 = metrics.f1_score(y1,pred2,average='micro')\n",
    "f2"
   ]
  },
  {
   "cell_type": "markdown",
   "metadata": {
    "colab_type": "text",
    "id": "F7HQ0ZY9GCrL"
   },
   "source": [
    "Slice 128 patient 0001"
   ]
  },
  {
   "cell_type": "code",
   "execution_count": 0,
   "metadata": {
    "colab": {},
    "colab_type": "code",
    "id": "f7A623TIkCy4"
   },
   "outputs": [],
   "source": [
    "from sklearn.utils import class_weight"
   ]
  },
  {
   "cell_type": "code",
   "execution_count": 0,
   "metadata": {
    "colab": {},
    "colab_type": "code",
    "id": "9ahv4o9ikC7h"
   },
   "outputs": [],
   "source": [
    "class_weights = class_weight.compute_class_weight('balanced',\n",
    "                                                 np.unique(d[2]),\n",
    "                                                 d[2])"
   ]
  },
  {
   "cell_type": "code",
   "execution_count": 0,
   "metadata": {
    "colab": {
     "base_uri": "https://localhost:8080/",
     "height": 51
    },
    "colab_type": "code",
    "executionInfo": {
     "elapsed": 1265,
     "status": "ok",
     "timestamp": 1529134697936,
     "user": {
      "displayName": "JADE SANJAY",
      "photoUrl": "https://lh3.googleusercontent.com/a/default-user=s128",
      "userId": "113026688115779524991"
     },
     "user_tz": -330
    },
    "id": "pDX-NlqMg2c_",
    "outputId": "610e5e91-34c6-4c3e-c40c-2ff6a2d06a22"
   },
   "outputs": [
    {
     "data": {
      "text/plain": [
       "array([2.09509401e-01, 8.01157025e+00, 3.93000000e+01, 1.36535211e+01,\n",
       "       2.90820000e+02])"
      ]
     },
     "execution_count": 36,
     "metadata": {
      "tags": []
     },
     "output_type": "execute_result"
    }
   ],
   "source": [
    "class_weights"
   ]
  },
  {
   "cell_type": "code",
   "execution_count": 0,
   "metadata": {
    "colab": {},
    "colab_type": "code",
    "id": "qyw0msu-mS6c"
   },
   "outputs": [],
   "source": [
    "m1.compile(optimizer='adam',loss='categorical_crossentropy',metrics=['accuracy'])"
   ]
  },
  {
   "cell_type": "code",
   "execution_count": 0,
   "metadata": {
    "colab": {
     "base_uri": "https://localhost:8080/",
     "height": 717
    },
    "colab_type": "code",
    "executionInfo": {
     "elapsed": 2473137,
     "status": "ok",
     "timestamp": 1529138319939,
     "user": {
      "displayName": "JADE SANJAY",
      "photoUrl": "https://lh3.googleusercontent.com/a/default-user=s128",
      "userId": "113026688115779524991"
     },
     "user_tz": -330
    },
    "id": "zQfSUXmrZDka",
    "outputId": "60a57bf7-714a-4610-86a5-17e67df56a8a"
   },
   "outputs": [
    {
     "name": "stdout",
     "output_type": "stream",
     "text": [
      "Epoch 1/20\n",
      "14541/14541 [==============================] - 127s 9ms/step - loss: 1.3402 - acc: 0.8345\n",
      "Epoch 2/20\n",
      "14541/14541 [==============================] - 123s 8ms/step - loss: 1.1816 - acc: 0.9560\n",
      "Epoch 3/20\n",
      "14541/14541 [==============================] - 123s 8ms/step - loss: 1.0906 - acc: 0.9647\n",
      "Epoch 4/20\n",
      "14541/14541 [==============================] - 123s 8ms/step - loss: 1.0021 - acc: 0.9735\n",
      "Epoch 5/20\n",
      "14541/14541 [==============================] - 123s 8ms/step - loss: 0.9231 - acc: 0.9801\n",
      "Epoch 6/20\n",
      " 5632/14541 [==========>...................] - ETA: 1:15 - loss: 0.8693 - acc: 0.982614541/14541 [==============================] - 123s 8ms/step - loss: 0.8494 - acc: 0.9830\n",
      "Epoch 7/20\n",
      "14541/14541 [==============================] - 123s 8ms/step - loss: 0.7881 - acc: 0.9829\n",
      "Epoch 8/20\n",
      "14541/14541 [==============================] - 123s 8ms/step - loss: 0.7332 - acc: 0.9854\n",
      "Epoch 9/20\n",
      "14541/14541 [==============================] - 123s 8ms/step - loss: 0.6731 - acc: 0.9879\n",
      "Epoch 10/20\n",
      "14541/14541 [==============================] - 123s 8ms/step - loss: 0.6203 - acc: 0.9882\n",
      "Epoch 11/20\n",
      " 7936/14541 [===============>..............] - ETA: 55s - loss: 0.5910 - acc: 0.989814541/14541 [==============================] - 123s 8ms/step - loss: 0.5763 - acc: 0.9903\n",
      "Epoch 12/20\n",
      "14541/14541 [==============================] - 123s 8ms/step - loss: 0.5379 - acc: 0.9895\n",
      "Epoch 13/20\n",
      "14541/14541 [==============================] - 123s 8ms/step - loss: 0.4955 - acc: 0.9915\n",
      "Epoch 14/20\n",
      "14541/14541 [==============================] - 123s 8ms/step - loss: 0.4580 - acc: 0.9917\n",
      "Epoch 15/20\n",
      "14541/14541 [==============================] - 123s 8ms/step - loss: 0.4319 - acc: 0.9913\n",
      "Epoch 16/20\n",
      " 7936/14541 [===============>..............] - ETA: 55s - loss: 0.4028 - acc: 0.992314541/14541 [==============================] - 123s 8ms/step - loss: 0.3962 - acc: 0.9926\n",
      "Epoch 17/20\n",
      "14541/14541 [==============================] - 123s 8ms/step - loss: 0.3717 - acc: 0.9934\n",
      "Epoch 18/20\n",
      "14541/14541 [==============================] - 123s 8ms/step - loss: 0.3455 - acc: 0.9942\n",
      "Epoch 19/20\n",
      "14541/14541 [==============================] - 123s 8ms/step - loss: 0.3243 - acc: 0.9933\n",
      "Epoch 20/20\n",
      "14541/14541 [==============================] - 123s 8ms/step - loss: 0.3038 - acc: 0.9942\n"
     ]
    }
   ],
   "source": [
    "m1_info = m1.fit([X1,X2],y,epochs=20,batch_size=256,class_weight= class_weights)"
   ]
  },
  {
   "cell_type": "markdown",
   "metadata": {
    "colab_type": "text",
    "id": "XHpzjw0XiP1R"
   },
   "source": [
    "plot of inputcascade"
   ]
  },
  {
   "cell_type": "code",
   "execution_count": 0,
   "metadata": {
    "colab": {},
    "colab_type": "code",
    "id": "KYA-a0zTwacP"
   },
   "outputs": [],
   "source": [
    "import matplotlib.pyplot as plt"
   ]
  },
  {
   "cell_type": "code",
   "execution_count": 0,
   "metadata": {
    "colab": {
     "base_uri": "https://localhost:8080/",
     "height": 376
    },
    "colab_type": "code",
    "executionInfo": {
     "elapsed": 1349,
     "status": "ok",
     "timestamp": 1529138563322,
     "user": {
      "displayName": "JADE SANJAY",
      "photoUrl": "https://lh3.googleusercontent.com/a/default-user=s128",
      "userId": "113026688115779524991"
     },
     "user_tz": -330
    },
    "id": "PoHH76zZiNjb",
    "outputId": "f43450de-8b79-4f62-bc42-2366aa176eab"
   },
   "outputs": [
    {
     "data": {
      "image/png": "[encoded data removed]",
      "text/plain": [
       "<matplotlib.figure.Figure at 0x7f1a1eee0d30>"
      ]
     },
     "metadata": {
      "tags": []
     },
     "output_type": "display_data"
    }
   ],
   "source": [
    "plt.plot(m1_info.history['acc'])\n",
    "#plt.plot(m_info.history['val_acc'])\n",
    "plt.title('model accuracy')\n",
    "plt.ylabel('accuracy')\n",
    "plt.xlabel('epoch')\n",
    "plt.legend(['train', 'test'], loc='upper left')\n",
    "plt.show()"
   ]
  },
  {
   "cell_type": "code",
   "execution_count": 0,
   "metadata": {
    "colab": {},
    "colab_type": "code",
    "id": "3ZEXAAs5iU3g"
   },
   "outputs": [],
   "source": [
    "m1.save('trial_0001_input_cascade_acc.h5')"
   ]
  },
  {
   "cell_type": "code",
   "execution_count": 0,
   "metadata": {
    "colab": {
     "base_uri": "https://localhost:8080/",
     "height": 376
    },
    "colab_type": "code",
    "executionInfo": {
     "elapsed": 1785,
     "status": "ok",
     "timestamp": 1528875896621,
     "user": {
      "displayName": "JADE SANJAY",
      "photoUrl": "https://lh3.googleusercontent.com/a/default-user=s128",
      "userId": "113026688115779524991"
     },
     "user_tz": -330
    },
    "id": "Up0HYhUL2vIm",
    "outputId": "d9d26140-facf-4619-a69a-9a2c9d514840"
   },
   "outputs": [
    {
     "data": {
      "image/png": "[encoded data removed]",
      "text/plain": [
       "<matplotlib.figure.Figure at 0x7f235d6e1d30>"
      ]
     },
     "metadata": {
      "tags": []
     },
     "output_type": "display_data"
    }
   ],
   "source": [
    "plt.plot(m_info.history['acc'])\n",
    "#plt.plot(m_info.history['val_acc'])\n",
    "plt.title('model accuracy')\n",
    "plt.ylabel('accuracy')\n",
    "plt.xlabel('epoch')\n",
    "plt.legend(['train', 'test'], loc='upper left')\n",
    "plt.show()"
   ]
  },
  {
   "cell_type": "markdown",
   "metadata": {
    "colab_type": "text",
    "id": "I9qANEg_IYlf"
   },
   "source": [
    "Training on slice 128, evaluating on 136"
   ]
  },
  {
   "cell_type": "code",
   "execution_count": 0,
   "metadata": {
    "colab": {
     "base_uri": "https://localhost:8080/",
     "height": 51
    },
    "colab_type": "code",
    "executionInfo": {
     "elapsed": 75177,
     "status": "ok",
     "timestamp": 1528876392382,
     "user": {
      "displayName": "JADE SANJAY",
      "photoUrl": "https://lh3.googleusercontent.com/a/default-user=s128",
      "userId": "113026688115779524991"
     },
     "user_tz": -330
    },
    "id": "yR3BooKbHAzM",
    "outputId": "10a06b5e-9bb1-4496-9756-9d7fa9de2cff"
   },
   "outputs": [
    {
     "name": "stdout",
     "output_type": "stream",
     "text": [
      "17589/17589 [==============================] - 74s 4ms/step\n"
     ]
    },
    {
     "data": {
      "text/plain": [
       "[0.14345772139377758, 0.9687304565353346]"
      ]
     },
     "execution_count": 76,
     "metadata": {
      "tags": []
     },
     "output_type": "execute_result"
    }
   ],
   "source": [
    "m.evaluate([X1,X2],y,batch_size = 1024)"
   ]
  },
  {
   "cell_type": "code",
   "execution_count": 0,
   "metadata": {
    "colab": {},
    "colab_type": "code",
    "id": "edBYjuKXHXPw"
   },
   "outputs": [],
   "source": [
    "m.save('trial_0001_MFCcas_dim2_128_acc.h5')"
   ]
  },
  {
   "cell_type": "code",
   "execution_count": 0,
   "metadata": {
    "colab": {},
    "colab_type": "code",
    "id": "6oxdLZroKhXm"
   },
   "outputs": [],
   "source": [
    "pred = m.predict([X1,X2],batch_size = 1024)"
   ]
  },
  {
   "cell_type": "code",
   "execution_count": 0,
   "metadata": {
    "colab": {
     "base_uri": "https://localhost:8080/",
     "height": 34
    },
    "colab_type": "code",
    "executionInfo": {
     "elapsed": 1649,
     "status": "ok",
     "timestamp": 1528877410930,
     "user": {
      "displayName": "JADE SANJAY",
      "photoUrl": "https://lh3.googleusercontent.com/a/default-user=s128",
      "userId": "113026688115779524991"
     },
     "user_tz": -330
    },
    "id": "FUGQ9d5jLvp2",
    "outputId": "177910b9-4be9-490d-de0f-8fc218519931"
   },
   "outputs": [
    {
     "name": "stdout",
     "output_type": "stream",
     "text": [
      "False\n"
     ]
    }
   ],
   "source": [
    "print(((pred != 0.) & (pred != 1.)).any())"
   ]
  },
  {
   "cell_type": "code",
   "execution_count": 0,
   "metadata": {
    "colab": {},
    "colab_type": "code",
    "id": "Ag_48CJ6L8_0"
   },
   "outputs": [],
   "source": [
    "pred = np.around(pred)"
   ]
  },
  {
   "cell_type": "code",
   "execution_count": 0,
   "metadata": {
    "colab": {
     "base_uri": "https://localhost:8080/",
     "height": 34
    },
    "colab_type": "code",
    "executionInfo": {
     "elapsed": 1416,
     "status": "ok",
     "timestamp": 1528877453804,
     "user": {
      "displayName": "JADE SANJAY",
      "photoUrl": "https://lh3.googleusercontent.com/a/default-user=s128",
      "userId": "113026688115779524991"
     },
     "user_tz": -330
    },
    "id": "Lw5X_WarL9RE",
    "outputId": "9ebf2752-0c32-45ad-e8bb-686d8e92df62"
   },
   "outputs": [
    {
     "data": {
      "text/plain": [
       "numpy.ndarray"
      ]
     },
     "execution_count": 91,
     "metadata": {
      "tags": []
     },
     "output_type": "execute_result"
    }
   ],
   "source": [
    "type(y)"
   ]
  },
  {
   "cell_type": "code",
   "execution_count": 0,
   "metadata": {
    "colab": {},
    "colab_type": "code",
    "id": "jF_O_oExPGXu"
   },
   "outputs": [],
   "source": [
    "pred1 = np.dot(pred.reshape(17589,5),np.array([0,1,2,3,4]))"
   ]
  },
  {
   "cell_type": "code",
   "execution_count": 0,
   "metadata": {
    "colab": {
     "base_uri": "https://localhost:8080/",
     "height": 34
    },
    "colab_type": "code",
    "executionInfo": {
     "elapsed": 2901,
     "status": "ok",
     "timestamp": 1528878316885,
     "user": {
      "displayName": "JADE SANJAY",
      "photoUrl": "https://lh3.googleusercontent.com/a/default-user=s128",
      "userId": "113026688115779524991"
     },
     "user_tz": -330
    },
    "id": "vtri4ExhP6Iv",
    "outputId": "943a5723-caea-4067-bef4-5c3758a078bd"
   },
   "outputs": [
    {
     "data": {
      "text/plain": [
       "(17589,)"
      ]
     },
     "execution_count": 98,
     "metadata": {
      "tags": []
     },
     "output_type": "execute_result"
    }
   ],
   "source": [
    "pred1.shape"
   ]
  },
  {
   "cell_type": "code",
   "execution_count": 0,
   "metadata": {
    "colab": {},
    "colab_type": "code",
    "id": "cgQkvvVKPtOV"
   },
   "outputs": [],
   "source": [
    "y1 = np.dot(y.reshape(17589,5),np.array([0,1,2,3,4]))"
   ]
  },
  {
   "cell_type": "code",
   "execution_count": 0,
   "metadata": {
    "colab": {},
    "colab_type": "code",
    "id": "T0sHLLLKKhi9"
   },
   "outputs": [],
   "source": [
    "from sklearn import metrics"
   ]
  },
  {
   "cell_type": "code",
   "execution_count": 0,
   "metadata": {
    "colab": {
     "base_uri": "https://localhost:8080/",
     "height": 34
    },
    "colab_type": "code",
    "executionInfo": {
     "elapsed": 1409,
     "status": "ok",
     "timestamp": 1528878643622,
     "user": {
      "displayName": "JADE SANJAY",
      "photoUrl": "https://lh3.googleusercontent.com/a/default-user=s128",
      "userId": "113026688115779524991"
     },
     "user_tz": -330
    },
    "id": "CcB5r9aZKiFP",
    "outputId": "5f7d9f47-4677-4715-d8d3-87a2acfd87da"
   },
   "outputs": [
    {
     "data": {
      "text/plain": [
       "0.9703792142816533"
      ]
     },
     "execution_count": 106,
     "metadata": {
      "tags": []
     },
     "output_type": "execute_result"
    }
   ],
   "source": [
    "f1 = metrics.f1_score(y1,pred1,average='micro')\n",
    "f1"
   ]
  },
  {
   "cell_type": "code",
   "execution_count": 0,
   "metadata": {
    "colab": {
     "base_uri": "https://localhost:8080/",
     "height": 34
    },
    "colab_type": "code",
    "executionInfo": {
     "elapsed": 1513,
     "status": "ok",
     "timestamp": 1528878930962,
     "user": {
      "displayName": "JADE SANJAY",
      "photoUrl": "https://lh3.googleusercontent.com/a/default-user=s128",
      "userId": "113026688115779524991"
     },
     "user_tz": -330
    },
    "id": "8oC5O024R_DO",
    "outputId": "e832424d-d667-4f64-f29d-d21f17266d4f"
   },
   "outputs": [
    {
     "data": {
      "text/plain": [
       "0.9722553868895333"
      ]
     },
     "execution_count": 110,
     "metadata": {
      "tags": []
     },
     "output_type": "execute_result"
    }
   ],
   "source": [
    "pred2 = np.zeros((17589,1))\n",
    "f1 = f1 = metrics.f1_score(y1,pred2,average='micro')\n",
    "f1"
   ]
  },
  {
   "cell_type": "code",
   "execution_count": 0,
   "metadata": {
    "colab": {
     "base_uri": "https://localhost:8080/",
     "height": 88
    },
    "colab_type": "code",
    "executionInfo": {
     "elapsed": 1626,
     "status": "ok",
     "timestamp": 1528878659930,
     "user": {
      "displayName": "JADE SANJAY",
      "photoUrl": "https://lh3.googleusercontent.com/a/default-user=s128",
      "userId": "113026688115779524991"
     },
     "user_tz": -330
    },
    "id": "jlqhXHKkQ9QN",
    "outputId": "aeb3c353-e809-4fd8-cdba-3d6d9ddeba09"
   },
   "outputs": [
    {
     "name": "stderr",
     "output_type": "stream",
     "text": [
      "/usr/local/lib/python3.6/dist-packages/sklearn/metrics/classification.py:1137: UndefinedMetricWarning: F-score is ill-defined and being set to 0.0 in labels with no true samples.\n",
      "  'recall', 'true', average, warn_for)\n"
     ]
    },
    {
     "data": {
      "text/plain": [
       "0.9635750235016781"
      ]
     },
     "execution_count": 107,
     "metadata": {
      "tags": []
     },
     "output_type": "execute_result"
    }
   ],
   "source": [
    "f1 = metrics.f1_score(y1,pred1,average='weighted')\n",
    "f1"
   ]
  },
  {
   "cell_type": "code",
   "execution_count": 0,
   "metadata": {
    "colab": {
     "base_uri": "https://localhost:8080/",
     "height": 88
    },
    "colab_type": "code",
    "executionInfo": {
     "elapsed": 2266,
     "status": "ok",
     "timestamp": 1528878689618,
     "user": {
      "displayName": "JADE SANJAY",
      "photoUrl": "https://lh3.googleusercontent.com/a/default-user=s128",
      "userId": "113026688115779524991"
     },
     "user_tz": -330
    },
    "id": "EFBIwoSURUen",
    "outputId": "2473c111-0141-4811-e1d9-ab5139c8f76a"
   },
   "outputs": [
    {
     "name": "stderr",
     "output_type": "stream",
     "text": [
      "/usr/local/lib/python3.6/dist-packages/sklearn/metrics/classification.py:1137: UndefinedMetricWarning: F-score is ill-defined and being set to 0.0 in labels with no true samples.\n",
      "  'recall', 'true', average, warn_for)\n"
     ]
    },
    {
     "data": {
      "text/plain": [
       "0.2460010612209343"
      ]
     },
     "execution_count": 108,
     "metadata": {
      "tags": []
     },
     "output_type": "execute_result"
    }
   ],
   "source": [
    "f1 = metrics.f1_score(y1,pred1,average='macro')\n",
    "f1"
   ]
  },
  {
   "cell_type": "code",
   "execution_count": 0,
   "metadata": {
    "colab": {
     "base_uri": "https://localhost:8080/",
     "height": 376
    },
    "colab_type": "code",
    "executionInfo": {
     "elapsed": 2174,
     "status": "ok",
     "timestamp": 1528869822606,
     "user": {
      "displayName": "JADE SANJAY",
      "photoUrl": "https://lh3.googleusercontent.com/a/default-user=s128",
      "userId": "113026688115779524991"
     },
     "user_tz": -330
    },
    "id": "vxO5TfhjmD8A",
    "outputId": "f5482b48-0870-4ecb-8ef1-48408a65b960"
   },
   "outputs": [
    {
     "data": {
      "image/png": "[encoded data removed]",
      "text/plain": [
       "<matplotlib.figure.Figure at 0x7f23675c1e48>"
      ]
     },
     "metadata": {
      "tags": []
     },
     "output_type": "display_data"
    }
   ],
   "source": [
    "plt.plot(m_info.history['acc'])\n",
    "#plt.plot(m_info.history['val_acc'])\n",
    "plt.title('model accuracy')\n",
    "plt.ylabel('accuracy')\n",
    "plt.xlabel('epoch')\n",
    "plt.legend(['train', 'test'], loc='upper left')\n",
    "plt.show()"
   ]
  },
  {
   "cell_type": "code",
   "execution_count": 0,
   "metadata": {
    "colab": {
     "base_uri": "https://localhost:8080/",
     "height": 717
    },
    "colab_type": "code",
    "executionInfo": {
     "elapsed": 1611050,
     "status": "ok",
     "timestamp": 1528871483074,
     "user": {
      "displayName": "JADE SANJAY",
      "photoUrl": "https://lh3.googleusercontent.com/a/default-user=s128",
      "userId": "113026688115779524991"
     },
     "user_tz": -330
    },
    "id": "w9e_7_ONvmIV",
    "outputId": "5e7a239a-3c55-4ff6-a990-e6e511b92b5d"
   },
   "outputs": [
    {
     "name": "stdout",
     "output_type": "stream",
     "text": [
      "Epoch 1/20\n",
      "17589/17589 [==============================] - 80s 5ms/step - loss: 0.3351 - acc: 0.9581\n",
      "Epoch 2/20\n",
      "17589/17589 [==============================] - 80s 5ms/step - loss: 0.3181 - acc: 0.9580\n",
      "Epoch 3/20\n",
      "17589/17589 [==============================] - 81s 5ms/step - loss: 0.3040 - acc: 0.9581\n",
      "Epoch 4/20\n",
      "17589/17589 [==============================] - 80s 5ms/step - loss: 0.2909 - acc: 0.9583\n",
      "Epoch 5/20\n",
      "16128/17589 [==========================>...] - ETA: 6s - loss: 0.2797 - acc: 0.958317589/17589 [==============================] - 80s 5ms/step - loss: 0.2796 - acc: 0.9583\n",
      "Epoch 6/20\n",
      "17589/17589 [==============================] - 80s 5ms/step - loss: 0.2695 - acc: 0.9578\n",
      "Epoch 7/20\n",
      "17589/17589 [==============================] - 80s 5ms/step - loss: 0.2597 - acc: 0.9581\n",
      "Epoch 8/20\n",
      "17589/17589 [==============================] - 80s 5ms/step - loss: 0.2476 - acc: 0.9582\n",
      "Epoch 9/20\n",
      "17589/17589 [==============================] - 80s 5ms/step - loss: 0.2342 - acc: 0.9613\n",
      "Epoch 10/20\n",
      " 2304/17589 [==>...........................] - ETA: 1:09 - loss: 0.2209 - acc: 0.964017589/17589 [==============================] - 80s 5ms/step - loss: 0.2126 - acc: 0.9682\n",
      "Epoch 11/20\n",
      "17589/17589 [==============================] - 81s 5ms/step - loss: 0.1965 - acc: 0.9721\n",
      "Epoch 12/20\n",
      "17589/17589 [==============================] - 80s 5ms/step - loss: 0.1836 - acc: 0.9738\n",
      "Epoch 13/20\n",
      "17589/17589 [==============================] - 80s 5ms/step - loss: 0.1755 - acc: 0.9742\n",
      "Epoch 14/20\n",
      "17589/17589 [==============================] - 81s 5ms/step - loss: 0.1674 - acc: 0.9754\n",
      "Epoch 15/20\n",
      "17589/17589 [==============================] - 80s 5ms/step - loss: 0.1595 - acc: 0.9742\n",
      "Epoch 16/20\n",
      "17589/17589 [==============================] - 81s 5ms/step - loss: 0.1527 - acc: 0.9752\n",
      "Epoch 17/20\n",
      "17589/17589 [==============================] - 81s 5ms/step - loss: 0.1470 - acc: 0.9753\n",
      "Epoch 18/20\n",
      "17589/17589 [==============================] - 81s 5ms/step - loss: 0.1413 - acc: 0.9761\n",
      "Epoch 19/20\n",
      "17589/17589 [==============================] - 81s 5ms/step - loss: 0.1379 - acc: 0.9753\n",
      "Epoch 20/20\n",
      "17589/17589 [==============================] - 81s 5ms/step - loss: 0.1312 - acc: 0.9756\n"
     ]
    }
   ],
   "source": [
    "m_info = m.fit([X1,X2],y,epochs=20,batch_size=256,class_weight= 10*class_weights)"
   ]
  },
  {
   "cell_type": "code",
   "execution_count": 0,
   "metadata": {
    "colab": {
     "base_uri": "https://localhost:8080/",
     "height": 376
    },
    "colab_type": "code",
    "executionInfo": {
     "elapsed": 2877,
     "status": "ok",
     "timestamp": 1528871643685,
     "user": {
      "displayName": "JADE SANJAY",
      "photoUrl": "https://lh3.googleusercontent.com/a/default-user=s128",
      "userId": "113026688115779524991"
     },
     "user_tz": -330
    },
    "id": "4OBR2KwDwQmm",
    "outputId": "1e4e1408-51f6-49a3-d3e2-11f0d9201aef"
   },
   "outputs": [
    {
     "data": {
      "image/png": "[encoded data removed]",
      "text/plain": [
       "<matplotlib.figure.Figure at 0x7f235d6e1710>"
      ]
     },
     "metadata": {
      "tags": []
     },
     "output_type": "display_data"
    }
   ],
   "source": [
    "plt.plot(m_info.history['acc'])\n",
    "#plt.plot(m_info.history['val_acc'])\n",
    "plt.title('model accuracy')\n",
    "plt.ylabel('accuracy')\n",
    "plt.xlabel('epoch')\n",
    "plt.legend(['train', 'test'], loc='upper left')\n",
    "plt.show()"
   ]
  },
  {
   "cell_type": "code",
   "execution_count": 0,
   "metadata": {
    "colab": {},
    "colab_type": "code",
    "id": "QT-eYsOxmGUx"
   },
   "outputs": [],
   "source": [
    "import matplotlib.pyplot as plt"
   ]
  },
  {
   "cell_type": "code",
   "execution_count": 0,
   "metadata": {
    "colab": {},
    "colab_type": "code",
    "id": "LC8jMBpmZT-b"
   },
   "outputs": [],
   "source": [
    "m.save('trial_0001_MFCcas_dim2_128_acc.h5')"
   ]
  },
  {
   "cell_type": "code",
   "execution_count": 0,
   "metadata": {
    "colab": {},
    "colab_type": "code",
    "id": "DcNy4_hAshI-"
   },
   "outputs": [],
   "source": [
    "import keras"
   ]
  },
  {
   "cell_type": "code",
   "execution_count": 0,
   "metadata": {
    "colab": {},
    "colab_type": "code",
    "id": "kKTL7TgjUEs5"
   },
   "outputs": [],
   "source": [
    "def two_pathcnn(input_shape):\n",
    "  \n",
    "  X_input = Input(input_shape)\n",
    "  \n",
    "  X = Conv2D(64,(7,7),strides=(1,1),padding='valid')(X_input)\n",
    "  X = BatchNormalization()(X)\n",
    "  X1 = Conv2D(64,(7,7),strides=(1,1),padding='valid')(X_input)\n",
    "  X1 = BatchNormalization()(X1)\n",
    "  X = layers.Maximum()([X,X1])\n",
    "  X = Conv2D(64,(4,4),strides=(1,1),padding='valid',activation='relu')(X)\n",
    "  \n",
    "  X2 = Conv2D(160,(13,13),strides=(1,1),padding='valid')(X_input)\n",
    "  X2 = BatchNormalization()(X2)\n",
    "  X21 = Conv2D(160,(13,13),strides=(1,1),padding='valid')(X_input)\n",
    "  X21 = BatchNormalization()(X21)\n",
    "  X2 = layers.Maximum()([X2,X21])\n",
    "  \n",
    "  X3 = Conv2D(64,(3,3),strides=(1,1),padding='valid')(X)\n",
    "  X3 = BatchNormalization()(X3)\n",
    "  X31 =  Conv2D(64,(3,3),strides=(1,1),padding='valid')(X)\n",
    "  X31 = BatchNormalization()(X31)\n",
    "  X = layers.Maximum()([X3,X31])\n",
    "  X = Conv2D(64,(2,2),strides=(1,1),padding='valid',activation='relu')(X)\n",
    "  \n",
    "  X = Concatenate()([X2,X])\n",
    "  X = Conv2D(5,(21,21),strides=(1,1),padding='valid')(X)\n",
    "  X = Activation('softmax')(X)\n",
    "  \n",
    "  model = Model(inputs = X_input, outputs = X)\n",
    "  return model "
   ]
  },
  {
   "cell_type": "code",
   "execution_count": 0,
   "metadata": {
    "colab": {},
    "colab_type": "code",
    "id": "g65XgHCVNjG_"
   },
   "outputs": [],
   "source": [
    "import os"
   ]
  },
  {
   "cell_type": "code",
   "execution_count": 0,
   "metadata": {
    "colab": {
     "base_uri": "https://localhost:8080/",
     "height": 918
    },
    "colab_type": "code",
    "executionInfo": {
     "elapsed": 3538,
     "status": "ok",
     "timestamp": 1529154689626,
     "user": {
      "displayName": "JADE SANJAY",
      "photoUrl": "https://lh3.googleusercontent.com/a/default-user=s128",
      "userId": "113026688115779524991"
     },
     "user_tz": -330
    },
    "id": "qtCNZjdEYdpI",
    "outputId": "bd60b36b-7292-45de-8644-14a0412b6a78"
   },
   "outputs": [
    {
     "name": "stdout",
     "output_type": "stream",
     "text": [
      "__________________________________________________________________________________________________\n",
      "Layer (type)                    Output Shape         Param #     Connected to                     \n",
      "==================================================================================================\n",
      "input_1 (InputLayer)            (None, 33, 33, 4)    0                                            \n",
      "__________________________________________________________________________________________________\n",
      "conv2d_1 (Conv2D)               (None, 27, 27, 64)   12608       input_1[0][0]                    \n",
      "__________________________________________________________________________________________________\n",
      "conv2d_2 (Conv2D)               (None, 27, 27, 64)   12608       input_1[0][0]                    \n",
      "__________________________________________________________________________________________________\n",
      "batch_normalization_1 (BatchNor (None, 27, 27, 64)   256         conv2d_1[0][0]                   \n",
      "__________________________________________________________________________________________________\n",
      "batch_normalization_2 (BatchNor (None, 27, 27, 64)   256         conv2d_2[0][0]                   \n",
      "__________________________________________________________________________________________________\n",
      "maximum_1 (Maximum)             (None, 27, 27, 64)   0           batch_normalization_1[0][0]      \n",
      "                                                                 batch_normalization_2[0][0]      \n",
      "__________________________________________________________________________________________________\n",
      "conv2d_3 (Conv2D)               (None, 24, 24, 64)   65600       maximum_1[0][0]                  \n",
      "__________________________________________________________________________________________________\n",
      "conv2d_6 (Conv2D)               (None, 22, 22, 64)   36928       conv2d_3[0][0]                   \n",
      "__________________________________________________________________________________________________\n",
      "conv2d_7 (Conv2D)               (None, 22, 22, 64)   36928       conv2d_3[0][0]                   \n",
      "__________________________________________________________________________________________________\n",
      "conv2d_4 (Conv2D)               (None, 21, 21, 160)  108320      input_1[0][0]                    \n",
      "__________________________________________________________________________________________________\n",
      "conv2d_5 (Conv2D)               (None, 21, 21, 160)  108320      input_1[0][0]                    \n",
      "__________________________________________________________________________________________________\n",
      "batch_normalization_5 (BatchNor (None, 22, 22, 64)   256         conv2d_6[0][0]                   \n",
      "__________________________________________________________________________________________________\n",
      "batch_normalization_6 (BatchNor (None, 22, 22, 64)   256         conv2d_7[0][0]                   \n",
      "__________________________________________________________________________________________________\n",
      "batch_normalization_3 (BatchNor (None, 21, 21, 160)  640         conv2d_4[0][0]                   \n",
      "__________________________________________________________________________________________________\n",
      "batch_normalization_4 (BatchNor (None, 21, 21, 160)  640         conv2d_5[0][0]                   \n",
      "__________________________________________________________________________________________________\n",
      "maximum_3 (Maximum)             (None, 22, 22, 64)   0           batch_normalization_5[0][0]      \n",
      "                                                                 batch_normalization_6[0][0]      \n",
      "__________________________________________________________________________________________________\n",
      "maximum_2 (Maximum)             (None, 21, 21, 160)  0           batch_normalization_3[0][0]      \n",
      "                                                                 batch_normalization_4[0][0]      \n",
      "__________________________________________________________________________________________________\n",
      "conv2d_8 (Conv2D)               (None, 21, 21, 64)   16448       maximum_3[0][0]                  \n",
      "__________________________________________________________________________________________________\n",
      "concatenate_1 (Concatenate)     (None, 21, 21, 224)  0           maximum_2[0][0]                  \n",
      "                                                                 conv2d_8[0][0]                   \n",
      "__________________________________________________________________________________________________\n",
      "conv2d_9 (Conv2D)               (None, 1, 1, 5)      493925      concatenate_1[0][0]              \n",
      "__________________________________________________________________________________________________\n",
      "activation_1 (Activation)       (None, 1, 1, 5)      0           conv2d_9[0][0]                   \n",
      "==================================================================================================\n",
      "Total params: 893,989\n",
      "Trainable params: 892,837\n",
      "Non-trainable params: 1,152\n",
      "__________________________________________________________________________________________________\n"
     ]
    }
   ],
   "source": [
    "m0 = two_pathcnn((33,33,4))\n",
    "m0.summary()"
   ]
  },
  {
   "cell_type": "code",
   "execution_count": 0,
   "metadata": {
    "colab": {},
    "colab_type": "code",
    "id": "YzWnu9qENpex"
   },
   "outputs": [],
   "source": [
    "os.chdir('drive/brat')"
   ]
  },
  {
   "cell_type": "code",
   "execution_count": 0,
   "metadata": {
    "colab": {
     "base_uri": "https://localhost:8080/",
     "height": 187
    },
    "colab_type": "code",
    "executionInfo": {
     "elapsed": 2760,
     "status": "ok",
     "timestamp": 1529154707457,
     "user": {
      "displayName": "JADE SANJAY",
      "photoUrl": "https://lh3.googleusercontent.com/a/default-user=s128",
      "userId": "113026688115779524991"
     },
     "user_tz": -330
    },
    "id": "8BzGy_BHU8g5",
    "outputId": "8049a9ac-bcec-4b82-d315-40b9288d8f40"
   },
   "outputs": [
    {
     "name": "stdout",
     "output_type": "stream",
     "text": [
      "data.ipynb\t\tmodel.ipynb\r\n",
      "data_scan_0001.pickle\ttraining.ipynb\r\n",
      "data_trial_81.h5\ttrial_0001_81_accuracy.h5\r\n",
      "data_trial_dim2_128.h5\ttrial_0001_81_f1.h5\r\n",
      "data_trial.h5\t\ttrial_0001_accuracy.h5\r\n",
      "data_trial_X.pickle\ttrial_0001_f1.h5\r\n",
      "data_trial_Y.pickle\ttrial_0001_input_cascade_acc.h5\r\n",
      "data_Y_0001.pickle\ttrial_0001_input_cascasde_acc.h5\r\n",
      "HG\t\t\ttrial_0001_MFCcas_dim2_128_acc.h5\r\n",
      "LG\r\n"
     ]
    }
   ],
   "source": [
    "!ls"
   ]
  },
  {
   "cell_type": "markdown",
   "metadata": {
    "colab_type": "text",
    "id": "jArTgu1mYbDX"
   },
   "source": [
    "for training over entire image, create batch of patches for one image, batch of labels in Y"
   ]
  },
  {
   "cell_type": "code",
   "execution_count": 0,
   "metadata": {
    "colab": {},
    "colab_type": "code",
    "id": "R52SBQaaN3fu"
   },
   "outputs": [],
   "source": [
    "import h5py\n",
    "import numpy as np"
   ]
  },
  {
   "cell_type": "code",
   "execution_count": 0,
   "metadata": {
    "colab": {},
    "colab_type": "code",
    "id": "VRG2Y_KGYrku"
   },
   "outputs": [],
   "source": [
    "hf = h5py.File('data_trial_dim2_128.h5', 'r')\n",
    "X = hf.get('dataset_1')\n",
    "Y = hf.get('dataset_2')"
   ]
  },
  {
   "cell_type": "code",
   "execution_count": 0,
   "metadata": {
    "colab": {},
    "colab_type": "code",
    "id": "1n4VWsNqjDOd"
   },
   "outputs": [],
   "source": [
    "y = np.zeros((26169,1,1,5))"
   ]
  },
  {
   "cell_type": "code",
   "execution_count": 0,
   "metadata": {
    "colab": {},
    "colab_type": "code",
    "id": "HjCGoxKTjStY"
   },
   "outputs": [],
   "source": [
    "for i in range(y.shape[0]):\n",
    "  y[i,:,:,Y[i]] = 1"
   ]
  },
  {
   "cell_type": "code",
   "execution_count": 0,
   "metadata": {
    "colab": {},
    "colab_type": "code",
    "id": "Tcx4_Tz7BuYv"
   },
   "outputs": [],
   "source": [
    "X = np.asarray(X)"
   ]
  },
  {
   "cell_type": "code",
   "execution_count": 0,
   "metadata": {
    "colab": {
     "base_uri": "https://localhost:8080/",
     "height": 34
    },
    "colab_type": "code",
    "executionInfo": {
     "elapsed": 2469,
     "status": "ok",
     "timestamp": 1528813779432,
     "user": {
      "displayName": "JADE SANJAY",
      "photoUrl": "https://lh3.googleusercontent.com/a/default-user=s128",
      "userId": "113026688115779524991"
     },
     "user_tz": -330
    },
    "id": "LuQRiz28B0-p",
    "outputId": "ed7fd21f-6134-4f95-e9ed-0bca84c764fb"
   },
   "outputs": [
    {
     "data": {
      "text/plain": [
       "(26169, 33, 33, 4)"
      ]
     },
     "execution_count": 19,
     "metadata": {
      "tags": []
     },
     "output_type": "execute_result"
    }
   ],
   "source": [
    "X.shape"
   ]
  },
  {
   "cell_type": "code",
   "execution_count": 0,
   "metadata": {
    "colab": {},
    "colab_type": "code",
    "id": "iHYYek1PGiho"
   },
   "outputs": [],
   "source": [
    "keras.__version__"
   ]
  },
  {
   "cell_type": "code",
   "execution_count": 0,
   "metadata": {
    "colab": {},
    "colab_type": "code",
    "id": "7rBbjTV_HKB7"
   },
   "outputs": [],
   "source": [
    "import keras.backend as K\n",
    "\n",
    "def f1_score(y_true, y_pred):\n",
    "\n",
    "    # Count positive samples.\n",
    "    c1 = K.sum(K.round(K.clip(y_true * y_pred, 0, 1)))\n",
    "    c2 = K.sum(K.round(K.clip(y_true, 0, 1)))\n",
    "    c3 = K.sum(K.round(K.clip(y_pred, 0, 1)))\n",
    "\n",
    "    # If there are no true samples, fix the F1 score at 0.\n",
    "    if c3 == 0:\n",
    "        return 0\n",
    "\n",
    "    # How many selected items are relevant?\n",
    "    precision = c1 / c2\n",
    "\n",
    "    # How many relevant items are selected?\n",
    "    recall = c1 / c3\n",
    "\n",
    "    # Calculate f1_score\n",
    "    f1_score = 2 * (precision * recall) / (precision + recall)\n",
    "    return f1_score"
   ]
  },
  {
   "cell_type": "code",
   "execution_count": 0,
   "metadata": {
    "colab": {},
    "colab_type": "code",
    "id": "EeHXZrYUZxyN"
   },
   "outputs": [],
   "source": [
    "from sklearn.utils import class_weight"
   ]
  },
  {
   "cell_type": "code",
   "execution_count": 0,
   "metadata": {
    "colab": {
     "base_uri": "https://localhost:8080/",
     "height": 197
    },
    "colab_type": "code",
    "executionInfo": {
     "elapsed": 8166,
     "status": "error",
     "timestamp": 1528865491558,
     "user": {
      "displayName": "JADE SANJAY",
      "photoUrl": "https://lh3.googleusercontent.com/a/default-user=s128",
      "userId": "113026688115779524991"
     },
     "user_tz": -330
    },
    "id": "UdWiVL_kZ6K0",
    "outputId": "cdf38f1f-faaa-4aa5-b60e-226d43014534"
   },
   "outputs": [
    {
     "ename": "NameError",
     "evalue": "ignored",
     "output_type": "error",
     "traceback": [
      "\u001b[0;31m---------------------------------------------------------------------------\u001b[0m",
      "\u001b[0;31mNameError\u001b[0m                                 Traceback (most recent call last)",
      "\u001b[0;32m<ipython-input-3-76ce2eeddafc>\u001b[0m in \u001b[0;36m<module>\u001b[0;34m()\u001b[0m\n\u001b[1;32m      1\u001b[0m class_weights = class_weight.compute_class_weight('balanced',\n\u001b[0;32m----> 2\u001b[0;31m                                                  \u001b[0mnp\u001b[0m\u001b[0;34m.\u001b[0m\u001b[0munique\u001b[0m\u001b[0;34m(\u001b[0m\u001b[0mY\u001b[0m\u001b[0;34m)\u001b[0m\u001b[0;34m,\u001b[0m\u001b[0;34m\u001b[0m\u001b[0m\n\u001b[0m\u001b[1;32m      3\u001b[0m                                                  Y)\n",
      "\u001b[0;31mNameError\u001b[0m: name 'np' is not defined"
     ]
    }
   ],
   "source": [
    "class_weights = class_weight.compute_class_weight('balanced',\n",
    "                                                 np.unique(Y),\n",
    "                                                 Y)"
   ]
  },
  {
   "cell_type": "code",
   "execution_count": 0,
   "metadata": {
    "colab": {},
    "colab_type": "code",
    "id": "boPmoQwxe50Z"
   },
   "outputs": [],
   "source": []
  },
  {
   "cell_type": "code",
   "execution_count": 0,
   "metadata": {
    "colab": {},
    "colab_type": "code",
    "id": "QR_-oP1EOB-M"
   },
   "outputs": [],
   "source": [
    "m0.compile(optimizer='adam',loss='categorical_hinge',metrics=[f1_score])"
   ]
  },
  {
   "cell_type": "code",
   "execution_count": 0,
   "metadata": {
    "colab": {
     "base_uri": "https://localhost:8080/",
     "height": 581
    },
    "colab_type": "code",
    "id": "KyA-yBHTO_tW",
    "outputId": "e336d3bb-8332-424f-897f-0b5f43e92537"
   },
   "outputs": [
    {
     "name": "stdout",
     "output_type": "stream",
     "text": [
      "Epoch 1/20\n",
      "26169/26169 [==============================] - 24s 901us/step - loss: 0.0967 - f1_score: 0.9517\n",
      "Epoch 2/20\n",
      "26169/26169 [==============================] - 23s 878us/step - loss: 0.0967 - f1_score: 0.9517\n",
      "Epoch 3/20\n",
      "26169/26169 [==============================] - 23s 881us/step - loss: 0.0967 - f1_score: 0.9517\n",
      "Epoch 4/20\n",
      "26169/26169 [==============================] - 23s 879us/step - loss: 0.0967 - f1_score: 0.9517\n",
      "Epoch 5/20\n",
      "26169/26169 [==============================] - 23s 878us/step - loss: 0.0967 - f1_score: 0.9517\n",
      "Epoch 6/20\n",
      "26169/26169 [==============================] - 23s 882us/step - loss: 0.0967 - f1_score: 0.9517\n",
      "Epoch 7/20\n",
      "26169/26169 [==============================] - 23s 881us/step - loss: 0.0967 - f1_score: 0.9517\n",
      "Epoch 8/20\n",
      "23552/26169 [=========================>....] - ETA: 2s - loss: 0.0959 - f1_score: 0.952126169/26169 [==============================] - 23s 879us/step - loss: 0.0967 - f1_score: 0.9517\n",
      "Epoch 9/20\n",
      "26169/26169 [==============================] - 23s 882us/step - loss: 0.0967 - f1_score: 0.9517\n",
      "Epoch 10/20\n",
      "26169/26169 [==============================] - 23s 878us/step - loss: 0.0967 - f1_score: 0.9517\n",
      "Epoch 11/20\n",
      "26169/26169 [==============================] - 23s 881us/step - loss: 0.0967 - f1_score: 0.9517\n",
      "Epoch 12/20\n",
      "26169/26169 [==============================] - 23s 879us/step - loss: 0.0967 - f1_score: 0.9517\n",
      "Epoch 13/20\n",
      "26169/26169 [==============================] - 23s 879us/step - loss: 0.0967 - f1_score: 0.9517\n",
      "Epoch 14/20\n",
      "26169/26169 [==============================] - 23s 879us/step - loss: 0.0967 - f1_score: 0.9517\n",
      "Epoch 15/20\n",
      "26169/26169 [==============================] - 23s 879us/step - loss: 0.0967 - f1_score: 0.9517\n",
      "Epoch 16/20\n",
      " 1024/26169 [>.............................] - ETA: 21s - loss: 0.1074 - f1_score: 0.946314336/26169 [===============>..............] - ETA: 10s - loss: 0.0956 - f1_score: 0.9522"
     ]
    }
   ],
   "source": [
    "m0_info = m0.fit(X,y,epochs=20,batch_size=1024,class_weight = class_weights)"
   ]
  },
  {
   "cell_type": "code",
   "execution_count": 0,
   "metadata": {
    "colab": {},
    "colab_type": "code",
    "id": "kmGNE1aOcUN6"
   },
   "outputs": [],
   "source": [
    "m0.save('trial_0001_dim2_128_f1.h5')"
   ]
  },
  {
   "cell_type": "code",
   "execution_count": 0,
   "metadata": {
    "colab": {
     "base_uri": "https://localhost:8080/",
     "height": 153
    },
    "colab_type": "code",
    "executionInfo": {
     "elapsed": 4644,
     "status": "ok",
     "timestamp": 1528814923549,
     "user": {
      "displayName": "JADE SANJAY",
      "photoUrl": "https://lh3.googleusercontent.com/a/default-user=s128",
      "userId": "113026688115779524991"
     },
     "user_tz": -330
    },
    "id": "CkDsXfH8cl5O",
    "outputId": "090a5e57-1d76-4c80-c572-8f0b195c2519"
   },
   "outputs": [
    {
     "name": "stdout",
     "output_type": "stream",
     "text": [
      "data.ipynb\t\tHG\r\n",
      "data_scan_0001.pickle\tLG\r\n",
      "data_trial_81.h5\tmodel.ipynb\r\n",
      "data_trial_dim2_128.h5\ttrial_0001_81_accuracy.h5\r\n",
      "data_trial.h5\t\ttrial_0001_81_f1.h5\r\n",
      "data_trial_X.pickle\ttrial_0001_accuracy.h5\r\n",
      "data_trial_Y.pickle\ttrial_0001_f1.h5\r\n",
      "data_Y_0001.pickle\ttrial_0001_MFCcas_dim2_128_acc.h5\r\n"
     ]
    }
   ],
   "source": [
    "!ls"
   ]
  },
  {
   "cell_type": "code",
   "execution_count": 0,
   "metadata": {
    "colab": {},
    "colab_type": "code",
    "id": "JxvSP4fUTkj2"
   },
   "outputs": [],
   "source": [
    "m0.compile(optimizer='adam',loss='categorical_crossentropy',metrics=['accuracy'])"
   ]
  },
  {
   "cell_type": "code",
   "execution_count": 0,
   "metadata": {
    "colab": {
     "base_uri": "https://localhost:8080/",
     "height": 1730
    },
    "colab_type": "code",
    "executionInfo": {
     "elapsed": 355633,
     "status": "error",
     "timestamp": 1528815282490,
     "user": {
      "displayName": "JADE SANJAY",
      "photoUrl": "https://lh3.googleusercontent.com/a/default-user=s128",
      "userId": "113026688115779524991"
     },
     "user_tz": -330
    },
    "id": "jEI-h7EEbhWS",
    "outputId": "7fbfd9d6-c88a-4d9e-b4ed-db29afb99e34"
   },
   "outputs": [
    {
     "name": "stdout",
     "output_type": "stream",
     "text": [
      "Epoch 1/20\n",
      "26169/26169 [==============================] - 41s 2ms/step - loss: 0.7791 - acc: 0.9517\n",
      "Epoch 2/20\n",
      "26169/26169 [==============================] - 25s 939us/step - loss: 0.7791 - acc: 0.9517\n",
      "Epoch 3/20\n",
      "26169/26169 [==============================] - 25s 939us/step - loss: 0.7791 - acc: 0.9517\n",
      "Epoch 4/20\n",
      "26169/26169 [==============================] - 25s 941us/step - loss: 0.7791 - acc: 0.9517\n",
      "Epoch 5/20\n",
      "26169/26169 [==============================] - 25s 941us/step - loss: 0.7791 - acc: 0.9517\n",
      "Epoch 6/20\n",
      "26169/26169 [==============================] - 25s 940us/step - loss: 0.7791 - acc: 0.9517\n",
      "Epoch 7/20\n",
      "26169/26169 [==============================] - 25s 941us/step - loss: 0.7791 - acc: 0.9517\n",
      "Epoch 8/20\n",
      "26169/26169 [==============================] - 25s 942us/step - loss: 0.7791 - acc: 0.9517\n",
      "Epoch 9/20\n",
      "26169/26169 [==============================] - 25s 940us/step - loss: 0.7791 - acc: 0.9517\n",
      "Epoch 10/20\n",
      "26169/26169 [==============================] - 25s 940us/step - loss: 0.7791 - acc: 0.9517\n",
      "Epoch 11/20\n",
      "26169/26169 [==============================] - 25s 941us/step - loss: 0.7791 - acc: 0.9517\n",
      "Epoch 12/20\n",
      "26169/26169 [==============================] - 25s 942us/step - loss: 0.7791 - acc: 0.9517\n",
      "Epoch 13/20\n",
      "26169/26169 [==============================] - 25s 940us/step - loss: 0.7791 - acc: 0.9517\n",
      "Epoch 14/20\n",
      "12288/26169 [=============>................] - ETA: 13s - loss: 0.7634 - acc: 0.9526"
     ]
    },
    {
     "ename": "KeyboardInterrupt",
     "evalue": "ignored",
     "output_type": "error",
     "traceback": [
      "\u001b[0;31m---------------------------------------------------------------------------\u001b[0m",
      "\u001b[0;31mKeyboardInterrupt\u001b[0m                         Traceback (most recent call last)",
      "\u001b[0;32m<ipython-input-29-4cabac3cf879>\u001b[0m in \u001b[0;36m<module>\u001b[0;34m()\u001b[0m\n\u001b[0;32m----> 1\u001b[0;31m \u001b[0mm0_info\u001b[0m \u001b[0;34m=\u001b[0m \u001b[0mm0\u001b[0m\u001b[0;34m.\u001b[0m\u001b[0mfit\u001b[0m\u001b[0;34m(\u001b[0m\u001b[0mX\u001b[0m\u001b[0;34m,\u001b[0m\u001b[0my\u001b[0m\u001b[0;34m,\u001b[0m\u001b[0mepochs\u001b[0m\u001b[0;34m=\u001b[0m\u001b[0;36m20\u001b[0m\u001b[0;34m,\u001b[0m\u001b[0mbatch_size\u001b[0m\u001b[0;34m=\u001b[0m\u001b[0;36m4096\u001b[0m\u001b[0;34m,\u001b[0m\u001b[0mclass_weight\u001b[0m \u001b[0;34m=\u001b[0m \u001b[0mclass_weights\u001b[0m\u001b[0;34m)\u001b[0m\u001b[0;34m\u001b[0m\u001b[0m\n\u001b[0m",
      "\u001b[0;32m/usr/local/lib/python3.6/dist-packages/keras/engine/training.py\u001b[0m in \u001b[0;36mfit\u001b[0;34m(self, x, y, batch_size, epochs, verbose, callbacks, validation_split, validation_data, shuffle, class_weight, sample_weight, initial_epoch, steps_per_epoch, validation_steps, **kwargs)\u001b[0m\n\u001b[1;32m   1703\u001b[0m                               \u001b[0minitial_epoch\u001b[0m\u001b[0;34m=\u001b[0m\u001b[0minitial_epoch\u001b[0m\u001b[0;34m,\u001b[0m\u001b[0;34m\u001b[0m\u001b[0m\n\u001b[1;32m   1704\u001b[0m                               \u001b[0msteps_per_epoch\u001b[0m\u001b[0;34m=\u001b[0m\u001b[0msteps_per_epoch\u001b[0m\u001b[0;34m,\u001b[0m\u001b[0;34m\u001b[0m\u001b[0m\n\u001b[0;32m-> 1705\u001b[0;31m                               validation_steps=validation_steps)\n\u001b[0m\u001b[1;32m   1706\u001b[0m \u001b[0;34m\u001b[0m\u001b[0m\n\u001b[1;32m   1707\u001b[0m     def evaluate(self, x=None, y=None,\n",
      "\u001b[0;32m/usr/local/lib/python3.6/dist-packages/keras/engine/training.py\u001b[0m in \u001b[0;36m_fit_loop\u001b[0;34m(self, f, ins, out_labels, batch_size, epochs, verbose, callbacks, val_f, val_ins, shuffle, callback_metrics, initial_epoch, steps_per_epoch, validation_steps)\u001b[0m\n\u001b[1;32m   1234\u001b[0m                         \u001b[0mins_batch\u001b[0m\u001b[0;34m[\u001b[0m\u001b[0mi\u001b[0m\u001b[0;34m]\u001b[0m \u001b[0;34m=\u001b[0m \u001b[0mins_batch\u001b[0m\u001b[0;34m[\u001b[0m\u001b[0mi\u001b[0m\u001b[0;34m]\u001b[0m\u001b[0;34m.\u001b[0m\u001b[0mtoarray\u001b[0m\u001b[0;34m(\u001b[0m\u001b[0;34m)\u001b[0m\u001b[0;34m\u001b[0m\u001b[0m\n\u001b[1;32m   1235\u001b[0m \u001b[0;34m\u001b[0m\u001b[0m\n\u001b[0;32m-> 1236\u001b[0;31m                     \u001b[0mouts\u001b[0m \u001b[0;34m=\u001b[0m \u001b[0mf\u001b[0m\u001b[0;34m(\u001b[0m\u001b[0mins_batch\u001b[0m\u001b[0;34m)\u001b[0m\u001b[0;34m\u001b[0m\u001b[0m\n\u001b[0m\u001b[1;32m   1237\u001b[0m                     \u001b[0;32mif\u001b[0m \u001b[0;32mnot\u001b[0m \u001b[0misinstance\u001b[0m\u001b[0;34m(\u001b[0m\u001b[0mouts\u001b[0m\u001b[0;34m,\u001b[0m \u001b[0mlist\u001b[0m\u001b[0;34m)\u001b[0m\u001b[0;34m:\u001b[0m\u001b[0;34m\u001b[0m\u001b[0m\n\u001b[1;32m   1238\u001b[0m                         \u001b[0mouts\u001b[0m \u001b[0;34m=\u001b[0m \u001b[0;34m[\u001b[0m\u001b[0mouts\u001b[0m\u001b[0;34m]\u001b[0m\u001b[0;34m\u001b[0m\u001b[0m\n",
      "\u001b[0;32m/usr/local/lib/python3.6/dist-packages/keras/backend/tensorflow_backend.py\u001b[0m in \u001b[0;36m__call__\u001b[0;34m(self, inputs)\u001b[0m\n\u001b[1;32m   2480\u001b[0m         \u001b[0msession\u001b[0m \u001b[0;34m=\u001b[0m \u001b[0mget_session\u001b[0m\u001b[0;34m(\u001b[0m\u001b[0;34m)\u001b[0m\u001b[0;34m\u001b[0m\u001b[0m\n\u001b[1;32m   2481\u001b[0m         updated = session.run(fetches=fetches, feed_dict=feed_dict,\n\u001b[0;32m-> 2482\u001b[0;31m                               **self.session_kwargs)\n\u001b[0m\u001b[1;32m   2483\u001b[0m         \u001b[0;32mreturn\u001b[0m \u001b[0mupdated\u001b[0m\u001b[0;34m[\u001b[0m\u001b[0;34m:\u001b[0m\u001b[0mlen\u001b[0m\u001b[0;34m(\u001b[0m\u001b[0mself\u001b[0m\u001b[0;34m.\u001b[0m\u001b[0moutputs\u001b[0m\u001b[0;34m)\u001b[0m\u001b[0;34m]\u001b[0m\u001b[0;34m\u001b[0m\u001b[0m\n\u001b[1;32m   2484\u001b[0m \u001b[0;34m\u001b[0m\u001b[0m\n",
      "\u001b[0;32m/usr/local/lib/python3.6/dist-packages/tensorflow/python/client/session.py\u001b[0m in \u001b[0;36mrun\u001b[0;34m(self, fetches, feed_dict, options, run_metadata)\u001b[0m\n\u001b[1;32m    898\u001b[0m     \u001b[0;32mtry\u001b[0m\u001b[0;34m:\u001b[0m\u001b[0;34m\u001b[0m\u001b[0m\n\u001b[1;32m    899\u001b[0m       result = self._run(None, fetches, feed_dict, options_ptr,\n\u001b[0;32m--> 900\u001b[0;31m                          run_metadata_ptr)\n\u001b[0m\u001b[1;32m    901\u001b[0m       \u001b[0;32mif\u001b[0m \u001b[0mrun_metadata\u001b[0m\u001b[0;34m:\u001b[0m\u001b[0;34m\u001b[0m\u001b[0m\n\u001b[1;32m    902\u001b[0m         \u001b[0mproto_data\u001b[0m \u001b[0;34m=\u001b[0m \u001b[0mtf_session\u001b[0m\u001b[0;34m.\u001b[0m\u001b[0mTF_GetBuffer\u001b[0m\u001b[0;34m(\u001b[0m\u001b[0mrun_metadata_ptr\u001b[0m\u001b[0;34m)\u001b[0m\u001b[0;34m\u001b[0m\u001b[0m\n",
      "\u001b[0;32m/usr/local/lib/python3.6/dist-packages/tensorflow/python/client/session.py\u001b[0m in \u001b[0;36m_run\u001b[0;34m(self, handle, fetches, feed_dict, options, run_metadata)\u001b[0m\n\u001b[1;32m   1133\u001b[0m     \u001b[0;32mif\u001b[0m \u001b[0mfinal_fetches\u001b[0m \u001b[0;32mor\u001b[0m \u001b[0mfinal_targets\u001b[0m \u001b[0;32mor\u001b[0m \u001b[0;34m(\u001b[0m\u001b[0mhandle\u001b[0m \u001b[0;32mand\u001b[0m \u001b[0mfeed_dict_tensor\u001b[0m\u001b[0;34m)\u001b[0m\u001b[0;34m:\u001b[0m\u001b[0;34m\u001b[0m\u001b[0m\n\u001b[1;32m   1134\u001b[0m       results = self._do_run(handle, final_targets, final_fetches,\n\u001b[0;32m-> 1135\u001b[0;31m                              feed_dict_tensor, options, run_metadata)\n\u001b[0m\u001b[1;32m   1136\u001b[0m     \u001b[0;32melse\u001b[0m\u001b[0;34m:\u001b[0m\u001b[0;34m\u001b[0m\u001b[0m\n\u001b[1;32m   1137\u001b[0m       \u001b[0mresults\u001b[0m \u001b[0;34m=\u001b[0m \u001b[0;34m[\u001b[0m\u001b[0;34m]\u001b[0m\u001b[0;34m\u001b[0m\u001b[0m\n",
      "\u001b[0;32m/usr/local/lib/python3.6/dist-packages/tensorflow/python/client/session.py\u001b[0m in \u001b[0;36m_do_run\u001b[0;34m(self, handle, target_list, fetch_list, feed_dict, options, run_metadata)\u001b[0m\n\u001b[1;32m   1314\u001b[0m     \u001b[0;32mif\u001b[0m \u001b[0mhandle\u001b[0m \u001b[0;32mis\u001b[0m \u001b[0;32mNone\u001b[0m\u001b[0;34m:\u001b[0m\u001b[0;34m\u001b[0m\u001b[0m\n\u001b[1;32m   1315\u001b[0m       return self._do_call(_run_fn, feeds, fetches, targets, options,\n\u001b[0;32m-> 1316\u001b[0;31m                            run_metadata)\n\u001b[0m\u001b[1;32m   1317\u001b[0m     \u001b[0;32melse\u001b[0m\u001b[0;34m:\u001b[0m\u001b[0;34m\u001b[0m\u001b[0m\n\u001b[1;32m   1318\u001b[0m       \u001b[0;32mreturn\u001b[0m \u001b[0mself\u001b[0m\u001b[0;34m.\u001b[0m\u001b[0m_do_call\u001b[0m\u001b[0;34m(\u001b[0m\u001b[0m_prun_fn\u001b[0m\u001b[0;34m,\u001b[0m \u001b[0mhandle\u001b[0m\u001b[0;34m,\u001b[0m \u001b[0mfeeds\u001b[0m\u001b[0;34m,\u001b[0m \u001b[0mfetches\u001b[0m\u001b[0;34m)\u001b[0m\u001b[0;34m\u001b[0m\u001b[0m\n",
      "\u001b[0;32m/usr/local/lib/python3.6/dist-packages/tensorflow/python/client/session.py\u001b[0m in \u001b[0;36m_do_call\u001b[0;34m(self, fn, *args)\u001b[0m\n\u001b[1;32m   1320\u001b[0m   \u001b[0;32mdef\u001b[0m \u001b[0m_do_call\u001b[0m\u001b[0;34m(\u001b[0m\u001b[0mself\u001b[0m\u001b[0;34m,\u001b[0m \u001b[0mfn\u001b[0m\u001b[0;34m,\u001b[0m \u001b[0;34m*\u001b[0m\u001b[0margs\u001b[0m\u001b[0;34m)\u001b[0m\u001b[0;34m:\u001b[0m\u001b[0;34m\u001b[0m\u001b[0m\n\u001b[1;32m   1321\u001b[0m     \u001b[0;32mtry\u001b[0m\u001b[0;34m:\u001b[0m\u001b[0;34m\u001b[0m\u001b[0m\n\u001b[0;32m-> 1322\u001b[0;31m       \u001b[0;32mreturn\u001b[0m \u001b[0mfn\u001b[0m\u001b[0;34m(\u001b[0m\u001b[0;34m*\u001b[0m\u001b[0margs\u001b[0m\u001b[0;34m)\u001b[0m\u001b[0;34m\u001b[0m\u001b[0m\n\u001b[0m\u001b[1;32m   1323\u001b[0m     \u001b[0;32mexcept\u001b[0m \u001b[0merrors\u001b[0m\u001b[0;34m.\u001b[0m\u001b[0mOpError\u001b[0m \u001b[0;32mas\u001b[0m \u001b[0me\u001b[0m\u001b[0;34m:\u001b[0m\u001b[0;34m\u001b[0m\u001b[0m\n\u001b[1;32m   1324\u001b[0m       \u001b[0mmessage\u001b[0m \u001b[0;34m=\u001b[0m \u001b[0mcompat\u001b[0m\u001b[0;34m.\u001b[0m\u001b[0mas_text\u001b[0m\u001b[0;34m(\u001b[0m\u001b[0me\u001b[0m\u001b[0;34m.\u001b[0m\u001b[0mmessage\u001b[0m\u001b[0;34m)\u001b[0m\u001b[0;34m\u001b[0m\u001b[0m\n",
      "\u001b[0;32m/usr/local/lib/python3.6/dist-packages/tensorflow/python/client/session.py\u001b[0m in \u001b[0;36m_run_fn\u001b[0;34m(feed_dict, fetch_list, target_list, options, run_metadata)\u001b[0m\n\u001b[1;32m   1305\u001b[0m       \u001b[0mself\u001b[0m\u001b[0;34m.\u001b[0m\u001b[0m_extend_graph\u001b[0m\u001b[0;34m(\u001b[0m\u001b[0;34m)\u001b[0m\u001b[0;34m\u001b[0m\u001b[0m\n\u001b[1;32m   1306\u001b[0m       return self._call_tf_sessionrun(\n\u001b[0;32m-> 1307\u001b[0;31m           options, feed_dict, fetch_list, target_list, run_metadata)\n\u001b[0m\u001b[1;32m   1308\u001b[0m \u001b[0;34m\u001b[0m\u001b[0m\n\u001b[1;32m   1309\u001b[0m     \u001b[0;32mdef\u001b[0m \u001b[0m_prun_fn\u001b[0m\u001b[0;34m(\u001b[0m\u001b[0mhandle\u001b[0m\u001b[0;34m,\u001b[0m \u001b[0mfeed_dict\u001b[0m\u001b[0;34m,\u001b[0m \u001b[0mfetch_list\u001b[0m\u001b[0;34m)\u001b[0m\u001b[0;34m:\u001b[0m\u001b[0;34m\u001b[0m\u001b[0m\n",
      "\u001b[0;32m/usr/local/lib/python3.6/dist-packages/tensorflow/python/client/session.py\u001b[0m in \u001b[0;36m_call_tf_sessionrun\u001b[0;34m(self, options, feed_dict, fetch_list, target_list, run_metadata)\u001b[0m\n\u001b[1;32m   1407\u001b[0m       return tf_session.TF_SessionRun_wrapper(\n\u001b[1;32m   1408\u001b[0m           \u001b[0mself\u001b[0m\u001b[0;34m.\u001b[0m\u001b[0m_session\u001b[0m\u001b[0;34m,\u001b[0m \u001b[0moptions\u001b[0m\u001b[0;34m,\u001b[0m \u001b[0mfeed_dict\u001b[0m\u001b[0;34m,\u001b[0m \u001b[0mfetch_list\u001b[0m\u001b[0;34m,\u001b[0m \u001b[0mtarget_list\u001b[0m\u001b[0;34m,\u001b[0m\u001b[0;34m\u001b[0m\u001b[0m\n\u001b[0;32m-> 1409\u001b[0;31m           run_metadata)\n\u001b[0m\u001b[1;32m   1410\u001b[0m     \u001b[0;32melse\u001b[0m\u001b[0;34m:\u001b[0m\u001b[0;34m\u001b[0m\u001b[0m\n\u001b[1;32m   1411\u001b[0m       \u001b[0;32mwith\u001b[0m \u001b[0merrors\u001b[0m\u001b[0;34m.\u001b[0m\u001b[0mraise_exception_on_not_ok_status\u001b[0m\u001b[0;34m(\u001b[0m\u001b[0;34m)\u001b[0m \u001b[0;32mas\u001b[0m \u001b[0mstatus\u001b[0m\u001b[0;34m:\u001b[0m\u001b[0;34m\u001b[0m\u001b[0m\n",
      "\u001b[0;31mKeyboardInterrupt\u001b[0m: "
     ]
    }
   ],
   "source": [
    "m0_info = m0.fit(X,y,epochs=20,batch_size=4096,class_weight = class_weights)"
   ]
  },
  {
   "cell_type": "code",
   "execution_count": 0,
   "metadata": {
    "colab": {},
    "colab_type": "code",
    "id": "7oUOLbDUdz9I"
   },
   "outputs": [],
   "source": [
    "m0.save('trial_0001_dim2_128_accuracy.h5')"
   ]
  },
  {
   "cell_type": "code",
   "execution_count": 0,
   "metadata": {
    "colab": {},
    "colab_type": "code",
    "id": "szFEqCnvcp5T"
   },
   "outputs": [],
   "source": [
    "!ls"
   ]
  },
  {
   "cell_type": "code",
   "execution_count": 0,
   "metadata": {
    "colab": {},
    "colab_type": "code",
    "id": "znv9mwx2xonf"
   },
   "outputs": [],
   "source": [
    "mod = keras.models.load_model('trial_0001_81_accuracy.h5')"
   ]
  },
  {
   "cell_type": "code",
   "execution_count": 0,
   "metadata": {
    "colab": {},
    "colab_type": "code",
    "id": "RhpsTdGUzH_r"
   },
   "outputs": [],
   "source": [
    "mod.evaluate(X,y,batch_size = 1024)"
   ]
  },
  {
   "cell_type": "code",
   "execution_count": 0,
   "metadata": {
    "colab": {},
    "colab_type": "code",
    "id": "8R6h8URV0_GI"
   },
   "outputs": [],
   "source": [
    "pred = m0.predict(X,batch_size = 1024)"
   ]
  },
  {
   "cell_type": "code",
   "execution_count": 0,
   "metadata": {
    "colab": {
     "base_uri": "https://localhost:8080/",
     "height": 34
    },
    "colab_type": "code",
    "executionInfo": {
     "elapsed": 3678,
     "status": "ok",
     "timestamp": 1528816933051,
     "user": {
      "displayName": "JADE SANJAY",
      "photoUrl": "https://lh3.googleusercontent.com/a/default-user=s128",
      "userId": "113026688115779524991"
     },
     "user_tz": -330
    },
    "id": "Now748jY1upl",
    "outputId": "35998232-192d-4209-abc2-65cc37b926d0"
   },
   "outputs": [
    {
     "data": {
      "text/plain": [
       "(26169, 5)"
      ]
     },
     "execution_count": 51,
     "metadata": {
      "tags": []
     },
     "output_type": "execute_result"
    }
   ],
   "source": [
    "pred.shape"
   ]
  },
  {
   "cell_type": "code",
   "execution_count": 0,
   "metadata": {
    "colab": {},
    "colab_type": "code",
    "id": "zEMDqkhvmDTX"
   },
   "outputs": [],
   "source": [
    "pred = np.floor(pred)"
   ]
  },
  {
   "cell_type": "code",
   "execution_count": 0,
   "metadata": {
    "colab": {
     "base_uri": "https://localhost:8080/",
     "height": 136
    },
    "colab_type": "code",
    "executionInfo": {
     "elapsed": 1932,
     "status": "ok",
     "timestamp": 1528816966963,
     "user": {
      "displayName": "JADE SANJAY",
      "photoUrl": "https://lh3.googleusercontent.com/a/default-user=s128",
      "userId": "113026688115779524991"
     },
     "user_tz": -330
    },
    "id": "R07kO7eLl1HW",
    "outputId": "602f71a7-3ec2-48bc-c32f-0e7eebcf0194"
   },
   "outputs": [
    {
     "data": {
      "text/plain": [
       "array([[1., 0., 0., 0., 0.],\n",
       "       [1., 0., 0., 0., 0.],\n",
       "       [1., 0., 0., 0., 0.],\n",
       "       ...,\n",
       "       [1., 0., 0., 0., 0.],\n",
       "       [1., 0., 0., 0., 0.],\n",
       "       [1., 0., 0., 0., 0.]])"
      ]
     },
     "execution_count": 53,
     "metadata": {
      "tags": []
     },
     "output_type": "execute_result"
    }
   ],
   "source": [
    "y.reshape(26169,5)"
   ]
  },
  {
   "cell_type": "code",
   "execution_count": 0,
   "metadata": {
    "colab": {
     "base_uri": "https://localhost:8080/",
     "height": 136
    },
    "colab_type": "code",
    "executionInfo": {
     "elapsed": 5711,
     "status": "ok",
     "timestamp": 1528817345031,
     "user": {
      "displayName": "JADE SANJAY",
      "photoUrl": "https://lh3.googleusercontent.com/a/default-user=s128",
      "userId": "113026688115779524991"
     },
     "user_tz": -330
    },
    "id": "a_zAutNQmNyv",
    "outputId": "a7076e4a-7383-46f3-adc4-b87f8155b7cb"
   },
   "outputs": [
    {
     "data": {
      "text/plain": [
       "array([[1, 0, 0, 0, 0],\n",
       "       [1, 0, 0, 0, 0],\n",
       "       [1, 0, 0, 0, 0],\n",
       "       ...,\n",
       "       [1, 0, 0, 0, 0],\n",
       "       [1, 0, 0, 0, 0],\n",
       "       [1, 0, 0, 0, 0]])"
      ]
     },
     "execution_count": 58,
     "metadata": {
      "tags": []
     },
     "output_type": "execute_result"
    }
   ],
   "source": [
    "pred.astype(int)"
   ]
  },
  {
   "cell_type": "code",
   "execution_count": 0,
   "metadata": {
    "colab": {
     "base_uri": "https://localhost:8080/",
     "height": 136
    },
    "colab_type": "code",
    "executionInfo": {
     "elapsed": 1625,
     "status": "ok",
     "timestamp": 1528816766557,
     "user": {
      "displayName": "JADE SANJAY",
      "photoUrl": "https://lh3.googleusercontent.com/a/default-user=s128",
      "userId": "113026688115779524991"
     },
     "user_tz": -330
    },
    "id": "ByK4ldMBiCaX",
    "outputId": "a4587053-4be3-4f99-f263-24041ed8c9ba"
   },
   "outputs": [
    {
     "data": {
      "text/plain": [
       "array([[0.],\n",
       "       [0.],\n",
       "       [0.],\n",
       "       ...,\n",
       "       [0.],\n",
       "       [0.],\n",
       "       [0.]])"
      ]
     },
     "execution_count": 47,
     "metadata": {
      "tags": []
     },
     "output_type": "execute_result"
    }
   ],
   "source": [
    "pred = pred.reshape(26169,5)\n",
    "y_pred = np.floor(np.dot(pred,np.array([0,1,2,3,4])))\n",
    "y_pred.reshape(26169,1)"
   ]
  },
  {
   "cell_type": "code",
   "execution_count": 0,
   "metadata": {
    "colab": {
     "base_uri": "https://localhost:8080/",
     "height": 34
    },
    "colab_type": "code",
    "executionInfo": {
     "elapsed": 1313,
     "status": "ok",
     "timestamp": 1528816455498,
     "user": {
      "displayName": "JADE SANJAY",
      "photoUrl": "https://lh3.googleusercontent.com/a/default-user=s128",
      "userId": "113026688115779524991"
     },
     "user_tz": -330
    },
    "id": "ft5MP-UGjaPC",
    "outputId": "ce255d48-fbc5-44e3-a6e4-8954dc9fcb7e"
   },
   "outputs": [
    {
     "data": {
      "text/plain": [
       "(26169,)"
      ]
     },
     "execution_count": 46,
     "metadata": {
      "tags": []
     },
     "output_type": "execute_result"
    }
   ],
   "source": [
    "y_pred.shape"
   ]
  },
  {
   "cell_type": "code",
   "execution_count": 0,
   "metadata": {
    "colab": {
     "base_uri": "https://localhost:8080/",
     "height": 34
    },
    "colab_type": "code",
    "executionInfo": {
     "elapsed": 1712,
     "status": "ok",
     "timestamp": 1528817609183,
     "user": {
      "displayName": "JADE SANJAY",
      "photoUrl": "https://lh3.googleusercontent.com/a/default-user=s128",
      "userId": "113026688115779524991"
     },
     "user_tz": -330
    },
    "id": "dYMNZchKoUC-",
    "outputId": "ef98bd88-975d-4836-9bad-c651b58d4dcb"
   },
   "outputs": [
    {
     "name": "stdout",
     "output_type": "stream",
     "text": [
      "False\n"
     ]
    }
   ],
   "source": [
    "print(((y_pred != 0.) & (y_pred != 1.)).any())"
   ]
  },
  {
   "cell_type": "code",
   "execution_count": 0,
   "metadata": {
    "colab": {},
    "colab_type": "code",
    "id": "6tUKdKLm17dF"
   },
   "outputs": [],
   "source": [
    "from matplotlib import pyplot as plt\n",
    "plt.imshow(np.uint8(y_pred*32))\n",
    "plt.show()"
   ]
  },
  {
   "cell_type": "code",
   "execution_count": 0,
   "metadata": {
    "colab": {},
    "colab_type": "code",
    "id": "xFyViJgY5W1v"
   },
   "outputs": [],
   "source": [
    "from sklearn import metrics"
   ]
  },
  {
   "cell_type": "code",
   "execution_count": 0,
   "metadata": {
    "colab": {},
    "colab_type": "code",
    "id": "scB7FvW0fONE"
   },
   "outputs": [],
   "source": [
    "f1 = metrics.f1_score(y,pred)"
   ]
  },
  {
   "cell_type": "code",
   "execution_count": 0,
   "metadata": {
    "colab": {
     "base_uri": "https://localhost:8080/",
     "height": 34
    },
    "colab_type": "code",
    "executionInfo": {
     "elapsed": 4608,
     "status": "ok",
     "timestamp": 1529154748152,
     "user": {
      "displayName": "JADE SANJAY",
      "photoUrl": "https://lh3.googleusercontent.com/a/default-user=s128",
      "userId": "113026688115779524991"
     },
     "user_tz": -330
    },
    "id": "q0rVMeaxfw6I",
    "outputId": "f59c44be-ca7f-4afb-f85d-25c652a2f25f"
   },
   "outputs": [
    {
     "name": "stdout",
     "output_type": "stream",
     "text": [
      "Requirement already satisfied: SimpleITK in /usr/local/lib/python3.6/dist-packages (1.1.0)\r\n"
     ]
    }
   ],
   "source": [
    "!pip3 install SimpleITK"
   ]
  },
  {
   "cell_type": "code",
   "execution_count": 0,
   "metadata": {
    "colab": {},
    "colab_type": "code",
    "id": "E7QS9aQMuaxV"
   },
   "outputs": [],
   "source": [
    "import SimpleITK as sitk\n",
    "import numpy as np"
   ]
  },
  {
   "cell_type": "code",
   "execution_count": 0,
   "metadata": {
    "colab": {},
    "colab_type": "code",
    "id": "ksUKU914ucuO"
   },
   "outputs": [],
   "source": [
    "path = 'LG/0001'\n",
    "p = os.listdir(path)\n",
    "p.sort(key=str.lower)\n",
    "arr = []\n",
    "for i in range(len(p)):\n",
    "  if(i != 4):\n",
    "    p1 = os.listdir(path+'/'+p[i])\n",
    "    p1.sort()\n",
    "    img = sitk.ReadImage(path+'/'+p[i]+'/'+p1[-1])\n",
    "    arr.append(sitk.GetArrayFromImage(img))\n",
    "  else:\n",
    "    p1 = os.listdir(path+'/'+p[i])\n",
    "    img = sitk.ReadImage(path+'/'+p[i]+'/'+p1[0])\n",
    "    Y_labels = sitk.GetArrayFromImage(img)    \n",
    "data = np.zeros((Y_labels.shape[1],Y_labels.shape[0],Y_labels.shape[2],4))\n",
    "for i in range(196):\n",
    "  data[i,:,:,0] = arr[0][:,i,:]\n",
    "  data[i,:,:,1] = arr[1][:,i,:]\n",
    "  data[i,:,:,2] = arr[2][:,i,:]\n",
    "  data[i,:,:,3] = arr[3][:,i,:]\n",
    "  "
   ]
  },
  {
   "cell_type": "code",
   "execution_count": 0,
   "metadata": {
    "colab": {},
    "colab_type": "code",
    "id": "ZA2jG-uAuezU"
   },
   "outputs": [],
   "source": [
    "def model_gen(input_dim,x,y,slice_no):\n",
    "  X1 = []\n",
    "  X2 = []\n",
    "  Y = []\n",
    "  \n",
    "  for i in range(int((input_dim)/2),175-int((input_dim)/2)):\n",
    "    for j in range(int((input_dim)/2),195-int((input_dim)/2)):\n",
    "      if(x[i-16:i+17,j-16:j+17,:].any != 0):\n",
    "        X2.append(x[i-16:i+17,j-16:j+17,:])\n",
    "        X1.append(x[i-int((input_dim)/2):i+int((input_dim)/2)+1,j-int((input_dim)/2):j+int((input_dim)/2)+1,:])\n",
    "        Y.append(y[i,slice_no,j])\n",
    "      \n",
    "      \n",
    "  X1 = np.asarray(X1)\n",
    "  X2 = np.asarray(X2)\n",
    "  Y = np.asarray(Y)\n",
    "  d = [X1,X2,Y]\n",
    "  return d"
   ]
  },
  {
   "cell_type": "code",
   "execution_count": 0,
   "metadata": {
    "colab": {},
    "colab_type": "code",
    "id": "ysYx5d6auhE_"
   },
   "outputs": [],
   "source": [
    "def data_gen(data,y,slice_no,model_no):\n",
    "  d = []\n",
    "  x = data[slice_no]\n",
    "  if(x.any() != 0 and y.any() != 0):\n",
    "    if(model_no == 0):\n",
    "      X1 = []\n",
    "      for i in range(16,159):\n",
    "        for j in range(16,199):\n",
    "          if(x[i-16:i+17,j-16:j+17,:].all != 0):\n",
    "            X1.append(x[i-16:i+17,j-16:j+17,:])\n",
    "      Y1 = []\n",
    "      for i in range(16,159):\n",
    "        for j in range(16,199):\n",
    "          if(x[i-16:i+17,j-16:j+17,:].all != 0):\n",
    "            Y1.append(y[i,slice_no,j]) \n",
    "      X1 = np.asarray(X1)\n",
    "      Y1 = np.asarray(Y1)\n",
    "      d = [X1,Y1]\n",
    "    elif(model_no == 1):\n",
    "      d = model_gen(65,x,y,slice_no)\n",
    "    elif(model_no == 2):\n",
    "      d = model_gen(56,x,y,slice_no)\n",
    "    elif(model_no == 3):\n",
    "      d = model_gen(53,x,y,slice_no)  \n",
    "    \n",
    "  return d   "
   ]
  },
  {
   "cell_type": "code",
   "execution_count": 0,
   "metadata": {
    "colab": {},
    "colab_type": "code",
    "id": "flsyxngLumkg"
   },
   "outputs": [],
   "source": [
    "from sklearn.utils import class_weight"
   ]
  },
  {
   "cell_type": "code",
   "execution_count": 0,
   "metadata": {
    "colab": {},
    "colab_type": "code",
    "id": "NIJQtuExvNMV"
   },
   "outputs": [],
   "source": [
    "m0.compile(optimizer='adam',loss='categorical_crossentropy',metrics=['accuracy'])"
   ]
  },
  {
   "cell_type": "code",
   "execution_count": 0,
   "metadata": {
    "colab": {
     "base_uri": "https://localhost:8080/",
     "height": 68
    },
    "colab_type": "code",
    "id": "aQDLM0pUuoxT",
    "outputId": "39476830-f799-41cb-a163-8fd9493e6145"
   },
   "outputs": [
    {
     "name": "stdout",
     "output_type": "stream",
     "text": [
      "slice no:90\n",
      "Epoch 1/2\n",
      "24992/26169 [===========================>..] - ETA: 5s - loss: 1.1921e-07 - acc: 1.0000"
     ]
    }
   ],
   "source": [
    "info = []\n",
    "for i in range(90,data.shape[0],2):\n",
    "  d = data_gen(data,Y_labels,i,0)\n",
    "  if(len(d) != 0):\n",
    "    y = np.zeros((d[-1].shape[0],1,1,5))\n",
    "    for j in range(y.shape[0]):\n",
    "      y[j,:,:,d[-1][j]] = 1\n",
    "    X1 = d[0]\n",
    "    class_weights = class_weight.compute_class_weight('balanced',\n",
    "                                                      np.unique(d[-1]),\n",
    "                                                      d[-1])\n",
    "    print('slice no:'+str(i))\n",
    "    info.append(m0.fit(X1,y,epochs=2,batch_size=32,class_weight= class_weights))\n",
    "    m0.save('trial_0001_2path_acc.h5')"
   ]
  },
  {
   "cell_type": "code",
   "execution_count": 0,
   "metadata": {
    "colab": {},
    "colab_type": "code",
    "id": "vhGYnI_qu8Dx"
   },
   "outputs": [],
   "source": []
  }
 ],
 "metadata": {
  "accelerator": "GPU",
  "colab": {
   "collapsed_sections": [],
   "name": "model.ipynb",
   "provenance": [],
   "version": "0.3.2"
  },
  "kernelspec": {
   "display_name": "Python 3",
   "language": "python",
   "name": "python3"
  },
  "language_info": {
   "codemirror_mode": {
    "name": "ipython",
    "version": 3
   },
   "file_extension": ".py",
   "mimetype": "text/x-python",
   "name": "python",
   "nbconvert_exporter": "python",
   "pygments_lexer": "ipython3",
   "version": "3.7.6"
  }
 },
 "nbformat": 4,
 "nbformat_minor": 1
}
