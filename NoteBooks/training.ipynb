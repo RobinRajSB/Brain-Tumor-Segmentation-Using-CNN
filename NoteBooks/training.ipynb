{
 "cells": [
  {
   "cell_type": "code",
   "execution_count": 1,
   "metadata": {
    "colab": {
     "base_uri": "https://localhost:8080/",
     "height": 237
    },
    "colab_type": "code",
    "executionInfo": {
     "elapsed": 99300,
     "status": "ok",
     "timestamp": 1560098913541,
     "user": {
      "displayName": "robinraj EY",
      "photoUrl": "",
      "userId": "17540945510930744551"
     },
     "user_tz": -330
    },
    "id": "hz4wegu0uDcP",
    "outputId": "80dbee42-9e5a-4b81-fb0f-bb79b5d2fb2a"
   },
   "outputs": [
    {
     "name": "stdout",
     "output_type": "stream",
     "text": [
      "E: Package 'python-software-properties' has no installation candidate\n",
      "Selecting previously unselected package google-drive-ocamlfuse.\n",
      "(Reading database ... 130912 files and directories currently installed.)\n",
      "Preparing to unpack .../google-drive-ocamlfuse_0.7.3-0ubuntu3~ubuntu18.04.1_amd64.deb ...\n",
      "Unpacking google-drive-ocamlfuse (0.7.3-0ubuntu3~ubuntu18.04.1) ...\n",
      "Setting up google-drive-ocamlfuse (0.7.3-0ubuntu3~ubuntu18.04.1) ...\n",
      "Processing triggers for man-db (2.8.3-2ubuntu0.1) ...\n",
      "Please, open the following URL in a web browser: https://accounts.google.com/o/oauth2/auth?client_id=32555940559.apps.googleusercontent.com&redirect_uri=urn%3Aietf%3Awg%3Aoauth%3A2.0%3Aoob&scope=https%3A%2F%2Fwww.googleapis.com%2Fauth%2Fdrive&response_type=code&access_type=offline&approval_prompt=force\n",
      "··········\n",
      "Please, open the following URL in a web browser: https://accounts.google.com/o/oauth2/auth?client_id=32555940559.apps.googleusercontent.com&redirect_uri=urn%3Aietf%3Awg%3Aoauth%3A2.0%3Aoob&scope=https%3A%2F%2Fwww.googleapis.com%2Fauth%2Fdrive&response_type=code&access_type=offline&approval_prompt=force\n",
      "Please enter the verification code: Access token retrieved correctly.\n"
     ]
    }
   ],
   "source": [
    "!apt-get install -y -qq software-properties-common python-software-properties module-init-tools\n",
    "!add-apt-repository -y ppa:alessandro-strada/ppa 2>&1 > /dev/null\n",
    "!apt-get update -qq 2>&1 > /dev/null\n",
    "!apt-get -y install -qq google-drive-ocamlfuse fuse\n",
    "from google.colab import auth\n",
    "auth.authenticate_user()\n",
    "from oauth2client.client import GoogleCredentials\n",
    "creds = GoogleCredentials.get_application_default() \n",
    "import getpass\n",
    "!google-drive-ocamlfuse -headless -id={creds.client_id} -secret={creds.client_secret} < /dev/null 2>&1 | grep URL\n",
    "vcode = getpass.getpass()\n",
    "!echo {vcode} | google-drive-ocamlfuse -headless -id={creds.client_id} -secret={creds.client_secret}"
   ]
  },
  {
   "cell_type": "code",
   "execution_count": 0,
   "metadata": {
    "colab": {},
    "colab_type": "code",
    "id": "cD5tMrzyuJn2"
   },
   "outputs": [],
   "source": [
    "!mkdir -p drive\n",
    "!google-drive-ocamlfuse drive"
   ]
  },
  {
   "cell_type": "code",
   "execution_count": 4,
   "metadata": {
    "colab": {
     "base_uri": "https://localhost:8080/",
     "height": 35
    },
    "colab_type": "code",
    "executionInfo": {
     "elapsed": 5000,
     "status": "ok",
     "timestamp": 1560098946531,
     "user": {
      "displayName": "robinraj EY",
      "photoUrl": "",
      "userId": "17540945510930744551"
     },
     "user_tz": -330
    },
    "id": "0cLMvBlW23ea",
    "outputId": "070e828a-a752-44d5-806c-ab307d12a6d0"
   },
   "outputs": [
    {
     "name": "stdout",
     "output_type": "stream",
     "text": [
      "adc.json  drive  sample_data\n"
     ]
    }
   ],
   "source": [
    "!ls"
   ]
  },
  {
   "cell_type": "code",
   "execution_count": 0,
   "metadata": {
    "colab": {},
    "colab_type": "code",
    "id": "Io-qSNTquYeI"
   },
   "outputs": [],
   "source": [
    "import os\n",
    "os.chdir('drive/Brain-Tumor-Segmentation-using-Deep-Neural-networks-master')"
   ]
  },
  {
   "cell_type": "code",
   "execution_count": 6,
   "metadata": {
    "colab": {
     "base_uri": "https://localhost:8080/",
     "height": 35
    },
    "colab_type": "code",
    "executionInfo": {
     "elapsed": 1770,
     "status": "ok",
     "timestamp": 1560099003248,
     "user": {
      "displayName": "robinraj EY",
      "photoUrl": "",
      "userId": "17540945510930744551"
     },
     "user_tz": -330
    },
    "id": "7PWrGrQrujXr",
    "outputId": "9d27b167-4ea7-4c43-9304-af8c01dad00a"
   },
   "outputs": [
    {
     "name": "stderr",
     "output_type": "stream",
     "text": [
      "Using TensorFlow backend.\n"
     ]
    }
   ],
   "source": [
    "import keras\n",
    "from keras import layers\n",
    "from keras.models import Sequential\n",
    "from keras.layers import Input, Dense, Activation, ZeroPadding2D, BatchNormalization, Flatten, Conv2D, Lambda,Concatenate\n",
    "from keras.layers import AveragePooling2D, MaxPooling2D, Dropout, GlobalMaxPooling2D, GlobalAveragePooling2D, Add\n",
    "from keras.models import Model\n",
    "from keras import regularizers\n",
    "from keras.preprocessing import image\n",
    "from keras.utils import layer_utils\n",
    "from keras.utils.data_utils import get_file\n",
    "from keras.applications.imagenet_utils import preprocess_input\n",
    "from keras.initializers import glorot_normal\n",
    "#import pydot\n",
    "from IPython.display import SVG\n",
    "from keras.utils.vis_utils import model_to_dot\n",
    "from keras.utils import plot_model"
   ]
  },
  {
   "cell_type": "code",
   "execution_count": 7,
   "metadata": {
    "colab": {
     "base_uri": "https://localhost:8080/",
     "height": 201
    },
    "colab_type": "code",
    "executionInfo": {
     "elapsed": 13779,
     "status": "ok",
     "timestamp": 1560099021167,
     "user": {
      "displayName": "robinraj EY",
      "photoUrl": "",
      "userId": "17540945510930744551"
     },
     "user_tz": -330
    },
    "id": "9qTgHjO1unyg",
    "outputId": "6be809bd-0785-4637-d8a6-b73685cd5dba"
   },
   "outputs": [
    {
     "name": "stdout",
     "output_type": "stream",
     "text": [
      "WARNING:tensorflow:From /usr/local/lib/python3.6/dist-packages/tensorflow/python/framework/op_def_library.py:263: colocate_with (from tensorflow.python.framework.ops) is deprecated and will be removed in a future version.\n",
      "Instructions for updating:\n",
      "Colocations handled automatically by placer.\n",
      "WARNING:tensorflow:From /usr/local/lib/python3.6/dist-packages/tensorflow/python/ops/math_ops.py:3066: to_int32 (from tensorflow.python.ops.math_ops) is deprecated and will be removed in a future version.\n",
      "Instructions for updating:\n",
      "Use tf.cast instead.\n",
      "WARNING:tensorflow:From /usr/local/lib/python3.6/dist-packages/tensorflow/python/ops/math_grad.py:102: div (from tensorflow.python.ops.math_ops) is deprecated and will be removed in a future version.\n",
      "Instructions for updating:\n",
      "Deprecated in favor of operator or tf.math.divide.\n"
     ]
    }
   ],
   "source": [
    "m = keras.models.load_model('trial_MFCcascade_acc.h5')"
   ]
  },
  {
   "cell_type": "code",
   "execution_count": 8,
   "metadata": {
    "colab": {
     "base_uri": "https://localhost:8080/",
     "height": 128
    },
    "colab_type": "code",
    "executionInfo": {
     "elapsed": 11839,
     "status": "ok",
     "timestamp": 1560099037163,
     "user": {
      "displayName": "robinraj EY",
      "photoUrl": "",
      "userId": "17540945510930744551"
     },
     "user_tz": -330
    },
    "id": "_N7Xvar2u3C8",
    "outputId": "a0bc8d04-b501-4dfe-fa5c-dff54a8c41d5"
   },
   "outputs": [
    {
     "name": "stdout",
     "output_type": "stream",
     "text": [
      "Collecting SimpleITK\n",
      "\u001b[?25l  Downloading https://files.pythonhosted.org/packages/45/ee/8ddd251cf447e1fc131622e925d538c2542780195ae75e26c122587630d1/SimpleITK-1.2.0-cp36-cp36m-manylinux1_x86_64.whl (42.5MB)\n",
      "\u001b[K     |████████████████████████████████| 42.5MB 35.7MB/s \n",
      "\u001b[?25hInstalling collected packages: SimpleITK\n",
      "Successfully installed SimpleITK-1.2.0\n"
     ]
    }
   ],
   "source": [
    "!pip3 install SimpleITK"
   ]
  },
  {
   "cell_type": "code",
   "execution_count": 0,
   "metadata": {
    "colab": {},
    "colab_type": "code",
    "id": "RB9u_Jtau91o"
   },
   "outputs": [],
   "source": [
    "import SimpleITK as sitk\n",
    "import numpy as np"
   ]
  },
  {
   "cell_type": "code",
   "execution_count": 15,
   "metadata": {
    "colab": {
     "base_uri": "https://localhost:8080/",
     "height": 4976
    },
    "colab_type": "code",
    "executionInfo": {
     "elapsed": 1636504,
     "status": "error",
     "timestamp": 1560105063987,
     "user": {
      "displayName": "robinraj EY",
      "photoUrl": "",
      "userId": "17540945510930744551"
     },
     "user_tz": -330
    },
    "id": "lyzlxUB4vmg9",
    "outputId": "630c3fc6-1827-4de2-b835-2569beb1613c"
   },
   "outputs": [
    {
     "name": "stdout",
     "output_type": "stream",
     "text": [
      "slice no:100\n",
      "Epoch 1/2\n",
      "13392/13392 [==============================] - 69s 5ms/step - loss: 0.1502 - acc: 0.9824\n",
      "Epoch 2/2\n",
      "13392/13392 [==============================] - 56s 4ms/step - loss: 0.0787 - acc: 1.0000\n",
      "slice no:100\n",
      "Epoch 1/2\n",
      "13392/13392 [==============================] - 57s 4ms/step - loss: 0.0700 - acc: 1.0000\n",
      "Epoch 2/2\n",
      "13392/13392 [==============================] - 57s 4ms/step - loss: 0.0640 - acc: 1.0000\n",
      "slice no:100\n",
      "Epoch 1/2\n",
      "13392/13392 [==============================] - 57s 4ms/step - loss: 0.0589 - acc: 1.0000\n",
      "Epoch 2/2\n",
      "13392/13392 [==============================] - 57s 4ms/step - loss: 0.0545 - acc: 1.0000\n",
      "slice no:102\n",
      "Epoch 1/2\n",
      "13392/13392 [==============================] - 57s 4ms/step - loss: 0.0514 - acc: 1.0000\n",
      "Epoch 2/2\n",
      "13392/13392 [==============================] - 57s 4ms/step - loss: 0.0478 - acc: 1.0000\n",
      "slice no:100\n",
      "Epoch 1/2\n",
      "13392/13392 [==============================] - 57s 4ms/step - loss: 0.0449 - acc: 1.0000\n",
      "Epoch 2/2\n",
      "13392/13392 [==============================] - 57s 4ms/step - loss: 0.0425 - acc: 1.0000\n",
      "slice no:102\n",
      "Epoch 1/2\n",
      "13392/13392 [==============================] - 57s 4ms/step - loss: 0.0401 - acc: 1.0000\n",
      "Epoch 2/2\n",
      "13392/13392 [==============================] - 57s 4ms/step - loss: 0.0382 - acc: 1.0000\n",
      "slice no:100\n",
      "Epoch 1/2\n",
      "13392/13392 [==============================] - 57s 4ms/step - loss: 0.0363 - acc: 1.0000\n",
      "Epoch 2/2\n",
      "13392/13392 [==============================] - 57s 4ms/step - loss: 0.0344 - acc: 1.0000\n",
      "slice no:102\n",
      "Epoch 1/2\n",
      "13392/13392 [==============================] - 57s 4ms/step - loss: 0.0329 - acc: 1.0000\n",
      "Epoch 2/2\n",
      "13392/13392 [==============================] - 56s 4ms/step - loss: 0.0314 - acc: 1.0000\n",
      "slice no:104\n",
      "Epoch 1/2\n",
      "13392/13392 [==============================] - 57s 4ms/step - loss: 0.0303 - acc: 1.0000\n",
      "Epoch 2/2\n",
      "13392/13392 [==============================] - 57s 4ms/step - loss: 0.0288 - acc: 1.0000\n",
      "slice no:100\n",
      "Epoch 1/2\n",
      "13392/13392 [==============================] - 57s 4ms/step - loss: 0.0276 - acc: 1.0000\n",
      "Epoch 2/2\n",
      "13392/13392 [==============================] - 57s 4ms/step - loss: 0.0263 - acc: 1.0000\n",
      "slice no:102\n",
      "Epoch 1/2\n",
      "13392/13392 [==============================] - 57s 4ms/step - loss: 0.0252 - acc: 1.0000\n",
      "Epoch 2/2\n",
      "13392/13392 [==============================] - 57s 4ms/step - loss: 0.0243 - acc: 1.0000\n",
      "slice no:104\n",
      "Epoch 1/2\n",
      "13392/13392 [==============================] - 57s 4ms/step - loss: 0.0243 - acc: 1.0000\n",
      "Epoch 2/2\n",
      "13392/13392 [==============================] - 57s 4ms/step - loss: 0.0226 - acc: 1.0000\n",
      "slice no:100\n",
      "Epoch 1/2\n",
      "13392/13392 [==============================] - 57s 4ms/step - loss: 0.0216 - acc: 1.0000\n",
      "Epoch 2/2\n",
      "13392/13392 [==============================] - 57s 4ms/step - loss: 0.0209 - acc: 1.0000\n",
      "slice no:102\n",
      "Epoch 1/2\n",
      "13392/13392 [==============================] - 57s 4ms/step - loss: 0.0200 - acc: 1.0000\n",
      "Epoch 2/2\n",
      "13392/13392 [==============================] - 57s 4ms/step - loss: 0.0192 - acc: 1.0000\n",
      "slice no:104\n",
      "Epoch 1/2\n",
      "13392/13392 [==============================] - 57s 4ms/step - loss: 0.0187 - acc: 1.0000\n",
      "Epoch 2/2\n",
      "13392/13392 [==============================] - 57s 4ms/step - loss: 0.0179 - acc: 1.0000\n",
      "slice no:106\n",
      "Epoch 1/2\n",
      "13392/13392 [==============================] - 57s 4ms/step - loss: 0.0187 - acc: 1.0000\n",
      "Epoch 2/2\n",
      "13392/13392 [==============================] - 57s 4ms/step - loss: 0.0169 - acc: 1.0000\n",
      "slice no:100\n",
      "Epoch 1/2\n",
      "13392/13392 [==============================] - 57s 4ms/step - loss: 0.0161 - acc: 1.0000\n",
      "Epoch 2/2\n",
      "13392/13392 [==============================] - 56s 4ms/step - loss: 0.0154 - acc: 1.0000\n",
      "slice no:102\n",
      "Epoch 1/2\n",
      "13392/13392 [==============================] - 56s 4ms/step - loss: 0.0150 - acc: 1.0000\n",
      "Epoch 2/2\n",
      "13392/13392 [==============================] - 56s 4ms/step - loss: 0.0146 - acc: 1.0000\n",
      "slice no:104\n",
      "Epoch 1/2\n",
      "13392/13392 [==============================] - 57s 4ms/step - loss: 0.0140 - acc: 1.0000\n",
      "Epoch 2/2\n",
      "13392/13392 [==============================] - 57s 4ms/step - loss: 0.0136 - acc: 1.0000\n",
      "slice no:106\n",
      "Epoch 1/2\n",
      "13392/13392 [==============================] - 57s 4ms/step - loss: 0.0130 - acc: 1.0000\n",
      "Epoch 2/2\n",
      "13392/13392 [==============================] - 56s 4ms/step - loss: 0.0126 - acc: 1.0000\n",
      "slice no:100\n",
      "Epoch 1/2\n",
      "13392/13392 [==============================] - 57s 4ms/step - loss: 0.0122 - acc: 1.0000\n",
      "Epoch 2/2\n",
      "13392/13392 [==============================] - 57s 4ms/step - loss: 0.0120 - acc: 1.0000\n",
      "slice no:102\n",
      "Epoch 1/2\n",
      "13392/13392 [==============================] - 57s 4ms/step - loss: 0.0116 - acc: 1.0000\n",
      "Epoch 2/2\n",
      "13392/13392 [==============================] - 57s 4ms/step - loss: 0.0111 - acc: 1.0000\n",
      "slice no:104\n",
      "Epoch 1/2\n",
      "13392/13392 [==============================] - 57s 4ms/step - loss: 0.0109 - acc: 1.0000\n",
      "Epoch 2/2\n",
      "13392/13392 [==============================] - 57s 4ms/step - loss: 0.0105 - acc: 1.0000\n",
      "slice no:106\n",
      "Epoch 1/2\n",
      "13392/13392 [==============================] - 57s 4ms/step - loss: 0.0102 - acc: 1.0000\n",
      "Epoch 2/2\n",
      "13392/13392 [==============================] - 57s 4ms/step - loss: 0.0098 - acc: 1.0000\n",
      "slice no:108\n",
      "Epoch 1/2\n",
      "13392/13392 [==============================] - 57s 4ms/step - loss: 0.0097 - acc: 1.0000\n",
      "Epoch 2/2\n",
      "13392/13392 [==============================] - 57s 4ms/step - loss: 0.0095 - acc: 1.0000\n",
      "slice no:100\n",
      "Epoch 1/2\n",
      "13392/13392 [==============================] - 57s 4ms/step - loss: 0.0091 - acc: 1.0000\n",
      "Epoch 2/2\n",
      "13392/13392 [==============================] - 57s 4ms/step - loss: 0.0087 - acc: 1.0000\n",
      "slice no:102\n",
      "Epoch 1/2\n",
      "13392/13392 [==============================] - 57s 4ms/step - loss: 0.0084 - acc: 1.0000\n",
      "Epoch 2/2\n",
      "13392/13392 [==============================] - 57s 4ms/step - loss: 0.0081 - acc: 1.0000\n",
      "slice no:104\n",
      "Epoch 1/2\n",
      "13392/13392 [==============================] - 57s 4ms/step - loss: 0.0079 - acc: 1.0000\n",
      "Epoch 2/2\n",
      "13392/13392 [==============================] - 57s 4ms/step - loss: 0.0077 - acc: 1.0000\n",
      "slice no:106\n",
      "Epoch 1/2\n",
      "13392/13392 [==============================] - 57s 4ms/step - loss: 0.0075 - acc: 1.0000\n",
      "Epoch 2/2\n",
      "13392/13392 [==============================] - 57s 4ms/step - loss: 0.0072 - acc: 1.0000\n",
      "slice no:108\n",
      "Epoch 1/2\n",
      "13392/13392 [==============================] - 57s 4ms/step - loss: 0.0071 - acc: 1.0000\n",
      "Epoch 2/2\n",
      "13392/13392 [==============================] - 57s 4ms/step - loss: 0.0069 - acc: 1.0000\n",
      "slice no:100\n",
      "Epoch 1/2\n",
      "13392/13392 [==============================] - 57s 4ms/step - loss: 0.0067 - acc: 1.0000\n",
      "Epoch 2/2\n",
      "13392/13392 [==============================] - 57s 4ms/step - loss: 0.0064 - acc: 1.0000\n",
      "slice no:102\n",
      "Epoch 1/2\n",
      "13392/13392 [==============================] - 57s 4ms/step - loss: 0.0063 - acc: 1.0000\n",
      "Epoch 2/2\n",
      "13392/13392 [==============================] - 57s 4ms/step - loss: 0.0061 - acc: 1.0000\n",
      "slice no:104\n",
      "Epoch 1/2\n",
      "13392/13392 [==============================] - 57s 4ms/step - loss: 0.0060 - acc: 1.0000\n",
      "Epoch 2/2\n",
      "13392/13392 [==============================] - 57s 4ms/step - loss: 0.0059 - acc: 1.0000\n",
      "slice no:106\n",
      "Epoch 1/2\n",
      "13392/13392 [==============================] - 57s 4ms/step - loss: 0.0056 - acc: 1.0000\n",
      "Epoch 2/2\n",
      "13392/13392 [==============================] - 57s 4ms/step - loss: 0.0054 - acc: 1.0000\n",
      "slice no:108\n",
      "Epoch 1/2\n",
      "13392/13392 [==============================] - 57s 4ms/step - loss: 0.0053 - acc: 1.0000\n",
      "Epoch 2/2\n",
      "13392/13392 [==============================] - 57s 4ms/step - loss: 0.0052 - acc: 1.0000\n",
      "slice no:110\n",
      "Epoch 1/2\n",
      "13392/13392 [==============================] - 57s 4ms/step - loss: 0.0050 - acc: 1.0000\n",
      "Epoch 2/2\n",
      "13392/13392 [==============================] - 57s 4ms/step - loss: 0.0049 - acc: 1.0000\n",
      "slice no:100\n",
      "Epoch 1/2\n",
      "13392/13392 [==============================] - 57s 4ms/step - loss: 0.0047 - acc: 1.0000\n",
      "Epoch 2/2\n",
      "13392/13392 [==============================] - 57s 4ms/step - loss: 0.0046 - acc: 1.0000\n",
      "slice no:102\n",
      "Epoch 1/2\n",
      "13392/13392 [==============================] - 57s 4ms/step - loss: 0.0045 - acc: 1.0000\n",
      "Epoch 2/2\n",
      "13392/13392 [==============================] - 56s 4ms/step - loss: 0.0044 - acc: 1.0000\n",
      "slice no:104\n",
      "Epoch 1/2\n",
      "13392/13392 [==============================] - 57s 4ms/step - loss: 0.0042 - acc: 1.0000\n",
      "Epoch 2/2\n",
      "13392/13392 [==============================] - 57s 4ms/step - loss: 0.0041 - acc: 1.0000\n",
      "slice no:106\n",
      "Epoch 1/2\n",
      "13392/13392 [==============================] - 57s 4ms/step - loss: 0.0040 - acc: 1.0000\n",
      "Epoch 2/2\n",
      "13392/13392 [==============================] - 57s 4ms/step - loss: 0.0039 - acc: 1.0000\n",
      "slice no:108\n",
      "Epoch 1/2\n",
      "13392/13392 [==============================] - 57s 4ms/step - loss: 0.0038 - acc: 1.0000\n",
      "Epoch 2/2\n",
      "13392/13392 [==============================] - 57s 4ms/step - loss: 0.0037 - acc: 1.0000\n",
      "slice no:110\n",
      "Epoch 1/2\n",
      "13392/13392 [==============================] - 57s 4ms/step - loss: 0.0036 - acc: 1.0000\n",
      "Epoch 2/2\n",
      "13392/13392 [==============================] - 57s 4ms/step - loss: 0.0035 - acc: 1.0000\n",
      "slice no:100\n",
      "Epoch 1/2\n",
      "13392/13392 [==============================] - 57s 4ms/step - loss: 0.0034 - acc: 1.0000\n",
      "Epoch 2/2\n",
      "13392/13392 [==============================] - 57s 4ms/step - loss: 0.0033 - acc: 1.0000\n",
      "slice no:102\n",
      "Epoch 1/2\n",
      "13392/13392 [==============================] - 57s 4ms/step - loss: 0.0033 - acc: 1.0000\n",
      "Epoch 2/2\n",
      "13392/13392 [==============================] - 57s 4ms/step - loss: 0.0031 - acc: 1.0000\n",
      "slice no:104\n",
      "Epoch 1/2\n",
      "13392/13392 [==============================] - 57s 4ms/step - loss: 0.0031 - acc: 1.0000\n",
      "Epoch 2/2\n",
      "13392/13392 [==============================] - 57s 4ms/step - loss: 0.0030 - acc: 1.0000\n",
      "slice no:106\n",
      "Epoch 1/2\n",
      "13392/13392 [==============================] - 57s 4ms/step - loss: 0.0029 - acc: 1.0000\n",
      "Epoch 2/2\n",
      "13392/13392 [==============================] - 57s 4ms/step - loss: 0.0028 - acc: 1.0000\n",
      "slice no:108\n",
      "Epoch 1/2\n",
      "13392/13392 [==============================] - 57s 4ms/step - loss: 0.0028 - acc: 1.0000\n",
      "Epoch 2/2\n",
      "13392/13392 [==============================] - 57s 4ms/step - loss: 0.0027 - acc: 1.0000\n",
      "slice no:110\n",
      "Epoch 1/2\n",
      "13392/13392 [==============================] - 57s 4ms/step - loss: 0.0026 - acc: 1.0000\n",
      "Epoch 2/2\n",
      "13392/13392 [==============================] - 57s 4ms/step - loss: 0.0025 - acc: 1.0000\n",
      "slice no:112\n",
      "Epoch 1/2\n",
      "13392/13392 [==============================] - 57s 4ms/step - loss: 0.0025 - acc: 1.0000\n",
      "Epoch 2/2\n",
      "13392/13392 [==============================] - 57s 4ms/step - loss: 0.0024 - acc: 1.0000\n",
      "slice no:100\n",
      "Epoch 1/2\n",
      "13392/13392 [==============================] - 57s 4ms/step - loss: 0.0023 - acc: 1.0000\n",
      "Epoch 2/2\n",
      "13392/13392 [==============================] - 57s 4ms/step - loss: 0.0023 - acc: 1.0000\n",
      "slice no:102\n",
      "Epoch 1/2\n",
      " 3328/13392 [======>.......................] - ETA: 42s - loss: 0.0023 - acc: 1.0000"
     ]
    },
    {
     "ename": "KeyboardInterrupt",
     "evalue": "ignored",
     "output_type": "error",
     "traceback": [
      "\u001b[0;31m---------------------------------------------------------------------------\u001b[0m",
      "\u001b[0;31mKeyboardInterrupt\u001b[0m                         Traceback (most recent call last)",
      "\u001b[0;32m<ipython-input-15-85f6780316a0>\u001b[0m in \u001b[0;36m<module>\u001b[0;34m()\u001b[0m\n\u001b[1;32m     32\u001b[0m                                                       d[2])\n\u001b[1;32m     33\u001b[0m       \u001b[0mprint\u001b[0m\u001b[0;34m(\u001b[0m\u001b[0;34m'slice no:'\u001b[0m\u001b[0;34m+\u001b[0m\u001b[0mstr\u001b[0m\u001b[0;34m(\u001b[0m\u001b[0mi\u001b[0m\u001b[0;34m)\u001b[0m\u001b[0;34m)\u001b[0m\u001b[0;34m\u001b[0m\u001b[0;34m\u001b[0m\u001b[0m\n\u001b[0;32m---> 34\u001b[0;31m       \u001b[0minfo\u001b[0m\u001b[0;34m.\u001b[0m\u001b[0mappend\u001b[0m\u001b[0;34m(\u001b[0m\u001b[0mm\u001b[0m\u001b[0;34m.\u001b[0m\u001b[0mfit\u001b[0m\u001b[0;34m(\u001b[0m\u001b[0;34m[\u001b[0m\u001b[0mX1\u001b[0m\u001b[0;34m,\u001b[0m\u001b[0mX2\u001b[0m\u001b[0;34m]\u001b[0m\u001b[0;34m,\u001b[0m\u001b[0my\u001b[0m\u001b[0;34m,\u001b[0m\u001b[0mepochs\u001b[0m\u001b[0;34m=\u001b[0m\u001b[0;36m2\u001b[0m\u001b[0;34m,\u001b[0m\u001b[0mbatch_size\u001b[0m\u001b[0;34m=\u001b[0m\u001b[0;36m256\u001b[0m\u001b[0;34m,\u001b[0m\u001b[0mclass_weight\u001b[0m\u001b[0;34m=\u001b[0m \u001b[0mclass_weights\u001b[0m\u001b[0;34m)\u001b[0m\u001b[0;34m)\u001b[0m\u001b[0;34m\u001b[0m\u001b[0;34m\u001b[0m\u001b[0m\n\u001b[0m\u001b[1;32m     35\u001b[0m       \u001b[0mm\u001b[0m\u001b[0;34m.\u001b[0m\u001b[0msave\u001b[0m\u001b[0;34m(\u001b[0m\u001b[0;34m'trial_MFCcascade_acc.h5'\u001b[0m\u001b[0;34m)\u001b[0m\u001b[0;34m\u001b[0m\u001b[0;34m\u001b[0m\u001b[0m\n",
      "\u001b[0;32m/usr/local/lib/python3.6/dist-packages/keras/engine/training.py\u001b[0m in \u001b[0;36mfit\u001b[0;34m(self, x, y, batch_size, epochs, verbose, callbacks, validation_split, validation_data, shuffle, class_weight, sample_weight, initial_epoch, steps_per_epoch, validation_steps, **kwargs)\u001b[0m\n\u001b[1;32m   1037\u001b[0m                                         \u001b[0minitial_epoch\u001b[0m\u001b[0;34m=\u001b[0m\u001b[0minitial_epoch\u001b[0m\u001b[0;34m,\u001b[0m\u001b[0;34m\u001b[0m\u001b[0;34m\u001b[0m\u001b[0m\n\u001b[1;32m   1038\u001b[0m                                         \u001b[0msteps_per_epoch\u001b[0m\u001b[0;34m=\u001b[0m\u001b[0msteps_per_epoch\u001b[0m\u001b[0;34m,\u001b[0m\u001b[0;34m\u001b[0m\u001b[0;34m\u001b[0m\u001b[0m\n\u001b[0;32m-> 1039\u001b[0;31m                                         validation_steps=validation_steps)\n\u001b[0m\u001b[1;32m   1040\u001b[0m \u001b[0;34m\u001b[0m\u001b[0m\n\u001b[1;32m   1041\u001b[0m     def evaluate(self, x=None, y=None,\n",
      "\u001b[0;32m/usr/local/lib/python3.6/dist-packages/keras/engine/training_arrays.py\u001b[0m in \u001b[0;36mfit_loop\u001b[0;34m(model, f, ins, out_labels, batch_size, epochs, verbose, callbacks, val_f, val_ins, shuffle, callback_metrics, initial_epoch, steps_per_epoch, validation_steps)\u001b[0m\n\u001b[1;32m    197\u001b[0m                     \u001b[0mins_batch\u001b[0m\u001b[0;34m[\u001b[0m\u001b[0mi\u001b[0m\u001b[0;34m]\u001b[0m \u001b[0;34m=\u001b[0m \u001b[0mins_batch\u001b[0m\u001b[0;34m[\u001b[0m\u001b[0mi\u001b[0m\u001b[0;34m]\u001b[0m\u001b[0;34m.\u001b[0m\u001b[0mtoarray\u001b[0m\u001b[0;34m(\u001b[0m\u001b[0;34m)\u001b[0m\u001b[0;34m\u001b[0m\u001b[0;34m\u001b[0m\u001b[0m\n\u001b[1;32m    198\u001b[0m \u001b[0;34m\u001b[0m\u001b[0m\n\u001b[0;32m--> 199\u001b[0;31m                 \u001b[0mouts\u001b[0m \u001b[0;34m=\u001b[0m \u001b[0mf\u001b[0m\u001b[0;34m(\u001b[0m\u001b[0mins_batch\u001b[0m\u001b[0;34m)\u001b[0m\u001b[0;34m\u001b[0m\u001b[0;34m\u001b[0m\u001b[0m\n\u001b[0m\u001b[1;32m    200\u001b[0m                 \u001b[0mouts\u001b[0m \u001b[0;34m=\u001b[0m \u001b[0mto_list\u001b[0m\u001b[0;34m(\u001b[0m\u001b[0mouts\u001b[0m\u001b[0;34m)\u001b[0m\u001b[0;34m\u001b[0m\u001b[0;34m\u001b[0m\u001b[0m\n\u001b[1;32m    201\u001b[0m                 \u001b[0;32mfor\u001b[0m \u001b[0ml\u001b[0m\u001b[0;34m,\u001b[0m \u001b[0mo\u001b[0m \u001b[0;32min\u001b[0m \u001b[0mzip\u001b[0m\u001b[0;34m(\u001b[0m\u001b[0mout_labels\u001b[0m\u001b[0;34m,\u001b[0m \u001b[0mouts\u001b[0m\u001b[0;34m)\u001b[0m\u001b[0;34m:\u001b[0m\u001b[0;34m\u001b[0m\u001b[0;34m\u001b[0m\u001b[0m\n",
      "\u001b[0;32m/usr/local/lib/python3.6/dist-packages/keras/backend/tensorflow_backend.py\u001b[0m in \u001b[0;36m__call__\u001b[0;34m(self, inputs)\u001b[0m\n\u001b[1;32m   2713\u001b[0m                 \u001b[0;32mreturn\u001b[0m \u001b[0mself\u001b[0m\u001b[0;34m.\u001b[0m\u001b[0m_legacy_call\u001b[0m\u001b[0;34m(\u001b[0m\u001b[0minputs\u001b[0m\u001b[0;34m)\u001b[0m\u001b[0;34m\u001b[0m\u001b[0;34m\u001b[0m\u001b[0m\n\u001b[1;32m   2714\u001b[0m \u001b[0;34m\u001b[0m\u001b[0m\n\u001b[0;32m-> 2715\u001b[0;31m             \u001b[0;32mreturn\u001b[0m \u001b[0mself\u001b[0m\u001b[0;34m.\u001b[0m\u001b[0m_call\u001b[0m\u001b[0;34m(\u001b[0m\u001b[0minputs\u001b[0m\u001b[0;34m)\u001b[0m\u001b[0;34m\u001b[0m\u001b[0;34m\u001b[0m\u001b[0m\n\u001b[0m\u001b[1;32m   2716\u001b[0m         \u001b[0;32melse\u001b[0m\u001b[0;34m:\u001b[0m\u001b[0;34m\u001b[0m\u001b[0;34m\u001b[0m\u001b[0m\n\u001b[1;32m   2717\u001b[0m             \u001b[0;32mif\u001b[0m \u001b[0mpy_any\u001b[0m\u001b[0;34m(\u001b[0m\u001b[0mis_tensor\u001b[0m\u001b[0;34m(\u001b[0m\u001b[0mx\u001b[0m\u001b[0;34m)\u001b[0m \u001b[0;32mfor\u001b[0m \u001b[0mx\u001b[0m \u001b[0;32min\u001b[0m \u001b[0minputs\u001b[0m\u001b[0;34m)\u001b[0m\u001b[0;34m:\u001b[0m\u001b[0;34m\u001b[0m\u001b[0;34m\u001b[0m\u001b[0m\n",
      "\u001b[0;32m/usr/local/lib/python3.6/dist-packages/keras/backend/tensorflow_backend.py\u001b[0m in \u001b[0;36m_call\u001b[0;34m(self, inputs)\u001b[0m\n\u001b[1;32m   2673\u001b[0m             \u001b[0mfetched\u001b[0m \u001b[0;34m=\u001b[0m \u001b[0mself\u001b[0m\u001b[0;34m.\u001b[0m\u001b[0m_callable_fn\u001b[0m\u001b[0;34m(\u001b[0m\u001b[0;34m*\u001b[0m\u001b[0marray_vals\u001b[0m\u001b[0;34m,\u001b[0m \u001b[0mrun_metadata\u001b[0m\u001b[0;34m=\u001b[0m\u001b[0mself\u001b[0m\u001b[0;34m.\u001b[0m\u001b[0mrun_metadata\u001b[0m\u001b[0;34m)\u001b[0m\u001b[0;34m\u001b[0m\u001b[0;34m\u001b[0m\u001b[0m\n\u001b[1;32m   2674\u001b[0m         \u001b[0;32melse\u001b[0m\u001b[0;34m:\u001b[0m\u001b[0;34m\u001b[0m\u001b[0;34m\u001b[0m\u001b[0m\n\u001b[0;32m-> 2675\u001b[0;31m             \u001b[0mfetched\u001b[0m \u001b[0;34m=\u001b[0m \u001b[0mself\u001b[0m\u001b[0;34m.\u001b[0m\u001b[0m_callable_fn\u001b[0m\u001b[0;34m(\u001b[0m\u001b[0;34m*\u001b[0m\u001b[0marray_vals\u001b[0m\u001b[0;34m)\u001b[0m\u001b[0;34m\u001b[0m\u001b[0;34m\u001b[0m\u001b[0m\n\u001b[0m\u001b[1;32m   2676\u001b[0m         \u001b[0;32mreturn\u001b[0m \u001b[0mfetched\u001b[0m\u001b[0;34m[\u001b[0m\u001b[0;34m:\u001b[0m\u001b[0mlen\u001b[0m\u001b[0;34m(\u001b[0m\u001b[0mself\u001b[0m\u001b[0;34m.\u001b[0m\u001b[0moutputs\u001b[0m\u001b[0;34m)\u001b[0m\u001b[0;34m]\u001b[0m\u001b[0;34m\u001b[0m\u001b[0;34m\u001b[0m\u001b[0m\n\u001b[1;32m   2677\u001b[0m \u001b[0;34m\u001b[0m\u001b[0m\n",
      "\u001b[0;32m/usr/local/lib/python3.6/dist-packages/tensorflow/python/client/session.py\u001b[0m in \u001b[0;36m__call__\u001b[0;34m(self, *args, **kwargs)\u001b[0m\n\u001b[1;32m   1437\u001b[0m           ret = tf_session.TF_SessionRunCallable(\n\u001b[1;32m   1438\u001b[0m               \u001b[0mself\u001b[0m\u001b[0;34m.\u001b[0m\u001b[0m_session\u001b[0m\u001b[0;34m.\u001b[0m\u001b[0m_session\u001b[0m\u001b[0;34m,\u001b[0m \u001b[0mself\u001b[0m\u001b[0;34m.\u001b[0m\u001b[0m_handle\u001b[0m\u001b[0;34m,\u001b[0m \u001b[0margs\u001b[0m\u001b[0;34m,\u001b[0m \u001b[0mstatus\u001b[0m\u001b[0;34m,\u001b[0m\u001b[0;34m\u001b[0m\u001b[0;34m\u001b[0m\u001b[0m\n\u001b[0;32m-> 1439\u001b[0;31m               run_metadata_ptr)\n\u001b[0m\u001b[1;32m   1440\u001b[0m         \u001b[0;32mif\u001b[0m \u001b[0mrun_metadata\u001b[0m\u001b[0;34m:\u001b[0m\u001b[0;34m\u001b[0m\u001b[0;34m\u001b[0m\u001b[0m\n\u001b[1;32m   1441\u001b[0m           \u001b[0mproto_data\u001b[0m \u001b[0;34m=\u001b[0m \u001b[0mtf_session\u001b[0m\u001b[0;34m.\u001b[0m\u001b[0mTF_GetBuffer\u001b[0m\u001b[0;34m(\u001b[0m\u001b[0mrun_metadata_ptr\u001b[0m\u001b[0;34m)\u001b[0m\u001b[0;34m\u001b[0m\u001b[0;34m\u001b[0m\u001b[0m\n",
      "\u001b[0;31mKeyboardInterrupt\u001b[0m: "
     ]
    }
   ],
   "source": [
    "  path = 'HG/0002'\n",
    "  p = os.listdir(path)\n",
    "  p.sort(key=str.lower)\n",
    "  arr = []\n",
    "  for i in range(len(p)):\n",
    "    if(i != 4):\n",
    "      p1 = os.listdir(path+'/'+p[i])\n",
    "      p1.sort()\n",
    "      img = sitk.ReadImage(path+'/'+p[i]+'/'+p1[-1])\n",
    "      arr.append(sitk.GetArrayFromImage(img))\n",
    "    else:\n",
    "      p1 = os.listdir(path+'/'+p[i])\n",
    "      img = sitk.ReadImage(path+'/'+p[i]+'/'+p1[0])\n",
    "      Y_labels = sitk.GetArrayFromImage(img)    \n",
    "  data = np.zeros((Y_labels.shape[1],Y_labels.shape[0],Y_labels.shape[2],4))\n",
    "  for i in range(Y_labels.shape[1]):\n",
    "    data[i,:,:,0] = arr[0][:,i,:]\n",
    "    data[i,:,:,1] = arr[1][:,i,:]\n",
    "    data[i,:,:,2] = arr[2][:,i,:]\n",
    "    data[i,:,:,3] = arr[3][:,i,:]\n",
    "    info = []\n",
    "    for i in range(100,data.shape[0],2):\n",
    "      d = data_gen(data,Y_labels,i,3)\n",
    "      if(len(d) != 0):\n",
    "        y = np.zeros((d[2].shape[0],1,1,5))\n",
    "        for j in range(y.shape[0]):\n",
    "          y[j,:,:,d[2][j]] = 1\n",
    "        X1 = d[0]\n",
    "        X2 = d[1]\n",
    "        class_weights = class_weight.compute_class_weight('balanced',\n",
    "                                                        np.unique(d[2]),\n",
    "                                                        d[2])\n",
    "        print('slice no:'+str(i)) \n",
    "        info.append(m.fit([X1,X2],y,epochs=2,batch_size=256,class_weight= class_weights))\n",
    "        m.save('trial_MFCcascade_acc.h5')"
   ]
  },
  {
   "cell_type": "code",
   "execution_count": 0,
   "metadata": {
    "colab": {},
    "colab_type": "code",
    "id": "wKJo3vz-vIbE"
   },
   "outputs": [],
   "source": [
    "def model_gen(input_dim,x,y,slice_no):\n",
    "  X1 = []\n",
    "  X2 = []\n",
    "  Y = []\n",
    "  \n",
    "  for i in range(int((input_dim)/2),y.shape[0]-int((input_dim)/2)):\n",
    "    for j in range(int((input_dim)/2),y.shape[2]-int((input_dim)/2)):\n",
    "      if(x[i-16:i+17,j-16:j+17,:].any != 0):\n",
    "        X2.append(x[i-16:i+17,j-16:j+17,:])\n",
    "        X1.append(x[i-int((input_dim)/2):i+int((input_dim)/2)+1,j-int((input_dim)/2):j+int((input_dim)/2)+1,:])\n",
    "        Y.append(y[i,slice_no,j])\n",
    "      \n",
    "      \n",
    "  X1 = np.asarray(X1)\n",
    "  X2 = np.asarray(X2)\n",
    "  Y = np.asarray(Y)\n",
    "  d = [X1,X2,Y]\n",
    "  return d"
   ]
  },
  {
   "cell_type": "code",
   "execution_count": 0,
   "metadata": {
    "colab": {},
    "colab_type": "code",
    "id": "6ksYaB_nvIku"
   },
   "outputs": [],
   "source": [
    "def data_gen(data,y,slice_no,model_no):\n",
    "  d = []\n",
    "  x = data[slice_no]\n",
    "  if(x.any() != 0 and y.any() != 0):\n",
    "    if(model_no == 0):\n",
    "      X1 = []\n",
    "      for i in range(16,159):\n",
    "        for j in range(16,199):\n",
    "          if(x[i-16:i+17,j-16:j+17,:].all != 0):\n",
    "            X1.append(x[i-16:i+17,j-16:j+17,:])\n",
    "      Y1 = []\n",
    "      for i in range(16,159):\n",
    "        for j in range(16,199):\n",
    "          if(x[i-16:i+17,j-16:j+17,:].all != 0):\n",
    "            Y1.append(y[i,slice_no,j]) \n",
    "      X1 = np.asarray(X1)\n",
    "      Y1 = np.asarray(Y1)\n",
    "      d = [X1,Y1]\n",
    "    elif(model_no == 1):\n",
    "      d = model_gen(65,x,y,slice_no)\n",
    "    elif(model_no == 2):\n",
    "      d = model_gen(56,x,y,slice_no)\n",
    "    elif(model_no == 3):\n",
    "      d = model_gen(53,x,y,slice_no)  \n",
    "    \n",
    "  return d   "
   ]
  },
  {
   "cell_type": "code",
   "execution_count": 0,
   "metadata": {
    "colab": {},
    "colab_type": "code",
    "id": "KO4q71821640"
   },
   "outputs": [],
   "source": [
    "from sklearn.utils import class_weight"
   ]
  },
  {
   "cell_type": "code",
   "execution_count": 17,
   "metadata": {
    "colab": {
     "base_uri": "https://localhost:8080/",
     "height": 1085
    },
    "colab_type": "code",
    "executionInfo": {
     "elapsed": 407357,
     "status": "error",
     "timestamp": 1560105646044,
     "user": {
      "displayName": "robinraj EY",
      "photoUrl": "",
      "userId": "17540945510930744551"
     },
     "user_tz": -330
    },
    "id": "j3w3PGTRvI-L",
    "outputId": "e24fa5be-88a5-4c33-a7a4-60f15621861b"
   },
   "outputs": [
    {
     "name": "stdout",
     "output_type": "stream",
     "text": [
      "slice no:40\n",
      "13392/13392 [==============================] - 18s 1ms/step\n",
      "slice no:41\n",
      "13392/13392 [==============================] - 19s 1ms/step\n",
      "slice no:42\n",
      "13392/13392 [==============================] - 18s 1ms/step\n",
      "slice no:43\n",
      "13392/13392 [==============================] - 19s 1ms/step\n",
      "slice no:44\n",
      "13392/13392 [==============================] - 18s 1ms/step\n",
      "slice no:45\n",
      "13392/13392 [==============================] - 19s 1ms/step\n",
      "slice no:46\n",
      "13392/13392 [==============================] - 18s 1ms/step\n",
      "slice no:47\n",
      "13392/13392 [==============================] - 19s 1ms/step\n",
      "slice no:48\n",
      "13392/13392 [==============================] - 19s 1ms/step\n",
      "slice no:49\n",
      "13392/13392 [==============================] - 19s 1ms/step\n",
      "slice no:50\n",
      "13392/13392 [==============================] - 19s 1ms/step\n",
      "slice no:51\n",
      "13392/13392 [==============================] - 19s 1ms/step\n",
      "slice no:52\n",
      "13392/13392 [==============================] - 19s 1ms/step\n",
      "slice no:53\n",
      "13392/13392 [==============================] - 19s 1ms/step\n",
      "slice no:54\n",
      "13392/13392 [==============================] - 19s 1ms/step\n",
      "slice no:55\n",
      "13392/13392 [==============================] - 19s 1ms/step\n",
      "slice no:56\n",
      "13392/13392 [==============================] - 19s 1ms/step\n",
      "slice no:57\n",
      "13392/13392 [==============================] - 19s 1ms/step\n",
      "slice no:58\n",
      "13392/13392 [==============================] - 19s 1ms/step\n"
     ]
    },
    {
     "ename": "KeyboardInterrupt",
     "evalue": "ignored",
     "output_type": "error",
     "traceback": [
      "\u001b[0;31m---------------------------------------------------------------------------\u001b[0m",
      "\u001b[0;31mKeyboardInterrupt\u001b[0m                         Traceback (most recent call last)",
      "\u001b[0;32m<ipython-input-17-6a50d817a320>\u001b[0m in \u001b[0;36m<module>\u001b[0;34m()\u001b[0m\n\u001b[1;32m      1\u001b[0m \u001b[0minfo\u001b[0m \u001b[0;34m=\u001b[0m \u001b[0;34m[\u001b[0m\u001b[0;34m]\u001b[0m\u001b[0;34m\u001b[0m\u001b[0;34m\u001b[0m\u001b[0m\n\u001b[1;32m      2\u001b[0m \u001b[0;32mfor\u001b[0m \u001b[0mi\u001b[0m \u001b[0;32min\u001b[0m \u001b[0mrange\u001b[0m\u001b[0;34m(\u001b[0m\u001b[0;36m0\u001b[0m\u001b[0;34m,\u001b[0m\u001b[0mdata\u001b[0m\u001b[0;34m.\u001b[0m\u001b[0mshape\u001b[0m\u001b[0;34m[\u001b[0m\u001b[0;36m0\u001b[0m\u001b[0;34m]\u001b[0m\u001b[0;34m)\u001b[0m\u001b[0;34m:\u001b[0m\u001b[0;34m\u001b[0m\u001b[0;34m\u001b[0m\u001b[0m\n\u001b[0;32m----> 3\u001b[0;31m   \u001b[0md\u001b[0m \u001b[0;34m=\u001b[0m \u001b[0mdata_gen\u001b[0m\u001b[0;34m(\u001b[0m\u001b[0mdata\u001b[0m\u001b[0;34m,\u001b[0m\u001b[0mY_labels\u001b[0m\u001b[0;34m,\u001b[0m\u001b[0mi\u001b[0m\u001b[0;34m,\u001b[0m\u001b[0;36m3\u001b[0m\u001b[0;34m)\u001b[0m\u001b[0;34m\u001b[0m\u001b[0;34m\u001b[0m\u001b[0m\n\u001b[0m\u001b[1;32m      4\u001b[0m   \u001b[0;32mif\u001b[0m\u001b[0;34m(\u001b[0m\u001b[0mlen\u001b[0m\u001b[0;34m(\u001b[0m\u001b[0md\u001b[0m\u001b[0;34m)\u001b[0m \u001b[0;34m!=\u001b[0m \u001b[0;36m0\u001b[0m\u001b[0;34m)\u001b[0m\u001b[0;34m:\u001b[0m\u001b[0;34m\u001b[0m\u001b[0;34m\u001b[0m\u001b[0m\n\u001b[1;32m      5\u001b[0m     \u001b[0my\u001b[0m \u001b[0;34m=\u001b[0m \u001b[0mnp\u001b[0m\u001b[0;34m.\u001b[0m\u001b[0mzeros\u001b[0m\u001b[0;34m(\u001b[0m\u001b[0;34m(\u001b[0m\u001b[0md\u001b[0m\u001b[0;34m[\u001b[0m\u001b[0;36m2\u001b[0m\u001b[0;34m]\u001b[0m\u001b[0;34m.\u001b[0m\u001b[0mshape\u001b[0m\u001b[0;34m[\u001b[0m\u001b[0;36m0\u001b[0m\u001b[0;34m]\u001b[0m\u001b[0;34m,\u001b[0m\u001b[0;36m1\u001b[0m\u001b[0;34m,\u001b[0m\u001b[0;36m1\u001b[0m\u001b[0;34m,\u001b[0m\u001b[0;36m5\u001b[0m\u001b[0;34m)\u001b[0m\u001b[0;34m)\u001b[0m\u001b[0;34m\u001b[0m\u001b[0;34m\u001b[0m\u001b[0m\n",
      "\u001b[0;32m<ipython-input-11-6788e6d5ee14>\u001b[0m in \u001b[0;36mdata_gen\u001b[0;34m(data, y, slice_no, model_no)\u001b[0m\n\u001b[1;32m     22\u001b[0m       \u001b[0md\u001b[0m \u001b[0;34m=\u001b[0m \u001b[0mmodel_gen\u001b[0m\u001b[0;34m(\u001b[0m\u001b[0;36m56\u001b[0m\u001b[0;34m,\u001b[0m\u001b[0mx\u001b[0m\u001b[0;34m,\u001b[0m\u001b[0my\u001b[0m\u001b[0;34m,\u001b[0m\u001b[0mslice_no\u001b[0m\u001b[0;34m)\u001b[0m\u001b[0;34m\u001b[0m\u001b[0;34m\u001b[0m\u001b[0m\n\u001b[1;32m     23\u001b[0m     \u001b[0;32melif\u001b[0m\u001b[0;34m(\u001b[0m\u001b[0mmodel_no\u001b[0m \u001b[0;34m==\u001b[0m \u001b[0;36m3\u001b[0m\u001b[0;34m)\u001b[0m\u001b[0;34m:\u001b[0m\u001b[0;34m\u001b[0m\u001b[0;34m\u001b[0m\u001b[0m\n\u001b[0;32m---> 24\u001b[0;31m       \u001b[0md\u001b[0m \u001b[0;34m=\u001b[0m \u001b[0mmodel_gen\u001b[0m\u001b[0;34m(\u001b[0m\u001b[0;36m53\u001b[0m\u001b[0;34m,\u001b[0m\u001b[0mx\u001b[0m\u001b[0;34m,\u001b[0m\u001b[0my\u001b[0m\u001b[0;34m,\u001b[0m\u001b[0mslice_no\u001b[0m\u001b[0;34m)\u001b[0m\u001b[0;34m\u001b[0m\u001b[0;34m\u001b[0m\u001b[0m\n\u001b[0m\u001b[1;32m     25\u001b[0m \u001b[0;34m\u001b[0m\u001b[0m\n\u001b[1;32m     26\u001b[0m   \u001b[0;32mreturn\u001b[0m \u001b[0md\u001b[0m\u001b[0;34m\u001b[0m\u001b[0;34m\u001b[0m\u001b[0m\n",
      "\u001b[0;32m<ipython-input-12-72e2b4ca9b3e>\u001b[0m in \u001b[0;36mmodel_gen\u001b[0;34m(input_dim, x, y, slice_no)\u001b[0m\n\u001b[1;32m     12\u001b[0m \u001b[0;34m\u001b[0m\u001b[0m\n\u001b[1;32m     13\u001b[0m \u001b[0;34m\u001b[0m\u001b[0m\n\u001b[0;32m---> 14\u001b[0;31m   \u001b[0mX1\u001b[0m \u001b[0;34m=\u001b[0m \u001b[0mnp\u001b[0m\u001b[0;34m.\u001b[0m\u001b[0masarray\u001b[0m\u001b[0;34m(\u001b[0m\u001b[0mX1\u001b[0m\u001b[0;34m)\u001b[0m\u001b[0;34m\u001b[0m\u001b[0;34m\u001b[0m\u001b[0m\n\u001b[0m\u001b[1;32m     15\u001b[0m   \u001b[0mX2\u001b[0m \u001b[0;34m=\u001b[0m \u001b[0mnp\u001b[0m\u001b[0;34m.\u001b[0m\u001b[0masarray\u001b[0m\u001b[0;34m(\u001b[0m\u001b[0mX2\u001b[0m\u001b[0;34m)\u001b[0m\u001b[0;34m\u001b[0m\u001b[0;34m\u001b[0m\u001b[0m\n\u001b[1;32m     16\u001b[0m   \u001b[0mY\u001b[0m \u001b[0;34m=\u001b[0m \u001b[0mnp\u001b[0m\u001b[0;34m.\u001b[0m\u001b[0masarray\u001b[0m\u001b[0;34m(\u001b[0m\u001b[0mY\u001b[0m\u001b[0;34m)\u001b[0m\u001b[0;34m\u001b[0m\u001b[0;34m\u001b[0m\u001b[0m\n",
      "\u001b[0;32m/usr/local/lib/python3.6/dist-packages/numpy/core/numeric.py\u001b[0m in \u001b[0;36masarray\u001b[0;34m(a, dtype, order)\u001b[0m\n\u001b[1;32m    536\u001b[0m \u001b[0;34m\u001b[0m\u001b[0m\n\u001b[1;32m    537\u001b[0m     \"\"\"\n\u001b[0;32m--> 538\u001b[0;31m     \u001b[0;32mreturn\u001b[0m \u001b[0marray\u001b[0m\u001b[0;34m(\u001b[0m\u001b[0ma\u001b[0m\u001b[0;34m,\u001b[0m \u001b[0mdtype\u001b[0m\u001b[0;34m,\u001b[0m \u001b[0mcopy\u001b[0m\u001b[0;34m=\u001b[0m\u001b[0;32mFalse\u001b[0m\u001b[0;34m,\u001b[0m \u001b[0morder\u001b[0m\u001b[0;34m=\u001b[0m\u001b[0morder\u001b[0m\u001b[0;34m)\u001b[0m\u001b[0;34m\u001b[0m\u001b[0;34m\u001b[0m\u001b[0m\n\u001b[0m\u001b[1;32m    539\u001b[0m \u001b[0;34m\u001b[0m\u001b[0m\n\u001b[1;32m    540\u001b[0m \u001b[0;34m\u001b[0m\u001b[0m\n",
      "\u001b[0;31mKeyboardInterrupt\u001b[0m: "
     ]
    }
   ],
   "source": [
    "info = []\n",
    "for i in range(0,data.shape[0]):\n",
    "  d = data_gen(data,Y_labels,i,3)\n",
    "  if(len(d) != 0):\n",
    "    y = np.zeros((d[2].shape[0],1,1,5))\n",
    "    for j in range(y.shape[0]):\n",
    "      y[j,:,:,d[2][j]] = 1\n",
    "    X1 = d[0]\n",
    "    X2 = d[1]\n",
    "    class_weights = class_weight.compute_class_weight('balanced',\n",
    "                                                      np.unique(d[2]),\n",
    "                                                      d[2])\n",
    "    print('slice no:'+str(i))\n",
    "    info.append(m.evaluate([X1,X2],y,batch_size=256))\n",
    "    m.save('trial_0001_MFCcas_dim2_128_acc.h5')"
   ]
  },
  {
   "cell_type": "code",
   "execution_count": 0,
   "metadata": {
    "colab": {},
    "colab_type": "code",
    "id": "PRmb3ZGsAMpA"
   },
   "outputs": [],
   "source": [
    "import h5py\n",
    "hf = h5py.File('info_mfc.h5', 'w')\n",
    "hf.create_dataset('dataset_1', data=info)\n",
    "hf.close()"
   ]
  },
  {
   "cell_type": "code",
   "execution_count": 29,
   "metadata": {
    "colab": {
     "base_uri": "https://localhost:8080/",
     "height": 451
    },
    "colab_type": "code",
    "executionInfo": {
     "elapsed": 1604,
     "status": "error",
     "timestamp": 1560106151722,
     "user": {
      "displayName": "robinraj EY",
      "photoUrl": "",
      "userId": "17540945510930744551"
     },
     "user_tz": -330
    },
    "id": "T9vhdb19tkax",
    "outputId": "57a37c84-fdd1-41d2-9ade-82b24d63b1c6"
   },
   "outputs": [
    {
     "ename": "OSError",
     "evalue": "ignored",
     "output_type": "error",
     "traceback": [
      "\u001b[0;31m---------------------------------------------------------------------------\u001b[0m",
      "\u001b[0;31mOSError\u001b[0m                                   Traceback (most recent call last)",
      "\u001b[0;32m<ipython-input-29-e9516f490936>\u001b[0m in \u001b[0;36m<module>\u001b[0;34m()\u001b[0m\n\u001b[0;32m----> 1\u001b[0;31m \u001b[0mm1\u001b[0m \u001b[0;34m=\u001b[0m \u001b[0mkeras\u001b[0m\u001b[0;34m.\u001b[0m\u001b[0mmodels\u001b[0m\u001b[0;34m.\u001b[0m\u001b[0mload_model\u001b[0m\u001b[0;34m(\u001b[0m\u001b[0;34m'trial_0001_input_cascasde_acc.h5'\u001b[0m\u001b[0;34m)\u001b[0m\u001b[0;34m\u001b[0m\u001b[0;34m\u001b[0m\u001b[0m\n\u001b[0m",
      "\u001b[0;32m/usr/local/lib/python3.6/dist-packages/keras/engine/saving.py\u001b[0m in \u001b[0;36mload_model\u001b[0;34m(filepath, custom_objects, compile)\u001b[0m\n\u001b[1;32m    415\u001b[0m     \u001b[0mmodel\u001b[0m \u001b[0;34m=\u001b[0m \u001b[0;32mNone\u001b[0m\u001b[0;34m\u001b[0m\u001b[0;34m\u001b[0m\u001b[0m\n\u001b[1;32m    416\u001b[0m     \u001b[0mopened_new_file\u001b[0m \u001b[0;34m=\u001b[0m \u001b[0;32mnot\u001b[0m \u001b[0misinstance\u001b[0m\u001b[0;34m(\u001b[0m\u001b[0mfilepath\u001b[0m\u001b[0;34m,\u001b[0m \u001b[0mh5py\u001b[0m\u001b[0;34m.\u001b[0m\u001b[0mGroup\u001b[0m\u001b[0;34m)\u001b[0m\u001b[0;34m\u001b[0m\u001b[0;34m\u001b[0m\u001b[0m\n\u001b[0;32m--> 417\u001b[0;31m     \u001b[0mf\u001b[0m \u001b[0;34m=\u001b[0m \u001b[0mh5dict\u001b[0m\u001b[0;34m(\u001b[0m\u001b[0mfilepath\u001b[0m\u001b[0;34m,\u001b[0m \u001b[0;34m'r'\u001b[0m\u001b[0;34m)\u001b[0m\u001b[0;34m\u001b[0m\u001b[0;34m\u001b[0m\u001b[0m\n\u001b[0m\u001b[1;32m    418\u001b[0m     \u001b[0;32mtry\u001b[0m\u001b[0;34m:\u001b[0m\u001b[0;34m\u001b[0m\u001b[0;34m\u001b[0m\u001b[0m\n\u001b[1;32m    419\u001b[0m         \u001b[0mmodel\u001b[0m \u001b[0;34m=\u001b[0m \u001b[0m_deserialize_model\u001b[0m\u001b[0;34m(\u001b[0m\u001b[0mf\u001b[0m\u001b[0;34m,\u001b[0m \u001b[0mcustom_objects\u001b[0m\u001b[0;34m,\u001b[0m \u001b[0mcompile\u001b[0m\u001b[0;34m)\u001b[0m\u001b[0;34m\u001b[0m\u001b[0;34m\u001b[0m\u001b[0m\n",
      "\u001b[0;32m/usr/local/lib/python3.6/dist-packages/keras/utils/io_utils.py\u001b[0m in \u001b[0;36m__init__\u001b[0;34m(self, path, mode)\u001b[0m\n\u001b[1;32m    184\u001b[0m             \u001b[0mself\u001b[0m\u001b[0;34m.\u001b[0m\u001b[0m_is_file\u001b[0m \u001b[0;34m=\u001b[0m \u001b[0;32mFalse\u001b[0m\u001b[0;34m\u001b[0m\u001b[0;34m\u001b[0m\u001b[0m\n\u001b[1;32m    185\u001b[0m         \u001b[0;32melif\u001b[0m \u001b[0misinstance\u001b[0m\u001b[0;34m(\u001b[0m\u001b[0mpath\u001b[0m\u001b[0;34m,\u001b[0m \u001b[0mstr\u001b[0m\u001b[0;34m)\u001b[0m\u001b[0;34m:\u001b[0m\u001b[0;34m\u001b[0m\u001b[0;34m\u001b[0m\u001b[0m\n\u001b[0;32m--> 186\u001b[0;31m             \u001b[0mself\u001b[0m\u001b[0;34m.\u001b[0m\u001b[0mdata\u001b[0m \u001b[0;34m=\u001b[0m \u001b[0mh5py\u001b[0m\u001b[0;34m.\u001b[0m\u001b[0mFile\u001b[0m\u001b[0;34m(\u001b[0m\u001b[0mpath\u001b[0m\u001b[0;34m,\u001b[0m \u001b[0mmode\u001b[0m\u001b[0;34m=\u001b[0m\u001b[0mmode\u001b[0m\u001b[0;34m)\u001b[0m\u001b[0;34m\u001b[0m\u001b[0;34m\u001b[0m\u001b[0m\n\u001b[0m\u001b[1;32m    187\u001b[0m             \u001b[0mself\u001b[0m\u001b[0;34m.\u001b[0m\u001b[0m_is_file\u001b[0m \u001b[0;34m=\u001b[0m \u001b[0;32mTrue\u001b[0m\u001b[0;34m\u001b[0m\u001b[0;34m\u001b[0m\u001b[0m\n\u001b[1;32m    188\u001b[0m         \u001b[0;32melif\u001b[0m \u001b[0misinstance\u001b[0m\u001b[0;34m(\u001b[0m\u001b[0mpath\u001b[0m\u001b[0;34m,\u001b[0m \u001b[0mdict\u001b[0m\u001b[0;34m)\u001b[0m\u001b[0;34m:\u001b[0m\u001b[0;34m\u001b[0m\u001b[0;34m\u001b[0m\u001b[0m\n",
      "\u001b[0;32m/usr/local/lib/python3.6/dist-packages/h5py/_hl/files.py\u001b[0m in \u001b[0;36m__init__\u001b[0;34m(self, name, mode, driver, libver, userblock_size, swmr, **kwds)\u001b[0m\n\u001b[1;32m    310\u001b[0m             \u001b[0;32mwith\u001b[0m \u001b[0mphil\u001b[0m\u001b[0;34m:\u001b[0m\u001b[0;34m\u001b[0m\u001b[0;34m\u001b[0m\u001b[0m\n\u001b[1;32m    311\u001b[0m                 \u001b[0mfapl\u001b[0m \u001b[0;34m=\u001b[0m \u001b[0mmake_fapl\u001b[0m\u001b[0;34m(\u001b[0m\u001b[0mdriver\u001b[0m\u001b[0;34m,\u001b[0m \u001b[0mlibver\u001b[0m\u001b[0;34m,\u001b[0m \u001b[0;34m**\u001b[0m\u001b[0mkwds\u001b[0m\u001b[0;34m)\u001b[0m\u001b[0;34m\u001b[0m\u001b[0;34m\u001b[0m\u001b[0m\n\u001b[0;32m--> 312\u001b[0;31m                 \u001b[0mfid\u001b[0m \u001b[0;34m=\u001b[0m \u001b[0mmake_fid\u001b[0m\u001b[0;34m(\u001b[0m\u001b[0mname\u001b[0m\u001b[0;34m,\u001b[0m \u001b[0mmode\u001b[0m\u001b[0;34m,\u001b[0m \u001b[0muserblock_size\u001b[0m\u001b[0;34m,\u001b[0m \u001b[0mfapl\u001b[0m\u001b[0;34m,\u001b[0m \u001b[0mswmr\u001b[0m\u001b[0;34m=\u001b[0m\u001b[0mswmr\u001b[0m\u001b[0;34m)\u001b[0m\u001b[0;34m\u001b[0m\u001b[0;34m\u001b[0m\u001b[0m\n\u001b[0m\u001b[1;32m    313\u001b[0m \u001b[0;34m\u001b[0m\u001b[0m\n\u001b[1;32m    314\u001b[0m                 \u001b[0;32mif\u001b[0m \u001b[0mswmr_support\u001b[0m\u001b[0;34m:\u001b[0m\u001b[0;34m\u001b[0m\u001b[0;34m\u001b[0m\u001b[0m\n",
      "\u001b[0;32m/usr/local/lib/python3.6/dist-packages/h5py/_hl/files.py\u001b[0m in \u001b[0;36mmake_fid\u001b[0;34m(name, mode, userblock_size, fapl, fcpl, swmr)\u001b[0m\n\u001b[1;32m    140\u001b[0m         \u001b[0;32mif\u001b[0m \u001b[0mswmr\u001b[0m \u001b[0;32mand\u001b[0m \u001b[0mswmr_support\u001b[0m\u001b[0;34m:\u001b[0m\u001b[0;34m\u001b[0m\u001b[0;34m\u001b[0m\u001b[0m\n\u001b[1;32m    141\u001b[0m             \u001b[0mflags\u001b[0m \u001b[0;34m|=\u001b[0m \u001b[0mh5f\u001b[0m\u001b[0;34m.\u001b[0m\u001b[0mACC_SWMR_READ\u001b[0m\u001b[0;34m\u001b[0m\u001b[0;34m\u001b[0m\u001b[0m\n\u001b[0;32m--> 142\u001b[0;31m         \u001b[0mfid\u001b[0m \u001b[0;34m=\u001b[0m \u001b[0mh5f\u001b[0m\u001b[0;34m.\u001b[0m\u001b[0mopen\u001b[0m\u001b[0;34m(\u001b[0m\u001b[0mname\u001b[0m\u001b[0;34m,\u001b[0m \u001b[0mflags\u001b[0m\u001b[0;34m,\u001b[0m \u001b[0mfapl\u001b[0m\u001b[0;34m=\u001b[0m\u001b[0mfapl\u001b[0m\u001b[0;34m)\u001b[0m\u001b[0;34m\u001b[0m\u001b[0;34m\u001b[0m\u001b[0m\n\u001b[0m\u001b[1;32m    143\u001b[0m     \u001b[0;32melif\u001b[0m \u001b[0mmode\u001b[0m \u001b[0;34m==\u001b[0m \u001b[0;34m'r+'\u001b[0m\u001b[0;34m:\u001b[0m\u001b[0;34m\u001b[0m\u001b[0;34m\u001b[0m\u001b[0m\n\u001b[1;32m    144\u001b[0m         \u001b[0mfid\u001b[0m \u001b[0;34m=\u001b[0m \u001b[0mh5f\u001b[0m\u001b[0;34m.\u001b[0m\u001b[0mopen\u001b[0m\u001b[0;34m(\u001b[0m\u001b[0mname\u001b[0m\u001b[0;34m,\u001b[0m \u001b[0mh5f\u001b[0m\u001b[0;34m.\u001b[0m\u001b[0mACC_RDWR\u001b[0m\u001b[0;34m,\u001b[0m \u001b[0mfapl\u001b[0m\u001b[0;34m=\u001b[0m\u001b[0mfapl\u001b[0m\u001b[0;34m)\u001b[0m\u001b[0;34m\u001b[0m\u001b[0;34m\u001b[0m\u001b[0m\n",
      "\u001b[0;32mh5py/_objects.pyx\u001b[0m in \u001b[0;36mh5py._objects.with_phil.wrapper\u001b[0;34m()\u001b[0m\n",
      "\u001b[0;32mh5py/_objects.pyx\u001b[0m in \u001b[0;36mh5py._objects.with_phil.wrapper\u001b[0;34m()\u001b[0m\n",
      "\u001b[0;32mh5py/h5f.pyx\u001b[0m in \u001b[0;36mh5py.h5f.open\u001b[0;34m()\u001b[0m\n",
      "\u001b[0;31mOSError\u001b[0m: Unable to open file (unable to open file: name = 'trial_0001_input_cascasde_acc.h5', errno = 2, error message = 'No such file or directory', flags = 0, o_flags = 0)"
     ]
    }
   ],
   "source": [
    "m1 = keras.models.load_model('trial_0001_input_cascasde_acc.h5')"
   ]
  },
  {
   "cell_type": "code",
   "execution_count": 0,
   "metadata": {
    "colab": {},
    "colab_type": "code",
    "id": "cQfefZWUtgk9"
   },
   "outputs": [],
   "source": [
    "info1 = []\n",
    "for i in range(0,data.shape[0]):\n",
    "  d = data_gen(data,Y_labels,i,1)\n",
    "  if(len(d) != 0):\n",
    "    y = np.zeros((d[2].shape[0],1,1,5))\n",
    "    for j in range(y.shape[0]):\n",
    "      y[j,:,:,d[2][j]] = 1\n",
    "    X1 = d[0]\n",
    "    X2 = d[1]\n",
    "    class_weights = class_weight.compute_class_weight('balanced',\n",
    "                                                      np.unique(d[2]),\n",
    "                                                      d[2])\n",
    "    print('slice no:'+str(i))\n",
    "    info1.append(m1.evaluate([X1,X2],y,batch_size=256))\n",
    "    #model.save('trial_0001_MFCcas_dim2_128_acc.h5')"
   ]
  },
  {
   "cell_type": "code",
   "execution_count": 0,
   "metadata": {
    "colab": {},
    "colab_type": "code",
    "id": "QDNByOfU-oe3"
   },
   "outputs": [],
   "source": [
    "info1"
   ]
  },
  {
   "cell_type": "code",
   "execution_count": 0,
   "metadata": {
    "colab": {},
    "colab_type": "code",
    "id": "kPDwJjKZuwym"
   },
   "outputs": [],
   "source": [
    "import h5py\n",
    "hf = h5py.File('info1_input.h5', 'w')\n",
    "hf.create_dataset('dataset_1', data=info1)\n",
    "hf.close()"
   ]
  },
  {
   "cell_type": "code",
   "execution_count": 0,
   "metadata": {
    "colab": {},
    "colab_type": "code",
    "id": "3S8DMlG3xtFs"
   },
   "outputs": [],
   "source": [
    "info = []\n",
    "for i in range(100,data.shape[0],2):\n",
    "  d = data_gen(data,Y_labels,i,3)\n",
    "  if(len(d) != 0):\n",
    "    y = np.zeros((d[2].shape[0],1,1,5))\n",
    "    for j in range(y.shape[0]):\n",
    "      y[j,:,:,d[2][j]] = 1\n",
    "    X1 = d[0]\n",
    "    X2 = d[1]\n",
    "    class_weights = class_weight.compute_class_weight('balanced',\n",
    "                                                      np.unique(d[2]),\n",
    "                                                      d[2])\n",
    "    print('slice no:'+str(i))\n",
    "    info.append(m.fit([X1,X2],y,epochs=2,batch_size=256,class_weight= class_weights))\n",
    "    m.save('trial_MFCcascade_acc.h5')"
   ]
  },
  {
   "cell_type": "code",
   "execution_count": 0,
   "metadata": {
    "colab": {},
    "colab_type": "code",
    "id": "DvGv09wIReuo"
   },
   "outputs": [],
   "source": [
    "len(info)"
   ]
  },
  {
   "cell_type": "markdown",
   "metadata": {
    "colab_type": "text",
    "id": "0QDY16fO0ki5"
   },
   "source": [
    "InputCascadeCNN training"
   ]
  },
  {
   "cell_type": "code",
   "execution_count": 20,
   "metadata": {
    "colab": {
     "base_uri": "https://localhost:8080/",
     "height": 451
    },
    "colab_type": "code",
    "executionInfo": {
     "elapsed": 2078,
     "status": "error",
     "timestamp": 1560105688273,
     "user": {
      "displayName": "robinraj EY",
      "photoUrl": "",
      "userId": "17540945510930744551"
     },
     "user_tz": -330
    },
    "id": "Pc4m0s55hFKU",
    "outputId": "f0c44807-2ebd-466a-db4f-24fa57abacac"
   },
   "outputs": [
    {
     "ename": "OSError",
     "evalue": "ignored",
     "output_type": "error",
     "traceback": [
      "\u001b[0;31m---------------------------------------------------------------------------\u001b[0m",
      "\u001b[0;31mOSError\u001b[0m                                   Traceback (most recent call last)",
      "\u001b[0;32m<ipython-input-20-e9516f490936>\u001b[0m in \u001b[0;36m<module>\u001b[0;34m()\u001b[0m\n\u001b[0;32m----> 1\u001b[0;31m \u001b[0mm1\u001b[0m \u001b[0;34m=\u001b[0m \u001b[0mkeras\u001b[0m\u001b[0;34m.\u001b[0m\u001b[0mmodels\u001b[0m\u001b[0;34m.\u001b[0m\u001b[0mload_model\u001b[0m\u001b[0;34m(\u001b[0m\u001b[0;34m'trial_0001_input_cascasde_acc.h5'\u001b[0m\u001b[0;34m)\u001b[0m\u001b[0;34m\u001b[0m\u001b[0;34m\u001b[0m\u001b[0m\n\u001b[0m",
      "\u001b[0;32m/usr/local/lib/python3.6/dist-packages/keras/engine/saving.py\u001b[0m in \u001b[0;36mload_model\u001b[0;34m(filepath, custom_objects, compile)\u001b[0m\n\u001b[1;32m    415\u001b[0m     \u001b[0mmodel\u001b[0m \u001b[0;34m=\u001b[0m \u001b[0;32mNone\u001b[0m\u001b[0;34m\u001b[0m\u001b[0;34m\u001b[0m\u001b[0m\n\u001b[1;32m    416\u001b[0m     \u001b[0mopened_new_file\u001b[0m \u001b[0;34m=\u001b[0m \u001b[0;32mnot\u001b[0m \u001b[0misinstance\u001b[0m\u001b[0;34m(\u001b[0m\u001b[0mfilepath\u001b[0m\u001b[0;34m,\u001b[0m \u001b[0mh5py\u001b[0m\u001b[0;34m.\u001b[0m\u001b[0mGroup\u001b[0m\u001b[0;34m)\u001b[0m\u001b[0;34m\u001b[0m\u001b[0;34m\u001b[0m\u001b[0m\n\u001b[0;32m--> 417\u001b[0;31m     \u001b[0mf\u001b[0m \u001b[0;34m=\u001b[0m \u001b[0mh5dict\u001b[0m\u001b[0;34m(\u001b[0m\u001b[0mfilepath\u001b[0m\u001b[0;34m,\u001b[0m \u001b[0;34m'r'\u001b[0m\u001b[0;34m)\u001b[0m\u001b[0;34m\u001b[0m\u001b[0;34m\u001b[0m\u001b[0m\n\u001b[0m\u001b[1;32m    418\u001b[0m     \u001b[0;32mtry\u001b[0m\u001b[0;34m:\u001b[0m\u001b[0;34m\u001b[0m\u001b[0;34m\u001b[0m\u001b[0m\n\u001b[1;32m    419\u001b[0m         \u001b[0mmodel\u001b[0m \u001b[0;34m=\u001b[0m \u001b[0m_deserialize_model\u001b[0m\u001b[0;34m(\u001b[0m\u001b[0mf\u001b[0m\u001b[0;34m,\u001b[0m \u001b[0mcustom_objects\u001b[0m\u001b[0;34m,\u001b[0m \u001b[0mcompile\u001b[0m\u001b[0;34m)\u001b[0m\u001b[0;34m\u001b[0m\u001b[0;34m\u001b[0m\u001b[0m\n",
      "\u001b[0;32m/usr/local/lib/python3.6/dist-packages/keras/utils/io_utils.py\u001b[0m in \u001b[0;36m__init__\u001b[0;34m(self, path, mode)\u001b[0m\n\u001b[1;32m    184\u001b[0m             \u001b[0mself\u001b[0m\u001b[0;34m.\u001b[0m\u001b[0m_is_file\u001b[0m \u001b[0;34m=\u001b[0m \u001b[0;32mFalse\u001b[0m\u001b[0;34m\u001b[0m\u001b[0;34m\u001b[0m\u001b[0m\n\u001b[1;32m    185\u001b[0m         \u001b[0;32melif\u001b[0m \u001b[0misinstance\u001b[0m\u001b[0;34m(\u001b[0m\u001b[0mpath\u001b[0m\u001b[0;34m,\u001b[0m \u001b[0mstr\u001b[0m\u001b[0;34m)\u001b[0m\u001b[0;34m:\u001b[0m\u001b[0;34m\u001b[0m\u001b[0;34m\u001b[0m\u001b[0m\n\u001b[0;32m--> 186\u001b[0;31m             \u001b[0mself\u001b[0m\u001b[0;34m.\u001b[0m\u001b[0mdata\u001b[0m \u001b[0;34m=\u001b[0m \u001b[0mh5py\u001b[0m\u001b[0;34m.\u001b[0m\u001b[0mFile\u001b[0m\u001b[0;34m(\u001b[0m\u001b[0mpath\u001b[0m\u001b[0;34m,\u001b[0m \u001b[0mmode\u001b[0m\u001b[0;34m=\u001b[0m\u001b[0mmode\u001b[0m\u001b[0;34m)\u001b[0m\u001b[0;34m\u001b[0m\u001b[0;34m\u001b[0m\u001b[0m\n\u001b[0m\u001b[1;32m    187\u001b[0m             \u001b[0mself\u001b[0m\u001b[0;34m.\u001b[0m\u001b[0m_is_file\u001b[0m \u001b[0;34m=\u001b[0m \u001b[0;32mTrue\u001b[0m\u001b[0;34m\u001b[0m\u001b[0;34m\u001b[0m\u001b[0m\n\u001b[1;32m    188\u001b[0m         \u001b[0;32melif\u001b[0m \u001b[0misinstance\u001b[0m\u001b[0;34m(\u001b[0m\u001b[0mpath\u001b[0m\u001b[0;34m,\u001b[0m \u001b[0mdict\u001b[0m\u001b[0;34m)\u001b[0m\u001b[0;34m:\u001b[0m\u001b[0;34m\u001b[0m\u001b[0;34m\u001b[0m\u001b[0m\n",
      "\u001b[0;32m/usr/local/lib/python3.6/dist-packages/h5py/_hl/files.py\u001b[0m in \u001b[0;36m__init__\u001b[0;34m(self, name, mode, driver, libver, userblock_size, swmr, **kwds)\u001b[0m\n\u001b[1;32m    310\u001b[0m             \u001b[0;32mwith\u001b[0m \u001b[0mphil\u001b[0m\u001b[0;34m:\u001b[0m\u001b[0;34m\u001b[0m\u001b[0;34m\u001b[0m\u001b[0m\n\u001b[1;32m    311\u001b[0m                 \u001b[0mfapl\u001b[0m \u001b[0;34m=\u001b[0m \u001b[0mmake_fapl\u001b[0m\u001b[0;34m(\u001b[0m\u001b[0mdriver\u001b[0m\u001b[0;34m,\u001b[0m \u001b[0mlibver\u001b[0m\u001b[0;34m,\u001b[0m \u001b[0;34m**\u001b[0m\u001b[0mkwds\u001b[0m\u001b[0;34m)\u001b[0m\u001b[0;34m\u001b[0m\u001b[0;34m\u001b[0m\u001b[0m\n\u001b[0;32m--> 312\u001b[0;31m                 \u001b[0mfid\u001b[0m \u001b[0;34m=\u001b[0m \u001b[0mmake_fid\u001b[0m\u001b[0;34m(\u001b[0m\u001b[0mname\u001b[0m\u001b[0;34m,\u001b[0m \u001b[0mmode\u001b[0m\u001b[0;34m,\u001b[0m \u001b[0muserblock_size\u001b[0m\u001b[0;34m,\u001b[0m \u001b[0mfapl\u001b[0m\u001b[0;34m,\u001b[0m \u001b[0mswmr\u001b[0m\u001b[0;34m=\u001b[0m\u001b[0mswmr\u001b[0m\u001b[0;34m)\u001b[0m\u001b[0;34m\u001b[0m\u001b[0;34m\u001b[0m\u001b[0m\n\u001b[0m\u001b[1;32m    313\u001b[0m \u001b[0;34m\u001b[0m\u001b[0m\n\u001b[1;32m    314\u001b[0m                 \u001b[0;32mif\u001b[0m \u001b[0mswmr_support\u001b[0m\u001b[0;34m:\u001b[0m\u001b[0;34m\u001b[0m\u001b[0;34m\u001b[0m\u001b[0m\n",
      "\u001b[0;32m/usr/local/lib/python3.6/dist-packages/h5py/_hl/files.py\u001b[0m in \u001b[0;36mmake_fid\u001b[0;34m(name, mode, userblock_size, fapl, fcpl, swmr)\u001b[0m\n\u001b[1;32m    140\u001b[0m         \u001b[0;32mif\u001b[0m \u001b[0mswmr\u001b[0m \u001b[0;32mand\u001b[0m \u001b[0mswmr_support\u001b[0m\u001b[0;34m:\u001b[0m\u001b[0;34m\u001b[0m\u001b[0;34m\u001b[0m\u001b[0m\n\u001b[1;32m    141\u001b[0m             \u001b[0mflags\u001b[0m \u001b[0;34m|=\u001b[0m \u001b[0mh5f\u001b[0m\u001b[0;34m.\u001b[0m\u001b[0mACC_SWMR_READ\u001b[0m\u001b[0;34m\u001b[0m\u001b[0;34m\u001b[0m\u001b[0m\n\u001b[0;32m--> 142\u001b[0;31m         \u001b[0mfid\u001b[0m \u001b[0;34m=\u001b[0m \u001b[0mh5f\u001b[0m\u001b[0;34m.\u001b[0m\u001b[0mopen\u001b[0m\u001b[0;34m(\u001b[0m\u001b[0mname\u001b[0m\u001b[0;34m,\u001b[0m \u001b[0mflags\u001b[0m\u001b[0;34m,\u001b[0m \u001b[0mfapl\u001b[0m\u001b[0;34m=\u001b[0m\u001b[0mfapl\u001b[0m\u001b[0;34m)\u001b[0m\u001b[0;34m\u001b[0m\u001b[0;34m\u001b[0m\u001b[0m\n\u001b[0m\u001b[1;32m    143\u001b[0m     \u001b[0;32melif\u001b[0m \u001b[0mmode\u001b[0m \u001b[0;34m==\u001b[0m \u001b[0;34m'r+'\u001b[0m\u001b[0;34m:\u001b[0m\u001b[0;34m\u001b[0m\u001b[0;34m\u001b[0m\u001b[0m\n\u001b[1;32m    144\u001b[0m         \u001b[0mfid\u001b[0m \u001b[0;34m=\u001b[0m \u001b[0mh5f\u001b[0m\u001b[0;34m.\u001b[0m\u001b[0mopen\u001b[0m\u001b[0;34m(\u001b[0m\u001b[0mname\u001b[0m\u001b[0;34m,\u001b[0m \u001b[0mh5f\u001b[0m\u001b[0;34m.\u001b[0m\u001b[0mACC_RDWR\u001b[0m\u001b[0;34m,\u001b[0m \u001b[0mfapl\u001b[0m\u001b[0;34m=\u001b[0m\u001b[0mfapl\u001b[0m\u001b[0;34m)\u001b[0m\u001b[0;34m\u001b[0m\u001b[0;34m\u001b[0m\u001b[0m\n",
      "\u001b[0;32mh5py/_objects.pyx\u001b[0m in \u001b[0;36mh5py._objects.with_phil.wrapper\u001b[0;34m()\u001b[0m\n",
      "\u001b[0;32mh5py/_objects.pyx\u001b[0m in \u001b[0;36mh5py._objects.with_phil.wrapper\u001b[0;34m()\u001b[0m\n",
      "\u001b[0;32mh5py/h5f.pyx\u001b[0m in \u001b[0;36mh5py.h5f.open\u001b[0;34m()\u001b[0m\n",
      "\u001b[0;31mOSError\u001b[0m: Unable to open file (unable to open file: name = 'trial_0001_input_cascasde_acc.h5', errno = 2, error message = 'No such file or directory', flags = 0, o_flags = 0)"
     ]
    }
   ],
   "source": [
    "m1 = keras.models.load_model('trial_0001_input_cascasde_acc.h5')"
   ]
  },
  {
   "cell_type": "code",
   "execution_count": 21,
   "metadata": {
    "colab": {
     "base_uri": "https://localhost:8080/",
     "height": 280
    },
    "colab_type": "code",
    "executionInfo": {
     "elapsed": 10735,
     "status": "error",
     "timestamp": 1560105702380,
     "user": {
      "displayName": "robinraj EY",
      "photoUrl": "",
      "userId": "17540945510930744551"
     },
     "user_tz": -330
    },
    "id": "EhPZg7YOY6Rw",
    "outputId": "d32087a6-5f61-4a13-a19b-76fd07fcf844"
   },
   "outputs": [
    {
     "name": "stdout",
     "output_type": "stream",
     "text": [
      "0005\n",
      "(216, 176, 160, 4)\n",
      "slice no:154\n"
     ]
    },
    {
     "ename": "NameError",
     "evalue": "ignored",
     "output_type": "error",
     "traceback": [
      "\u001b[0;31m---------------------------------------------------------------------------\u001b[0m",
      "\u001b[0;31mNameError\u001b[0m                                 Traceback (most recent call last)",
      "\u001b[0;32m<ipython-input-21-e23273402f1c>\u001b[0m in \u001b[0;36m<module>\u001b[0;34m()\u001b[0m\n\u001b[1;32m     38\u001b[0m                                                           d[2])\n\u001b[1;32m     39\u001b[0m         \u001b[0mprint\u001b[0m\u001b[0;34m(\u001b[0m\u001b[0;34m'slice no:'\u001b[0m\u001b[0;34m+\u001b[0m\u001b[0mstr\u001b[0m\u001b[0;34m(\u001b[0m\u001b[0mi\u001b[0m\u001b[0;34m)\u001b[0m\u001b[0;34m)\u001b[0m\u001b[0;34m\u001b[0m\u001b[0;34m\u001b[0m\u001b[0m\n\u001b[0;32m---> 40\u001b[0;31m         \u001b[0minfo\u001b[0m\u001b[0;34m.\u001b[0m\u001b[0mappend\u001b[0m\u001b[0;34m(\u001b[0m\u001b[0mm1\u001b[0m\u001b[0;34m.\u001b[0m\u001b[0mfit\u001b[0m\u001b[0;34m(\u001b[0m\u001b[0;34m[\u001b[0m\u001b[0mX1\u001b[0m\u001b[0;34m,\u001b[0m\u001b[0mX2\u001b[0m\u001b[0;34m]\u001b[0m\u001b[0;34m,\u001b[0m\u001b[0my\u001b[0m\u001b[0;34m,\u001b[0m\u001b[0mepochs\u001b[0m\u001b[0;34m=\u001b[0m\u001b[0;36m5\u001b[0m\u001b[0;34m,\u001b[0m\u001b[0mbatch_size\u001b[0m\u001b[0;34m=\u001b[0m\u001b[0;36m128\u001b[0m\u001b[0;34m,\u001b[0m\u001b[0mclass_weight\u001b[0m\u001b[0;34m=\u001b[0m \u001b[0mclass_weights\u001b[0m\u001b[0;34m)\u001b[0m\u001b[0;34m)\u001b[0m\u001b[0;34m\u001b[0m\u001b[0;34m\u001b[0m\u001b[0m\n\u001b[0m\u001b[1;32m     41\u001b[0m         \u001b[0mm1\u001b[0m\u001b[0;34m.\u001b[0m\u001b[0msave\u001b[0m\u001b[0;34m(\u001b[0m\u001b[0;34m'trial_0001_input_cascasde_acc.h5'\u001b[0m\u001b[0;34m)\u001b[0m\u001b[0;34m\u001b[0m\u001b[0;34m\u001b[0m\u001b[0m\n",
      "\u001b[0;31mNameError\u001b[0m: name 'm1' is not defined"
     ]
    }
   ],
   "source": [
    "fold = os.listdir('HG/')\n",
    "fold.sort(key=str.lower) \n",
    "\n",
    "for path in fold[4:-1]:\n",
    "    print(path)\n",
    "    path = 'HG/'+path\n",
    "    p = os.listdir(path)\n",
    "    p.sort(key=str.lower)\n",
    "    arr = []\n",
    "    for i in range(len(p)):\n",
    "      if(i != 4):\n",
    "        p1 = os.listdir(path+'/'+p[i])\n",
    "        p1.sort()\n",
    "        img = sitk.ReadImage(path+'/'+p[i]+'/'+p1[-1])\n",
    "        arr.append(sitk.GetArrayFromImage(img))\n",
    "      else:\n",
    "        p1 = os.listdir(path+'/'+p[i])\n",
    "        img = sitk.ReadImage(path+'/'+p[i]+'/'+p1[0])\n",
    "        Y_labels = sitk.GetArrayFromImage(img)\n",
    "    data = np.zeros((Y_labels.shape[1],Y_labels.shape[0],Y_labels.shape[2],4))\n",
    "    for i in range(Y_labels.shape[1]):\n",
    "      data[i,:,:,0] = arr[0][:,i,:]\n",
    "      data[i,:,:,1] = arr[1][:,i,:]\n",
    "      data[i,:,:,2] = arr[2][:,i,:]\n",
    "      data[i,:,:,3] = arr[3][:,i,:]\n",
    "    print(data.shape)\n",
    "    info = []\n",
    "    for i in range(154,data.shape[0],2):\n",
    "      d = data_gen(data,Y_labels,i,1)\n",
    "      if(len(d) != 0):\n",
    "        y = np.zeros((d[2].shape[0],1,1,5))\n",
    "        for j in range(y.shape[0]):\n",
    "          y[j,:,:,d[2][j]] = 1\n",
    "        X1 = d[0]\n",
    "        X2 = d[1]\n",
    "        class_weights = class_weight.compute_class_weight('balanced',\n",
    "                                                          np.unique(d[2]),\n",
    "                                                          d[2])\n",
    "        print('slice no:'+str(i))\n",
    "        info.append(m1.fit([X1,X2],y,epochs=5,batch_size=128,class_weight= class_weights))\n",
    "        m1.save('trial_0001_input_cascasde_acc.h5')\n"
   ]
  },
  {
   "cell_type": "code",
   "execution_count": 22,
   "metadata": {
    "colab": {
     "base_uri": "https://localhost:8080/",
     "height": 35
    },
    "colab_type": "code",
    "executionInfo": {
     "elapsed": 1738,
     "status": "ok",
     "timestamp": 1560105764080,
     "user": {
      "displayName": "robinraj EY",
      "photoUrl": "",
      "userId": "17540945510930744551"
     },
     "user_tz": -330
    },
    "id": "DLWEdrU1SsSl",
    "outputId": "82f4f01d-1cc3-4996-931d-c08342488669"
   },
   "outputs": [
    {
     "name": "stdout",
     "output_type": "stream",
     "text": [
      "154\n"
     ]
    }
   ],
   "source": [
    "print(i)"
   ]
  },
  {
   "cell_type": "markdown",
   "metadata": {
    "colab_type": "text",
    "id": "1vl67YYai2L2"
   },
   "source": [
    "simple 2path CNN training"
   ]
  },
  {
   "cell_type": "code",
   "execution_count": 26,
   "metadata": {
    "colab": {
     "base_uri": "https://localhost:8080/",
     "height": 431
    },
    "colab_type": "code",
    "executionInfo": {
     "elapsed": 2024,
     "status": "error",
     "timestamp": 1560105923556,
     "user": {
      "displayName": "robinraj EY",
      "photoUrl": "",
      "userId": "17540945510930744551"
     },
     "user_tz": -330
    },
    "id": "SbRc_o28i_1T",
    "outputId": "03f2a78f-10a0-405c-93cd-b9c7782e610d"
   },
   "outputs": [
    {
     "ename": "OSError",
     "evalue": "ignored",
     "output_type": "error",
     "traceback": [
      "\u001b[0;31m---------------------------------------------------------------------------\u001b[0m",
      "\u001b[0;31mOSError\u001b[0m                                   Traceback (most recent call last)",
      "\u001b[0;32m<ipython-input-26-84e5c90acdbb>\u001b[0m in \u001b[0;36m<module>\u001b[0;34m()\u001b[0m\n\u001b[0;32m----> 1\u001b[0;31m \u001b[0mm0\u001b[0m \u001b[0;34m=\u001b[0m \u001b[0mkeras\u001b[0m\u001b[0;34m.\u001b[0m\u001b[0mmodels\u001b[0m\u001b[0;34m.\u001b[0m\u001b[0mload_model\u001b[0m\u001b[0;34m(\u001b[0m\u001b[0;34m'trial_0001_2path_acc.h5'\u001b[0m\u001b[0;34m)\u001b[0m\u001b[0;34m\u001b[0m\u001b[0;34m\u001b[0m\u001b[0m\n\u001b[0m",
      "\u001b[0;32m/usr/local/lib/python3.6/dist-packages/keras/engine/saving.py\u001b[0m in \u001b[0;36mload_model\u001b[0;34m(filepath, custom_objects, compile)\u001b[0m\n\u001b[1;32m    415\u001b[0m     \u001b[0mmodel\u001b[0m \u001b[0;34m=\u001b[0m \u001b[0;32mNone\u001b[0m\u001b[0;34m\u001b[0m\u001b[0;34m\u001b[0m\u001b[0m\n\u001b[1;32m    416\u001b[0m     \u001b[0mopened_new_file\u001b[0m \u001b[0;34m=\u001b[0m \u001b[0;32mnot\u001b[0m \u001b[0misinstance\u001b[0m\u001b[0;34m(\u001b[0m\u001b[0mfilepath\u001b[0m\u001b[0;34m,\u001b[0m \u001b[0mh5py\u001b[0m\u001b[0;34m.\u001b[0m\u001b[0mGroup\u001b[0m\u001b[0;34m)\u001b[0m\u001b[0;34m\u001b[0m\u001b[0;34m\u001b[0m\u001b[0m\n\u001b[0;32m--> 417\u001b[0;31m     \u001b[0mf\u001b[0m \u001b[0;34m=\u001b[0m \u001b[0mh5dict\u001b[0m\u001b[0;34m(\u001b[0m\u001b[0mfilepath\u001b[0m\u001b[0;34m,\u001b[0m \u001b[0;34m'r'\u001b[0m\u001b[0;34m)\u001b[0m\u001b[0;34m\u001b[0m\u001b[0;34m\u001b[0m\u001b[0m\n\u001b[0m\u001b[1;32m    418\u001b[0m     \u001b[0;32mtry\u001b[0m\u001b[0;34m:\u001b[0m\u001b[0;34m\u001b[0m\u001b[0;34m\u001b[0m\u001b[0m\n\u001b[1;32m    419\u001b[0m         \u001b[0mmodel\u001b[0m \u001b[0;34m=\u001b[0m \u001b[0m_deserialize_model\u001b[0m\u001b[0;34m(\u001b[0m\u001b[0mf\u001b[0m\u001b[0;34m,\u001b[0m \u001b[0mcustom_objects\u001b[0m\u001b[0;34m,\u001b[0m \u001b[0mcompile\u001b[0m\u001b[0;34m)\u001b[0m\u001b[0;34m\u001b[0m\u001b[0;34m\u001b[0m\u001b[0m\n",
      "\u001b[0;32m/usr/local/lib/python3.6/dist-packages/keras/utils/io_utils.py\u001b[0m in \u001b[0;36m__init__\u001b[0;34m(self, path, mode)\u001b[0m\n\u001b[1;32m    184\u001b[0m             \u001b[0mself\u001b[0m\u001b[0;34m.\u001b[0m\u001b[0m_is_file\u001b[0m \u001b[0;34m=\u001b[0m \u001b[0;32mFalse\u001b[0m\u001b[0;34m\u001b[0m\u001b[0;34m\u001b[0m\u001b[0m\n\u001b[1;32m    185\u001b[0m         \u001b[0;32melif\u001b[0m \u001b[0misinstance\u001b[0m\u001b[0;34m(\u001b[0m\u001b[0mpath\u001b[0m\u001b[0;34m,\u001b[0m \u001b[0mstr\u001b[0m\u001b[0;34m)\u001b[0m\u001b[0;34m:\u001b[0m\u001b[0;34m\u001b[0m\u001b[0;34m\u001b[0m\u001b[0m\n\u001b[0;32m--> 186\u001b[0;31m             \u001b[0mself\u001b[0m\u001b[0;34m.\u001b[0m\u001b[0mdata\u001b[0m \u001b[0;34m=\u001b[0m \u001b[0mh5py\u001b[0m\u001b[0;34m.\u001b[0m\u001b[0mFile\u001b[0m\u001b[0;34m(\u001b[0m\u001b[0mpath\u001b[0m\u001b[0;34m,\u001b[0m \u001b[0mmode\u001b[0m\u001b[0;34m=\u001b[0m\u001b[0mmode\u001b[0m\u001b[0;34m)\u001b[0m\u001b[0;34m\u001b[0m\u001b[0;34m\u001b[0m\u001b[0m\n\u001b[0m\u001b[1;32m    187\u001b[0m             \u001b[0mself\u001b[0m\u001b[0;34m.\u001b[0m\u001b[0m_is_file\u001b[0m \u001b[0;34m=\u001b[0m \u001b[0;32mTrue\u001b[0m\u001b[0;34m\u001b[0m\u001b[0;34m\u001b[0m\u001b[0m\n\u001b[1;32m    188\u001b[0m         \u001b[0;32melif\u001b[0m \u001b[0misinstance\u001b[0m\u001b[0;34m(\u001b[0m\u001b[0mpath\u001b[0m\u001b[0;34m,\u001b[0m \u001b[0mdict\u001b[0m\u001b[0;34m)\u001b[0m\u001b[0;34m:\u001b[0m\u001b[0;34m\u001b[0m\u001b[0;34m\u001b[0m\u001b[0m\n",
      "\u001b[0;32m/usr/local/lib/python3.6/dist-packages/h5py/_hl/files.py\u001b[0m in \u001b[0;36m__init__\u001b[0;34m(self, name, mode, driver, libver, userblock_size, swmr, **kwds)\u001b[0m\n\u001b[1;32m    310\u001b[0m             \u001b[0;32mwith\u001b[0m \u001b[0mphil\u001b[0m\u001b[0;34m:\u001b[0m\u001b[0;34m\u001b[0m\u001b[0;34m\u001b[0m\u001b[0m\n\u001b[1;32m    311\u001b[0m                 \u001b[0mfapl\u001b[0m \u001b[0;34m=\u001b[0m \u001b[0mmake_fapl\u001b[0m\u001b[0;34m(\u001b[0m\u001b[0mdriver\u001b[0m\u001b[0;34m,\u001b[0m \u001b[0mlibver\u001b[0m\u001b[0;34m,\u001b[0m \u001b[0;34m**\u001b[0m\u001b[0mkwds\u001b[0m\u001b[0;34m)\u001b[0m\u001b[0;34m\u001b[0m\u001b[0;34m\u001b[0m\u001b[0m\n\u001b[0;32m--> 312\u001b[0;31m                 \u001b[0mfid\u001b[0m \u001b[0;34m=\u001b[0m \u001b[0mmake_fid\u001b[0m\u001b[0;34m(\u001b[0m\u001b[0mname\u001b[0m\u001b[0;34m,\u001b[0m \u001b[0mmode\u001b[0m\u001b[0;34m,\u001b[0m \u001b[0muserblock_size\u001b[0m\u001b[0;34m,\u001b[0m \u001b[0mfapl\u001b[0m\u001b[0;34m,\u001b[0m \u001b[0mswmr\u001b[0m\u001b[0;34m=\u001b[0m\u001b[0mswmr\u001b[0m\u001b[0;34m)\u001b[0m\u001b[0;34m\u001b[0m\u001b[0;34m\u001b[0m\u001b[0m\n\u001b[0m\u001b[1;32m    313\u001b[0m \u001b[0;34m\u001b[0m\u001b[0m\n\u001b[1;32m    314\u001b[0m                 \u001b[0;32mif\u001b[0m \u001b[0mswmr_support\u001b[0m\u001b[0;34m:\u001b[0m\u001b[0;34m\u001b[0m\u001b[0;34m\u001b[0m\u001b[0m\n",
      "\u001b[0;32m/usr/local/lib/python3.6/dist-packages/h5py/_hl/files.py\u001b[0m in \u001b[0;36mmake_fid\u001b[0;34m(name, mode, userblock_size, fapl, fcpl, swmr)\u001b[0m\n\u001b[1;32m    140\u001b[0m         \u001b[0;32mif\u001b[0m \u001b[0mswmr\u001b[0m \u001b[0;32mand\u001b[0m \u001b[0mswmr_support\u001b[0m\u001b[0;34m:\u001b[0m\u001b[0;34m\u001b[0m\u001b[0;34m\u001b[0m\u001b[0m\n\u001b[1;32m    141\u001b[0m             \u001b[0mflags\u001b[0m \u001b[0;34m|=\u001b[0m \u001b[0mh5f\u001b[0m\u001b[0;34m.\u001b[0m\u001b[0mACC_SWMR_READ\u001b[0m\u001b[0;34m\u001b[0m\u001b[0;34m\u001b[0m\u001b[0m\n\u001b[0;32m--> 142\u001b[0;31m         \u001b[0mfid\u001b[0m \u001b[0;34m=\u001b[0m \u001b[0mh5f\u001b[0m\u001b[0;34m.\u001b[0m\u001b[0mopen\u001b[0m\u001b[0;34m(\u001b[0m\u001b[0mname\u001b[0m\u001b[0;34m,\u001b[0m \u001b[0mflags\u001b[0m\u001b[0;34m,\u001b[0m \u001b[0mfapl\u001b[0m\u001b[0;34m=\u001b[0m\u001b[0mfapl\u001b[0m\u001b[0;34m)\u001b[0m\u001b[0;34m\u001b[0m\u001b[0;34m\u001b[0m\u001b[0m\n\u001b[0m\u001b[1;32m    143\u001b[0m     \u001b[0;32melif\u001b[0m \u001b[0mmode\u001b[0m \u001b[0;34m==\u001b[0m \u001b[0;34m'r+'\u001b[0m\u001b[0;34m:\u001b[0m\u001b[0;34m\u001b[0m\u001b[0;34m\u001b[0m\u001b[0m\n\u001b[1;32m    144\u001b[0m         \u001b[0mfid\u001b[0m \u001b[0;34m=\u001b[0m \u001b[0mh5f\u001b[0m\u001b[0;34m.\u001b[0m\u001b[0mopen\u001b[0m\u001b[0;34m(\u001b[0m\u001b[0mname\u001b[0m\u001b[0;34m,\u001b[0m \u001b[0mh5f\u001b[0m\u001b[0;34m.\u001b[0m\u001b[0mACC_RDWR\u001b[0m\u001b[0;34m,\u001b[0m \u001b[0mfapl\u001b[0m\u001b[0;34m=\u001b[0m\u001b[0mfapl\u001b[0m\u001b[0;34m)\u001b[0m\u001b[0;34m\u001b[0m\u001b[0;34m\u001b[0m\u001b[0m\n",
      "\u001b[0;32mh5py/_objects.pyx\u001b[0m in \u001b[0;36mh5py._objects.with_phil.wrapper\u001b[0;34m()\u001b[0m\n",
      "\u001b[0;32mh5py/_objects.pyx\u001b[0m in \u001b[0;36mh5py._objects.with_phil.wrapper\u001b[0;34m()\u001b[0m\n",
      "\u001b[0;32mh5py/h5f.pyx\u001b[0m in \u001b[0;36mh5py.h5f.open\u001b[0;34m()\u001b[0m\n",
      "\u001b[0;31mOSError\u001b[0m: Unable to open file (unable to open file: name = 'trial_0001_2path_acc.h5', errno = 2, error message = 'No such file or directory', flags = 0, o_flags = 0)"
     ]
    }
   ],
   "source": [
    "m0 = keras.models.load_model('trial_0001_2path_acc.h5')"
   ]
  },
  {
   "cell_type": "code",
   "execution_count": 0,
   "metadata": {
    "colab": {},
    "colab_type": "code",
    "id": "ZvLwSnDx17b3"
   },
   "outputs": [],
   "source": [
    "m0.summary()"
   ]
  },
  {
   "cell_type": "code",
   "execution_count": 25,
   "metadata": {
    "colab": {
     "base_uri": "https://localhost:8080/",
     "height": 371
    },
    "colab_type": "code",
    "executionInfo": {
     "elapsed": 3015,
     "status": "error",
     "timestamp": 1560105913341,
     "user": {
      "displayName": "robinraj EY",
      "photoUrl": "",
      "userId": "17540945510930744551"
     },
     "user_tz": -330
    },
    "id": "fu7Gym--zuT9",
    "outputId": "feae4d7f-ac0e-4ef8-b258-baca5ceb548c"
   },
   "outputs": [
    {
     "ename": "IndexError",
     "evalue": "ignored",
     "output_type": "error",
     "traceback": [
      "\u001b[0;31m---------------------------------------------------------------------------\u001b[0m",
      "\u001b[0;31mIndexError\u001b[0m                                Traceback (most recent call last)",
      "\u001b[0;32m<ipython-input-25-cb1c56bddcfa>\u001b[0m in \u001b[0;36m<module>\u001b[0;34m()\u001b[0m\n\u001b[1;32m      1\u001b[0m \u001b[0minfo\u001b[0m \u001b[0;34m=\u001b[0m \u001b[0;34m[\u001b[0m\u001b[0;34m]\u001b[0m\u001b[0;34m\u001b[0m\u001b[0;34m\u001b[0m\u001b[0m\n\u001b[1;32m      2\u001b[0m \u001b[0;32mfor\u001b[0m \u001b[0mi\u001b[0m \u001b[0;32min\u001b[0m \u001b[0mrange\u001b[0m\u001b[0;34m(\u001b[0m\u001b[0;36m100\u001b[0m\u001b[0;34m,\u001b[0m\u001b[0mdata\u001b[0m\u001b[0;34m.\u001b[0m\u001b[0mshape\u001b[0m\u001b[0;34m[\u001b[0m\u001b[0;36m0\u001b[0m\u001b[0;34m]\u001b[0m\u001b[0;34m,\u001b[0m\u001b[0;36m2\u001b[0m\u001b[0;34m)\u001b[0m\u001b[0;34m:\u001b[0m\u001b[0;34m\u001b[0m\u001b[0;34m\u001b[0m\u001b[0m\n\u001b[0;32m----> 3\u001b[0;31m   \u001b[0md\u001b[0m \u001b[0;34m=\u001b[0m \u001b[0mdata_gen\u001b[0m\u001b[0;34m(\u001b[0m\u001b[0mdata\u001b[0m\u001b[0;34m,\u001b[0m\u001b[0mY_labels\u001b[0m\u001b[0;34m,\u001b[0m\u001b[0mi\u001b[0m\u001b[0;34m,\u001b[0m\u001b[0;36m0\u001b[0m\u001b[0;34m)\u001b[0m\u001b[0;34m\u001b[0m\u001b[0;34m\u001b[0m\u001b[0m\n\u001b[0m\u001b[1;32m      4\u001b[0m   \u001b[0;32mif\u001b[0m\u001b[0;34m(\u001b[0m\u001b[0mlen\u001b[0m\u001b[0;34m(\u001b[0m\u001b[0md\u001b[0m\u001b[0;34m)\u001b[0m \u001b[0;34m!=\u001b[0m \u001b[0;36m0\u001b[0m\u001b[0;34m)\u001b[0m\u001b[0;34m:\u001b[0m\u001b[0;34m\u001b[0m\u001b[0;34m\u001b[0m\u001b[0m\n\u001b[1;32m      5\u001b[0m     \u001b[0my\u001b[0m \u001b[0;34m=\u001b[0m \u001b[0mnp\u001b[0m\u001b[0;34m.\u001b[0m\u001b[0mzeros\u001b[0m\u001b[0;34m(\u001b[0m\u001b[0;34m(\u001b[0m\u001b[0md\u001b[0m\u001b[0;34m[\u001b[0m\u001b[0;34m-\u001b[0m\u001b[0;36m1\u001b[0m\u001b[0;34m]\u001b[0m\u001b[0;34m.\u001b[0m\u001b[0mshape\u001b[0m\u001b[0;34m[\u001b[0m\u001b[0;36m0\u001b[0m\u001b[0;34m]\u001b[0m\u001b[0;34m,\u001b[0m\u001b[0;36m1\u001b[0m\u001b[0;34m,\u001b[0m\u001b[0;36m1\u001b[0m\u001b[0;34m,\u001b[0m\u001b[0;36m5\u001b[0m\u001b[0;34m)\u001b[0m\u001b[0;34m)\u001b[0m\u001b[0;34m\u001b[0m\u001b[0;34m\u001b[0m\u001b[0m\n",
      "\u001b[0;32m<ipython-input-11-6788e6d5ee14>\u001b[0m in \u001b[0;36mdata_gen\u001b[0;34m(data, y, slice_no, model_no)\u001b[0m\n\u001b[1;32m     13\u001b[0m         \u001b[0;32mfor\u001b[0m \u001b[0mj\u001b[0m \u001b[0;32min\u001b[0m \u001b[0mrange\u001b[0m\u001b[0;34m(\u001b[0m\u001b[0;36m16\u001b[0m\u001b[0;34m,\u001b[0m\u001b[0;36m199\u001b[0m\u001b[0;34m)\u001b[0m\u001b[0;34m:\u001b[0m\u001b[0;34m\u001b[0m\u001b[0;34m\u001b[0m\u001b[0m\n\u001b[1;32m     14\u001b[0m           \u001b[0;32mif\u001b[0m\u001b[0;34m(\u001b[0m\u001b[0mx\u001b[0m\u001b[0;34m[\u001b[0m\u001b[0mi\u001b[0m\u001b[0;34m-\u001b[0m\u001b[0;36m16\u001b[0m\u001b[0;34m:\u001b[0m\u001b[0mi\u001b[0m\u001b[0;34m+\u001b[0m\u001b[0;36m17\u001b[0m\u001b[0;34m,\u001b[0m\u001b[0mj\u001b[0m\u001b[0;34m-\u001b[0m\u001b[0;36m16\u001b[0m\u001b[0;34m:\u001b[0m\u001b[0mj\u001b[0m\u001b[0;34m+\u001b[0m\u001b[0;36m17\u001b[0m\u001b[0;34m,\u001b[0m\u001b[0;34m:\u001b[0m\u001b[0;34m]\u001b[0m\u001b[0;34m.\u001b[0m\u001b[0mall\u001b[0m \u001b[0;34m!=\u001b[0m \u001b[0;36m0\u001b[0m\u001b[0;34m)\u001b[0m\u001b[0;34m:\u001b[0m\u001b[0;34m\u001b[0m\u001b[0;34m\u001b[0m\u001b[0m\n\u001b[0;32m---> 15\u001b[0;31m             \u001b[0mY1\u001b[0m\u001b[0;34m.\u001b[0m\u001b[0mappend\u001b[0m\u001b[0;34m(\u001b[0m\u001b[0my\u001b[0m\u001b[0;34m[\u001b[0m\u001b[0mi\u001b[0m\u001b[0;34m,\u001b[0m\u001b[0mslice_no\u001b[0m\u001b[0;34m,\u001b[0m\u001b[0mj\u001b[0m\u001b[0;34m]\u001b[0m\u001b[0;34m)\u001b[0m\u001b[0;34m\u001b[0m\u001b[0;34m\u001b[0m\u001b[0m\n\u001b[0m\u001b[1;32m     16\u001b[0m       \u001b[0mX1\u001b[0m \u001b[0;34m=\u001b[0m \u001b[0mnp\u001b[0m\u001b[0;34m.\u001b[0m\u001b[0masarray\u001b[0m\u001b[0;34m(\u001b[0m\u001b[0mX1\u001b[0m\u001b[0;34m)\u001b[0m\u001b[0;34m\u001b[0m\u001b[0;34m\u001b[0m\u001b[0m\n\u001b[1;32m     17\u001b[0m       \u001b[0mY1\u001b[0m \u001b[0;34m=\u001b[0m \u001b[0mnp\u001b[0m\u001b[0;34m.\u001b[0m\u001b[0masarray\u001b[0m\u001b[0;34m(\u001b[0m\u001b[0mY1\u001b[0m\u001b[0;34m)\u001b[0m\u001b[0;34m\u001b[0m\u001b[0;34m\u001b[0m\u001b[0m\n",
      "\u001b[0;31mIndexError\u001b[0m: index 160 is out of bounds for axis 2 with size 160"
     ]
    }
   ],
   "source": [
    "info = []\n",
    "for i in range(100,data.shape[0],2):\n",
    "  d = data_gen(data,Y_labels,i,0)\n",
    "  if(len(d) != 0):\n",
    "    y = np.zeros((d[-1].shape[0],1,1,5))\n",
    "    for j in range(y.shape[0]):\n",
    "      y[j,:,:,d[-1][j]] = 1\n",
    "    sample = np.zeros((5,1))\n",
    "    for j in range(5):\n",
    "      sample[j] = np.sum(y[:,:,:,j])\n",
    "    print(np.transpose(sample/np.sum(sample)))    \n",
    "    X1 = d[0]\n",
    "    class_weights = class_weight.compute_class_weight('balanced',\n",
    "                                                      np.unique(d[-1]),\n",
    "                                                      d[-1])\n",
    "    print('slice no:'+str(i))\n",
    "    info.append(m0.fit(X1,y,epochs=2,batch_size=1024,class_weight= class_weights))\n",
    "    m0.save('trial_0001_2path_acc.h5')"
   ]
  },
  {
   "cell_type": "code",
   "execution_count": 0,
   "metadata": {
    "colab": {},
    "colab_type": "code",
    "id": "oct3INFSp_Fp"
   },
   "outputs": [],
   "source": [
    "import keras"
   ]
  },
  {
   "cell_type": "code",
   "execution_count": 0,
   "metadata": {
    "colab": {},
    "colab_type": "code",
    "id": "ewaO-VX5pagQ"
   },
   "outputs": [],
   "source": [
    "model = keras.models.load_model('trial_0001_MFCcas_dim2_128_acc.h5')"
   ]
  },
  {
   "cell_type": "code",
   "execution_count": 0,
   "metadata": {
    "colab": {},
    "colab_type": "code",
    "id": "1kFtMbfdz0GZ"
   },
   "outputs": [],
   "source": [
    "info = []\n",
    "for i in range(0,data.shape[0],2):\n",
    "  d = data_gen(data,Y_labels,i,3)\n",
    "  if(len(d) != 0):\n",
    "    y = np.zeros((d[2].shape[0],1,1,5))\n",
    "    for j in range(y.shape[0]):\n",
    "      y[j,:,:,d[2][j]] = 1\n",
    "    X1 = d[0]\n",
    "    X2 = d[1]\n",
    "    class_weights = class_weight.compute_class_weight('balanced',\n",
    "                                                      np.unique(d[2]),\n",
    "                                                      d[2])\n",
    "    print('slice no:'+str(i))\n",
    "    info.append(model.evaluate([X1,X2],y,batch_size=256))\n",
    "    #model.save('trial_0001_MFCcas_dim2_128_acc.h5')"
   ]
  },
  {
   "cell_type": "code",
   "execution_count": 0,
   "metadata": {
    "colab": {},
    "colab_type": "code",
    "id": "cbhRR0wupgyo"
   },
   "outputs": [],
   "source": [
    "m = keras.models.load_model('trial_0001_input_cascasde_acc.h5')"
   ]
  },
  {
   "cell_type": "code",
   "execution_count": 0,
   "metadata": {
    "colab": {},
    "colab_type": "code",
    "id": "wM6sQ6fCpXew"
   },
   "outputs": [],
   "source": [
    "info = []\n",
    "for i in range(0,data.shape[0],2):\n",
    "  d = data_gen(data,Y_labels,i,1)\n",
    "  if(len(d) != 0):\n",
    "    y = np.zeros((d[2].shape[0],1,1,5))\n",
    "    for j in range(y.shape[0]):\n",
    "      y[j,:,:,d[2][j]] = 1\n",
    "    X1 = d[0]\n",
    "    X2 = d[1]\n",
    "    class_weights = class_weight.compute_class_weight('balanced',\n",
    "                                                      np.unique(d[2]),\n",
    "                                                      d[2])\n",
    "    print('slice no:'+str(i))\n",
    "    info.append(m.evaluate([X1,X2],y,batch_size=256))\n",
    "    #model.save('trial_0001_MFCcas_dim2_128_acc.h5')"
   ]
  },
  {
   "cell_type": "code",
   "execution_count": 0,
   "metadata": {
    "colab": {},
    "colab_type": "code",
    "id": "WLLifzgqq-S2"
   },
   "outputs": [],
   "source": [
    "hf = h5py.File('info_mfc.h5', 'r')\n",
    "info = hf.get('dataset_1')"
   ]
  },
  {
   "cell_type": "code",
   "execution_count": 0,
   "metadata": {
    "colab": {},
    "colab_type": "code",
    "id": "2uvnezq_r7r2"
   },
   "outputs": [],
   "source": [
    "info = np.asarray(info)"
   ]
  },
  {
   "cell_type": "code",
   "execution_count": 24,
   "metadata": {
    "colab": {
     "base_uri": "https://localhost:8080/",
     "height": 35
    },
    "colab_type": "code",
    "executionInfo": {
     "elapsed": 1454,
     "status": "ok",
     "timestamp": 1560105887319,
     "user": {
      "displayName": "robinraj EY",
      "photoUrl": "",
      "userId": "17540945510930744551"
     },
     "user_tz": -330
    },
    "id": "vuodchHlr83n",
    "outputId": "c4d31c83-c400-4cac-89a0-35be2d36a07d"
   },
   "outputs": [
    {
     "data": {
      "text/plain": [
       "[]"
      ]
     },
     "execution_count": 24,
     "metadata": {
      "tags": []
     },
     "output_type": "execute_result"
    }
   ],
   "source": [
    "info"
   ]
  },
  {
   "cell_type": "code",
   "execution_count": 0,
   "metadata": {
    "colab": {
     "base_uri": "https://localhost:8080/",
     "height": 2754
    },
    "colab_type": "code",
    "executionInfo": {
     "elapsed": 1722,
     "status": "ok",
     "timestamp": 1529489891952,
     "user": {
      "displayName": "JADE SANJAY",
      "photoUrl": "https://lh3.googleusercontent.com/a/default-user=s128",
      "userId": "113026688115779524991"
     },
     "user_tz": -330
    },
    "id": "n2a5aWMxsHzX",
    "outputId": "0fcb004d-7fa4-45f7-8225-e38d6ee888ef"
   },
   "outputs": [
    {
     "data": {
      "text/plain": [
       "array([[4.50206129e-05, 1.00000000e+00],\n",
       "       [4.57702571e-05, 1.00000000e+00],\n",
       "       [4.60857943e-05, 1.00000000e+00],\n",
       "       [4.84986886e-05, 1.00000000e+00],\n",
       "       [4.89885355e-05, 1.00000000e+00],\n",
       "       [5.29922178e-05, 1.00000000e+00],\n",
       "       [6.21655353e-05, 1.00000000e+00],\n",
       "       [8.30534716e-05, 1.00000000e+00],\n",
       "       [1.11175580e-04, 1.00000000e+00],\n",
       "       [1.85727202e-04, 1.00000000e+00],\n",
       "       [2.48078846e-04, 1.00000000e+00],\n",
       "       [5.93782379e-04, 1.00000000e+00],\n",
       "       [6.89002551e-04, 1.00000000e+00],\n",
       "       [9.09570965e-04, 1.00000000e+00],\n",
       "       [8.90290332e-04, 1.00000000e+00],\n",
       "       [9.80984229e-04, 1.00000000e+00],\n",
       "       [9.21154452e-04, 1.00000000e+00],\n",
       "       [9.82793154e-04, 1.00000000e+00],\n",
       "       [1.00479382e-03, 1.00000000e+00],\n",
       "       [1.12422367e-03, 1.00000000e+00],\n",
       "       [1.23042761e-03, 1.00000000e+00],\n",
       "       [1.32213331e-03, 1.00000000e+00],\n",
       "       [1.31603022e-03, 1.00000000e+00],\n",
       "       [1.38255507e-03, 1.00000000e+00],\n",
       "       [1.37843660e-03, 1.00000000e+00],\n",
       "       [1.44016028e-03, 1.00000000e+00],\n",
       "       [1.49046636e-03, 1.00000000e+00],\n",
       "       [1.62590485e-03, 1.00000000e+00],\n",
       "       [1.69267782e-03, 1.00000000e+00],\n",
       "       [1.88901047e-03, 1.00000000e+00],\n",
       "       [1.90886413e-03, 1.00000000e+00],\n",
       "       [2.02585548e-03, 1.00000000e+00],\n",
       "       [2.12924094e-03, 1.00000000e+00],\n",
       "       [2.29723152e-03, 1.00000000e+00],\n",
       "       [2.40494322e-03, 1.00000000e+00],\n",
       "       [2.59099632e-03, 1.00000000e+00],\n",
       "       [2.82310800e-03, 1.00000000e+00],\n",
       "       [3.24632393e-03, 1.00000000e+00],\n",
       "       [3.39671509e-03, 1.00000000e+00],\n",
       "       [3.58768965e-03, 1.00000000e+00],\n",
       "       [3.80198885e-03, 1.00000000e+00],\n",
       "       [3.96162787e-03, 1.00000000e+00],\n",
       "       [4.09488319e-03, 1.00000000e+00],\n",
       "       [4.14553319e-03, 1.00000000e+00],\n",
       "       [4.17370671e-03, 1.00000000e+00],\n",
       "       [4.47642406e-03, 1.00000000e+00],\n",
       "       [4.12878551e-03, 1.00000000e+00],\n",
       "       [4.50134100e-03, 1.00000000e+00],\n",
       "       [4.38938346e-03, 1.00000000e+00],\n",
       "       [4.30151316e-03, 1.00000000e+00],\n",
       "       [3.99397373e-03, 1.00000000e+00],\n",
       "       [4.08171338e-03, 1.00000000e+00],\n",
       "       [3.85974646e-03, 1.00000000e+00],\n",
       "       [3.91448353e-03, 1.00000000e+00],\n",
       "       [3.74696620e-03, 1.00000000e+00],\n",
       "       [3.73303760e-03, 1.00000000e+00],\n",
       "       [3.71196433e-03, 1.00000000e+00],\n",
       "       [3.79087894e-03, 1.00000000e+00],\n",
       "       [3.64071331e-03, 1.00000000e+00],\n",
       "       [3.68458721e-03, 1.00000000e+00],\n",
       "       [3.72495090e-03, 1.00000000e+00],\n",
       "       [3.65140387e-03, 1.00000000e+00],\n",
       "       [3.61451233e-03, 1.00000000e+00],\n",
       "       [3.68363471e-03, 1.00000000e+00],\n",
       "       [4.00317878e-03, 1.00000000e+00],\n",
       "       [4.19594042e-03, 1.00000000e+00],\n",
       "       [4.46261526e-03, 1.00000000e+00],\n",
       "       [4.49101942e-03, 1.00000000e+00],\n",
       "       [4.50952625e-03, 1.00000000e+00],\n",
       "       [4.74183338e-03, 1.00000000e+00],\n",
       "       [5.01286744e-03, 1.00000000e+00],\n",
       "       [5.28987554e-03, 1.00000000e+00],\n",
       "       [5.49851922e-03, 1.00000000e+00],\n",
       "       [5.61268046e-03, 1.00000000e+00],\n",
       "       [5.76786703e-03, 1.00000000e+00],\n",
       "       [5.86245816e-03, 1.00000000e+00],\n",
       "       [5.76815577e-03, 1.00000000e+00],\n",
       "       [5.91750833e-03, 1.00000000e+00],\n",
       "       [6.01344643e-03, 1.00000000e+00],\n",
       "       [5.98551211e-03, 1.00000000e+00],\n",
       "       [5.96806475e-03, 1.00000000e+00],\n",
       "       [5.99798102e-03, 1.00000000e+00],\n",
       "       [6.06828973e-03, 1.00000000e+00],\n",
       "       [6.02006772e-03, 1.00000000e+00],\n",
       "       [5.86606040e-03, 1.00000000e+00],\n",
       "       [5.65246156e-03, 1.00000000e+00],\n",
       "       [5.74438894e-03, 1.00000000e+00],\n",
       "       [5.74283325e-03, 1.00000000e+00],\n",
       "       [5.69412563e-03, 1.00000000e+00],\n",
       "       [5.72062166e-03, 1.00000000e+00],\n",
       "       [5.66903136e-03, 1.00000000e+00],\n",
       "       [5.60018998e-03, 1.00000000e+00],\n",
       "       [5.35733741e-03, 1.00000000e+00],\n",
       "       [5.31810562e-03, 1.00000000e+00],\n",
       "       [5.45244440e-03, 1.00000000e+00],\n",
       "       [5.51509235e-03, 1.00000000e+00],\n",
       "       [1.00016183e-02, 9.99534970e-01],\n",
       "       [2.19104359e-02, 9.98232887e-01],\n",
       "       [4.42018840e-02, 9.95535714e-01],\n",
       "       [7.05880335e-02, 9.92001488e-01],\n",
       "       [1.01879177e-01, 9.87165179e-01],\n",
       "       [1.74897611e-01, 9.75167411e-01],\n",
       "       [2.40693662e-01, 9.61588542e-01],\n",
       "       [2.97068737e-01, 9.48195685e-01],\n",
       "       [3.32344294e-01, 9.35918899e-01],\n",
       "       [3.73193536e-01, 9.19921875e-01],\n",
       "       [3.87105118e-01, 9.09040179e-01],\n",
       "       [3.66986337e-01, 9.04203869e-01],\n",
       "       [3.51323381e-01, 9.01041667e-01],\n",
       "       [3.23892530e-01, 9.01692708e-01],\n",
       "       [2.99427023e-01, 9.05691964e-01],\n",
       "       [2.94482661e-01, 9.06901042e-01],\n",
       "       [3.06653738e-01, 9.03087798e-01],\n",
       "       [3.29294902e-01, 8.91462054e-01],\n",
       "       [3.51098355e-01, 8.82812500e-01],\n",
       "       [3.81405411e-01, 8.80859375e-01],\n",
       "       [4.08606300e-01, 8.75930060e-01],\n",
       "       [4.41367264e-01, 8.74813988e-01],\n",
       "       [4.67918227e-01, 8.71930804e-01],\n",
       "       [4.85611175e-01, 8.67931548e-01],\n",
       "       [4.87965231e-01, 8.63281250e-01],\n",
       "       [4.88436204e-01, 8.59561012e-01],\n",
       "       [4.95609119e-01, 8.55375744e-01],\n",
       "       [5.08711859e-01, 8.52585565e-01],\n",
       "       [5.16450966e-01, 8.50911458e-01],\n",
       "       [5.28465295e-01, 8.51004464e-01],\n",
       "       [5.27762258e-01, 8.52864583e-01],\n",
       "       [5.32689345e-01, 8.55003720e-01],\n",
       "       [5.31030401e-01, 8.57793899e-01],\n",
       "       [5.33575221e-01, 8.56212798e-01],\n",
       "       [5.52752203e-01, 8.50446429e-01],\n",
       "       [5.62728750e-01, 8.52027530e-01],\n",
       "       [5.56609553e-01, 8.56305804e-01],\n",
       "       [5.37980547e-01, 8.60491071e-01],\n",
       "       [5.18129789e-01, 8.67187500e-01],\n",
       "       [5.18935481e-01, 8.71000744e-01],\n",
       "       [5.24299053e-01, 8.74720982e-01],\n",
       "       [5.20989063e-01, 8.78906250e-01],\n",
       "       [5.02292991e-01, 8.85695685e-01],\n",
       "       [4.90149970e-01, 8.91741071e-01],\n",
       "       [4.49086072e-01, 9.00762649e-01],\n",
       "       [4.40068465e-01, 9.05970982e-01],\n",
       "       [4.16182756e-01, 9.12574405e-01],\n",
       "       [3.83053983e-01, 9.18898810e-01],\n",
       "       [3.48704521e-01, 9.25409226e-01],\n",
       "       [3.14828055e-01, 9.32012649e-01],\n",
       "       [2.95708397e-01, 9.36848958e-01],\n",
       "       [2.77272391e-01, 9.41313244e-01],\n",
       "       [2.45471030e-01, 9.47265625e-01],\n",
       "       [2.23762510e-01, 9.52473958e-01],\n",
       "       [1.99871702e-01, 9.59263393e-01],\n",
       "       [1.72165180e-01, 9.67261905e-01],\n",
       "       [1.59718296e-01, 9.74144345e-01],\n",
       "       [1.24200405e-01, 9.82607887e-01],\n",
       "       [4.42537809e-02, 9.93768601e-01],\n",
       "       [3.73054013e-03, 9.99627976e-01],\n",
       "       [1.54653115e-03, 1.00000000e+00],\n",
       "       [1.29705148e-04, 1.00000000e+00],\n",
       "       [7.50309250e-05, 1.00000000e+00],\n",
       "       [5.33464445e-05, 1.00000000e+00],\n",
       "       [4.58913633e-05, 1.00000000e+00]])"
      ]
     },
     "execution_count": 32,
     "metadata": {
      "tags": []
     },
     "output_type": "execute_result"
    }
   ],
   "source": [
    "info1"
   ]
  },
  {
   "cell_type": "code",
   "execution_count": 0,
   "metadata": {
    "colab": {
     "base_uri": "https://localhost:8080/",
     "height": 2754
    },
    "colab_type": "code",
    "executionInfo": {
     "elapsed": 1165,
     "status": "ok",
     "timestamp": 1529489966972,
     "user": {
      "displayName": "JADE SANJAY",
      "photoUrl": "https://lh3.googleusercontent.com/a/default-user=s128",
      "userId": "113026688115779524991"
     },
     "user_tz": -330
    },
    "id": "qIbfvJS6sIf2",
    "outputId": "6e4ab2f8-e84a-4aba-9786-3e3fadff1b34"
   },
   "outputs": [
    {
     "data": {
      "text/plain": [
       "array([[-2.42181185e-03,  0.00000000e+00],\n",
       "       [-2.40587245e-03,  0.00000000e+00],\n",
       "       [-2.39603168e-03,  0.00000000e+00],\n",
       "       [-2.39542873e-03,  0.00000000e+00],\n",
       "       [-2.39141447e-03,  0.00000000e+00],\n",
       "       [-2.41818763e-03,  0.00000000e+00],\n",
       "       [-2.45722313e-03,  0.00000000e+00],\n",
       "       [-2.70171757e-03,  0.00000000e+00],\n",
       "       [-3.20715355e-03,  0.00000000e+00],\n",
       "       [-3.91375285e-03,  0.00000000e+00],\n",
       "       [-3.59821219e-03,  0.00000000e+00],\n",
       "       [-1.27869890e-02,  3.65890084e-03],\n",
       "       [-1.16920460e-02,  3.50955795e-03],\n",
       "       [-1.01826541e-02,  2.83751493e-03],\n",
       "       [-9.17154339e-03,  2.38948626e-03],\n",
       "       [-1.00100991e-02,  2.68817204e-03],\n",
       "       [-7.75346538e-03,  1.86678614e-03],\n",
       "       [-5.92540888e-03,  1.19474313e-03],\n",
       "       [-5.12973246e-03,  8.21385902e-04],\n",
       "       [-5.82547535e-03,  1.41875747e-03],\n",
       "       [-3.80339624e-03,  4.48028674e-04],\n",
       "       [-2.51007749e-03,  0.00000000e+00],\n",
       "       [-2.18508295e-03,  0.00000000e+00],\n",
       "       [-2.50026847e-03,  0.00000000e+00],\n",
       "       [-2.18151544e-03,  0.00000000e+00],\n",
       "       [-1.78388494e-03,  0.00000000e+00],\n",
       "       [-5.70966646e-03,  1.94145759e-03],\n",
       "       [-2.64322145e-03,  0.00000000e+00],\n",
       "       [-2.14069968e-03,  0.00000000e+00],\n",
       "       [-1.47839675e-03,  0.00000000e+00],\n",
       "       [-1.20989519e-03,  0.00000000e+00],\n",
       "       [-8.36107132e-04,  0.00000000e+00],\n",
       "       [-5.97674038e-04,  0.00000000e+00],\n",
       "       [-7.87162189e-04,  0.00000000e+00],\n",
       "       [-2.26872146e-03,  5.22700119e-04],\n",
       "       [-3.08423252e-03,  1.34408602e-03],\n",
       "       [-3.12034340e-03,  1.41875747e-03],\n",
       "       [-1.96306991e-03,  8.96057348e-04],\n",
       "       [-1.24444312e-03,  4.48028674e-04],\n",
       "       [-1.44135678e-03,  0.00000000e+00],\n",
       "       [-2.23731229e-03,  4.48028674e-04],\n",
       "       [-4.96508660e-03,  3.21087216e-03],\n",
       "       [-3.90579213e-03,  2.61350060e-03],\n",
       "       [-2.36338159e-04,  3.73357228e-04],\n",
       "       [ 1.37350254e-03,  0.00000000e+00],\n",
       "       [ 2.14824638e-03,  0.00000000e+00],\n",
       "       [ 2.00126425e-03,  0.00000000e+00],\n",
       "       [ 2.41878025e-03,  0.00000000e+00],\n",
       "       [ 2.25284023e-03,  0.00000000e+00],\n",
       "       [ 2.05210896e-03,  0.00000000e+00],\n",
       "       [ 1.66970393e-03,  0.00000000e+00],\n",
       "       [ 1.87484223e-03,  0.00000000e+00],\n",
       "       [ 1.70106388e-03,  0.00000000e+00],\n",
       "       [ 1.71320288e-03,  0.00000000e+00],\n",
       "       [ 1.47832611e-03,  0.00000000e+00],\n",
       "       [ 1.32524235e-03,  0.00000000e+00],\n",
       "       [ 1.15414125e-03,  0.00000000e+00],\n",
       "       [ 1.12234523e-03,  0.00000000e+00],\n",
       "       [ 1.00314136e-03,  0.00000000e+00],\n",
       "       [ 1.15759998e-03,  0.00000000e+00],\n",
       "       [ 1.27283624e-03,  0.00000000e+00],\n",
       "       [ 1.36446654e-03,  0.00000000e+00],\n",
       "       [ 1.53664229e-03,  0.00000000e+00],\n",
       "       [ 1.76573501e-03,  0.00000000e+00],\n",
       "       [ 2.09995087e-03,  0.00000000e+00],\n",
       "       [ 2.10639236e-03,  0.00000000e+00],\n",
       "       [ 2.30367825e-03,  0.00000000e+00],\n",
       "       [ 2.50361889e-03,  0.00000000e+00],\n",
       "       [ 2.71789406e-03,  0.00000000e+00],\n",
       "       [ 3.08528326e-03,  0.00000000e+00],\n",
       "       [ 3.51967239e-03,  0.00000000e+00],\n",
       "       [ 3.91397426e-03,  0.00000000e+00],\n",
       "       [ 4.21234804e-03,  0.00000000e+00],\n",
       "       [ 4.34948004e-03,  0.00000000e+00],\n",
       "       [ 4.48206947e-03,  0.00000000e+00],\n",
       "       [ 4.56054379e-03,  0.00000000e+00],\n",
       "       [ 4.48951470e-03,  0.00000000e+00],\n",
       "       [ 4.68796164e-03,  0.00000000e+00],\n",
       "       [ 4.84248911e-03,  0.00000000e+00],\n",
       "       [ 4.82320366e-03,  0.00000000e+00],\n",
       "       [ 4.79259074e-03,  0.00000000e+00],\n",
       "       [ 4.78210602e-03,  0.00000000e+00],\n",
       "       [ 4.78132734e-03,  0.00000000e+00],\n",
       "       [ 4.69335624e-03,  0.00000000e+00],\n",
       "       [ 4.55025995e-03,  0.00000000e+00],\n",
       "       [ 4.37633030e-03,  0.00000000e+00],\n",
       "       [ 4.49345017e-03,  0.00000000e+00],\n",
       "       [ 4.48658812e-03,  0.00000000e+00],\n",
       "       [ 4.40286370e-03,  0.00000000e+00],\n",
       "       [ 4.41262533e-03,  0.00000000e+00],\n",
       "       [ 4.32624560e-03,  0.00000000e+00],\n",
       "       [ 4.21179102e-03,  0.00000000e+00],\n",
       "       [ 3.88609140e-03,  0.00000000e+00],\n",
       "       [ 3.74551100e-03,  0.00000000e+00],\n",
       "       [ 3.79223641e-03,  0.00000000e+00],\n",
       "       [ 3.81817495e-03,  0.00000000e+00],\n",
       "       [ 5.49260284e-03, -9.16725337e-05],\n",
       "       [ 1.00219033e-02, -3.48355628e-04],\n",
       "       [ 1.91497926e-02, -8.80056324e-04],\n",
       "       [ 3.00507120e-02, -1.57676758e-03],\n",
       "       [ 4.25240347e-02, -2.53016193e-03],\n",
       "       [ 6.04532999e-02, -4.89531330e-03],\n",
       "       [ 7.16640104e-02, -7.57215128e-03],\n",
       "       [ 8.30845629e-02, -1.02123203e-02],\n",
       "       [ 9.59793230e-02, -1.26324751e-02],\n",
       "       [ 1.06766232e-01, -1.63833819e-02],\n",
       "       [ 1.11461293e-01, -2.15900484e-02],\n",
       "       [ 1.00957317e-01, -2.69490581e-02],\n",
       "       [ 8.55671661e-02, -2.98872461e-02],\n",
       "       [ 6.78051878e-02, -2.94602188e-02],\n",
       "       [ 4.89313718e-02, -2.69543917e-02],\n",
       "       [ 3.51934112e-02, -2.35051710e-02],\n",
       "       [ 1.82260175e-02, -2.31368141e-02],\n",
       "       [ 3.08645339e-03, -2.85648281e-02],\n",
       "       [-1.27396265e-02, -3.16140233e-02],\n",
       "       [-2.02358284e-02, -2.46812463e-02],\n",
       "       [-3.05961301e-02, -2.35621746e-02],\n",
       "       [-3.80066420e-02, -2.11686881e-02],\n",
       "       [-4.85582959e-02, -1.99449431e-02],\n",
       "       [-6.04223497e-02, -2.06586555e-02],\n",
       "       [-5.71923140e-02, -2.46369101e-02],\n",
       "       [-4.85623138e-02, -2.85811625e-02],\n",
       "       [-3.81855858e-02, -3.22437303e-02],\n",
       "       [-3.38843005e-02, -3.31671227e-02],\n",
       "       [-3.14043907e-02, -3.39451725e-02],\n",
       "       [-2.68941189e-02, -3.31054521e-02],\n",
       "       [-3.86748509e-02, -3.23654047e-02],\n",
       "       [-4.05815407e-02, -2.91061961e-02],\n",
       "       [-4.86080228e-02, -2.60173318e-02],\n",
       "       [-3.97130209e-02, -2.86438332e-02],\n",
       "       [-1.56847628e-02, -3.47835595e-02],\n",
       "       [ 1.18287005e-02, -3.43972014e-02],\n",
       "       [ 2.90685018e-02, -3.25084139e-02],\n",
       "       [ 4.61452270e-02, -3.14593467e-02],\n",
       "       [ 5.12885667e-02, -2.82724761e-02],\n",
       "       [ 6.79212423e-02, -2.69980612e-02],\n",
       "       [ 8.37060018e-02, -2.55179665e-02],\n",
       "       [ 9.60447401e-02, -2.50662709e-02],\n",
       "       [ 1.05442624e-01, -2.27571231e-02],\n",
       "       [ 1.10941047e-01, -2.12666944e-02],\n",
       "       [ 1.13525703e-01, -2.20270764e-02],\n",
       "       [ 1.23208541e-01, -2.31658159e-02],\n",
       "       [ 1.22332020e-01, -2.17893945e-02],\n",
       "       [ 1.12514050e-01, -2.04679766e-02],\n",
       "       [ 1.03869920e-01, -1.88112039e-02],\n",
       "       [ 9.61097910e-02, -1.70614253e-02],\n",
       "       [ 8.88415016e-02, -1.55853308e-02],\n",
       "       [ 8.15534867e-02, -1.42572458e-02],\n",
       "       [ 6.89750089e-02, -1.24864658e-02],\n",
       "       [ 6.15086580e-02, -1.03396617e-02],\n",
       "       [ 5.76845203e-02, -8.03051395e-03],\n",
       "       [ 4.67830164e-02, -6.45374637e-03],\n",
       "       [ 4.60360873e-02, -5.09699287e-03],\n",
       "       [ 3.06033913e-02, -3.42855276e-03],\n",
       "       [ 6.70258018e-03, -1.22841195e-03],\n",
       "       [-1.05985494e-03, -7.33380270e-05],\n",
       "       [-6.92645558e-04,  0.00000000e+00],\n",
       "       [-2.21915230e-03,  0.00000000e+00],\n",
       "       [-2.31927357e-03,  0.00000000e+00],\n",
       "       [-2.38314977e-03,  0.00000000e+00],\n",
       "       [-2.43827208e-03,  0.00000000e+00]])"
      ]
     },
     "execution_count": 33,
     "metadata": {
      "tags": []
     },
     "output_type": "execute_result"
    }
   ],
   "source": [
    "info1-info"
   ]
  },
  {
   "cell_type": "code",
   "execution_count": 0,
   "metadata": {
    "colab": {},
    "colab_type": "code",
    "id": "Kza927xKtMK2"
   },
   "outputs": [],
   "source": []
  }
 ],
 "metadata": {
  "accelerator": "GPU",
  "colab": {
   "collapsed_sections": [],
   "name": "training.ipynb",
   "provenance": [],
   "version": "0.3.2"
  },
  "kernelspec": {
   "display_name": "Python 3",
   "language": "python",
   "name": "python3"
  },
  "language_info": {
   "codemirror_mode": {
    "name": "ipython",
    "version": 3
   },
   "file_extension": ".py",
   "mimetype": "text/x-python",
   "name": "python",
   "nbconvert_exporter": "python",
   "pygments_lexer": "ipython3",
   "version": "3.7.6"
  }
 },
 "nbformat": 4,
 "nbformat_minor": 1
}
