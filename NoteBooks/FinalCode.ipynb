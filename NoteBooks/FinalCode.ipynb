{
 "cells": [
  {
   "cell_type": "code",
   "execution_count": 0,
   "metadata": {
    "colab": {
     "base_uri": "https://localhost:8080/",
     "height": 173
    },
    "colab_type": "code",
    "executionInfo": {
     "elapsed": 107418,
     "status": "ok",
     "timestamp": 1560231601659,
     "user": {
      "displayName": "robinraj EY",
      "photoUrl": "",
      "userId": "17540945510930744551"
     },
     "user_tz": -330
    },
    "id": "Ss8qQMI7CDzu",
    "outputId": "3d4527eb-8f40-429b-dd46-60c815985e85"
   },
   "outputs": [
    {
     "name": "stdout",
     "output_type": "stream",
     "text": [
      "E: Package 'python-software-properties' has no installation candidate\n",
      "Selecting previously unselected package google-drive-ocamlfuse.\n",
      "(Reading database ... 130912 files and directories currently installed.)\n",
      "Preparing to unpack .../google-drive-ocamlfuse_0.7.3-0ubuntu3~ubuntu18.04.1_amd64.deb ...\n",
      "Unpacking google-drive-ocamlfuse (0.7.3-0ubuntu3~ubuntu18.04.1) ...\n",
      "Setting up google-drive-ocamlfuse (0.7.3-0ubuntu3~ubuntu18.04.1) ...\n",
      "Processing triggers for man-db (2.8.3-2ubuntu0.1) ...\n",
      "Please, open the following URL in a web browser: https://accounts.google.com/o/oauth2/auth?client_id=32555940559.apps.googleusercontent.com&redirect_uri=urn%3Aietf%3Awg%3Aoauth%3A2.0%3Aoob&scope=https%3A%2F%2Fwww.googleapis.com%2Fauth%2Fdrive&response_type=code&access_type=offline&approval_prompt=force\n"
     ]
    }
   ],
   "source": [
    "!apt-get install -y -qq software-properties-common python-software-properties module-init-tools\n",
    "!add-apt-repository -y ppa:alessandro-strada/ppa 2>&1 > /dev/null\n",
    "!apt-get update -qq 2>&1 > /dev/null\n",
    "!apt-get -y install -qq google-drive-ocamlfuse fuse\n",
    "from google.colab import auth\n",
    "auth.authenticate_user()\n",
    "from oauth2client.client import GoogleCredentials\n",
    "creds = GoogleCredentials.get_application_default() \n",
    "import getpass\n",
    "!google-drive-ocamlfuse -headless -id={creds.client_id} -secret={creds.client_secret} < /dev/null 2>&1 | grep URL\n",
    "vcode = getpass.getpass()\n",
    "!echo {vcode} | google-drive-ocamlfuse -headless -id={creds.client_id} -secret={creds.client_secret}"
   ]
  },
  {
   "cell_type": "code",
   "execution_count": 0,
   "metadata": {
    "colab": {
     "base_uri": "https://localhost:8080/",
     "height": 51
    },
    "colab_type": "code",
    "executionInfo": {
     "elapsed": 6016,
     "status": "ok",
     "timestamp": 1560231684465,
     "user": {
      "displayName": "robinraj EY",
      "photoUrl": "",
      "userId": "17540945510930744551"
     },
     "user_tz": -330
    },
    "id": "eG49JrbmCLkh",
    "outputId": "3a9513b3-20ee-4e9d-c814-1a31c6a491b7"
   },
   "outputs": [
    {
     "name": "stdout",
     "output_type": "stream",
     "text": [
      "fuse: mountpoint is not empty\n",
      "fuse: if you are sure this is safe, use the 'nonempty' mount option\n"
     ]
    }
   ],
   "source": [
    "!mkdir -p drive\n",
    "!google-drive-ocamlfuse drive"
   ]
  },
  {
   "cell_type": "code",
   "execution_count": 0,
   "metadata": {
    "colab": {},
    "colab_type": "code",
    "id": "zElXUf3LCQal"
   },
   "outputs": [],
   "source": [
    "import os\n",
    "os.chdir('drive/Brain-Tumor-Segmentation-using-Deep-Neural-networks-master')"
   ]
  },
  {
   "cell_type": "code",
   "execution_count": 0,
   "metadata": {
    "colab": {
     "base_uri": "https://localhost:8080/",
     "height": 170
    },
    "colab_type": "code",
    "executionInfo": {
     "elapsed": 3334,
     "status": "ok",
     "timestamp": 1560231696357,
     "user": {
      "displayName": "robinraj EY",
      "photoUrl": "",
      "userId": "17540945510930744551"
     },
     "user_tz": -330
    },
    "id": "AgKwRmWGCUGe",
    "outputId": "406aa9a4-2bd4-453d-b840-74c41f1dcfd5"
   },
   "outputs": [
    {
     "name": "stdout",
     "output_type": "stream",
     "text": [
      "'Brain tumor Segementation.pptx'   model.ipynb\n",
      " Capture1.PNG\t\t\t   README.md\n",
      " Capture2.PNG\t\t\t   slice_126_4.png\n",
      " Capture.PNG\t\t\t   training.ipynb\n",
      " FinalCode.ipynb\t\t   trial_0001_input_cascasde_acc.h5\n",
      " HG\t\t\t\t   trial_0001_input_cascasde_acc.h.h5\n",
      " info_mfc.h5\t\t\t   trial_0001_MFCcascade_acc.h5\n",
      " LG\t\t\t\t   trial_0001_MFCcas_dim2_128_acc.h5\n",
      " LICENSE\t\t\t   trial_MFCcascade_acc.h5\n"
     ]
    }
   ],
   "source": [
    "!ls"
   ]
  },
  {
   "cell_type": "code",
   "execution_count": 0,
   "metadata": {
    "colab": {
     "base_uri": "https://localhost:8080/",
     "height": 102
    },
    "colab_type": "code",
    "executionInfo": {
     "elapsed": 11448,
     "status": "ok",
     "timestamp": 1560231710036,
     "user": {
      "displayName": "robinraj EY",
      "photoUrl": "",
      "userId": "17540945510930744551"
     },
     "user_tz": -330
    },
    "id": "xsfVccLCCU0H",
    "outputId": "55c014d8-a7cb-4510-f73c-6f136f1d9a71"
   },
   "outputs": [
    {
     "name": "stdout",
     "output_type": "stream",
     "text": [
      "Collecting SimpleITK\n",
      "\u001b[?25l  Downloading https://files.pythonhosted.org/packages/45/ee/8ddd251cf447e1fc131622e925d538c2542780195ae75e26c122587630d1/SimpleITK-1.2.0-cp36-cp36m-manylinux1_x86_64.whl (42.5MB)\n",
      "\u001b[K     |████████████████████████████████| 42.5MB 2.0MB/s \n",
      "\u001b[?25hInstalling collected packages: SimpleITK\n",
      "Successfully installed SimpleITK-1.2.0\n"
     ]
    }
   ],
   "source": [
    "!pip3 install SimpleITK"
   ]
  },
  {
   "cell_type": "code",
   "execution_count": 0,
   "metadata": {
    "colab": {},
    "colab_type": "code",
    "id": "mtOVvsPnC3Us"
   },
   "outputs": [],
   "source": [
    "import SimpleITK as sitk\n",
    "import numpy as np"
   ]
  },
  {
   "cell_type": "markdown",
   "metadata": {
    "colab_type": "text",
    "id": "C_4Knj5tDcqp"
   },
   "source": [
    "Data Visualisations"
   ]
  },
  {
   "cell_type": "code",
   "execution_count": 0,
   "metadata": {
    "colab": {
     "base_uri": "https://localhost:8080/",
     "height": 34
    },
    "colab_type": "code",
    "executionInfo": {
     "elapsed": 8744,
     "status": "ok",
     "timestamp": 1560231738190,
     "user": {
      "displayName": "robinraj EY",
      "photoUrl": "",
      "userId": "17540945510930744551"
     },
     "user_tz": -330
    },
    "id": "8jouFNsLC6ON",
    "outputId": "287f4f98-266b-4350-eec2-b283e707a142"
   },
   "outputs": [
    {
     "name": "stdout",
     "output_type": "stream",
     "text": [
      "(176, 216, 160)\n"
     ]
    }
   ],
   "source": [
    "import os\n",
    "path = 'HG/0001'\n",
    "p = os.listdir(path)\n",
    "p.sort(key=str.lower)\n",
    "arr = []\n",
    "for i in range(len(p)):\n",
    "  if(i != 4):\n",
    "    p1 = os.listdir(path+'/'+p[i])\n",
    "    p1.sort()\n",
    "    img = sitk.ReadImage(path+'/'+p[i]+'/'+p1[-1])\n",
    "    arr.append(sitk.GetArrayFromImage(img))\n",
    "  else:\n",
    "    p1 = os.listdir(path+'/'+p[i])\n",
    "    img = sitk.ReadImage(path+'/'+p[i]+'/'+p1[0])\n",
    "    Y_labels = sitk.GetArrayFromImage(img) \n",
    "    print(Y_labels.shape)\n",
    "data = np.zeros((Y_labels.shape[1],Y_labels.shape[0],Y_labels.shape[2],4))\n",
    "for i in range(Y_labels.shape[1]):\n",
    "  data[i,:,:,0] = arr[0][:,i,:]\n",
    "  data[i,:,:,1] = arr[1][:,i,:]\n",
    "  data[i,:,:,2] = arr[2][:,i,:]\n",
    "  data[i,:,:,3] = arr[3][:,i,:]"
   ]
  },
  {
   "cell_type": "code",
   "execution_count": 0,
   "metadata": {
    "colab": {
     "base_uri": "https://localhost:8080/",
     "height": 286
    },
    "colab_type": "code",
    "executionInfo": {
     "elapsed": 3594,
     "status": "ok",
     "timestamp": 1560231752748,
     "user": {
      "displayName": "robinraj EY",
      "photoUrl": "",
      "userId": "17540945510930744551"
     },
     "user_tz": -330
    },
    "id": "YF_sD99fDsMS",
    "outputId": "dea20f26-5aa4-4a3b-8c66-2f437d25cae5"
   },
   "outputs": [
    {
     "name": "stdout",
     "output_type": "stream",
     "text": [
      "Populating the interactive namespace from numpy and matplotlib\n"
     ]
    },
    {
     "data": {
      "image/png": "[encoded data removed]",
      "text/plain": [
       "<Figure size 432x288 with 1 Axes>"
      ]
     },
     "metadata": {
      "tags": []
     },
     "output_type": "display_data"
    }
   ],
   "source": [
    "%pylab inline\n",
    "import matplotlib.pyplot as plt\n",
    "img = data[126,:,:,0]\n",
    "imgplot = plt.imshow(img)\n",
    "plt.show()\n",
    "plt.imsave('slice_126_4',img,cmap='gray')"
   ]
  },
  {
   "cell_type": "code",
   "execution_count": 0,
   "metadata": {
    "colab": {
     "base_uri": "https://localhost:8080/",
     "height": 286
    },
    "colab_type": "code",
    "executionInfo": {
     "elapsed": 1169,
     "status": "ok",
     "timestamp": 1560231754812,
     "user": {
      "displayName": "robinraj EY",
      "photoUrl": "",
      "userId": "17540945510930744551"
     },
     "user_tz": -330
    },
    "id": "1CzZ3CRFFZcc",
    "outputId": "5aeb0a87-e656-4174-c872-d4b0e5cf9375"
   },
   "outputs": [
    {
     "name": "stdout",
     "output_type": "stream",
     "text": [
      "Populating the interactive namespace from numpy and matplotlib\n"
     ]
    },
    {
     "data": {
      "image/png": "[encoded data removed]",
      "text/plain": [
       "<Figure size 432x288 with 1 Axes>"
      ]
     },
     "metadata": {
      "tags": []
     },
     "output_type": "display_data"
    }
   ],
   "source": [
    "%pylab inline\n",
    "import matplotlib.pyplot as plt\n",
    "img = Y_labels[:,126,:]\n",
    "imgplot = plt.imshow(img)\n",
    "plt.show()\n",
    "#plt.imsave('slice_126_GT',img,cmap='gray')"
   ]
  },
  {
   "cell_type": "code",
   "execution_count": 0,
   "metadata": {
    "colab": {},
    "colab_type": "code",
    "id": "e_lf8FfWH6rp"
   },
   "outputs": [],
   "source": [
    "def model_gen(input_dim,x,y,slice_no):\n",
    "  X1 = []\n",
    "  X2 = []\n",
    "  Y = []\n",
    "  \n",
    "  for i in range(int((input_dim)/2),y.shape[0]-int((input_dim)/2)):\n",
    "    for j in range(int((input_dim)/2),y.shape[2]-int((input_dim)/2)):\n",
    "      #Filtering all 0 patches\n",
    "      if(x[i-16:i+17,j-16:j+17,:].any != 0):\n",
    "        X2.append(x[i-16:i+17,j-16:j+17,:])\n",
    "        X1.append(x[i-int((input_dim)/2):i+int((input_dim)/2)+1,j-int((input_dim)/2):j+int((input_dim)/2)+1,:])\n",
    "        Y.append(y[i,slice_no,j])\n",
    "      \n",
    "      \n",
    "  X1 = np.asarray(X1)\n",
    "  X2 = np.asarray(X2)\n",
    "  Y = np.asarray(Y)\n",
    "  d = [X1,X2,Y]\n",
    "  return d"
   ]
  },
  {
   "cell_type": "code",
   "execution_count": 0,
   "metadata": {
    "colab": {},
    "colab_type": "code",
    "id": "UWtPN8gyImhA"
   },
   "outputs": [],
   "source": [
    "def data_gen(data,y,slice_no,model_no):\n",
    "  d = []\n",
    "  x = data[slice_no]\n",
    "  #filtering all 0 slices and non-tumor slices\n",
    "  if(x.any() != 0 and y.any() != 0):\n",
    "    if(model_no == 0):\n",
    "      X1 = []\n",
    "      for i in range(16,159):\n",
    "        for j in range(16,199):\n",
    "          if(x[i-16:i+17,j-16:j+17,:].all != 0):\n",
    "            X1.append(x[i-16:i+17,j-16:j+17,:])\n",
    "      Y1 = []\n",
    "      for i in range(16,159):\n",
    "        for j in range(16,199):\n",
    "          if(x[i-16:i+17,j-16:j+17,:].all != 0):\n",
    "            Y1.append(y[i,slice_no,j]) \n",
    "      X1 = np.asarray(X1)\n",
    "      Y1 = np.asarray(Y1)\n",
    "      d = [X1,Y1]\n",
    "    elif(model_no == 1):\n",
    "      d = model_gen(65,x,y,slice_no)\n",
    "    elif(model_no == 2):\n",
    "      d = model_gen(56,x,y,slice_no)\n",
    "    elif(model_no == 3):\n",
    "      d = model_gen(53,x,y,slice_no)  \n",
    "    \n",
    "  return d   "
   ]
  },
  {
   "cell_type": "markdown",
   "metadata": {
    "colab_type": "text",
    "id": "D2hFDjvtIqnZ"
   },
   "source": [
    "Model Definations"
   ]
  },
  {
   "cell_type": "code",
   "execution_count": 0,
   "metadata": {
    "colab": {
     "base_uri": "https://localhost:8080/",
     "height": 34
    },
    "colab_type": "code",
    "executionInfo": {
     "elapsed": 1997,
     "status": "ok",
     "timestamp": 1560231769450,
     "user": {
      "displayName": "robinraj EY",
      "photoUrl": "",
      "userId": "17540945510930744551"
     },
     "user_tz": -330
    },
    "id": "mC04RAU-rJsx",
    "outputId": "80d21468-b58f-446f-ab76-58df70d75739"
   },
   "outputs": [
    {
     "name": "stderr",
     "output_type": "stream",
     "text": [
      "Using TensorFlow backend.\n"
     ]
    }
   ],
   "source": [
    "import keras"
   ]
  },
  {
   "cell_type": "code",
   "execution_count": 0,
   "metadata": {
    "colab": {},
    "colab_type": "code",
    "id": "9RoFhcIyIovB"
   },
   "outputs": [],
   "source": [
    "import keras\n",
    "from keras import layers\n",
    "from keras.layers import Input, Dense, Activation, ZeroPadding2D, BatchNormalization, Flatten, Conv2D, Lambda,Concatenate\n",
    "from keras.layers import AveragePooling2D, MaxPooling2D, Dropout, GlobalMaxPooling2D, GlobalAveragePooling2D, Add\n",
    "from keras.models import Model\n",
    "from keras import regularizers\n",
    "from keras.preprocessing import image\n",
    "from keras.utils import layer_utils\n",
    "from keras.utils.data_utils import get_file\n",
    "from keras.applications.imagenet_utils import preprocess_input\n",
    "from keras.initializers import glorot_normal\n",
    "#import pydot\n",
    "from IPython.display import SVG\n",
    "from keras.utils.vis_utils import model_to_dot\n",
    "from keras.utils import plot_model"
   ]
  },
  {
   "cell_type": "code",
   "execution_count": 0,
   "metadata": {
    "colab": {},
    "colab_type": "code",
    "id": "dnfO8pP3IxRZ"
   },
   "outputs": [],
   "source": [
    "def two_path(X_input):\n",
    "  # Local path Conv1\n",
    "  X = Conv2D(64,(7,7),strides=(1,1),padding='valid')(X_input)\n",
    "  # Batch-norm\n",
    "  X = BatchNormalization()(X)\n",
    "  X1 = Conv2D(64,(7,7),strides=(1,1),padding='valid')(X_input)\n",
    "  X1 = BatchNormalization()(X1)\n",
    "  # Max-out\n",
    "  X = layers.Maximum()([X,X1])\n",
    "  X = Conv2D(64,(4,4),strides=(1,1),padding='valid',activation='relu')(X)\n",
    "  \n",
    "  # Global path\n",
    "  X2 = Conv2D(160,(13,13),strides=(1,1),padding='valid')(X_input)\n",
    "  X2 = BatchNormalization()(X2)\n",
    "  X21 = Conv2D(160,(13,13),strides=(1,1),padding='valid')(X_input)\n",
    "  X21 = BatchNormalization()(X21)\n",
    "  # Max-out\n",
    "  X2 = layers.Maximum()([X2,X21])\n",
    "  \n",
    "  # Local path Conv2\n",
    "  X3 = Conv2D(64,(3,3),strides=(1,1),padding='valid')(X)\n",
    "  X3 = BatchNormalization()(X3)\n",
    "  X31 =  Conv2D(64,(3,3),strides=(1,1),padding='valid')(X)\n",
    "  X31 = BatchNormalization()(X31)\n",
    "  X = layers.Maximum()([X3,X31])\n",
    "  X = Conv2D(64,(2,2),strides=(1,1),padding='valid',activation='relu')(X)\n",
    "  \n",
    "  # Merging the two paths\n",
    "  X = Concatenate()([X2,X])\n",
    "  #X = Conv2D(5,(21,21),strides=(1,1))(X)\n",
    "  #X = Activation('softmax')(X)\n",
    "  \n",
    "  #model = Model(inputs = X_input, outputs = X)\n",
    "  return X"
   ]
  },
  {
   "cell_type": "code",
   "execution_count": 0,
   "metadata": {
    "colab": {},
    "colab_type": "code",
    "id": "SaclX3B4I5e8"
   },
   "outputs": [],
   "source": [
    "def input_cascade(input_shape1,input_shape2):\n",
    "  \n",
    "  X1_input = Input(input_shape1)\n",
    "  # 1st two-path of cascade\n",
    "  X1 = two_path(X1_input)\n",
    "  X1 = Conv2D(5,(21,21),strides=(1,1),padding='valid',activation='relu')(X1)\n",
    "  X1 = BatchNormalization()(X1)\n",
    "  \n",
    "  X2_input = Input(input_shape2)\n",
    "  # Concatenating the output of 1st to input of 2nd\n",
    "  X2_input1 = Concatenate()([X1,X2_input])\n",
    "  #X2_input1 = Input(tensor = X2_input1)\n",
    "  X2 = two_path(X2_input1)\n",
    "  # Fully convolutional softmax classification\n",
    "  X2 = Conv2D(5,(21,21),strides=(1,1),padding='valid')(X2)\n",
    "  X2 = BatchNormalization()(X2)\n",
    "  X2 = Activation('softmax')(X2)\n",
    "  \n",
    "  model = Model(inputs=[X1_input,X2_input],outputs=X2)\n",
    "  return model\n",
    "  "
   ]
  },
  {
   "cell_type": "code",
   "execution_count": 0,
   "metadata": {
    "colab": {},
    "colab_type": "code",
    "id": "gl0YpjrhI6QU"
   },
   "outputs": [],
   "source": [
    "def MFCcascade(input_shape1,input_shape2):\n",
    "  \n",
    "  # 1st two-path\n",
    "  X1_input = Input(input_shape1)\n",
    "  X1 = two_path(X1_input)\n",
    "  X1 = Conv2D(5,(21,21),strides=(1,1),padding='valid',activation='relu')(X1)\n",
    "  X1 = BatchNormalization()(X1)\n",
    "  #X1 = MaxPooling2D((2,2))(X1)\n",
    "  \n",
    "  #2nd two-path \n",
    "  X2_input = Input(input_shape2)\n",
    "  X2 = two_path(X2_input)\n",
    "  \n",
    "  # Concatenate before classification\n",
    "  X2 = Concatenate()([X1,X2])\n",
    "  X2 = Conv2D(5,(21,21),strides=(1,1),padding='valid',activation='relu')(X2)\n",
    "  X2 = BatchNormalization()(X2)\n",
    "  X2 = Activation('softmax')(X2)\n",
    "  \n",
    "  model = Model(inputs=[X1_input,X2_input],outputs=X2)\n",
    "  return model\n",
    "  "
   ]
  },
  {
   "cell_type": "code",
   "execution_count": 0,
   "metadata": {
    "colab": {},
    "colab_type": "code",
    "id": "vhQlYq3Ojdvu"
   },
   "outputs": [],
   "source": [
    "def two_pathcnn(input_shape):\n",
    "  \n",
    "  X_input = Input(input_shape)\n",
    "  \n",
    "  X = Conv2D(64,(7,7),strides=(1,1),padding='valid')(X_input)\n",
    "  X = BatchNormalization()(X)\n",
    "  X1 = Conv2D(64,(7,7),strides=(1,1),padding='valid')(X_input)\n",
    "  X1 = BatchNormalization()(X1)\n",
    "  X = layers.Maximum()([X,X1])\n",
    "  X = Conv2D(64,(4,4),strides=(1,1),padding='valid',activation='relu')(X)\n",
    "  \n",
    "  X2 = Conv2D(160,(13,13),strides=(1,1),padding='valid')(X_input)\n",
    "  X2 = BatchNormalization()(X2)\n",
    "  X21 = Conv2D(160,(13,13),strides=(1,1),padding='valid')(X_input)\n",
    "  X21 = BatchNormalization()(X21)\n",
    "  X2 = layers.Maximum()([X2,X21])\n",
    "  \n",
    "  X3 = Conv2D(64,(3,3),strides=(1,1),padding='valid')(X)\n",
    "  X3 = BatchNormalization()(X3)\n",
    "  X31 =  Conv2D(64,(3,3),strides=(1,1),padding='valid')(X)\n",
    "  X31 = BatchNormalization()(X31)\n",
    "  X = layers.Maximum()([X3,X31])\n",
    "  X = Conv2D(64,(2,2),strides=(1,1),padding='valid',activation='relu')(X)\n",
    "  \n",
    "  X = Concatenate()([X2,X])\n",
    "  X = Conv2D(5,(21,21),strides=(1,1),padding='valid')(X)\n",
    "  X = Activation('softmax')(X)\n",
    "  \n",
    "  model = Model(inputs = X_input, outputs = X)\n",
    "  return model "
   ]
  },
  {
   "cell_type": "code",
   "execution_count": 0,
   "metadata": {
    "colab": {
     "base_uri": "https://localhost:8080/",
     "height": 969
    },
    "colab_type": "code",
    "executionInfo": {
     "elapsed": 3371,
     "status": "ok",
     "timestamp": 1560231849529,
     "user": {
      "displayName": "robinraj EY",
      "photoUrl": "",
      "userId": "17540945510930744551"
     },
     "user_tz": -330
    },
    "id": "f1wniC4jjhbe",
    "outputId": "1e65a080-7c72-4639-8716-32eadcfbcae6"
   },
   "outputs": [
    {
     "name": "stdout",
     "output_type": "stream",
     "text": [
      "WARNING:tensorflow:From /usr/local/lib/python3.6/dist-packages/tensorflow/python/framework/op_def_library.py:263: colocate_with (from tensorflow.python.framework.ops) is deprecated and will be removed in a future version.\n",
      "Instructions for updating:\n",
      "Colocations handled automatically by placer.\n",
      "__________________________________________________________________________________________________\n",
      "Layer (type)                    Output Shape         Param #     Connected to                     \n",
      "==================================================================================================\n",
      "input_1 (InputLayer)            (None, 33, 33, 4)    0                                            \n",
      "__________________________________________________________________________________________________\n",
      "conv2d_1 (Conv2D)               (None, 27, 27, 64)   12608       input_1[0][0]                    \n",
      "__________________________________________________________________________________________________\n",
      "conv2d_2 (Conv2D)               (None, 27, 27, 64)   12608       input_1[0][0]                    \n",
      "__________________________________________________________________________________________________\n",
      "batch_normalization_1 (BatchNor (None, 27, 27, 64)   256         conv2d_1[0][0]                   \n",
      "__________________________________________________________________________________________________\n",
      "batch_normalization_2 (BatchNor (None, 27, 27, 64)   256         conv2d_2[0][0]                   \n",
      "__________________________________________________________________________________________________\n",
      "maximum_1 (Maximum)             (None, 27, 27, 64)   0           batch_normalization_1[0][0]      \n",
      "                                                                 batch_normalization_2[0][0]      \n",
      "__________________________________________________________________________________________________\n",
      "conv2d_3 (Conv2D)               (None, 24, 24, 64)   65600       maximum_1[0][0]                  \n",
      "__________________________________________________________________________________________________\n",
      "conv2d_6 (Conv2D)               (None, 22, 22, 64)   36928       conv2d_3[0][0]                   \n",
      "__________________________________________________________________________________________________\n",
      "conv2d_7 (Conv2D)               (None, 22, 22, 64)   36928       conv2d_3[0][0]                   \n",
      "__________________________________________________________________________________________________\n",
      "conv2d_4 (Conv2D)               (None, 21, 21, 160)  108320      input_1[0][0]                    \n",
      "__________________________________________________________________________________________________\n",
      "conv2d_5 (Conv2D)               (None, 21, 21, 160)  108320      input_1[0][0]                    \n",
      "__________________________________________________________________________________________________\n",
      "batch_normalization_5 (BatchNor (None, 22, 22, 64)   256         conv2d_6[0][0]                   \n",
      "__________________________________________________________________________________________________\n",
      "batch_normalization_6 (BatchNor (None, 22, 22, 64)   256         conv2d_7[0][0]                   \n",
      "__________________________________________________________________________________________________\n",
      "batch_normalization_3 (BatchNor (None, 21, 21, 160)  640         conv2d_4[0][0]                   \n",
      "__________________________________________________________________________________________________\n",
      "batch_normalization_4 (BatchNor (None, 21, 21, 160)  640         conv2d_5[0][0]                   \n",
      "__________________________________________________________________________________________________\n",
      "maximum_3 (Maximum)             (None, 22, 22, 64)   0           batch_normalization_5[0][0]      \n",
      "                                                                 batch_normalization_6[0][0]      \n",
      "__________________________________________________________________________________________________\n",
      "maximum_2 (Maximum)             (None, 21, 21, 160)  0           batch_normalization_3[0][0]      \n",
      "                                                                 batch_normalization_4[0][0]      \n",
      "__________________________________________________________________________________________________\n",
      "conv2d_8 (Conv2D)               (None, 21, 21, 64)   16448       maximum_3[0][0]                  \n",
      "__________________________________________________________________________________________________\n",
      "concatenate_1 (Concatenate)     (None, 21, 21, 224)  0           maximum_2[0][0]                  \n",
      "                                                                 conv2d_8[0][0]                   \n",
      "__________________________________________________________________________________________________\n",
      "conv2d_9 (Conv2D)               (None, 1, 1, 5)      493925      concatenate_1[0][0]              \n",
      "__________________________________________________________________________________________________\n",
      "activation_1 (Activation)       (None, 1, 1, 5)      0           conv2d_9[0][0]                   \n",
      "==================================================================================================\n",
      "Total params: 893,989\n",
      "Trainable params: 892,837\n",
      "Non-trainable params: 1,152\n",
      "__________________________________________________________________________________________________\n"
     ]
    }
   ],
   "source": [
    "m0 = two_pathcnn((33,33,4))\n",
    "m0.summary()"
   ]
  },
  {
   "cell_type": "code",
   "execution_count": 0,
   "metadata": {
    "colab": {
     "base_uri": "https://localhost:8080/",
     "height": 1785
    },
    "colab_type": "code",
    "executionInfo": {
     "elapsed": 2665,
     "status": "ok",
     "timestamp": 1560231866711,
     "user": {
      "displayName": "robinraj EY",
      "photoUrl": "",
      "userId": "17540945510930744551"
     },
     "user_tz": -330
    },
    "id": "R1fVPzaOI8lL",
    "outputId": "78b6fc95-1fe5-46fc-e1c3-8635d4cc9a89"
   },
   "outputs": [
    {
     "name": "stdout",
     "output_type": "stream",
     "text": [
      "__________________________________________________________________________________________________\n",
      "Layer (type)                    Output Shape         Param #     Connected to                     \n",
      "==================================================================================================\n",
      "input_2 (InputLayer)            (None, 53, 53, 4)    0                                            \n",
      "__________________________________________________________________________________________________\n",
      "conv2d_10 (Conv2D)              (None, 47, 47, 64)   12608       input_2[0][0]                    \n",
      "__________________________________________________________________________________________________\n",
      "conv2d_11 (Conv2D)              (None, 47, 47, 64)   12608       input_2[0][0]                    \n",
      "__________________________________________________________________________________________________\n",
      "batch_normalization_7 (BatchNor (None, 47, 47, 64)   256         conv2d_10[0][0]                  \n",
      "__________________________________________________________________________________________________\n",
      "batch_normalization_8 (BatchNor (None, 47, 47, 64)   256         conv2d_11[0][0]                  \n",
      "__________________________________________________________________________________________________\n",
      "input_3 (InputLayer)            (None, 33, 33, 4)    0                                            \n",
      "__________________________________________________________________________________________________\n",
      "maximum_4 (Maximum)             (None, 47, 47, 64)   0           batch_normalization_7[0][0]      \n",
      "                                                                 batch_normalization_8[0][0]      \n",
      "__________________________________________________________________________________________________\n",
      "conv2d_19 (Conv2D)              (None, 27, 27, 64)   12608       input_3[0][0]                    \n",
      "__________________________________________________________________________________________________\n",
      "conv2d_20 (Conv2D)              (None, 27, 27, 64)   12608       input_3[0][0]                    \n",
      "__________________________________________________________________________________________________\n",
      "conv2d_12 (Conv2D)              (None, 44, 44, 64)   65600       maximum_4[0][0]                  \n",
      "__________________________________________________________________________________________________\n",
      "batch_normalization_14 (BatchNo (None, 27, 27, 64)   256         conv2d_19[0][0]                  \n",
      "__________________________________________________________________________________________________\n",
      "batch_normalization_15 (BatchNo (None, 27, 27, 64)   256         conv2d_20[0][0]                  \n",
      "__________________________________________________________________________________________________\n",
      "conv2d_15 (Conv2D)              (None, 42, 42, 64)   36928       conv2d_12[0][0]                  \n",
      "__________________________________________________________________________________________________\n",
      "conv2d_16 (Conv2D)              (None, 42, 42, 64)   36928       conv2d_12[0][0]                  \n",
      "__________________________________________________________________________________________________\n",
      "maximum_7 (Maximum)             (None, 27, 27, 64)   0           batch_normalization_14[0][0]     \n",
      "                                                                 batch_normalization_15[0][0]     \n",
      "__________________________________________________________________________________________________\n",
      "conv2d_13 (Conv2D)              (None, 41, 41, 160)  108320      input_2[0][0]                    \n",
      "__________________________________________________________________________________________________\n",
      "conv2d_14 (Conv2D)              (None, 41, 41, 160)  108320      input_2[0][0]                    \n",
      "__________________________________________________________________________________________________\n",
      "batch_normalization_11 (BatchNo (None, 42, 42, 64)   256         conv2d_15[0][0]                  \n",
      "__________________________________________________________________________________________________\n",
      "batch_normalization_12 (BatchNo (None, 42, 42, 64)   256         conv2d_16[0][0]                  \n",
      "__________________________________________________________________________________________________\n",
      "conv2d_21 (Conv2D)              (None, 24, 24, 64)   65600       maximum_7[0][0]                  \n",
      "__________________________________________________________________________________________________\n",
      "batch_normalization_9 (BatchNor (None, 41, 41, 160)  640         conv2d_13[0][0]                  \n",
      "__________________________________________________________________________________________________\n",
      "batch_normalization_10 (BatchNo (None, 41, 41, 160)  640         conv2d_14[0][0]                  \n",
      "__________________________________________________________________________________________________\n",
      "maximum_6 (Maximum)             (None, 42, 42, 64)   0           batch_normalization_11[0][0]     \n",
      "                                                                 batch_normalization_12[0][0]     \n",
      "__________________________________________________________________________________________________\n",
      "conv2d_24 (Conv2D)              (None, 22, 22, 64)   36928       conv2d_21[0][0]                  \n",
      "__________________________________________________________________________________________________\n",
      "conv2d_25 (Conv2D)              (None, 22, 22, 64)   36928       conv2d_21[0][0]                  \n",
      "__________________________________________________________________________________________________\n",
      "maximum_5 (Maximum)             (None, 41, 41, 160)  0           batch_normalization_9[0][0]      \n",
      "                                                                 batch_normalization_10[0][0]     \n",
      "__________________________________________________________________________________________________\n",
      "conv2d_17 (Conv2D)              (None, 41, 41, 64)   16448       maximum_6[0][0]                  \n",
      "__________________________________________________________________________________________________\n",
      "conv2d_22 (Conv2D)              (None, 21, 21, 160)  108320      input_3[0][0]                    \n",
      "__________________________________________________________________________________________________\n",
      "conv2d_23 (Conv2D)              (None, 21, 21, 160)  108320      input_3[0][0]                    \n",
      "__________________________________________________________________________________________________\n",
      "batch_normalization_18 (BatchNo (None, 22, 22, 64)   256         conv2d_24[0][0]                  \n",
      "__________________________________________________________________________________________________\n",
      "batch_normalization_19 (BatchNo (None, 22, 22, 64)   256         conv2d_25[0][0]                  \n",
      "__________________________________________________________________________________________________\n",
      "concatenate_2 (Concatenate)     (None, 41, 41, 224)  0           maximum_5[0][0]                  \n",
      "                                                                 conv2d_17[0][0]                  \n",
      "__________________________________________________________________________________________________\n",
      "batch_normalization_16 (BatchNo (None, 21, 21, 160)  640         conv2d_22[0][0]                  \n",
      "__________________________________________________________________________________________________\n",
      "batch_normalization_17 (BatchNo (None, 21, 21, 160)  640         conv2d_23[0][0]                  \n",
      "__________________________________________________________________________________________________\n",
      "maximum_9 (Maximum)             (None, 22, 22, 64)   0           batch_normalization_18[0][0]     \n",
      "                                                                 batch_normalization_19[0][0]     \n",
      "__________________________________________________________________________________________________\n",
      "conv2d_18 (Conv2D)              (None, 21, 21, 5)    493925      concatenate_2[0][0]              \n",
      "__________________________________________________________________________________________________\n",
      "maximum_8 (Maximum)             (None, 21, 21, 160)  0           batch_normalization_16[0][0]     \n",
      "                                                                 batch_normalization_17[0][0]     \n",
      "__________________________________________________________________________________________________\n",
      "conv2d_26 (Conv2D)              (None, 21, 21, 64)   16448       maximum_9[0][0]                  \n",
      "__________________________________________________________________________________________________\n",
      "batch_normalization_13 (BatchNo (None, 21, 21, 5)    20          conv2d_18[0][0]                  \n",
      "__________________________________________________________________________________________________\n",
      "concatenate_3 (Concatenate)     (None, 21, 21, 224)  0           maximum_8[0][0]                  \n",
      "                                                                 conv2d_26[0][0]                  \n",
      "__________________________________________________________________________________________________\n",
      "concatenate_4 (Concatenate)     (None, 21, 21, 229)  0           batch_normalization_13[0][0]     \n",
      "                                                                 concatenate_3[0][0]              \n",
      "__________________________________________________________________________________________________\n",
      "conv2d_27 (Conv2D)              (None, 1, 1, 5)      504950      concatenate_4[0][0]              \n",
      "__________________________________________________________________________________________________\n",
      "batch_normalization_20 (BatchNo (None, 1, 1, 5)      20          conv2d_27[0][0]                  \n",
      "__________________________________________________________________________________________________\n",
      "activation_2 (Activation)       (None, 1, 1, 5)      0           batch_normalization_20[0][0]     \n",
      "==================================================================================================\n",
      "Total params: 1,799,043\n",
      "Trainable params: 1,796,719\n",
      "Non-trainable params: 2,324\n",
      "__________________________________________________________________________________________________\n"
     ]
    }
   ],
   "source": [
    "m1 = MFCcascade((53,53,4),(33,33,4))\n",
    "m1.summary()"
   ]
  },
  {
   "cell_type": "code",
   "execution_count": 0,
   "metadata": {
    "colab": {},
    "colab_type": "code",
    "id": "VNQewC5VJ5ks"
   },
   "outputs": [],
   "source": [
    "m1.compile(optimizer='adam',loss='categorical_crossentropy',metrics=['accuracy'])"
   ]
  },
  {
   "cell_type": "code",
   "execution_count": 0,
   "metadata": {
    "colab": {},
    "colab_type": "code",
    "id": "PHSRNdXMLHFc"
   },
   "outputs": [],
   "source": [
    "m1.save('trial_0001_input_cascasde_acc.h5')"
   ]
  },
  {
   "cell_type": "code",
   "execution_count": 0,
   "metadata": {
    "colab": {
     "base_uri": "https://localhost:8080/",
     "height": 170
    },
    "colab_type": "code",
    "executionInfo": {
     "elapsed": 7312,
     "status": "ok",
     "timestamp": 1560149871587,
     "user": {
      "displayName": "robinraj EY",
      "photoUrl": "",
      "userId": "17540945510930744551"
     },
     "user_tz": -330
    },
    "id": "r4m2kSzvLaGP",
    "outputId": "9e3c9153-ffdb-47fa-c1a4-352a5797f0e6"
   },
   "outputs": [
    {
     "name": "stdout",
     "output_type": "stream",
     "text": [
      "'Brain tumor Segementation.pptx'   model.ipynb\n",
      " Capture1.PNG\t\t\t   README.md\n",
      " Capture2.PNG\t\t\t   slice_126_4.png\n",
      " Capture.PNG\t\t\t   training.ipynb\n",
      " FinalCode.ipynb\t\t   trial_0001_input_cascasde_acc.h5\n",
      " HG\t\t\t\t   trial_0001_input_cascasde_acc.h.h5\n",
      " info_mfc.h5\t\t\t   trial_0001_MFCcascade_acc.h5\n",
      " LG\t\t\t\t   trial_0001_MFCcas_dim2_128_acc.h5\n",
      " LICENSE\t\t\t   trial_MFCcascade_acc.h5\n"
     ]
    }
   ],
   "source": [
    "!ls\n"
   ]
  },
  {
   "cell_type": "code",
   "execution_count": 0,
   "metadata": {
    "colab": {
     "base_uri": "https://localhost:8080/",
     "height": 1785
    },
    "colab_type": "code",
    "executionInfo": {
     "elapsed": 3448,
     "status": "ok",
     "timestamp": 1560149976576,
     "user": {
      "displayName": "robinraj EY",
      "photoUrl": "",
      "userId": "17540945510930744551"
     },
     "user_tz": -330
    },
    "id": "eLgC18wqJAFi",
    "outputId": "c8770a60-c8ce-467f-a3e2-85c69d8e9f5f"
   },
   "outputs": [
    {
     "name": "stdout",
     "output_type": "stream",
     "text": [
      "__________________________________________________________________________________________________\n",
      "Layer (type)                    Output Shape         Param #     Connected to                     \n",
      "==================================================================================================\n",
      "input_8 (InputLayer)            (None, 65, 65, 4)    0                                            \n",
      "__________________________________________________________________________________________________\n",
      "conv2d_64 (Conv2D)              (None, 59, 59, 64)   12608       input_8[0][0]                    \n",
      "__________________________________________________________________________________________________\n",
      "conv2d_65 (Conv2D)              (None, 59, 59, 64)   12608       input_8[0][0]                    \n",
      "__________________________________________________________________________________________________\n",
      "batch_normalization_49 (BatchNo (None, 59, 59, 64)   256         conv2d_64[0][0]                  \n",
      "__________________________________________________________________________________________________\n",
      "batch_normalization_50 (BatchNo (None, 59, 59, 64)   256         conv2d_65[0][0]                  \n",
      "__________________________________________________________________________________________________\n",
      "maximum_22 (Maximum)            (None, 59, 59, 64)   0           batch_normalization_49[0][0]     \n",
      "                                                                 batch_normalization_50[0][0]     \n",
      "__________________________________________________________________________________________________\n",
      "conv2d_66 (Conv2D)              (None, 56, 56, 64)   65600       maximum_22[0][0]                 \n",
      "__________________________________________________________________________________________________\n",
      "conv2d_69 (Conv2D)              (None, 54, 54, 64)   36928       conv2d_66[0][0]                  \n",
      "__________________________________________________________________________________________________\n",
      "conv2d_70 (Conv2D)              (None, 54, 54, 64)   36928       conv2d_66[0][0]                  \n",
      "__________________________________________________________________________________________________\n",
      "conv2d_67 (Conv2D)              (None, 53, 53, 160)  108320      input_8[0][0]                    \n",
      "__________________________________________________________________________________________________\n",
      "conv2d_68 (Conv2D)              (None, 53, 53, 160)  108320      input_8[0][0]                    \n",
      "__________________________________________________________________________________________________\n",
      "batch_normalization_53 (BatchNo (None, 54, 54, 64)   256         conv2d_69[0][0]                  \n",
      "__________________________________________________________________________________________________\n",
      "batch_normalization_54 (BatchNo (None, 54, 54, 64)   256         conv2d_70[0][0]                  \n",
      "__________________________________________________________________________________________________\n",
      "batch_normalization_51 (BatchNo (None, 53, 53, 160)  640         conv2d_67[0][0]                  \n",
      "__________________________________________________________________________________________________\n",
      "batch_normalization_52 (BatchNo (None, 53, 53, 160)  640         conv2d_68[0][0]                  \n",
      "__________________________________________________________________________________________________\n",
      "maximum_24 (Maximum)            (None, 54, 54, 64)   0           batch_normalization_53[0][0]     \n",
      "                                                                 batch_normalization_54[0][0]     \n",
      "__________________________________________________________________________________________________\n",
      "maximum_23 (Maximum)            (None, 53, 53, 160)  0           batch_normalization_51[0][0]     \n",
      "                                                                 batch_normalization_52[0][0]     \n",
      "__________________________________________________________________________________________________\n",
      "conv2d_71 (Conv2D)              (None, 53, 53, 64)   16448       maximum_24[0][0]                 \n",
      "__________________________________________________________________________________________________\n",
      "concatenate_11 (Concatenate)    (None, 53, 53, 224)  0           maximum_23[0][0]                 \n",
      "                                                                 conv2d_71[0][0]                  \n",
      "__________________________________________________________________________________________________\n",
      "conv2d_72 (Conv2D)              (None, 33, 33, 5)    493925      concatenate_11[0][0]             \n",
      "__________________________________________________________________________________________________\n",
      "batch_normalization_55 (BatchNo (None, 33, 33, 5)    20          conv2d_72[0][0]                  \n",
      "__________________________________________________________________________________________________\n",
      "input_9 (InputLayer)            (None, 33, 33, 4)    0                                            \n",
      "__________________________________________________________________________________________________\n",
      "concatenate_12 (Concatenate)    (None, 33, 33, 9)    0           batch_normalization_55[0][0]     \n",
      "                                                                 input_9[0][0]                    \n",
      "__________________________________________________________________________________________________\n",
      "conv2d_73 (Conv2D)              (None, 27, 27, 64)   28288       concatenate_12[0][0]             \n",
      "__________________________________________________________________________________________________\n",
      "conv2d_74 (Conv2D)              (None, 27, 27, 64)   28288       concatenate_12[0][0]             \n",
      "__________________________________________________________________________________________________\n",
      "batch_normalization_56 (BatchNo (None, 27, 27, 64)   256         conv2d_73[0][0]                  \n",
      "__________________________________________________________________________________________________\n",
      "batch_normalization_57 (BatchNo (None, 27, 27, 64)   256         conv2d_74[0][0]                  \n",
      "__________________________________________________________________________________________________\n",
      "maximum_25 (Maximum)            (None, 27, 27, 64)   0           batch_normalization_56[0][0]     \n",
      "                                                                 batch_normalization_57[0][0]     \n",
      "__________________________________________________________________________________________________\n",
      "conv2d_75 (Conv2D)              (None, 24, 24, 64)   65600       maximum_25[0][0]                 \n",
      "__________________________________________________________________________________________________\n",
      "conv2d_78 (Conv2D)              (None, 22, 22, 64)   36928       conv2d_75[0][0]                  \n",
      "__________________________________________________________________________________________________\n",
      "conv2d_79 (Conv2D)              (None, 22, 22, 64)   36928       conv2d_75[0][0]                  \n",
      "__________________________________________________________________________________________________\n",
      "conv2d_76 (Conv2D)              (None, 21, 21, 160)  243520      concatenate_12[0][0]             \n",
      "__________________________________________________________________________________________________\n",
      "conv2d_77 (Conv2D)              (None, 21, 21, 160)  243520      concatenate_12[0][0]             \n",
      "__________________________________________________________________________________________________\n",
      "batch_normalization_60 (BatchNo (None, 22, 22, 64)   256         conv2d_78[0][0]                  \n",
      "__________________________________________________________________________________________________\n",
      "batch_normalization_61 (BatchNo (None, 22, 22, 64)   256         conv2d_79[0][0]                  \n",
      "__________________________________________________________________________________________________\n",
      "batch_normalization_58 (BatchNo (None, 21, 21, 160)  640         conv2d_76[0][0]                  \n",
      "__________________________________________________________________________________________________\n",
      "batch_normalization_59 (BatchNo (None, 21, 21, 160)  640         conv2d_77[0][0]                  \n",
      "__________________________________________________________________________________________________\n",
      "maximum_27 (Maximum)            (None, 22, 22, 64)   0           batch_normalization_60[0][0]     \n",
      "                                                                 batch_normalization_61[0][0]     \n",
      "__________________________________________________________________________________________________\n",
      "maximum_26 (Maximum)            (None, 21, 21, 160)  0           batch_normalization_58[0][0]     \n",
      "                                                                 batch_normalization_59[0][0]     \n",
      "__________________________________________________________________________________________________\n",
      "conv2d_80 (Conv2D)              (None, 21, 21, 64)   16448       maximum_27[0][0]                 \n",
      "__________________________________________________________________________________________________\n",
      "concatenate_13 (Concatenate)    (None, 21, 21, 224)  0           maximum_26[0][0]                 \n",
      "                                                                 conv2d_80[0][0]                  \n",
      "__________________________________________________________________________________________________\n",
      "conv2d_81 (Conv2D)              (None, 1, 1, 5)      493925      concatenate_13[0][0]             \n",
      "__________________________________________________________________________________________________\n",
      "batch_normalization_62 (BatchNo (None, 1, 1, 5)      20          conv2d_81[0][0]                  \n",
      "__________________________________________________________________________________________________\n",
      "activation_5 (Activation)       (None, 1, 1, 5)      0           batch_normalization_62[0][0]     \n",
      "==================================================================================================\n",
      "Total params: 2,089,778\n",
      "Trainable params: 2,087,454\n",
      "Non-trainable params: 2,324\n",
      "__________________________________________________________________________________________________\n"
     ]
    }
   ],
   "source": [
    "m1 = input_cascade((65,65,4),(33,33,4))\n",
    "m1.summary()"
   ]
  },
  {
   "cell_type": "markdown",
   "metadata": {
    "colab_type": "text",
    "id": "UW2ETYf1JIT4"
   },
   "source": [
    "Training the architectures"
   ]
  },
  {
   "cell_type": "code",
   "execution_count": 0,
   "metadata": {
    "colab": {},
    "colab_type": "code",
    "id": "fEmav1zLL2kl"
   },
   "outputs": [],
   "source": [
    "m1.compile(optimizer='adam',loss='categorical_crossentropy',metrics=['accuracy'])\n",
    "m1.save('trial_0001_input_cascasde_acc.h5')"
   ]
  },
  {
   "cell_type": "code",
   "execution_count": 0,
   "metadata": {
    "colab": {},
    "colab_type": "code",
    "id": "VMOzNLPrJE8n"
   },
   "outputs": [],
   "source": [
    "from sklearn.utils import class_weight"
   ]
  },
  {
   "cell_type": "code",
   "execution_count": 0,
   "metadata": {
    "colab": {},
    "colab_type": "code",
    "id": "s1WA0h4fJPeI"
   },
   "outputs": [],
   "source": [
    "m1 = keras.models.load_model('trial_0001_input_cascasde_acc.h5')"
   ]
  },
  {
   "cell_type": "markdown",
   "metadata": {
    "colab_type": "text",
    "id": "mcHSBKCdiAqW"
   },
   "source": [
    "Training for the InputCascadeCNN model"
   ]
  },
  {
   "cell_type": "code",
   "execution_count": 0,
   "metadata": {
    "colab": {
     "base_uri": "https://localhost:8080/",
     "height": 16898
    },
    "colab_type": "code",
    "executionInfo": {
     "elapsed": 4822,
     "status": "error",
     "timestamp": 1560022375292,
     "user": {
      "displayName": "robinraj EY",
      "photoUrl": "",
      "userId": "17540945510930744551"
     },
     "user_tz": -330
    },
    "id": "HCh_e-WQJWAX",
    "outputId": "f359d948-692f-4199-f1f2-6126199cb9ac"
   },
   "outputs": [
    {
     "name": "stdout",
     "output_type": "stream",
     "text": [
      "10752/10752 [==============================] - 79s 7ms/step - loss: 0.0166 - acc: 1.0000\n",
      "Epoch 2/5\n",
      "10752/10752 [==============================] - 79s 7ms/step - loss: 0.0159 - acc: 1.0000\n",
      "Epoch 3/5\n",
      "10752/10752 [==============================] - 79s 7ms/step - loss: 0.0152 - acc: 1.0000\n",
      "Epoch 4/5\n",
      "10752/10752 [==============================] - 79s 7ms/step - loss: 0.0145 - acc: 1.0000\n",
      "Epoch 5/5\n",
      "10752/10752 [==============================] - 79s 7ms/step - loss: 0.0139 - acc: 1.0000\n",
      "slice no:35\n",
      "Epoch 1/5\n",
      "10752/10752 [==============================] - 79s 7ms/step - loss: 0.0133 - acc: 1.0000\n",
      "Epoch 2/5\n",
      "10752/10752 [==============================] - 79s 7ms/step - loss: 0.0128 - acc: 1.0000\n",
      "Epoch 3/5\n",
      "10752/10752 [==============================] - 79s 7ms/step - loss: 0.0122 - acc: 1.0000\n",
      "Epoch 4/5\n",
      "10752/10752 [==============================] - 79s 7ms/step - loss: 0.0117 - acc: 1.0000\n",
      "Epoch 5/5\n",
      "10752/10752 [==============================] - 79s 7ms/step - loss: 0.0112 - acc: 1.0000\n",
      "slice no:36\n",
      "Epoch 1/5\n",
      "10752/10752 [==============================] - 79s 7ms/step - loss: 0.0108 - acc: 1.0000\n",
      "Epoch 2/5\n",
      "10752/10752 [==============================] - 79s 7ms/step - loss: 0.0103 - acc: 1.0000\n",
      "Epoch 3/5\n",
      "10752/10752 [==============================] - 79s 7ms/step - loss: 0.0099 - acc: 1.0000\n",
      "Epoch 4/5\n",
      "10752/10752 [==============================] - 79s 7ms/step - loss: 0.0095 - acc: 1.0000\n",
      "Epoch 5/5\n",
      "10752/10752 [==============================] - 79s 7ms/step - loss: 0.0091 - acc: 1.0000\n",
      "slice no:37\n",
      "Epoch 1/5\n",
      "10752/10752 [==============================] - 79s 7ms/step - loss: 0.0087 - acc: 1.0000\n",
      "Epoch 2/5\n",
      "10752/10752 [==============================] - 79s 7ms/step - loss: 0.0084 - acc: 1.0000\n",
      "Epoch 3/5\n",
      "10752/10752 [==============================] - 79s 7ms/step - loss: 0.0080 - acc: 1.0000\n",
      "Epoch 4/5\n",
      "10752/10752 [==============================] - 79s 7ms/step - loss: 0.0077 - acc: 1.0000\n",
      "Epoch 5/5\n",
      "10752/10752 [==============================] - 79s 7ms/step - loss: 0.0074 - acc: 1.0000\n",
      "slice no:38\n",
      "Epoch 1/5\n",
      "10752/10752 [==============================] - 79s 7ms/step - loss: 0.0071 - acc: 1.0000\n",
      "Epoch 2/5\n",
      "10752/10752 [==============================] - 79s 7ms/step - loss: 0.0068 - acc: 1.0000\n",
      "Epoch 3/5\n",
      "10752/10752 [==============================] - 79s 7ms/step - loss: 0.0065 - acc: 1.0000\n",
      "Epoch 4/5\n",
      "10752/10752 [==============================] - 79s 7ms/step - loss: 0.0062 - acc: 1.0000\n",
      "Epoch 5/5\n",
      "10752/10752 [==============================] - 79s 7ms/step - loss: 0.0060 - acc: 1.0000\n",
      "slice no:39\n",
      "Epoch 1/5\n",
      "10752/10752 [==============================] - 79s 7ms/step - loss: 0.0058 - acc: 1.0000\n",
      "Epoch 2/5\n",
      "10752/10752 [==============================] - 79s 7ms/step - loss: 0.0055 - acc: 1.0000\n",
      "Epoch 3/5\n",
      "10752/10752 [==============================] - 79s 7ms/step - loss: 0.0053 - acc: 1.0000\n",
      "Epoch 4/5\n",
      "10752/10752 [==============================] - 79s 7ms/step - loss: 0.0051 - acc: 1.0000\n",
      "Epoch 5/5\n",
      "10752/10752 [==============================] - 79s 7ms/step - loss: 0.0049 - acc: 1.0000\n",
      "slice no:40\n",
      "Epoch 1/5\n",
      "10752/10752 [==============================] - 79s 7ms/step - loss: 0.0047 - acc: 1.0000\n",
      "Epoch 2/5\n",
      "10752/10752 [==============================] - 79s 7ms/step - loss: 0.0045 - acc: 1.0000\n",
      "Epoch 3/5\n",
      "10752/10752 [==============================] - 79s 7ms/step - loss: 0.0043 - acc: 1.0000\n",
      "Epoch 4/5\n",
      "10752/10752 [==============================] - 79s 7ms/step - loss: 0.0041 - acc: 1.0000\n",
      "Epoch 5/5\n",
      "10752/10752 [==============================] - 79s 7ms/step - loss: 0.0040 - acc: 1.0000\n",
      "slice no:41\n",
      "Epoch 1/5\n",
      "10752/10752 [==============================] - 79s 7ms/step - loss: 0.0038 - acc: 1.0000\n",
      "Epoch 2/5\n",
      "10752/10752 [==============================] - 79s 7ms/step - loss: 0.0037 - acc: 1.0000\n",
      "Epoch 3/5\n",
      "10752/10752 [==============================] - 79s 7ms/step - loss: 0.0035 - acc: 1.0000\n",
      "Epoch 4/5\n",
      "10752/10752 [==============================] - 79s 7ms/step - loss: 0.0034 - acc: 1.0000\n",
      "Epoch 5/5\n",
      "10752/10752 [==============================] - 79s 7ms/step - loss: 0.0032 - acc: 1.0000\n",
      "slice no:42\n",
      "Epoch 1/5\n",
      "10752/10752 [==============================] - 79s 7ms/step - loss: 0.0031 - acc: 1.0000\n",
      "Epoch 2/5\n",
      "10752/10752 [==============================] - 79s 7ms/step - loss: 0.0030 - acc: 1.0000\n",
      "Epoch 3/5\n",
      "10752/10752 [==============================] - 79s 7ms/step - loss: 0.0029 - acc: 1.0000\n",
      "Epoch 4/5\n",
      "10752/10752 [==============================] - 79s 7ms/step - loss: 0.0028 - acc: 1.0000\n",
      "Epoch 5/5\n",
      "10752/10752 [==============================] - 79s 7ms/step - loss: 0.0027 - acc: 1.0000\n",
      "slice no:43\n",
      "Epoch 1/5\n",
      "10752/10752 [==============================] - 79s 7ms/step - loss: 0.0025 - acc: 1.0000\n",
      "Epoch 2/5\n",
      "10752/10752 [==============================] - 79s 7ms/step - loss: 0.0024 - acc: 1.0000\n",
      "Epoch 3/5\n",
      "10752/10752 [==============================] - 79s 7ms/step - loss: 0.0023 - acc: 1.0000\n",
      "Epoch 4/5\n",
      "10752/10752 [==============================] - 79s 7ms/step - loss: 0.0023 - acc: 1.0000\n",
      "Epoch 5/5\n",
      "10752/10752 [==============================] - 79s 7ms/step - loss: 0.0022 - acc: 1.0000\n",
      "slice no:44\n",
      "Epoch 1/5\n",
      "10752/10752 [==============================] - 79s 7ms/step - loss: 0.0021 - acc: 1.0000\n",
      "Epoch 2/5\n",
      "10752/10752 [==============================] - 79s 7ms/step - loss: 0.0020 - acc: 1.0000\n",
      "Epoch 3/5\n",
      "10752/10752 [==============================] - 79s 7ms/step - loss: 0.0019 - acc: 1.0000\n",
      "Epoch 4/5\n",
      "10752/10752 [==============================] - 79s 7ms/step - loss: 0.0018 - acc: 1.0000\n",
      "Epoch 5/5\n",
      "10752/10752 [==============================] - 79s 7ms/step - loss: 0.0018 - acc: 1.0000\n",
      "slice no:45\n",
      "Epoch 1/5\n",
      "10752/10752 [==============================] - 79s 7ms/step - loss: 0.0017 - acc: 1.0000\n",
      "Epoch 2/5\n",
      "10752/10752 [==============================] - 79s 7ms/step - loss: 0.0016 - acc: 1.0000\n",
      "Epoch 3/5\n",
      "10752/10752 [==============================] - 79s 7ms/step - loss: 0.0016 - acc: 1.0000\n",
      "Epoch 4/5\n",
      "10752/10752 [==============================] - 79s 7ms/step - loss: 0.0015 - acc: 1.0000\n",
      "Epoch 5/5\n",
      "10752/10752 [==============================] - 79s 7ms/step - loss: 0.0015 - acc: 1.0000\n",
      "slice no:46\n",
      "Epoch 1/5\n",
      "10752/10752 [==============================] - 79s 7ms/step - loss: 0.0014 - acc: 1.0000\n",
      "Epoch 2/5\n",
      "10752/10752 [==============================] - 79s 7ms/step - loss: 0.0013 - acc: 1.0000\n",
      "Epoch 3/5\n",
      "10752/10752 [==============================] - 79s 7ms/step - loss: 0.0013 - acc: 1.0000\n",
      "Epoch 4/5\n",
      "10752/10752 [==============================] - 79s 7ms/step - loss: 0.0012 - acc: 1.0000\n",
      "Epoch 5/5\n",
      "10752/10752 [==============================] - 79s 7ms/step - loss: 0.0012 - acc: 1.0000\n",
      "slice no:47\n",
      "Epoch 1/5\n",
      "10752/10752 [==============================] - 79s 7ms/step - loss: 0.0011 - acc: 1.0000\n",
      "Epoch 2/5\n",
      "10752/10752 [==============================] - 79s 7ms/step - loss: 0.0011 - acc: 1.0000\n",
      "Epoch 3/5\n",
      "10752/10752 [==============================] - 79s 7ms/step - loss: 0.0011 - acc: 1.0000\n",
      "Epoch 4/5\n",
      "10752/10752 [==============================] - 79s 7ms/step - loss: 0.0010 - acc: 1.0000\n",
      "Epoch 5/5\n",
      "10752/10752 [==============================] - 79s 7ms/step - loss: 9.7181e-04 - acc: 1.0000\n",
      "slice no:48\n",
      "Epoch 1/5\n",
      "10752/10752 [==============================] - 79s 7ms/step - loss: 9.3375e-04 - acc: 1.0000\n",
      "Epoch 2/5\n",
      "10752/10752 [==============================] - 79s 7ms/step - loss: 8.9718e-04 - acc: 1.0000\n",
      "Epoch 3/5\n",
      "10752/10752 [==============================] - 79s 7ms/step - loss: 8.6203e-04 - acc: 1.0000\n",
      "Epoch 4/5\n",
      "10752/10752 [==============================] - 79s 7ms/step - loss: 8.2827e-04 - acc: 1.0000\n",
      "Epoch 5/5\n",
      "10752/10752 [==============================] - 79s 7ms/step - loss: 7.9586e-04 - acc: 1.0000\n",
      "slice no:49\n",
      "Epoch 1/5\n",
      "10752/10752 [==============================] - 79s 7ms/step - loss: 7.6475e-04 - acc: 1.0000\n",
      "Epoch 2/5\n",
      "10752/10752 [==============================] - 79s 7ms/step - loss: 7.3485e-04 - acc: 1.0000\n",
      "Epoch 3/5\n",
      "10752/10752 [==============================] - 79s 7ms/step - loss: 7.0612e-04 - acc: 1.0000\n",
      "Epoch 4/5\n",
      "10752/10752 [==============================] - 79s 7ms/step - loss: 6.7851e-04 - acc: 1.0000\n",
      "Epoch 5/5\n",
      "10752/10752 [==============================] - 79s 7ms/step - loss: 6.5199e-04 - acc: 1.0000\n",
      "slice no:50\n",
      "Epoch 1/5\n",
      "10752/10752 [==============================] - 79s 7ms/step - loss: 6.2650e-04 - acc: 1.0000\n",
      "Epoch 2/5\n",
      "10752/10752 [==============================] - 79s 7ms/step - loss: 6.0201e-04 - acc: 1.0000\n",
      "Epoch 3/5\n",
      "10752/10752 [==============================] - 79s 7ms/step - loss: 5.7847e-04 - acc: 1.0000\n",
      "Epoch 4/5\n",
      "10752/10752 [==============================] - 79s 7ms/step - loss: 5.5585e-04 - acc: 1.0000\n",
      "Epoch 5/5\n",
      "10752/10752 [==============================] - 79s 7ms/step - loss: 5.3414e-04 - acc: 1.0000\n",
      "slice no:51\n",
      "Epoch 1/5\n",
      "10752/10752 [==============================] - 80s 7ms/step - loss: 5.1329e-04 - acc: 1.0000\n",
      "Epoch 2/5\n",
      "10752/10752 [==============================] - 79s 7ms/step - loss: 4.9326e-04 - acc: 1.0000\n",
      "Epoch 3/5\n",
      "10752/10752 [==============================] - 79s 7ms/step - loss: 4.7401e-04 - acc: 1.0000\n",
      "Epoch 4/5\n",
      "10752/10752 [==============================] - 79s 7ms/step - loss: 4.5552e-04 - acc: 1.0000\n",
      "Epoch 5/5\n",
      "10752/10752 [==============================] - 79s 7ms/step - loss: 4.3774e-04 - acc: 1.0000\n",
      "slice no:52\n",
      "Epoch 1/5\n",
      "10752/10752 [==============================] - 79s 7ms/step - loss: 4.2066e-04 - acc: 1.0000\n",
      "Epoch 2/5\n",
      "10752/10752 [==============================] - 79s 7ms/step - loss: 4.0425e-04 - acc: 1.0000\n",
      "Epoch 3/5\n",
      "10752/10752 [==============================] - 79s 7ms/step - loss: 3.8847e-04 - acc: 1.0000\n",
      "Epoch 4/5\n",
      "10752/10752 [==============================] - 79s 7ms/step - loss: 3.7331e-04 - acc: 1.0000\n",
      "Epoch 5/5\n",
      "10752/10752 [==============================] - 79s 7ms/step - loss: 3.5874e-04 - acc: 1.0000\n",
      "slice no:53\n",
      "Epoch 1/5\n",
      "10752/10752 [==============================] - 80s 7ms/step - loss: 3.4474e-04 - acc: 1.0000\n",
      "Epoch 2/5\n",
      "10752/10752 [==============================] - 79s 7ms/step - loss: 3.3129e-04 - acc: 1.0000\n",
      "Epoch 3/5\n",
      "10752/10752 [==============================] - 79s 7ms/step - loss: 3.1836e-04 - acc: 1.0000\n",
      "Epoch 4/5\n",
      "10752/10752 [==============================] - 79s 7ms/step - loss: 3.0593e-04 - acc: 1.0000\n",
      "Epoch 5/5\n",
      "10752/10752 [==============================] - 79s 7ms/step - loss: 2.9400e-04 - acc: 1.0000\n",
      "slice no:54\n",
      "Epoch 1/5\n",
      "10752/10752 [==============================] - 79s 7ms/step - loss: 0.0038 - acc: 0.9995\n",
      "Epoch 2/5\n",
      "10752/10752 [==============================] - 79s 7ms/step - loss: 0.0028 - acc: 0.9995\n",
      "Epoch 3/5\n",
      "10752/10752 [==============================] - 79s 7ms/step - loss: 0.0022 - acc: 0.9994\n",
      "Epoch 4/5\n",
      "10752/10752 [==============================] - 79s 7ms/step - loss: 0.0026 - acc: 0.9995\n",
      "Epoch 5/5\n",
      "10752/10752 [==============================] - 79s 7ms/step - loss: 0.0024 - acc: 0.9994\n",
      "slice no:55\n",
      "Epoch 1/5\n",
      "10752/10752 [==============================] - 79s 7ms/step - loss: 0.0035 - acc: 0.9990\n",
      "Epoch 2/5\n",
      "10752/10752 [==============================] - 79s 7ms/step - loss: 0.0031 - acc: 0.9992\n",
      "Epoch 3/5\n",
      "10752/10752 [==============================] - 79s 7ms/step - loss: 0.0032 - acc: 0.9989\n",
      "Epoch 4/5\n",
      "10752/10752 [==============================] - 79s 7ms/step - loss: 0.0027 - acc: 0.9992\n",
      "Epoch 5/5\n",
      "10752/10752 [==============================] - 79s 7ms/step - loss: 0.0029 - acc: 0.9989\n",
      "slice no:56\n",
      "Epoch 1/5\n",
      "10752/10752 [==============================] - 79s 7ms/step - loss: 0.0029 - acc: 0.9987\n",
      "Epoch 2/5\n",
      "10752/10752 [==============================] - 79s 7ms/step - loss: 0.0035 - acc: 0.9989\n",
      "Epoch 3/5\n",
      "10752/10752 [==============================] - 79s 7ms/step - loss: 0.0024 - acc: 0.9989\n",
      "Epoch 4/5\n",
      "10752/10752 [==============================] - 79s 7ms/step - loss: 0.0035 - acc: 0.9990\n",
      "Epoch 5/5\n",
      "10752/10752 [==============================] - 79s 7ms/step - loss: 0.0024 - acc: 0.9989\n",
      "slice no:57\n",
      "Epoch 1/5\n",
      "10752/10752 [==============================] - 79s 7ms/step - loss: 0.0030 - acc: 0.9986\n",
      "Epoch 2/5\n",
      "10752/10752 [==============================] - 80s 7ms/step - loss: 0.0027 - acc: 0.9988\n",
      "Epoch 3/5\n",
      "10752/10752 [==============================] - 79s 7ms/step - loss: 0.0021 - acc: 0.9992\n",
      "Epoch 4/5\n",
      "10752/10752 [==============================] - 80s 7ms/step - loss: 0.0017 - acc: 0.9993\n",
      "Epoch 5/5\n",
      "10752/10752 [==============================] - 79s 7ms/step - loss: 0.0016 - acc: 0.9995\n",
      "slice no:58\n",
      "Epoch 1/5\n",
      "10752/10752 [==============================] - 79s 7ms/step - loss: 0.0025 - acc: 0.9987\n",
      "Epoch 2/5\n",
      "10752/10752 [==============================] - 79s 7ms/step - loss: 0.0020 - acc: 0.9994\n",
      "Epoch 3/5\n",
      "10752/10752 [==============================] - 79s 7ms/step - loss: 0.0014 - acc: 0.9993\n",
      "Epoch 4/5\n",
      "10752/10752 [==============================] - 79s 7ms/step - loss: 0.0015 - acc: 0.9994\n",
      "Epoch 5/5\n",
      "10752/10752 [==============================] - 79s 7ms/step - loss: 0.0012 - acc: 0.9996\n",
      "slice no:59\n",
      "Epoch 1/5\n",
      "10752/10752 [==============================] - 80s 7ms/step - loss: 0.0063 - acc: 0.9980\n",
      "Epoch 2/5\n",
      "10752/10752 [==============================] - 80s 7ms/step - loss: 0.0041 - acc: 0.9983\n",
      "Epoch 3/5\n",
      "10752/10752 [==============================] - 80s 7ms/step - loss: 0.0034 - acc: 0.9987\n",
      "Epoch 4/5\n",
      "10752/10752 [==============================] - 80s 7ms/step - loss: 0.0036 - acc: 0.9982\n",
      "Epoch 5/5\n",
      "10752/10752 [==============================] - 80s 7ms/step - loss: 0.0031 - acc: 0.9987\n",
      "slice no:60\n",
      "Epoch 1/5\n",
      "10752/10752 [==============================] - 79s 7ms/step - loss: 0.0129 - acc: 0.9961\n",
      "Epoch 2/5\n",
      "10752/10752 [==============================] - 79s 7ms/step - loss: 0.0085 - acc: 0.9967\n",
      "Epoch 3/5\n",
      "10752/10752 [==============================] - 79s 7ms/step - loss: 0.0071 - acc: 0.9975\n",
      "Epoch 4/5\n",
      "10752/10752 [==============================] - 79s 7ms/step - loss: 0.0063 - acc: 0.9970\n",
      "Epoch 5/5\n",
      "10752/10752 [==============================] - 79s 7ms/step - loss: 0.0057 - acc: 0.9977\n",
      "slice no:61\n",
      "Epoch 1/5\n",
      "10752/10752 [==============================] - 80s 7ms/step - loss: 0.0155 - acc: 0.9945\n",
      "Epoch 2/5\n",
      "10752/10752 [==============================] - 80s 7ms/step - loss: 0.0103 - acc: 0.9956\n",
      "Epoch 3/5\n",
      "10752/10752 [==============================] - 80s 7ms/step - loss: 0.0101 - acc: 0.9959\n",
      "Epoch 4/5\n",
      "10752/10752 [==============================] - 80s 7ms/step - loss: 0.0093 - acc: 0.9965\n",
      "Epoch 5/5\n",
      "10752/10752 [==============================] - 80s 7ms/step - loss: 0.0076 - acc: 0.9973\n",
      "slice no:62\n",
      "Epoch 1/5\n",
      "10752/10752 [==============================] - 80s 7ms/step - loss: 0.0280 - acc: 0.9930\n",
      "Epoch 2/5\n",
      "10752/10752 [==============================] - 79s 7ms/step - loss: 0.0173 - acc: 0.9943\n",
      "Epoch 3/5\n",
      "10752/10752 [==============================] - 79s 7ms/step - loss: 0.0150 - acc: 0.9945\n",
      "Epoch 4/5\n",
      "10752/10752 [==============================] - 79s 7ms/step - loss: 0.0160 - acc: 0.9947\n",
      "Epoch 5/5\n",
      "10752/10752 [==============================] - 79s 7ms/step - loss: 0.0116 - acc: 0.9964\n",
      "slice no:63\n",
      "Epoch 1/5\n",
      "10752/10752 [==============================] - 80s 7ms/step - loss: 0.0295 - acc: 0.9903\n",
      "Epoch 2/5\n",
      "10752/10752 [==============================] - 80s 7ms/step - loss: 0.0202 - acc: 0.9927\n",
      "Epoch 3/5\n",
      "10752/10752 [==============================] - 80s 7ms/step - loss: 0.0170 - acc: 0.9940\n",
      "Epoch 4/5\n",
      "10752/10752 [==============================] - 80s 7ms/step - loss: 0.0148 - acc: 0.9947\n",
      "Epoch 5/5\n",
      "10752/10752 [==============================] - 80s 7ms/step - loss: 0.0148 - acc: 0.9942\n",
      "slice no:64\n",
      "Epoch 1/5\n",
      "10752/10752 [==============================] - 80s 7ms/step - loss: 0.0320 - acc: 0.9908\n",
      "Epoch 2/5\n",
      "10752/10752 [==============================] - 79s 7ms/step - loss: 0.0225 - acc: 0.9928\n",
      "Epoch 3/5\n",
      "10752/10752 [==============================] - 79s 7ms/step - loss: 0.0200 - acc: 0.9932\n",
      "Epoch 4/5\n",
      "10752/10752 [==============================] - 79s 7ms/step - loss: 0.0167 - acc: 0.9938\n",
      "Epoch 5/5\n",
      "10752/10752 [==============================] - 79s 7ms/step - loss: 0.0154 - acc: 0.9946\n",
      "slice no:65\n",
      "Epoch 1/5\n",
      "10752/10752 [==============================] - 80s 7ms/step - loss: 0.0387 - acc: 0.9878\n",
      "Epoch 2/5\n",
      "10752/10752 [==============================] - 80s 7ms/step - loss: 0.0268 - acc: 0.9907\n",
      "Epoch 3/5\n",
      "10752/10752 [==============================] - 80s 7ms/step - loss: 0.0218 - acc: 0.9930\n",
      "Epoch 4/5\n",
      "10752/10752 [==============================] - 80s 7ms/step - loss: 0.0205 - acc: 0.9927\n",
      "Epoch 5/5\n",
      "10752/10752 [==============================] - 80s 7ms/step - loss: 0.0153 - acc: 0.9947\n",
      "slice no:66\n",
      "Epoch 1/5\n",
      "10752/10752 [==============================] - 80s 7ms/step - loss: 0.0393 - acc: 0.9874\n",
      "Epoch 2/5\n",
      "10752/10752 [==============================] - 79s 7ms/step - loss: 0.0306 - acc: 0.9897\n",
      "Epoch 3/5\n",
      "10752/10752 [==============================] - 79s 7ms/step - loss: 0.0277 - acc: 0.9909\n",
      "Epoch 4/5\n",
      "10752/10752 [==============================] - 79s 7ms/step - loss: 0.0232 - acc: 0.9910\n",
      "Epoch 5/5\n",
      "10752/10752 [==============================] - 79s 7ms/step - loss: 0.0204 - acc: 0.9919\n",
      "slice no:67\n",
      "Epoch 1/5\n",
      "10752/10752 [==============================] - 80s 7ms/step - loss: 0.0389 - acc: 0.9862\n",
      "Epoch 2/5\n",
      "10752/10752 [==============================] - 80s 7ms/step - loss: 0.0303 - acc: 0.9884\n",
      "Epoch 3/5\n",
      "10752/10752 [==============================] - 80s 7ms/step - loss: 0.0286 - acc: 0.9883\n",
      "Epoch 4/5\n",
      "10752/10752 [==============================] - 80s 7ms/step - loss: 0.0234 - acc: 0.9917\n",
      "Epoch 5/5\n",
      "10752/10752 [==============================] - 80s 7ms/step - loss: 0.0223 - acc: 0.9920\n",
      "slice no:68\n",
      "Epoch 1/5\n",
      "10752/10752 [==============================] - 79s 7ms/step - loss: 0.0413 - acc: 0.9847\n",
      "Epoch 2/5\n",
      "10752/10752 [==============================] - 79s 7ms/step - loss: 0.0324 - acc: 0.9873\n",
      "Epoch 3/5\n",
      "10752/10752 [==============================] - 79s 7ms/step - loss: 0.0271 - acc: 0.9894\n",
      "Epoch 4/5\n",
      "10752/10752 [==============================] - 79s 7ms/step - loss: 0.0254 - acc: 0.9901\n",
      "Epoch 5/5\n",
      "10752/10752 [==============================] - 79s 7ms/step - loss: 0.0241 - acc: 0.9900\n",
      "slice no:69\n",
      "Epoch 1/5\n",
      "10752/10752 [==============================] - 80s 7ms/step - loss: 0.0363 - acc: 0.9866\n",
      "Epoch 2/5\n",
      "10752/10752 [==============================] - 80s 7ms/step - loss: 0.0307 - acc: 0.9887\n",
      "Epoch 3/5\n",
      "10752/10752 [==============================] - 80s 7ms/step - loss: 0.0255 - acc: 0.9904\n",
      "Epoch 4/5\n",
      "10752/10752 [==============================] - 80s 7ms/step - loss: 0.0233 - acc: 0.9906\n",
      "Epoch 5/5\n",
      "10752/10752 [==============================] - 80s 7ms/step - loss: 0.0201 - acc: 0.9918\n",
      "slice no:70\n",
      "Epoch 1/5\n",
      "10752/10752 [==============================] - 80s 7ms/step - loss: 0.0345 - acc: 0.9874\n",
      "Epoch 2/5\n",
      "10752/10752 [==============================] - 79s 7ms/step - loss: 0.0286 - acc: 0.9888\n",
      "Epoch 3/5\n",
      "10752/10752 [==============================] - 79s 7ms/step - loss: 0.0245 - acc: 0.9915\n",
      "Epoch 4/5\n",
      "10752/10752 [==============================] - 79s 7ms/step - loss: 0.0210 - acc: 0.9922\n",
      "Epoch 5/5\n",
      "10752/10752 [==============================] - 79s 7ms/step - loss: 0.0204 - acc: 0.9921\n",
      "slice no:71\n",
      "Epoch 1/5\n",
      "10752/10752 [==============================] - 80s 7ms/step - loss: 0.0342 - acc: 0.9884\n",
      "Epoch 2/5\n",
      "10752/10752 [==============================] - 80s 7ms/step - loss: 0.0307 - acc: 0.9892\n",
      "Epoch 3/5\n",
      "10752/10752 [==============================] - 80s 7ms/step - loss: 0.0254 - acc: 0.9901\n",
      "Epoch 4/5\n",
      "10752/10752 [==============================] - 80s 7ms/step - loss: 0.0240 - acc: 0.9914\n",
      "Epoch 5/5\n",
      "10752/10752 [==============================] - 80s 7ms/step - loss: 0.0212 - acc: 0.9926\n",
      "slice no:72\n",
      "Epoch 1/5\n",
      "10752/10752 [==============================] - 80s 7ms/step - loss: 0.0381 - acc: 0.9867\n",
      "Epoch 2/5\n",
      "10752/10752 [==============================] - 80s 7ms/step - loss: 0.0308 - acc: 0.9885\n",
      "Epoch 3/5\n",
      "10752/10752 [==============================] - 80s 7ms/step - loss: 0.0271 - acc: 0.9899\n",
      "Epoch 4/5\n",
      "10752/10752 [==============================] - 80s 7ms/step - loss: 0.0217 - acc: 0.9925\n",
      "Epoch 5/5\n",
      "10752/10752 [==============================] - 80s 7ms/step - loss: 0.0203 - acc: 0.9931\n",
      "slice no:73\n",
      "Epoch 1/5\n",
      "10752/10752 [==============================] - 80s 7ms/step - loss: 0.0341 - acc: 0.9874\n",
      "Epoch 2/5\n",
      "10752/10752 [==============================] - 80s 7ms/step - loss: 0.0253 - acc: 0.9908\n",
      "Epoch 3/5\n",
      "10752/10752 [==============================] - 80s 7ms/step - loss: 0.0211 - acc: 0.9932\n",
      "Epoch 4/5\n",
      "10752/10752 [==============================] - 80s 7ms/step - loss: 0.0194 - acc: 0.9927\n",
      "Epoch 5/5\n",
      "10752/10752 [==============================] - 80s 7ms/step - loss: 0.0207 - acc: 0.9923\n",
      "slice no:74\n",
      "Epoch 1/5\n",
      "10752/10752 [==============================] - 80s 7ms/step - loss: 0.0292 - acc: 0.9895\n",
      "Epoch 2/5\n",
      "10752/10752 [==============================] - 80s 7ms/step - loss: 0.0214 - acc: 0.9926\n",
      "Epoch 3/5\n",
      "10752/10752 [==============================] - 80s 7ms/step - loss: 0.0182 - acc: 0.9930\n",
      "Epoch 4/5\n",
      "10752/10752 [==============================] - 80s 7ms/step - loss: 0.0175 - acc: 0.9935\n",
      "Epoch 5/5\n",
      "10752/10752 [==============================] - 80s 7ms/step - loss: 0.0170 - acc: 0.9940\n",
      "slice no:75\n",
      "Epoch 1/5\n",
      "10752/10752 [==============================] - 80s 7ms/step - loss: 0.0345 - acc: 0.9874\n",
      "Epoch 2/5\n",
      "10752/10752 [==============================] - 80s 7ms/step - loss: 0.0285 - acc: 0.9898\n",
      "Epoch 3/5\n",
      "10752/10752 [==============================] - 80s 7ms/step - loss: 0.0244 - acc: 0.9919\n",
      "Epoch 4/5\n",
      "10752/10752 [==============================] - 80s 7ms/step - loss: 0.0201 - acc: 0.9935\n",
      "Epoch 5/5\n",
      "10752/10752 [==============================] - 80s 7ms/step - loss: 0.0168 - acc: 0.9940\n",
      "slice no:76\n",
      "Epoch 1/5\n",
      "10752/10752 [==============================] - 80s 7ms/step - loss: 0.0333 - acc: 0.9875\n",
      "Epoch 2/5\n",
      "10752/10752 [==============================] - 80s 7ms/step - loss: 0.0249 - acc: 0.9904\n",
      "Epoch 3/5\n",
      "10752/10752 [==============================] - 80s 7ms/step - loss: 0.0217 - acc: 0.9924\n",
      "Epoch 4/5\n",
      "10752/10752 [==============================] - 80s 7ms/step - loss: 0.0176 - acc: 0.9940\n",
      "Epoch 5/5\n",
      "10752/10752 [==============================] - 80s 7ms/step - loss: 0.0157 - acc: 0.9945\n",
      "slice no:77\n",
      "Epoch 1/5\n",
      "10752/10752 [==============================] - 80s 7ms/step - loss: 0.0306 - acc: 0.9896\n",
      "Epoch 2/5\n",
      "10752/10752 [==============================] - 80s 7ms/step - loss: 0.0232 - acc: 0.9927\n",
      "Epoch 3/5\n",
      "10752/10752 [==============================] - 80s 7ms/step - loss: 0.0206 - acc: 0.9937\n",
      "Epoch 4/5\n",
      "10752/10752 [==============================] - 80s 7ms/step - loss: 0.0179 - acc: 0.9939\n",
      "Epoch 5/5\n",
      "10752/10752 [==============================] - 80s 7ms/step - loss: 0.0159 - acc: 0.9945\n",
      "slice no:78\n",
      "Epoch 1/5\n",
      "10752/10752 [==============================] - 80s 7ms/step - loss: 0.0275 - acc: 0.9903\n",
      "Epoch 2/5\n",
      "10752/10752 [==============================] - 80s 7ms/step - loss: 0.0234 - acc: 0.9913\n",
      "Epoch 3/5\n",
      "10752/10752 [==============================] - 80s 7ms/step - loss: 0.0167 - acc: 0.9942\n",
      "Epoch 4/5\n",
      "10752/10752 [==============================] - 80s 7ms/step - loss: 0.0164 - acc: 0.9944\n",
      "Epoch 5/5\n",
      "10752/10752 [==============================] - 80s 7ms/step - loss: 0.0147 - acc: 0.9951\n",
      "slice no:79\n",
      "Epoch 1/5\n",
      "10752/10752 [==============================] - 80s 7ms/step - loss: 0.0306 - acc: 0.9897\n",
      "Epoch 2/5\n",
      "10752/10752 [==============================] - 80s 7ms/step - loss: 0.0213 - acc: 0.9922\n",
      "Epoch 3/5\n",
      "10752/10752 [==============================] - 80s 7ms/step - loss: 0.0202 - acc: 0.9934\n",
      "Epoch 4/5\n",
      "10752/10752 [==============================] - 80s 7ms/step - loss: 0.0161 - acc: 0.9941\n",
      "Epoch 5/5\n",
      "10752/10752 [==============================] - 80s 7ms/step - loss: 0.0141 - acc: 0.9954\n",
      "slice no:80\n",
      "Epoch 1/5\n",
      "10752/10752 [==============================] - 80s 7ms/step - loss: 0.0287 - acc: 0.9900\n",
      "Epoch 2/5\n",
      "10752/10752 [==============================] - 80s 7ms/step - loss: 0.0208 - acc: 0.9930\n",
      "Epoch 3/5\n",
      "10752/10752 [==============================] - 80s 7ms/step - loss: 0.0184 - acc: 0.9934\n",
      "Epoch 4/5\n",
      "10752/10752 [==============================] - 80s 7ms/step - loss: 0.0136 - acc: 0.9957\n",
      "Epoch 5/5\n",
      "10752/10752 [==============================] - 80s 7ms/step - loss: 0.0114 - acc: 0.9966\n",
      "slice no:81\n",
      "Epoch 1/5\n",
      "10752/10752 [==============================] - 80s 7ms/step - loss: 0.0268 - acc: 0.9899\n",
      "Epoch 2/5\n",
      "10752/10752 [==============================] - 80s 7ms/step - loss: 0.0188 - acc: 0.9938\n",
      "Epoch 3/5\n",
      "10752/10752 [==============================] - 80s 7ms/step - loss: 0.0164 - acc: 0.9943\n",
      "Epoch 4/5\n",
      "10752/10752 [==============================] - 80s 7ms/step - loss: 0.0136 - acc: 0.9954\n",
      "Epoch 5/5\n",
      "10752/10752 [==============================] - 80s 7ms/step - loss: 0.0104 - acc: 0.9975\n",
      "slice no:82\n",
      "Epoch 1/5\n",
      "10752/10752 [==============================] - 80s 7ms/step - loss: 0.0261 - acc: 0.9919\n",
      "Epoch 2/5\n",
      "10752/10752 [==============================] - 80s 7ms/step - loss: 0.0201 - acc: 0.9939\n",
      "Epoch 3/5\n",
      "10752/10752 [==============================] - 80s 7ms/step - loss: 0.0159 - acc: 0.9949\n",
      "Epoch 4/5\n",
      "10752/10752 [==============================] - 80s 7ms/step - loss: 0.0120 - acc: 0.9968\n",
      "Epoch 5/5\n",
      "10752/10752 [==============================] - 80s 7ms/step - loss: 0.0117 - acc: 0.9970\n",
      "slice no:83\n",
      "Epoch 1/5\n",
      "10752/10752 [==============================] - 80s 7ms/step - loss: 0.0230 - acc: 0.9927\n",
      "Epoch 2/5\n",
      "10752/10752 [==============================] - 80s 7ms/step - loss: 0.0173 - acc: 0.9941\n",
      "Epoch 3/5\n",
      "10752/10752 [==============================] - 80s 7ms/step - loss: 0.0152 - acc: 0.9945\n",
      "Epoch 4/5\n",
      "10752/10752 [==============================] - 80s 7ms/step - loss: 0.0117 - acc: 0.9954\n",
      "Epoch 5/5\n",
      "10752/10752 [==============================] - 80s 7ms/step - loss: 0.0120 - acc: 0.9959\n",
      "slice no:84\n",
      "Epoch 1/5\n",
      "10752/10752 [==============================] - 80s 7ms/step - loss: 0.0295 - acc: 0.9893\n",
      "Epoch 2/5\n",
      "10752/10752 [==============================] - 80s 7ms/step - loss: 0.0205 - acc: 0.9927\n",
      "Epoch 3/5\n",
      "10752/10752 [==============================] - 80s 7ms/step - loss: 0.0157 - acc: 0.9942\n",
      "Epoch 4/5\n",
      "10752/10752 [==============================] - 80s 7ms/step - loss: 0.0135 - acc: 0.9955\n",
      "Epoch 5/5\n",
      "10752/10752 [==============================] - 80s 7ms/step - loss: 0.0136 - acc: 0.9947\n",
      "slice no:85\n",
      "Epoch 1/5\n",
      "10752/10752 [==============================] - 80s 7ms/step - loss: 0.0229 - acc: 0.9917\n",
      "Epoch 2/5\n",
      "10752/10752 [==============================] - 80s 7ms/step - loss: 0.0166 - acc: 0.9940\n",
      "Epoch 3/5\n",
      "10752/10752 [==============================] - 80s 7ms/step - loss: 0.0146 - acc: 0.9956\n",
      "Epoch 4/5\n",
      "10752/10752 [==============================] - 80s 7ms/step - loss: 0.0124 - acc: 0.9958\n",
      "Epoch 5/5\n",
      "10752/10752 [==============================] - 80s 7ms/step - loss: 0.0103 - acc: 0.9965\n",
      "slice no:86\n",
      "Epoch 1/5\n",
      "10752/10752 [==============================] - 80s 7ms/step - loss: 0.0299 - acc: 0.9896\n",
      "Epoch 2/5\n",
      "10752/10752 [==============================] - 80s 7ms/step - loss: 0.0190 - acc: 0.9933\n",
      "Epoch 3/5\n",
      "10752/10752 [==============================] - 80s 7ms/step - loss: 0.0164 - acc: 0.9931\n",
      "Epoch 4/5\n",
      "10752/10752 [==============================] - 80s 7ms/step - loss: 0.0147 - acc: 0.9942\n",
      "Epoch 5/5\n",
      "10752/10752 [==============================] - 80s 7ms/step - loss: 0.0115 - acc: 0.9963\n",
      "slice no:87\n",
      "Epoch 1/5\n",
      "10752/10752 [==============================] - 80s 7ms/step - loss: 0.0311 - acc: 0.9884\n",
      "Epoch 2/5\n",
      "10752/10752 [==============================] - 80s 7ms/step - loss: 0.0220 - acc: 0.9925\n",
      "Epoch 3/5\n",
      "10752/10752 [==============================] - 80s 7ms/step - loss: 0.0190 - acc: 0.9926\n",
      "Epoch 4/5\n",
      "10752/10752 [==============================] - 80s 7ms/step - loss: 0.0169 - acc: 0.9937\n",
      "Epoch 5/5\n",
      "10752/10752 [==============================] - 80s 7ms/step - loss: 0.0141 - acc: 0.9946\n",
      "slice no:88\n",
      "Epoch 1/5\n",
      "10752/10752 [==============================] - 80s 7ms/step - loss: 0.0273 - acc: 0.9914\n",
      "Epoch 2/5\n",
      "10752/10752 [==============================] - 80s 7ms/step - loss: 0.0212 - acc: 0.9927\n",
      "Epoch 3/5\n",
      "10752/10752 [==============================] - 80s 7ms/step - loss: 0.0181 - acc: 0.9933\n",
      "Epoch 4/5\n",
      "10752/10752 [==============================] - 80s 7ms/step - loss: 0.0144 - acc: 0.9953\n",
      "Epoch 5/5\n",
      "10752/10752 [==============================] - 80s 7ms/step - loss: 0.0114 - acc: 0.9966\n",
      "slice no:89\n",
      "Epoch 1/5\n",
      "10752/10752 [==============================] - 80s 7ms/step - loss: 0.0236 - acc: 0.9914\n",
      "Epoch 2/5\n",
      "10752/10752 [==============================] - 80s 7ms/step - loss: 0.0161 - acc: 0.9936\n",
      "Epoch 3/5\n",
      "10752/10752 [==============================] - 80s 7ms/step - loss: 0.0143 - acc: 0.9950\n",
      "Epoch 4/5\n",
      "10752/10752 [==============================] - 80s 7ms/step - loss: 0.0110 - acc: 0.9960\n",
      "Epoch 5/5\n",
      "10752/10752 [==============================] - 80s 7ms/step - loss: 0.0109 - acc: 0.9965\n",
      "slice no:90\n",
      "Epoch 1/5\n",
      "10752/10752 [==============================] - 80s 7ms/step - loss: 0.0233 - acc: 0.9920\n",
      "Epoch 2/5\n",
      "10752/10752 [==============================] - 80s 7ms/step - loss: 0.0175 - acc: 0.9930\n",
      "Epoch 3/5\n",
      "10752/10752 [==============================] - 80s 7ms/step - loss: 0.0137 - acc: 0.9953\n",
      "Epoch 4/5\n",
      "10752/10752 [==============================] - 80s 7ms/step - loss: 0.0108 - acc: 0.9965\n",
      "Epoch 5/5\n",
      "10752/10752 [==============================] - 80s 7ms/step - loss: 0.0085 - acc: 0.9977\n",
      "slice no:91\n",
      "Epoch 1/5\n",
      "10752/10752 [==============================] - 80s 7ms/step - loss: 0.0257 - acc: 0.9900\n",
      "Epoch 2/5\n",
      "10752/10752 [==============================] - 80s 7ms/step - loss: 0.0178 - acc: 0.9940\n",
      "Epoch 3/5\n",
      "10752/10752 [==============================] - 80s 7ms/step - loss: 0.0150 - acc: 0.9950\n",
      "Epoch 4/5\n",
      "10752/10752 [==============================] - 80s 7ms/step - loss: 0.0119 - acc: 0.9952\n",
      "Epoch 5/5\n",
      "10752/10752 [==============================] - 80s 7ms/step - loss: 0.0099 - acc: 0.9970\n",
      "slice no:92\n",
      "Epoch 1/5\n",
      "10752/10752 [==============================] - 80s 7ms/step - loss: 0.0265 - acc: 0.9906\n",
      "Epoch 2/5\n",
      "10752/10752 [==============================] - 80s 7ms/step - loss: 0.0188 - acc: 0.9934\n",
      "Epoch 3/5\n",
      "10752/10752 [==============================] - 80s 7ms/step - loss: 0.0147 - acc: 0.9948\n",
      "Epoch 4/5\n",
      "10752/10752 [==============================] - 80s 7ms/step - loss: 0.0140 - acc: 0.9957\n",
      "Epoch 5/5\n",
      "10752/10752 [==============================] - 80s 7ms/step - loss: 0.0103 - acc: 0.9968\n",
      "slice no:93\n",
      "Epoch 1/5\n",
      "10752/10752 [==============================] - 80s 7ms/step - loss: 0.0253 - acc: 0.9920\n",
      "Epoch 2/5\n",
      "10752/10752 [==============================] - 80s 7ms/step - loss: 0.0169 - acc: 0.9939\n",
      "Epoch 3/5\n",
      "10752/10752 [==============================] - 80s 7ms/step - loss: 0.0139 - acc: 0.9956\n",
      "Epoch 4/5\n",
      "10752/10752 [==============================] - 80s 7ms/step - loss: 0.0114 - acc: 0.9969\n",
      "Epoch 5/5\n",
      "10752/10752 [==============================] - 80s 7ms/step - loss: 0.0109 - acc: 0.9954\n",
      "slice no:94\n",
      "Epoch 1/5\n",
      "10752/10752 [==============================] - 80s 7ms/step - loss: 0.0275 - acc: 0.9906\n",
      "Epoch 2/5\n",
      "10752/10752 [==============================] - 80s 7ms/step - loss: 0.0206 - acc: 0.9922\n",
      "Epoch 3/5\n",
      "10752/10752 [==============================] - 80s 7ms/step - loss: 0.0156 - acc: 0.9944\n",
      "Epoch 4/5\n",
      "10752/10752 [==============================] - 80s 7ms/step - loss: 0.0125 - acc: 0.9958\n",
      "Epoch 5/5\n",
      "10752/10752 [==============================] - 80s 7ms/step - loss: 0.0108 - acc: 0.9970\n",
      "slice no:95\n",
      "Epoch 1/5\n",
      "10752/10752 [==============================] - 80s 7ms/step - loss: 0.0333 - acc: 0.9886\n",
      "Epoch 2/5\n",
      "10752/10752 [==============================] - 80s 7ms/step - loss: 0.0221 - acc: 0.9915\n",
      "Epoch 3/5\n",
      "10752/10752 [==============================] - 80s 7ms/step - loss: 0.0166 - acc: 0.9937\n",
      "Epoch 4/5\n",
      "10752/10752 [==============================] - 80s 7ms/step - loss: 0.0152 - acc: 0.9944\n",
      "Epoch 5/5\n",
      "10752/10752 [==============================] - 80s 7ms/step - loss: 0.0116 - acc: 0.9965\n",
      "slice no:96\n",
      "Epoch 1/5\n",
      "10752/10752 [==============================] - 80s 7ms/step - loss: 0.0343 - acc: 0.9878\n",
      "Epoch 2/5\n",
      "10752/10752 [==============================] - 80s 7ms/step - loss: 0.0245 - acc: 0.9907\n",
      "Epoch 3/5\n",
      "10752/10752 [==============================] - 79s 7ms/step - loss: 0.0214 - acc: 0.9924\n",
      "Epoch 4/5\n",
      "10752/10752 [==============================] - 80s 7ms/step - loss: 0.0182 - acc: 0.9929\n",
      "Epoch 5/5\n",
      "10752/10752 [==============================] - 80s 7ms/step - loss: 0.0157 - acc: 0.9937\n",
      "slice no:97\n",
      "Epoch 1/5\n",
      "10752/10752 [==============================] - 80s 7ms/step - loss: 0.0473 - acc: 0.9843\n",
      "Epoch 2/5\n",
      "10752/10752 [==============================] - 80s 7ms/step - loss: 0.0290 - acc: 0.9887\n",
      "Epoch 3/5\n",
      "10752/10752 [==============================] - 80s 7ms/step - loss: 0.0250 - acc: 0.9916\n",
      "Epoch 4/5\n",
      "10752/10752 [==============================] - 80s 7ms/step - loss: 0.0211 - acc: 0.9917\n",
      "Epoch 5/5\n",
      "10752/10752 [==============================] - 80s 7ms/step - loss: 0.0204 - acc: 0.9921\n",
      "slice no:98\n",
      "Epoch 1/5\n",
      "10752/10752 [==============================] - 80s 7ms/step - loss: 0.0383 - acc: 0.9861\n",
      "Epoch 2/5\n",
      "10752/10752 [==============================] - 80s 7ms/step - loss: 0.0291 - acc: 0.9892\n",
      "Epoch 3/5\n",
      "10752/10752 [==============================] - 80s 7ms/step - loss: 0.0239 - acc: 0.9911\n",
      "Epoch 4/5\n",
      "10752/10752 [==============================] - 80s 7ms/step - loss: 0.0206 - acc: 0.9924\n",
      "Epoch 5/5\n",
      "10752/10752 [==============================] - 80s 7ms/step - loss: 0.0201 - acc: 0.9930\n",
      "slice no:99\n",
      "Epoch 1/5\n",
      "10752/10752 [==============================] - 80s 7ms/step - loss: 0.0352 - acc: 0.9863\n",
      "Epoch 2/5\n",
      "10752/10752 [==============================] - 80s 7ms/step - loss: 0.0262 - acc: 0.9901\n",
      "Epoch 3/5\n",
      "10752/10752 [==============================] - 80s 7ms/step - loss: 0.0215 - acc: 0.9921\n",
      "Epoch 4/5\n",
      "10752/10752 [==============================] - 80s 7ms/step - loss: 0.0190 - acc: 0.9926\n",
      "Epoch 5/5\n",
      "10752/10752 [==============================] - 80s 7ms/step - loss: 0.0171 - acc: 0.9941\n",
      "slice no:100\n",
      "Epoch 1/5\n",
      "10752/10752 [==============================] - 80s 7ms/step - loss: 0.0387 - acc: 0.9857\n",
      "Epoch 2/5\n",
      "10752/10752 [==============================] - 80s 7ms/step - loss: 0.0252 - acc: 0.9902\n",
      "Epoch 3/5\n",
      "10752/10752 [==============================] - 80s 7ms/step - loss: 0.0230 - acc: 0.9911\n",
      "Epoch 4/5\n",
      "10752/10752 [==============================] - 80s 7ms/step - loss: 0.0196 - acc: 0.9928\n",
      "Epoch 5/5\n",
      "10752/10752 [==============================] - 80s 7ms/step - loss: 0.0173 - acc: 0.9933\n",
      "slice no:101\n",
      "Epoch 1/5\n",
      "10752/10752 [==============================] - 80s 7ms/step - loss: 0.0301 - acc: 0.9880\n",
      "Epoch 2/5\n",
      "10752/10752 [==============================] - 80s 7ms/step - loss: 0.0223 - acc: 0.9909\n",
      "Epoch 3/5\n",
      "10752/10752 [==============================] - 80s 7ms/step - loss: 0.0183 - acc: 0.9939\n",
      "Epoch 4/5\n",
      "10752/10752 [==============================] - 80s 7ms/step - loss: 0.0169 - acc: 0.9939\n",
      "Epoch 5/5\n",
      "10752/10752 [==============================] - 80s 7ms/step - loss: 0.0146 - acc: 0.9947\n",
      "slice no:102\n",
      "Epoch 1/5\n",
      "10752/10752 [==============================] - 80s 7ms/step - loss: 0.0302 - acc: 0.9894\n",
      "Epoch 2/5\n",
      "10752/10752 [==============================] - 80s 7ms/step - loss: 0.0201 - acc: 0.9916\n",
      "Epoch 3/5\n",
      "10752/10752 [==============================] - 80s 7ms/step - loss: 0.0154 - acc: 0.9939\n",
      "Epoch 4/5\n",
      "10752/10752 [==============================] - 80s 7ms/step - loss: 0.0156 - acc: 0.9940\n",
      "Epoch 5/5\n",
      "10752/10752 [==============================] - 80s 7ms/step - loss: 0.0113 - acc: 0.9963\n",
      "slice no:103\n",
      "Epoch 1/5\n",
      "10752/10752 [==============================] - 80s 7ms/step - loss: 0.0294 - acc: 0.9893\n",
      "Epoch 2/5\n",
      "10752/10752 [==============================] - 80s 7ms/step - loss: 0.0170 - acc: 0.9940\n",
      "Epoch 3/5\n",
      "10752/10752 [==============================] - 80s 7ms/step - loss: 0.0136 - acc: 0.9956\n",
      "Epoch 4/5\n",
      "10752/10752 [==============================] - 80s 7ms/step - loss: 0.0112 - acc: 0.9963\n",
      "Epoch 5/5\n",
      "10752/10752 [==============================] - 80s 7ms/step - loss: 0.0116 - acc: 0.9964\n",
      "slice no:104\n",
      "Epoch 1/5\n",
      "10752/10752 [==============================] - 80s 7ms/step - loss: 0.0275 - acc: 0.9900\n",
      "Epoch 2/5\n",
      "10752/10752 [==============================] - 80s 7ms/step - loss: 0.0154 - acc: 0.9944\n",
      "Epoch 3/5\n",
      "10752/10752 [==============================] - 80s 7ms/step - loss: 0.0125 - acc: 0.9956\n",
      "Epoch 4/5\n",
      "10752/10752 [==============================] - 80s 7ms/step - loss: 0.0104 - acc: 0.9962\n",
      "Epoch 5/5\n",
      "10752/10752 [==============================] - 80s 7ms/step - loss: 0.0087 - acc: 0.9970\n",
      "slice no:105\n",
      "Epoch 1/5\n",
      "10752/10752 [==============================] - 80s 7ms/step - loss: 0.0285 - acc: 0.9892\n",
      "Epoch 2/5\n",
      "10752/10752 [==============================] - 80s 7ms/step - loss: 0.0178 - acc: 0.9931\n",
      "Epoch 3/5\n",
      "10752/10752 [==============================] - 80s 7ms/step - loss: 0.0134 - acc: 0.9946\n",
      "Epoch 4/5\n",
      "10752/10752 [==============================] - 80s 7ms/step - loss: 0.0132 - acc: 0.9951\n",
      "Epoch 5/5\n",
      "10752/10752 [==============================] - 80s 7ms/step - loss: 0.0109 - acc: 0.9959\n",
      "slice no:106\n",
      "Epoch 1/5\n",
      "10752/10752 [==============================] - 80s 7ms/step - loss: 0.0276 - acc: 0.9900\n",
      "Epoch 2/5\n",
      "10752/10752 [==============================] - 80s 7ms/step - loss: 0.0193 - acc: 0.9922\n",
      "Epoch 3/5\n",
      "10752/10752 [==============================] - 80s 7ms/step - loss: 0.0155 - acc: 0.9941\n",
      "Epoch 4/5\n",
      "10752/10752 [==============================] - 80s 7ms/step - loss: 0.0134 - acc: 0.9953\n",
      "Epoch 5/5\n",
      "10752/10752 [==============================] - 80s 7ms/step - loss: 0.0128 - acc: 0.9953\n",
      "slice no:107\n",
      "Epoch 1/5\n",
      "10752/10752 [==============================] - 80s 7ms/step - loss: 0.0255 - acc: 0.9903\n",
      "Epoch 2/5\n",
      "10752/10752 [==============================] - 80s 7ms/step - loss: 0.0152 - acc: 0.9950\n",
      "Epoch 3/5\n",
      "10752/10752 [==============================] - 80s 7ms/step - loss: 0.0136 - acc: 0.9953\n",
      "Epoch 4/5\n",
      "10752/10752 [==============================] - 80s 7ms/step - loss: 0.0117 - acc: 0.9949\n",
      "Epoch 5/5\n",
      "10752/10752 [==============================] - 80s 7ms/step - loss: 0.0091 - acc: 0.9969\n",
      "slice no:108\n",
      "Epoch 1/5\n",
      "10752/10752 [==============================] - 80s 7ms/step - loss: 0.0251 - acc: 0.9902\n",
      "Epoch 2/5\n",
      "10752/10752 [==============================] - 80s 7ms/step - loss: 0.0157 - acc: 0.9936\n",
      "Epoch 3/5\n",
      "10752/10752 [==============================] - 80s 7ms/step - loss: 0.0116 - acc: 0.9957\n",
      "Epoch 4/5\n",
      "10752/10752 [==============================] - 80s 7ms/step - loss: 0.0124 - acc: 0.9952\n",
      "Epoch 5/5\n",
      "10752/10752 [==============================] - 80s 7ms/step - loss: 0.0092 - acc: 0.9971\n",
      "slice no:109\n",
      "Epoch 1/5\n",
      "10752/10752 [==============================] - 80s 7ms/step - loss: 0.0294 - acc: 0.9889\n",
      "Epoch 2/5\n",
      "10752/10752 [==============================] - 80s 7ms/step - loss: 0.0203 - acc: 0.9912\n",
      "Epoch 3/5\n",
      "10752/10752 [==============================] - 80s 7ms/step - loss: 0.0167 - acc: 0.9936\n",
      "Epoch 4/5\n",
      "10752/10752 [==============================] - 80s 7ms/step - loss: 0.0134 - acc: 0.9945\n",
      "Epoch 5/5\n",
      "10752/10752 [==============================] - 80s 7ms/step - loss: 0.0134 - acc: 0.9945\n",
      "slice no:110\n",
      "Epoch 1/5\n",
      "10752/10752 [==============================] - 80s 7ms/step - loss: 0.0210 - acc: 0.9914\n",
      "Epoch 2/5\n",
      "10752/10752 [==============================] - 80s 7ms/step - loss: 0.0177 - acc: 0.9932\n",
      "Epoch 3/5\n",
      "10752/10752 [==============================] - 80s 7ms/step - loss: 0.0149 - acc: 0.9946\n",
      "Epoch 4/5\n",
      "10752/10752 [==============================] - 80s 7ms/step - loss: 0.0135 - acc: 0.9945\n",
      "Epoch 5/5\n",
      "10752/10752 [==============================] - 80s 7ms/step - loss: 0.0093 - acc: 0.9971\n",
      "slice no:111\n",
      "Epoch 1/5\n",
      "10752/10752 [==============================] - 80s 7ms/step - loss: 0.0221 - acc: 0.9913\n",
      "Epoch 2/5\n",
      "10752/10752 [==============================] - 80s 7ms/step - loss: 0.0163 - acc: 0.9937\n",
      "Epoch 3/5\n",
      "10752/10752 [==============================] - 80s 7ms/step - loss: 0.0128 - acc: 0.9952\n",
      "Epoch 4/5\n",
      "10752/10752 [==============================] - 80s 7ms/step - loss: 0.0117 - acc: 0.9953\n",
      "Epoch 5/5\n",
      "10752/10752 [==============================] - 80s 7ms/step - loss: 0.0110 - acc: 0.9960\n",
      "slice no:112\n",
      "Epoch 1/5\n",
      "10752/10752 [==============================] - 80s 7ms/step - loss: 0.0226 - acc: 0.9926\n",
      "Epoch 2/5\n",
      "10752/10752 [==============================] - 80s 7ms/step - loss: 0.0145 - acc: 0.9943\n",
      "Epoch 3/5\n",
      "10752/10752 [==============================] - 80s 7ms/step - loss: 0.0132 - acc: 0.9958\n",
      "Epoch 4/5\n",
      "10752/10752 [==============================] - 80s 7ms/step - loss: 0.0107 - acc: 0.9959\n",
      "Epoch 5/5\n",
      "10752/10752 [==============================] - 80s 7ms/step - loss: 0.0088 - acc: 0.9970\n",
      "slice no:113\n",
      "Epoch 1/5\n",
      "10752/10752 [==============================] - 80s 7ms/step - loss: 0.0202 - acc: 0.9926\n",
      "Epoch 2/5\n",
      "10752/10752 [==============================] - 80s 7ms/step - loss: 0.0117 - acc: 0.9955\n",
      "Epoch 3/5\n",
      "10752/10752 [==============================] - 80s 7ms/step - loss: 0.0093 - acc: 0.9966\n",
      "Epoch 4/5\n",
      "10752/10752 [==============================] - 80s 7ms/step - loss: 0.0085 - acc: 0.9972\n",
      "Epoch 5/5\n",
      "10752/10752 [==============================] - 80s 7ms/step - loss: 0.0076 - acc: 0.9972\n",
      "slice no:114\n",
      "Epoch 1/5\n",
      "10752/10752 [==============================] - 80s 7ms/step - loss: 0.0197 - acc: 0.9938\n",
      "Epoch 2/5\n",
      "10752/10752 [==============================] - 80s 7ms/step - loss: 0.0121 - acc: 0.9961\n",
      "Epoch 3/5\n",
      "10752/10752 [==============================] - 80s 7ms/step - loss: 0.0103 - acc: 0.9963\n",
      "Epoch 4/5\n",
      "10752/10752 [==============================] - 80s 7ms/step - loss: 0.0094 - acc: 0.9966\n",
      "Epoch 5/5\n",
      "10752/10752 [==============================] - 80s 7ms/step - loss: 0.0079 - acc: 0.9972\n",
      "slice no:115\n",
      "Epoch 1/5\n",
      "10752/10752 [==============================] - 80s 7ms/step - loss: 0.0210 - acc: 0.9922\n",
      "Epoch 2/5\n",
      "10752/10752 [==============================] - 80s 7ms/step - loss: 0.0138 - acc: 0.9952\n",
      "Epoch 3/5\n",
      "10752/10752 [==============================] - 80s 7ms/step - loss: 0.0112 - acc: 0.9962\n",
      "Epoch 4/5\n",
      "10752/10752 [==============================] - 80s 7ms/step - loss: 0.0091 - acc: 0.9967\n",
      "Epoch 5/5\n",
      "10752/10752 [==============================] - 80s 7ms/step - loss: 0.0076 - acc: 0.9974\n",
      "slice no:116\n",
      "Epoch 1/5\n",
      "10752/10752 [==============================] - 80s 7ms/step - loss: 0.0166 - acc: 0.9937\n",
      "Epoch 2/5\n",
      "10752/10752 [==============================] - 80s 7ms/step - loss: 0.0128 - acc: 0.9949\n",
      "Epoch 3/5\n",
      "10752/10752 [==============================] - 80s 7ms/step - loss: 0.0090 - acc: 0.9973\n",
      "Epoch 4/5\n",
      "10752/10752 [==============================] - 80s 7ms/step - loss: 0.0106 - acc: 0.9956\n",
      "Epoch 5/5\n",
      "10752/10752 [==============================] - 80s 7ms/step - loss: 0.0106 - acc: 0.9957\n",
      "slice no:117\n",
      "Epoch 1/5\n",
      "10752/10752 [==============================] - 80s 7ms/step - loss: 0.0163 - acc: 0.9939\n",
      "Epoch 2/5\n",
      "10752/10752 [==============================] - 80s 7ms/step - loss: 0.0140 - acc: 0.9945\n",
      "Epoch 3/5\n",
      "10752/10752 [==============================] - 80s 7ms/step - loss: 0.0122 - acc: 0.9951\n",
      "Epoch 4/5\n",
      "10752/10752 [==============================] - 80s 7ms/step - loss: 0.0098 - acc: 0.9963\n",
      "Epoch 5/5\n",
      "10752/10752 [==============================] - 80s 7ms/step - loss: 0.0087 - acc: 0.9969\n",
      "slice no:118\n",
      "Epoch 1/5\n",
      "10752/10752 [==============================] - 80s 7ms/step - loss: 0.0142 - acc: 0.9941\n",
      "Epoch 2/5\n",
      "10752/10752 [==============================] - 80s 7ms/step - loss: 0.0117 - acc: 0.9946\n",
      "Epoch 3/5\n",
      "10752/10752 [==============================] - 80s 7ms/step - loss: 0.0091 - acc: 0.9967\n",
      "Epoch 4/5\n",
      "10752/10752 [==============================] - 80s 7ms/step - loss: 0.0092 - acc: 0.9967\n",
      "Epoch 5/5\n",
      "10752/10752 [==============================] - 80s 7ms/step - loss: 0.0080 - acc: 0.9972\n",
      "slice no:119\n",
      "Epoch 1/5\n",
      "10752/10752 [==============================] - 80s 7ms/step - loss: 0.0123 - acc: 0.9949\n",
      "Epoch 2/5\n",
      "10752/10752 [==============================] - 80s 7ms/step - loss: 0.0102 - acc: 0.9960\n",
      "Epoch 3/5\n",
      "10752/10752 [==============================] - 80s 7ms/step - loss: 0.0080 - acc: 0.9967\n",
      "Epoch 4/5\n",
      "10752/10752 [==============================] - 80s 7ms/step - loss: 0.0075 - acc: 0.9967\n",
      "Epoch 5/5\n",
      "10752/10752 [==============================] - 80s 7ms/step - loss: 0.0056 - acc: 0.9980\n",
      "slice no:120\n",
      "Epoch 1/5\n",
      "10752/10752 [==============================] - 80s 7ms/step - loss: 0.0120 - acc: 0.9944\n",
      "Epoch 2/5\n",
      "10752/10752 [==============================] - 80s 7ms/step - loss: 0.0084 - acc: 0.9964\n",
      "Epoch 3/5\n",
      "10752/10752 [==============================] - 80s 7ms/step - loss: 0.0077 - acc: 0.9970\n",
      "Epoch 4/5\n",
      "10752/10752 [==============================] - 80s 7ms/step - loss: 0.0064 - acc: 0.9975\n",
      "Epoch 5/5\n",
      "10752/10752 [==============================] - 80s 7ms/step - loss: 0.0064 - acc: 0.9976\n",
      "slice no:121\n",
      "Epoch 1/5\n",
      "10752/10752 [==============================] - 80s 7ms/step - loss: 0.0128 - acc: 0.9946\n",
      "Epoch 2/5\n",
      "10752/10752 [==============================] - 80s 7ms/step - loss: 0.0084 - acc: 0.9963\n",
      "Epoch 3/5\n",
      "10752/10752 [==============================] - 80s 7ms/step - loss: 0.0064 - acc: 0.9978\n",
      "Epoch 4/5\n",
      "10752/10752 [==============================] - 80s 7ms/step - loss: 0.0069 - acc: 0.9979\n",
      "Epoch 5/5\n",
      "10752/10752 [==============================] - 80s 7ms/step - loss: 0.0065 - acc: 0.9981\n",
      "slice no:122\n",
      "Epoch 1/5\n",
      "10752/10752 [==============================] - 80s 7ms/step - loss: 0.0113 - acc: 0.9964\n",
      "Epoch 2/5\n",
      "10752/10752 [==============================] - 80s 7ms/step - loss: 0.0098 - acc: 0.9967\n",
      "Epoch 3/5\n",
      "10752/10752 [==============================] - 80s 7ms/step - loss: 0.0052 - acc: 0.9981\n",
      "Epoch 4/5\n",
      "10752/10752 [==============================] - 80s 7ms/step - loss: 0.0055 - acc: 0.9978\n",
      "Epoch 5/5\n",
      "10752/10752 [==============================] - 80s 7ms/step - loss: 0.0053 - acc: 0.9981\n",
      "slice no:123\n",
      "Epoch 1/5\n",
      "10752/10752 [==============================] - 81s 7ms/step - loss: 0.0137 - acc: 0.9951\n",
      "Epoch 2/5\n",
      "10752/10752 [==============================] - 80s 7ms/step - loss: 0.0087 - acc: 0.9967\n",
      "Epoch 3/5\n",
      "10752/10752 [==============================] - 80s 7ms/step - loss: 0.0085 - acc: 0.9967\n",
      "Epoch 4/5\n",
      "10752/10752 [==============================] - 80s 7ms/step - loss: 0.0053 - acc: 0.9983\n",
      "Epoch 5/5\n",
      "10752/10752 [==============================] - 80s 7ms/step - loss: 0.0043 - acc: 0.9983\n",
      "slice no:124\n",
      "Epoch 1/5\n",
      "10752/10752 [==============================] - 80s 7ms/step - loss: 0.0123 - acc: 0.9951\n",
      "Epoch 2/5\n",
      " 9088/10752 [========================>.....] - ETA: 12s - loss: 0.0087 - acc: 0.9972"
     ]
    }
   ],
   "source": [
    "fold = os.listdir('HG/')\n",
    "fold.sort(key=str.lower) \n",
    "\n",
    "for path in fold:\n",
    "    print(path)\n",
    "    path = 'HG/'+path\n",
    "    p = os.listdir(path)\n",
    "    p.sort(key=str.lower)\n",
    "    arr = []\n",
    "    \n",
    "    # Reading from 4 images and creating 4 channel slice-wise \n",
    "    for i in range(len(p)):\n",
    "      if(i != 4):\n",
    "        p1 = os.listdir(path+'/'+p[i])\n",
    "        p1.sort()\n",
    "        img = sitk.ReadImage(path+'/'+p[i]+'/'+p1[-1])\n",
    "        arr.append(sitk.GetArrayFromImage(img))\n",
    "      else:\n",
    "        p1 = os.listdir(path+'/'+p[i])\n",
    "        img = sitk.ReadImage(path+'/'+p[i]+'/'+p1[0])\n",
    "        Y_labels = sitk.GetArrayFromImage(img)\n",
    "    data = np.zeros((Y_labels.shape[1],Y_labels.shape[0],Y_labels.shape[2],4))\n",
    "    for i in range(Y_labels.shape[1]):\n",
    "      data[i,:,:,0] = arr[0][:,i,:]\n",
    "      data[i,:,:,1] = arr[1][:,i,:]\n",
    "      data[i,:,:,2] = arr[2][:,i,:]\n",
    "      data[i,:,:,3] = arr[3][:,i,:]\n",
    "    print(data.shape)\n",
    "    info = []\n",
    "    \n",
    "    # Creating patches for each slice and training(slice-wise)\n",
    "    for i in range(data.shape[0]):\n",
    "      d = data_gen(data,Y_labels,i,1)\n",
    "      if(len(d) != 0):\n",
    "        y = np.zeros((d[2].shape[0],1,1,5))\n",
    "        for j in range(y.shape[0]):\n",
    "          y[j,:,:,d[2][j]] = 1\n",
    "        X1 = d[0]\n",
    "        X2 = d[1]\n",
    "        class_weights = class_weight.compute_class_weight('balanced',\n",
    "                                                          np.unique(d[2]),\n",
    "                                                          d[2])\n",
    "        print('slice no:'+str(i))\n",
    "        info.append(m1.fit([X1,X2],y,epochs=5,batch_size=128,class_weight= class_weights))\n",
    "        m1.save('trial_0001_input_cascasde_acc.h5')\n"
   ]
  },
  {
   "cell_type": "markdown",
   "metadata": {
    "colab_type": "text",
    "id": "hvl-uvjA67nS"
   },
   "source": [
    "Testing"
   ]
  },
  {
   "cell_type": "code",
   "execution_count": 0,
   "metadata": {
    "colab": {},
    "colab_type": "code",
    "id": "aQBXB0Bn8LFK"
   },
   "outputs": [],
   "source": [
    "model = keras.models.load_model('trial_0001_input_cascasde_acc.h5')"
   ]
  },
  {
   "cell_type": "code",
   "execution_count": 0,
   "metadata": {
    "colab": {
     "base_uri": "https://localhost:8080/",
     "height": 34
    },
    "colab_type": "code",
    "executionInfo": {
     "elapsed": 19395,
     "status": "ok",
     "timestamp": 1560236973887,
     "user": {
      "displayName": "robinraj EY",
      "photoUrl": "",
      "userId": "17540945510930744551"
     },
     "user_tz": -330
    },
    "id": "bPg1k-1o6_xQ",
    "outputId": "0588e701-8ae4-49ee-e0f9-a38fb35952cc"
   },
   "outputs": [
    {
     "name": "stdout",
     "output_type": "stream",
     "text": [
      "0.9325331971399388\n"
     ]
    }
   ],
   "source": [
    "  path = 'HG/0027'\n",
    "  p = os.listdir(path)\n",
    "  p.sort(key=str.lower)\n",
    "  arr = []\n",
    "  for i in range(len(p)):\n",
    "    if(i != 4):\n",
    "      p1 = os.listdir(path+'/'+p[i])\n",
    "      p1.sort()\n",
    "      img = sitk.ReadImage(path+'/'+p[i]+'/'+p1[-1])\n",
    "      arr.append(sitk.GetArrayFromImage(img))\n",
    "    else:\n",
    "      p1 = os.listdir(path+'/'+p[i])\n",
    "      img = sitk.ReadImage(path+'/'+p[i]+'/'+p1[0])\n",
    "      Y_labels = sitk.GetArrayFromImage(img)    \n",
    "  data = np.zeros((Y_labels.shape[1],Y_labels.shape[0],Y_labels.shape[2],4))\n",
    "  for i in range(Y_labels.shape[1]):\n",
    "    data[i,:,:,0] = arr[0][:,i,:]\n",
    "    data[i,:,:,1] = arr[1][:,i,:]\n",
    "    data[i,:,:,2] = arr[2][:,i,:]\n",
    "    data[i,:,:,3] = arr[3][:,i,:]\n",
    "  info = []\n",
    " \n",
    "    \n",
    "  d = data_gen(data,Y_labels,113,3)\n",
    "  if(len(d) != 0):\n",
    "    y = np.zeros((d[2].shape[0],1,1,5))\n",
    "    for j in range(y.shape[0]):\n",
    "      y[j,:,:,d[2][j]] = 1\n",
    "    X1 = d[0]\n",
    "    X2 = d[1]\n",
    "    pred = model1.predict([X1,X2],batch_size = 256) \n",
    "    pred = np.around(pred)\n",
    "    #print(pred.shape)\n",
    "    pred1 = np.argmax(pred.reshape(y.shape[0],5)[:,1:4],axis = 1)\n",
    "    y2 = np.argmax(y.reshape(y.shape[0],5)[:,1:4],axis = 1)\n",
    "    f1 = metrics.f1_score(y2,pred1,average='micro')\n",
    "    print(f1)"
   ]
  },
  {
   "cell_type": "code",
   "execution_count": 0,
   "metadata": {
    "colab": {},
    "colab_type": "code",
    "id": "Mo2zV30v69EP"
   },
   "outputs": [],
   "source": [
    "pred = model.predict([X1,X2],batch_size = 256)"
   ]
  },
  {
   "cell_type": "code",
   "execution_count": 0,
   "metadata": {
    "colab": {
     "base_uri": "https://localhost:8080/",
     "height": 34
    },
    "colab_type": "code",
    "executionInfo": {
     "elapsed": 1173,
     "status": "ok",
     "timestamp": 1560237011676,
     "user": {
      "displayName": "robinraj EY",
      "photoUrl": "",
      "userId": "17540945510930744551"
     },
     "user_tz": -330
    },
    "id": "6L0zsHc7Jt1d",
    "outputId": "ea14aaa4-ba63-4cfb-b02c-1fa65560f45d"
   },
   "outputs": [
    {
     "name": "stdout",
     "output_type": "stream",
     "text": [
      "(19580, 1, 1, 5)\n"
     ]
    }
   ],
   "source": [
    "pred = np.around(pred)\n",
    "print(pred.shape)\n",
    "pred1 = np.argmax(pred.reshape(y.shape[0],5)[:,1:4],axis = 1)\n",
    "y2 = np.argmax(y.reshape(y.shape[0],5)[:,1:4],axis = 1)"
   ]
  },
  {
   "cell_type": "code",
   "execution_count": 0,
   "metadata": {
    "colab": {},
    "colab_type": "code",
    "id": "2nEwEX3s7z2w"
   },
   "outputs": [],
   "source": [
    "from sklearn import metrics"
   ]
  },
  {
   "cell_type": "code",
   "execution_count": 0,
   "metadata": {
    "colab": {},
    "colab_type": "code",
    "id": "d-dTYBHlZLir"
   },
   "outputs": [],
   "source": []
  },
  {
   "cell_type": "code",
   "execution_count": 0,
   "metadata": {
    "colab": {
     "base_uri": "https://localhost:8080/",
     "height": 34
    },
    "colab_type": "code",
    "executionInfo": {
     "elapsed": 3465,
     "status": "ok",
     "timestamp": 1560237454420,
     "user": {
      "displayName": "robinraj EY",
      "photoUrl": "",
      "userId": "17540945510930744551"
     },
     "user_tz": -330
    },
    "id": "_PjfgkQLZMOJ",
    "outputId": "1a3d50ac-caf9-4ba2-a820-87ae54c4c5e8"
   },
   "outputs": [
    {
     "name": "stdout",
     "output_type": "stream",
     "text": [
      "(230, 230, 162)\n"
     ]
    }
   ],
   "source": [
    "import os\n",
    "path = 'HG/0027'\n",
    "p = os.listdir(path)\n",
    "p.sort(key=str.lower)\n",
    "arr = []\n",
    "for i in range(len(p)):\n",
    "  if(i != 4):\n",
    "    p1 = os.listdir(path+'/'+p[i])\n",
    "    p1.sort()\n",
    "    img = sitk.ReadImage(path+'/'+p[i]+'/'+p1[-1])\n",
    "    arr.append(sitk.GetArrayFromImage(img))\n",
    "  else:\n",
    "    p1 = os.listdir(path+'/'+p[i])\n",
    "    img = sitk.ReadImage(path+'/'+p[i]+'/'+p1[0])\n",
    "    Y_labels = sitk.GetArrayFromImage(img) \n",
    "    print(Y_labels.shape)\n",
    "data = np.zeros((Y_labels.shape[1],Y_labels.shape[0],Y_labels.shape[2],4))\n",
    "for i in range(Y_labels.shape[1]):\n",
    "  data[i,:,:,0] = arr[0][:,i,:]\n",
    "  data[i,:,:,1] = arr[1][:,i,:]\n",
    "  data[i,:,:,2] = arr[2][:,i,:]\n",
    "  data[i,:,:,3] = arr[3][:,i,:]"
   ]
  },
  {
   "cell_type": "code",
   "execution_count": 0,
   "metadata": {
    "colab": {
     "base_uri": "https://localhost:8080/",
     "height": 337
    },
    "colab_type": "code",
    "executionInfo": {
     "elapsed": 3451,
     "status": "ok",
     "timestamp": 1560237460155,
     "user": {
      "displayName": "robinraj EY",
      "photoUrl": "",
      "userId": "17540945510930744551"
     },
     "user_tz": -330
    },
    "id": "9z4ujOqNZMLV",
    "outputId": "9cfddab8-71fb-4fbd-eafb-14eedad3db70"
   },
   "outputs": [
    {
     "name": "stdout",
     "output_type": "stream",
     "text": [
      "Populating the interactive namespace from numpy and matplotlib\n"
     ]
    },
    {
     "name": "stderr",
     "output_type": "stream",
     "text": [
      "/usr/local/lib/python3.6/dist-packages/IPython/core/magics/pylab.py:161: UserWarning: pylab import has clobbered these variables: ['info']\n",
      "`%matplotlib` prevents importing * from pylab and numpy\n",
      "  \"\\n`%matplotlib` prevents importing * from pylab and numpy\"\n"
     ]
    },
    {
     "data": {
      "image/png": "[encoded data removed]",
      "text/plain": [
       "<Figure size 432x288 with 1 Axes>"
      ]
     },
     "metadata": {
      "tags": []
     },
     "output_type": "display_data"
    }
   ],
   "source": [
    "%pylab inline\n",
    "import matplotlib.pyplot as plt\n",
    "img = data[126,:,:,0]\n",
    "imgplot = plt.imshow(img)\n",
    "plt.show()\n",
    "plt.imsave('slice_126_4',img,cmap='gray')"
   ]
  },
  {
   "cell_type": "code",
   "execution_count": 0,
   "metadata": {
    "colab": {
     "base_uri": "https://localhost:8080/",
     "height": 286
    },
    "colab_type": "code",
    "executionInfo": {
     "elapsed": 1715,
     "status": "ok",
     "timestamp": 1560237462391,
     "user": {
      "displayName": "robinraj EY",
      "photoUrl": "",
      "userId": "17540945510930744551"
     },
     "user_tz": -330
    },
    "id": "XoOX7r1aZMIZ",
    "outputId": "658a8dee-f763-477c-edc4-f61fae66e21e"
   },
   "outputs": [
    {
     "name": "stdout",
     "output_type": "stream",
     "text": [
      "Populating the interactive namespace from numpy and matplotlib\n"
     ]
    },
    {
     "data": {
      "image/png": "[encoded data removed]",
      "text/plain": [
       "<Figure size 432x288 with 1 Axes>"
      ]
     },
     "metadata": {
      "tags": []
     },
     "output_type": "display_data"
    }
   ],
   "source": [
    "%pylab inline\n",
    "import matplotlib.pyplot as plt\n",
    "img = Y_labels[:,126,:]\n",
    "imgplot = plt.imshow(img)\n",
    "plt.show()\n",
    "#plt.imsave('slice_126_GT',img,cmap='gray')"
   ]
  },
  {
   "cell_type": "code",
   "execution_count": 0,
   "metadata": {
    "colab": {},
    "colab_type": "code",
    "id": "duz2ynPxZgmJ"
   },
   "outputs": [],
   "source": []
  },
  {
   "cell_type": "code",
   "execution_count": 0,
   "metadata": {
    "colab": {},
    "colab_type": "code",
    "id": "1bCC6AjiZg0T"
   },
   "outputs": [],
   "source": []
  },
  {
   "cell_type": "code",
   "execution_count": 0,
   "metadata": {
    "colab": {},
    "colab_type": "code",
    "id": "iCsqrAAuZg-w"
   },
   "outputs": [],
   "source": []
  },
  {
   "cell_type": "code",
   "execution_count": 0,
   "metadata": {
    "colab": {
     "base_uri": "https://localhost:8080/",
     "height": 34
    },
    "colab_type": "code",
    "executionInfo": {
     "elapsed": 1123,
     "status": "ok",
     "timestamp": 1560237138994,
     "user": {
      "displayName": "robinraj EY",
      "photoUrl": "",
      "userId": "17540945510930744551"
     },
     "user_tz": -330
    },
    "id": "wLNqgyHt7u3A",
    "outputId": "6cb7b175-5fb9-4cf3-f4f5-052874b7d22e"
   },
   "outputs": [
    {
     "data": {
      "text/plain": [
       "0.396220633299285"
      ]
     },
     "execution_count": 41,
     "metadata": {
      "tags": []
     },
     "output_type": "execute_result"
    }
   ],
   "source": [
    "f1 = metrics.f1_score(y2,pred1,average='micro')\n",
    "f1"
   ]
  },
  {
   "cell_type": "code",
   "execution_count": 0,
   "metadata": {
    "colab": {},
    "colab_type": "code",
    "id": "KjFQkJy8-7LQ"
   },
   "outputs": [],
   "source": [
    "model1 = keras.models.load_model('trial_MFCcascade_acc.h5')"
   ]
  },
  {
   "cell_type": "code",
   "execution_count": 0,
   "metadata": {
    "colab": {},
    "colab_type": "code",
    "id": "Hd08lzus-5u4"
   },
   "outputs": [],
   "source": [
    "pred2 = model1.predict([X1,X2],batch_size = 256)\n"
   ]
  },
  {
   "cell_type": "code",
   "execution_count": 0,
   "metadata": {
    "colab": {},
    "colab_type": "code",
    "id": "Tg44hHMbdntD"
   },
   "outputs": [],
   "source": [
    "pred2 = np.around(pred2)\n",
    "pred3 = np.argmax(pred2.reshape(y.shape[0],5)[:,1:4],axis = 1)\n",
    "y2 = np.argmax(y.reshape(y.shape[0],5)[:,1:4],axis = 1)"
   ]
  },
  {
   "cell_type": "code",
   "execution_count": 0,
   "metadata": {
    "colab": {
     "base_uri": "https://localhost:8080/",
     "height": 34
    },
    "colab_type": "code",
    "executionInfo": {
     "elapsed": 865,
     "status": "ok",
     "timestamp": 1560237192158,
     "user": {
      "displayName": "robinraj EY",
      "photoUrl": "",
      "userId": "17540945510930744551"
     },
     "user_tz": -330
    },
    "id": "VKrjYzv1_Nef",
    "outputId": "89ff28c5-ef78-49c4-bc91-c6cf7d0cfee4"
   },
   "outputs": [
    {
     "data": {
      "text/plain": [
       "0.9325331971399388"
      ]
     },
     "execution_count": 45,
     "metadata": {
      "tags": []
     },
     "output_type": "execute_result"
    }
   ],
   "source": [
    "f1 = metrics.f1_score(y2,pred3,average='micro')\n",
    "f1"
   ]
  },
  {
   "cell_type": "code",
   "execution_count": 0,
   "metadata": {
    "colab": {},
    "colab_type": "code",
    "id": "buksOE6F_qev"
   },
   "outputs": [],
   "source": []
  }
 ],
 "metadata": {
  "accelerator": "GPU",
  "colab": {
   "collapsed_sections": [],
   "name": "FinalCode.ipynb",
   "provenance": [],
   "version": "0.3.2"
  },
  "kernelspec": {
   "display_name": "Python 3",
   "language": "python",
   "name": "python3"
  },
  "language_info": {
   "codemirror_mode": {
    "name": "ipython",
    "version": 3
   },
   "file_extension": ".py",
   "mimetype": "text/x-python",
   "name": "python",
   "nbconvert_exporter": "python",
   "pygments_lexer": "ipython3",
   "version": "3.7.6"
  }
 },
 "nbformat": 4,
 "nbformat_minor": 1
}
